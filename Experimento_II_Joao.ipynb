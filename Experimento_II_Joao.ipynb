{
 "cells": [
  {
   "cell_type": "code",
   "execution_count": 1,
   "id": "ef260a58",
   "metadata": {},
   "outputs": [],
   "source": [
    "import numpy  as np\n",
    "import pandas as pd\n",
    "import json\n",
    "import pandas"
   ]
  },
  {
   "cell_type": "code",
   "execution_count": 2,
   "id": "38661014",
   "metadata": {},
   "outputs": [],
   "source": [
    "import nltk\n",
    "import nltk.corpus\n",
    "from sklearn.feature_extraction.text  import TfidfVectorizer\n",
    "from sklearn.metrics                  import silhouette_samples, silhouette_score\n",
    "from sklearn.preprocessing            import normalize\n",
    "from nltk.tokenize                    import word_tokenize\n",
    "import re\n",
    "from unidecode                        import unidecode\n",
    "from nltk.corpus import stopwords"
   ]
  },
  {
   "cell_type": "code",
   "execution_count": 3,
   "id": "1923414d",
   "metadata": {},
   "outputs": [],
   "source": [
    "import matplotlib.pyplot  as plt\n",
    "import matplotlib.cm      as cm\n",
    "import seaborn            as sns\n",
    "from sklearn.metrics                  import silhouette_samples, silhouette_score\n",
    "from wordcloud                        import WordCloud"
   ]
  },
  {
   "cell_type": "code",
   "execution_count": 4,
   "id": "11e2feb1",
   "metadata": {},
   "outputs": [],
   "source": [
    "from sklearn import cluster"
   ]
  },
  {
   "cell_type": "code",
   "execution_count": 5,
   "id": "ab20308e",
   "metadata": {},
   "outputs": [],
   "source": [
    "II_João_1 = \"The elder to the elect lady and her children, whom I love in the truth; and not I only, but also all they that have known the truth;For the truth' sake, which dwells in us, and shall be with us for ever.Grace be with you, mercy, and peace, from God the Father, and from the Lord Jesus Christ, the Son of the Father, in truth and love.I rejoiced greatly that I found of your children walking in truth, as we have received a commandment from the Father.And now I beseech you, lady, not as though I wrote a new commandment to you, but that which we had from the beginning, that we love one another.And this is love, that we walk after his commandments. This is the commandment, That, as you have heard from the beginning, you should walk in it.For many deceivers are entered into the world, who confess not that Jesus Christ is come in the flesh. This is a deceiver and an antichrist.Look to yourselves, that we lose not those things which we have worked, but that we receive a full reward.Whoever transgresses, and stays not in the doctrine of Christ, has not God. He that stays in the doctrine of Christ, he has both the Father and the Son.If there come any to you, and bring not this doctrine, receive him not into your house, neither bid him God speed:For he that bids him God speed is partaker of his evil deeds.Having many things to write to you, I would not write with paper and ink: but I trust to come to you, and speak face to face, that our joy may be full.The children of your elect sister greet you. Amen.\".lower()"
   ]
  },
  {
   "cell_type": "code",
   "execution_count": 7,
   "id": "2af84718",
   "metadata": {},
   "outputs": [],
   "source": [
    "tokens = nltk.word_tokenize(II_João_1)"
   ]
  },
  {
   "cell_type": "code",
   "execution_count": 8,
   "id": "5ddc0c4f",
   "metadata": {},
   "outputs": [],
   "source": [
    "stop_words = set(stopwords.words('english'))"
   ]
  },
  {
   "cell_type": "code",
   "execution_count": 9,
   "id": "b6a8a147",
   "metadata": {},
   "outputs": [],
   "source": [
    "filtered_sentence1 = [w for w in tokens if not w in stop_words] \n",
    "  \n",
    "filtered_sentence1 = []\n",
    "  \n",
    "for w in tokens: \n",
    "    if w not in stop_words: \n",
    "        filtered_sentence1.append(w)"
   ]
  },
  {
   "cell_type": "code",
   "execution_count": 10,
   "id": "39d57de4",
   "metadata": {},
   "outputs": [
    {
     "name": "stdout",
     "output_type": "stream",
     "text": [
      "['elder', 'elect', 'lady', 'children', ',', 'love', 'truth', ';', ',', 'also', 'known', 'truth', ';', 'truth', \"'\", 'sake', ',', 'dwells', 'us', ',', 'shall', 'us', 'ever.grace', ',', 'mercy', ',', 'peace', ',', 'god', 'father', ',', 'lord', 'jesus', 'christ', ',', 'son', 'father', ',', 'truth', 'love.i', 'rejoiced', 'greatly', 'found', 'children', 'walking', 'truth', ',', 'received', 'commandment', 'father.and', 'beseech', ',', 'lady', ',', 'though', 'wrote', 'new', 'commandment', ',', 'beginning', ',', 'love', 'one', 'another.and', 'love', ',', 'walk', 'commandments', '.', 'commandment', ',', ',', 'heard', 'beginning', ',', 'walk', 'it.for', 'many', 'deceivers', 'entered', 'world', ',', 'confess', 'jesus', 'christ', 'come', 'flesh', '.', 'deceiver', 'antichrist.look', ',', 'lose', 'things', 'worked', ',', 'receive', 'full', 'reward.whoever', 'transgresses', ',', 'stays', 'doctrine', 'christ', ',', 'god', '.', 'stays', 'doctrine', 'christ', ',', 'father', 'son.if', 'come', ',', 'bring', 'doctrine', ',', 'receive', 'house', ',', 'neither', 'bid', 'god', 'speed', ':', 'bids', 'god', 'speed', 'partaker', 'evil', 'deeds.having', 'many', 'things', 'write', ',', 'would', 'write', 'paper', 'ink', ':', 'trust', 'come', ',', 'speak', 'face', 'face', ',', 'joy', 'may', 'full.the', 'children', 'elect', 'sister', 'greet', '.', 'amen', '.']\n"
     ]
    }
   ],
   "source": [
    "print(filtered_sentence1)"
   ]
  },
  {
   "cell_type": "code",
   "execution_count": 11,
   "id": "82e345ae",
   "metadata": {},
   "outputs": [],
   "source": [
    "data =np.array([[\"II_João\", \"'elder', 'elect', 'lady', 'children', ',', 'love', 'truth', ';', ',', 'also', 'known', 'truth', ';', 'truth', ', 'sake', ',', 'dwells', 'us', ',', 'shall', 'us', 'ever.grace', ',', 'mercy', ',', 'peace', ',', 'god', 'father', ',', 'lord', 'jesus', 'christ', ',', 'son', 'father', ',', 'truth', 'love.i', 'rejoiced', 'greatly', 'found', 'children', 'walking', 'truth', ',', 'received', 'commandment', 'father.and', 'beseech', ',', 'lady', ',', 'though', 'wrote', 'new', 'commandment', ',', 'beginning', ',', 'love', 'one', 'another.and', 'love', ',', 'walk', 'commandments', '.', 'commandment', ',', ',', 'heard', 'beginning', ',', 'walk', 'it.for', 'many', 'deceivers', 'entered', 'world', ',', 'confess', 'jesus', 'christ', 'come', 'flesh', '.', 'deceiver', 'antichrist.look', ',', 'lose', 'things', 'worked', ',', 'receive', 'full', 'reward.whoever', 'transgresses', ',', 'stays', 'doctrine', 'christ', ',', 'god', '.', 'stays', 'doctrine', 'christ', ',', 'father', 'son.if', 'come', ',', 'bring', 'doctrine', ',', 'receive', 'house', ',', 'neither', 'bid', 'god', 'speed', ':', 'bids', 'god', 'speed', 'partaker', 'evil', 'deeds.having', 'many', 'things', 'write', ',', 'would', 'write', 'paper', 'ink', ':', 'trust', 'come', ',', 'speak', 'face', 'face', ',', 'joy', 'may', 'full.the', 'children', 'elect', 'sister', 'greet', '.', 'amen', '.'\"]])"
   ]
  },
  {
   "cell_type": "code",
   "execution_count": 12,
   "id": "217800fd",
   "metadata": {},
   "outputs": [],
   "source": [
    "df = pd.DataFrame(data, index=range(100,101),columns=['Autor', 'Livro'])"
   ]
  },
  {
   "cell_type": "code",
   "execution_count": 13,
   "id": "667271f1",
   "metadata": {},
   "outputs": [
    {
     "name": "stdout",
     "output_type": "stream",
     "text": [
      "       Autor                                              Livro\n",
      "100  II_João  'elder', 'elect', 'lady', 'children', ',', 'lo...\n"
     ]
    }
   ],
   "source": [
    "print(df)"
   ]
  },
  {
   "cell_type": "code",
   "execution_count": null,
   "id": "64c7331f",
   "metadata": {},
   "outputs": [],
   "source": []
  }
 ],
 "metadata": {
  "kernelspec": {
   "display_name": "Python 3 (ipykernel)",
   "language": "python",
   "name": "python3"
  },
  "language_info": {
   "codemirror_mode": {
    "name": "ipython",
    "version": 3
   },
   "file_extension": ".py",
   "mimetype": "text/x-python",
   "name": "python",
   "nbconvert_exporter": "python",
   "pygments_lexer": "ipython3",
   "version": "3.7.2"
  }
 },
 "nbformat": 4,
 "nbformat_minor": 5
}
