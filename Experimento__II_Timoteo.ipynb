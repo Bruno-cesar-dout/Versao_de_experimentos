{
 "cells": [
  {
   "cell_type": "code",
   "execution_count": 1,
   "id": "c590fbad",
   "metadata": {},
   "outputs": [],
   "source": [
    "import numpy  as np\n",
    "import pandas as pd\n",
    "import json\n",
    "import pandas"
   ]
  },
  {
   "cell_type": "code",
   "execution_count": 2,
   "id": "1c16aa6e",
   "metadata": {},
   "outputs": [],
   "source": [
    "import nltk\n",
    "import nltk.corpus\n",
    "from sklearn.feature_extraction.text  import TfidfVectorizer\n",
    "from sklearn.metrics                  import silhouette_samples, silhouette_score\n",
    "from sklearn.preprocessing            import normalize\n",
    "from nltk.tokenize                    import word_tokenize\n",
    "import re\n",
    "from unidecode                        import unidecode\n",
    "from nltk.corpus import stopwords"
   ]
  },
  {
   "cell_type": "code",
   "execution_count": 3,
   "id": "9ddd9d64",
   "metadata": {},
   "outputs": [],
   "source": [
    "import matplotlib.pyplot  as plt\n",
    "import matplotlib.cm      as cm\n",
    "import seaborn            as sns\n",
    "from sklearn.metrics                  import silhouette_samples, silhouette_score\n",
    "from wordcloud                        import WordCloud"
   ]
  },
  {
   "cell_type": "code",
   "execution_count": 4,
   "id": "6e1b64b2",
   "metadata": {},
   "outputs": [],
   "source": [
    "from sklearn import cluster"
   ]
  },
  {
   "cell_type": "code",
   "execution_count": 5,
   "id": "80704ebc",
   "metadata": {},
   "outputs": [],
   "source": [
    "II_Timoteo_1 = \"Paul, an apostle of Jesus Christ by the will of God, according to the promise of life which is in Christ Jesus,To Timothy, my dearly beloved son: Grace, mercy, and peace, from God the Father and Christ Jesus our Lord.I thank God, whom I serve from my forefathers with pure conscience, that without ceasing I have remembrance of you in my prayers night and day;Greatly desiring to see you, being mindful of your tears, that I may be filled with joy;When I call to remembrance the unfeigned faith that is in you, which dwelled first in your grandmother Lois, and your mother Eunice; and I am persuaded that in you also.Why I put you in remembrance that you stir up the gift of God, which is in you by the putting on of my hands.For God has not given us the spirit of fear; but of power, and of love, and of a sound mind.Be not you therefore ashamed of the testimony of our Lord, nor of me his prisoner: but be you partaker of the afflictions of the gospel according to the power of God;Who has saved us, and called us with an holy calling, not according to our works, but according to his own purpose and grace, which was given us in Christ Jesus before the world began,But is now made manifest by the appearing of our Savior Jesus Christ, who has abolished death, and has brought life and immortality to light through the gospel:Whereunto I am appointed a preacher, and an apostle, and a teacher of the Gentiles.For the which cause I also suffer these things: nevertheless I am not ashamed: for I know whom I have believed, and am persuaded that he is able to keep that which I have committed to him against that day.Hold fast the form of sound words, which you have heard of me, in faith and love which is in Christ Jesus.That good thing which was committed to you keep by the Holy Ghost which dwells in us.This you know, that all they which are in Asia be turned away from me; of whom are Phygellus and Hermogenes.The Lord give mercy to the house of Onesiphorus; for he oft refreshed me, and was not ashamed of my chain:But, when he was in Rome, he sought me out very diligently, and found me.The Lord grant to him that he may find mercy of the Lord in that day: and in how many things he ministered to me at Ephesus, you know very well.\".lower()"
   ]
  },
  {
   "cell_type": "code",
   "execution_count": 6,
   "id": "3fb09ae5",
   "metadata": {},
   "outputs": [],
   "source": [
    "II_Timoteo_2 = \"You therefore, my son, be strong in the grace that is in Christ Jesus.And the things that you have heard of me among many witnesses, the same commit you to faithful men, who shall be able to teach others also.You therefore endure hardness, as a good soldier of Jesus Christ.No man that wars entangles himself with the affairs of this life; that he may please him who has chosen him to be a soldier.And if a man also strive for masteries, yet is he not crowned, except he strive lawfully.The farmer that labors must be first partaker of the fruits.Consider what I say; and the Lord give you understanding in all things.Remember that Jesus Christ of the seed of David was raised from the dead according to my gospel:Wherein I suffer trouble, as an evil doer, even to bonds; but the word of God is not bound.Therefore I endure all things for the elect' sakes, that they may also obtain the salvation which is in Christ Jesus with eternal glory.It is a faithful saying: For if we be dead with him, we shall also live with him:If we suffer, we shall also reign with him: if we deny him, he also will deny us:If we believe not, yet he stays faithful: he cannot deny himself.Of these things put them in remembrance, charging them before the Lord that they strive not about words to no profit, but to the subverting of the hearers.Study to show yourself approved to God, a workman that needs not to be ashamed, rightly dividing the word of truth.But shun profane and vain babblings: for they will increase to more ungodliness.And their word will eat as does a canker: of whom is Hymenaeus and Philetus;Who concerning the truth have erred, saying that the resurrection is past already; and overthrow the faith of some.Nevertheless the foundation of God stands sure, having this seal, The Lord knows them that are his. And, Let every one that names the name of Christ depart from iniquity.But in a great house there are not only vessels of gold and of silver, but also of wood and of earth; and some to honor, and some to dishonor.If a man therefore purge himself from these, he shall be a vessel to honor, sanctified, and meet for the master' use, and prepared to every good work.Flee also youthful lusts: but follow righteousness, faith, charity, peace, with them that call on the Lord out of a pure heart.But foolish and unlearned questions avoid, knowing that they do engender strifes.And the servant of the Lord must not strive; but be gentle to all men, apt to teach, patient,In meekness instructing those that oppose themselves; if God peradventure will give them repentance to the acknowledging of the truth;And that they may recover themselves out of the snare of the devil, who are taken captive by him at his will.\".lower()"
   ]
  },
  {
   "cell_type": "code",
   "execution_count": 7,
   "id": "b54d8149",
   "metadata": {},
   "outputs": [],
   "source": [
    "II_Timoteo_3 = \"This know also, that in the last days perilous times shall come.For men shall be lovers of their own selves, covetous, boasters, proud, blasphemers, disobedient to parents, unthankful, unholy,Without natural affection, truce breakers, false accusers, incontinent, fierce, despisers of those that are good,Traitors, heady, high minded, lovers of pleasures more than lovers of God;Having a form of godliness, but denying the power thereof: from such turn away.For of this sort are they which creep into houses, and lead captive silly women laden with sins, led away with divers lusts,Ever learning, and never able to come to the knowledge of the truth.Now as Jannes and Jambres withstood Moses, so do these also resist the truth: men of corrupt minds, reprobate concerning the faith.But they shall proceed no further: for their folly shall be manifest to all men, as their' also was.But you have fully known my doctrine, manner of life, purpose, faith, long-suffering, charity, patience,Persecutions, afflictions, which came to me at Antioch, at Iconium, at Lystra; what persecutions I endured: but out of them all the Lord delivered me.Yes, and all that will live godly in Christ Jesus shall suffer persecution.But evil men and seducers shall wax worse and worse, deceiving, and being deceived.But continue you in the things which you have learned and have been assured of, knowing of whom you have learned them;And that from a child you have known the holy scriptures, which are able to make you wise to salvation through faith which is in Christ Jesus.All scripture is given by inspiration of God, and is profitable for doctrine, for reproof, for correction, for instruction in righteousness:That the man of God may be perfect, thoroughly furnished to all good works.\".lower()"
   ]
  },
  {
   "cell_type": "code",
   "execution_count": 8,
   "id": "9ce3a3c3",
   "metadata": {},
   "outputs": [],
   "source": [
    "II_Timoteo_4 = \"I charge you therefore before God, and the Lord Jesus Christ, who shall judge the quick and the dead at his appearing and his kingdom;Preach the word; be instant in season, out of season; reprove, rebuke, exhort with all long-suffering and doctrine.For the time will come when they will not endure sound doctrine; but after their own lusts shall they heap to themselves teachers, having itching ears;And they shall turn away their ears from the truth, and shall be turned to fables.But watch you in all things, endure afflictions, do the work of an evangelist, make full proof of your ministry.For I am now ready to be offered, and the time of my departure is at hand.I have fought a good fight, I have finished my course, I have kept the faith:From now on there is laid up for me a crown of righteousness, which the Lord, the righteous judge, shall give me at that day: and not to me only, but to all them also that love his appearing.Do your diligence to come shortly to me:For Demas has forsaken me, having loved this present world, and is departed to Thessalonica; Crescens to Galatia, Titus to Dalmatia.Only Luke is with me. Take Mark, and bring him with you: for he is profitable to me for the ministry.And Tychicus have I sent to Ephesus.The cloak that I left at Troas with Carpus, when you come, bring with you, and the books, but especially the parchments.Alexander the coppersmith did me much evil: the Lord reward him according to his works:Of whom be you ware also; for he has greatly withstood our words.At my first answer no man stood with me, but all men forsook me: I pray God that it may not be laid to their charge.Notwithstanding the Lord stood with me, and strengthened me; that by me the preaching might be fully known, and that all the Gentiles might hear: and I was delivered out of the mouth of the lion.And the Lord shall deliver me from every evil work, and will preserve me to his heavenly kingdom: to whom be glory for ever and ever. Amen.Salute Prisca and Aquila, and the household of Onesiphorus.Erastus stayed at Corinth: but Trophimus have I left at Miletum sick.Do your diligence to come before winter. Eubulus greets you, and Pudens, and Linus, and Claudia, and all the brothers.The Lord Jesus Christ be with your spirit. Grace be with you. Amen.\".lower()"
   ]
  },
  {
   "cell_type": "code",
   "execution_count": 26,
   "id": "3fc745aa",
   "metadata": {},
   "outputs": [],
   "source": [
    "tokens = nltk.word_tokenize(II_Timoteo_4)"
   ]
  },
  {
   "cell_type": "code",
   "execution_count": 27,
   "id": "0c8fd730",
   "metadata": {},
   "outputs": [],
   "source": [
    "stop_words = set(stopwords.words('english'))"
   ]
  },
  {
   "cell_type": "code",
   "execution_count": 28,
   "id": "dd70fd24",
   "metadata": {},
   "outputs": [],
   "source": [
    "filtered_sentence1 = [w for w in tokens if not w in stop_words] \n",
    "  \n",
    "filtered_sentence1 = []\n",
    "  \n",
    "for w in tokens: \n",
    "    if w not in stop_words: \n",
    "        filtered_sentence1.append(w)"
   ]
  },
  {
   "cell_type": "code",
   "execution_count": 29,
   "id": "03215f99",
   "metadata": {},
   "outputs": [
    {
     "name": "stdout",
     "output_type": "stream",
     "text": [
      "['charge', 'therefore', 'god', ',', 'lord', 'jesus', 'christ', ',', 'shall', 'judge', 'quick', 'dead', 'appearing', 'kingdom', ';', 'preach', 'word', ';', 'instant', 'season', ',', 'season', ';', 'reprove', ',', 'rebuke', ',', 'exhort', 'long-suffering', 'doctrine.for', 'time', 'come', 'endure', 'sound', 'doctrine', ';', 'lusts', 'shall', 'heap', 'teachers', ',', 'itching', 'ears', ';', 'shall', 'turn', 'away', 'ears', 'truth', ',', 'shall', 'turned', 'fables.but', 'watch', 'things', ',', 'endure', 'afflictions', ',', 'work', 'evangelist', ',', 'make', 'full', 'proof', 'ministry.for', 'ready', 'offered', ',', 'time', 'departure', 'hand.i', 'fought', 'good', 'fight', ',', 'finished', 'course', ',', 'kept', 'faith', ':', 'laid', 'crown', 'righteousness', ',', 'lord', ',', 'righteous', 'judge', ',', 'shall', 'give', 'day', ':', ',', 'also', 'love', 'appearing.do', 'diligence', 'come', 'shortly', ':', 'demas', 'forsaken', ',', 'loved', 'present', 'world', ',', 'departed', 'thessalonica', ';', 'crescens', 'galatia', ',', 'titus', 'dalmatia.only', 'luke', '.', 'take', 'mark', ',', 'bring', ':', 'profitable', 'ministry.and', 'tychicus', 'sent', 'ephesus.the', 'cloak', 'left', 'troas', 'carpus', ',', 'come', ',', 'bring', ',', 'books', ',', 'especially', 'parchments.alexander', 'coppersmith', 'much', 'evil', ':', 'lord', 'reward', 'according', 'works', ':', 'ware', 'also', ';', 'greatly', 'withstood', 'words.at', 'first', 'answer', 'man', 'stood', ',', 'men', 'forsook', ':', 'pray', 'god', 'may', 'laid', 'charge.notwithstanding', 'lord', 'stood', ',', 'strengthened', ';', 'preaching', 'might', 'fully', 'known', ',', 'gentiles', 'might', 'hear', ':', 'delivered', 'mouth', 'lion.and', 'lord', 'shall', 'deliver', 'every', 'evil', 'work', ',', 'preserve', 'heavenly', 'kingdom', ':', 'glory', 'ever', 'ever', '.', 'amen.salute', 'prisca', 'aquila', ',', 'household', 'onesiphorus.erastus', 'stayed', 'corinth', ':', 'trophimus', 'left', 'miletum', 'sick.do', 'diligence', 'come', 'winter', '.', 'eubulus', 'greets', ',', 'pudens', ',', 'linus', ',', 'claudia', ',', 'brothers.the', 'lord', 'jesus', 'christ', 'spirit', '.', 'grace', '.', 'amen', '.']\n"
     ]
    }
   ],
   "source": [
    "print(filtered_sentence1)"
   ]
  },
  {
   "cell_type": "code",
   "execution_count": 30,
   "id": "1d831f76",
   "metadata": {},
   "outputs": [],
   "source": [
    "data =np.array([[\"II_Timoteo_1\", \"'paul', ',', 'apostle', 'jesus', 'christ', 'god', ',', 'according', 'promise', 'life', 'christ', 'jesus', ',', 'timothy', ',', 'dearly', 'beloved', 'son', ':', 'grace', ',', 'mercy', ',', 'peace', ',', 'god', 'father', 'christ', 'jesus', 'lord.i', 'thank', 'god', ',', 'serve', 'forefathers', 'pure', 'conscience', ',', 'without', 'ceasing', 'remembrance', 'prayers', 'night', 'day', ';', 'greatly', 'desiring', 'see', ',', 'mindful', 'tears', ',', 'may', 'filled', 'joy', ';', 'call', 'remembrance', 'unfeigned', 'faith', ',', 'dwelled', 'first', 'grandmother', 'lois', ',', 'mother', 'eunice', ';', 'persuaded', 'also.why', 'put', 'remembrance', 'stir', 'gift', 'god', ',', 'putting', 'hands.for', 'god', 'given', 'us', 'spirit', 'fear', ';', 'power', ',', 'love', ',', 'sound', 'mind.be', 'therefore', 'ashamed', 'testimony', 'lord', ',', 'prisoner', ':', 'partaker', 'afflictions', 'gospel', 'according', 'power', 'god', ';', 'saved', 'us', ',', 'called', 'us', 'holy', 'calling', ',', 'according', 'works', ',', 'according', 'purpose', 'grace', ',', 'given', 'us', 'christ', 'jesus', 'world', 'began', ',', 'made', 'manifest', 'appearing', 'savior', 'jesus', 'christ', ',', 'abolished', 'death', ',', 'brought', 'life', 'immortality', 'light', 'gospel', ':', 'whereunto', 'appointed', 'preacher', ',', 'apostle', ',', 'teacher', 'gentiles.for', 'cause', 'also', 'suffer', 'things', ':', 'nevertheless', 'ashamed', ':', 'know', 'believed', ',', 'persuaded', 'able', 'keep', 'committed', 'day.hold', 'fast', 'form', 'sound', 'words', ',', 'heard', ',', 'faith', 'love', 'christ', 'jesus.that', 'good', 'thing', 'committed', 'keep', 'holy', 'ghost', 'dwells', 'us.this', 'know', ',', 'asia', 'turned', 'away', ';', 'phygellus', 'hermogenes.the', 'lord', 'give', 'mercy', 'house', 'onesiphorus', ';', 'oft', 'refreshed', ',', 'ashamed', 'chain', ':', ',', 'rome', ',', 'sought', 'diligently', ',', 'found', 'me.the', 'lord', 'grant', 'may', 'find', 'mercy', 'lord', 'day', ':', 'many', 'things', 'ministered', 'ephesus', ',', 'know', 'well', '.'\"],\n",
    "               [\"II_Timoteo_2\", \"'therefore', ',', 'son', ',', 'strong', 'grace', 'christ', 'jesus.and', 'things', 'heard', 'among', 'many', 'witnesses', ',', 'commit', 'faithful', 'men', ',', 'shall', 'able', 'teach', 'others', 'also.you', 'therefore', 'endure', 'hardness', ',', 'good', 'soldier', 'jesus', 'christ.no', 'man', 'wars', 'entangles', 'affairs', 'life', ';', 'may', 'please', 'chosen', 'soldier.and', 'man', 'also', 'strive', 'masteries', ',', 'yet', 'crowned', ',', 'except', 'strive', 'lawfully.the', 'farmer', 'labors', 'must', 'first', 'partaker', 'fruits.consider', 'say', ';', 'lord', 'give', 'understanding', 'things.remember', 'jesus', 'christ', 'seed', 'david', 'raised', 'dead', 'according', 'gospel', ':', 'wherein', 'suffer', 'trouble', ',', 'evil', 'doer', ',', 'even', 'bonds', ';', 'word', 'god', 'bound.therefore', 'endure', 'things', 'elect', ', 'sakes', ',', 'may', 'also', 'obtain', 'salvation', 'christ', 'jesus', 'eternal', 'glory.it', 'faithful', 'saying', ':', 'dead', ',', 'shall', 'also', 'live', ':', 'suffer', ',', 'shall', 'also', 'reign', ':', 'deny', ',', 'also', 'deny', 'us', ':', 'believe', ',', 'yet', 'stays', 'faithful', ':', 'deny', 'himself.of', 'things', 'put', 'remembrance', ',', 'charging', 'lord', 'strive', 'words', 'profit', ',', 'subverting', 'hearers.study', 'show', 'approved', 'god', ',', 'workman', 'needs', 'ashamed', ',', 'rightly', 'dividing', 'word', 'truth.but', 'shun', 'profane', 'vain', 'babblings', ':', 'increase', 'ungodliness.and', 'word', 'eat', 'canker', ':', 'hymenaeus', 'philetus', ';', 'concerning', 'truth', 'erred', ',', 'saying', 'resurrection', 'past', 'already', ';', 'overthrow', 'faith', 'some.nevertheless', 'foundation', 'god', 'stands', 'sure', ',', 'seal', ',', 'lord', 'knows', '.', ',', 'let', 'every', 'one', 'names', 'name', 'christ', 'depart', 'iniquity.but', 'great', 'house', 'vessels', 'gold', 'silver', ',', 'also', 'wood', 'earth', ';', 'honor', ',', 'dishonor.if', 'man', 'therefore', 'purge', ',', 'shall', 'vessel', 'honor', ',', 'sanctified', ',', 'meet', 'master', ', 'use', ',', 'prepared', 'every', 'good', 'work.flee', 'also', 'youthful', 'lusts', ':', 'follow', 'righteousness', ',', 'faith', ',', 'charity', ',', 'peace', ',', 'call', 'lord', 'pure', 'heart.but', 'foolish', 'unlearned', 'questions', 'avoid', ',', 'knowing', 'engender', 'strifes.and', 'servant', 'lord', 'must', 'strive', ';', 'gentle', 'men', ',', 'apt', 'teach', ',', 'patient', ',', 'meekness', 'instructing', 'oppose', ';', 'god', 'peradventure', 'give', 'repentance', 'acknowledging', 'truth', ';', 'may', 'recover', 'snare', 'devil', ',', 'taken', 'captive', '.'\"],\n",
    "               [\"II_Timoteo_3\", \"'know', 'also', ',', 'last', 'days', 'perilous', 'times', 'shall', 'come.for', 'men', 'shall', 'lovers', 'selves', ',', 'covetous', ',', 'boasters', ',', 'proud', ',', 'blasphemers', ',', 'disobedient', 'parents', ',', 'unthankful', ',', 'unholy', ',', 'without', 'natural', 'affection', ',', 'truce', 'breakers', ',', 'false', 'accusers', ',', 'incontinent', ',', 'fierce', ',', 'despisers', 'good', ',', 'traitors', ',', 'heady', ',', 'high', 'minded', ',', 'lovers', 'pleasures', 'lovers', 'god', ';', 'form', 'godliness', ',', 'denying', 'power', 'thereof', ':', 'turn', 'away.for', 'sort', 'creep', 'houses', ',', 'lead', 'captive', 'silly', 'women', 'laden', 'sins', ',', 'led', 'away', 'divers', 'lusts', ',', 'ever', 'learning', ',', 'never', 'able', 'come', 'knowledge', 'truth.now', 'jannes', 'jambres', 'withstood', 'moses', ',', 'also', 'resist', 'truth', ':', 'men', 'corrupt', 'minds', ',', 'reprobate', 'concerning', 'faith.but', 'shall', 'proceed', ':', 'folly', 'shall', 'manifest', 'men', ',', ', 'also', 'was.but', 'fully', 'known', 'doctrine', ',', 'manner', 'life', ',', 'purpose', ',', 'faith', ',', 'long-suffering', ',', 'charity', ',', 'patience', ',', 'persecutions', ',', 'afflictions', ',', 'came', 'antioch', ',', 'iconium', ',', 'lystra', ';', 'persecutions', 'endured', ':', 'lord', 'delivered', 'me.yes', ',', 'live', 'godly', 'christ', 'jesus', 'shall', 'suffer', 'persecution.but', 'evil', 'men', 'seducers', 'shall', 'wax', 'worse', 'worse', ',', 'deceiving', ',', 'deceived.but', 'continue', 'things', 'learned', 'assured', ',', 'knowing', 'learned', ';', 'child', 'known', 'holy', 'scriptures', ',', 'able', 'make', 'wise', 'salvation', 'faith', 'christ', 'jesus.all', 'scripture', 'given', 'inspiration', 'god', ',', 'profitable', 'doctrine', ',', 'reproof', ',', 'correction', ',', 'instruction', 'righteousness', ':', 'man', 'god', 'may', 'perfect', ',', 'thoroughly', 'furnished', 'good', 'works', '.'\"],\n",
    "               [\"II_Timoteo_4\", \"'charge', 'therefore', 'god', ',', 'lord', 'jesus', 'christ', ',', 'shall', 'judge', 'quick', 'dead', 'appearing', 'kingdom', ';', 'preach', 'word', ';', 'instant', 'season', ',', 'season', ';', 'reprove', ',', 'rebuke', ',', 'exhort', 'long-suffering', 'doctrine.for', 'time', 'come', 'endure', 'sound', 'doctrine', ';', 'lusts', 'shall', 'heap', 'teachers', ',', 'itching', 'ears', ';', 'shall', 'turn', 'away', 'ears', 'truth', ',', 'shall', 'turned', 'fables.but', 'watch', 'things', ',', 'endure', 'afflictions', ',', 'work', 'evangelist', ',', 'make', 'full', 'proof', 'ministry.for', 'ready', 'offered', ',', 'time', 'departure', 'hand.i', 'fought', 'good', 'fight', ',', 'finished', 'course', ',', 'kept', 'faith', ':', 'laid', 'crown', 'righteousness', ',', 'lord', ',', 'righteous', 'judge', ',', 'shall', 'give', 'day', ':', ',', 'also', 'love', 'appearing.do', 'diligence', 'come', 'shortly', ':', 'demas', 'forsaken', ',', 'loved', 'present', 'world', ',', 'departed', 'thessalonica', ';', 'crescens', 'galatia', ',', 'titus', 'dalmatia.only', 'luke', '.', 'take', 'mark', ',', 'bring', ':', 'profitable', 'ministry.and', 'tychicus', 'sent', 'ephesus.the', 'cloak', 'left', 'troas', 'carpus', ',', 'come', ',', 'bring', ',', 'books', ',', 'especially', 'parchments.alexander', 'coppersmith', 'much', 'evil', ':', 'lord', 'reward', 'according', 'works', ':', 'ware', 'also', ';', 'greatly', 'withstood', 'words.at', 'first', 'answer', 'man', 'stood', ',', 'men', 'forsook', ':', 'pray', 'god', 'may', 'laid', 'charge.notwithstanding', 'lord', 'stood', ',', 'strengthened', ';', 'preaching', 'might', 'fully', 'known', ',', 'gentiles', 'might', 'hear', ':', 'delivered', 'mouth', 'lion.and', 'lord', 'shall', 'deliver', 'every', 'evil', 'work', ',', 'preserve', 'heavenly', 'kingdom', ':', 'glory', 'ever', 'ever', '.', 'amen.salute', 'prisca', 'aquila', ',', 'household', 'onesiphorus.erastus', 'stayed', 'corinth', ':', 'trophimus', 'left', 'miletum', 'sick.do', 'diligence', 'come', 'winter', '.', 'eubulus', 'greets', ',', 'pudens', ',', 'linus', ',', 'claudia', ',', 'brothers.the', 'lord', 'jesus', 'christ', 'spirit', '.', 'grace', '.', 'amen', '.'\"]])"
   ]
  },
  {
   "cell_type": "code",
   "execution_count": 31,
   "id": "afd0a80f",
   "metadata": {},
   "outputs": [],
   "source": [
    "df = pd.DataFrame(data, index=range(100,104),columns=['Autor', 'Livro'])"
   ]
  },
  {
   "cell_type": "code",
   "execution_count": 32,
   "id": "59855ff4",
   "metadata": {},
   "outputs": [
    {
     "name": "stdout",
     "output_type": "stream",
     "text": [
      "            Autor                                              Livro\n",
      "100  II_Timoteo_1  'paul', ',', 'apostle', 'jesus', 'christ', 'go...\n",
      "101  II_Timoteo_2  'therefore', ',', 'son', ',', 'strong', 'grace...\n",
      "102  II_Timoteo_3  'know', 'also', ',', 'last', 'days', 'perilous...\n",
      "103  II_Timoteo_4  'charge', 'therefore', 'god', ',', 'lord', 'je...\n"
     ]
    }
   ],
   "source": [
    "print(df)"
   ]
  },
  {
   "cell_type": "code",
   "execution_count": null,
   "id": "9cacfbeb",
   "metadata": {},
   "outputs": [],
   "source": []
  }
 ],
 "metadata": {
  "kernelspec": {
   "display_name": "Python 3 (ipykernel)",
   "language": "python",
   "name": "python3"
  },
  "language_info": {
   "codemirror_mode": {
    "name": "ipython",
    "version": 3
   },
   "file_extension": ".py",
   "mimetype": "text/x-python",
   "name": "python",
   "nbconvert_exporter": "python",
   "pygments_lexer": "ipython3",
   "version": "3.7.2"
  }
 },
 "nbformat": 4,
 "nbformat_minor": 5
}
