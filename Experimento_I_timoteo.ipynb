{
 "cells": [
  {
   "cell_type": "code",
   "execution_count": 1,
   "id": "e8fe3c85",
   "metadata": {},
   "outputs": [],
   "source": [
    "import numpy  as np\n",
    "import pandas as pd\n",
    "import json\n",
    "import pandas"
   ]
  },
  {
   "cell_type": "code",
   "execution_count": 2,
   "id": "59dca485",
   "metadata": {},
   "outputs": [],
   "source": [
    "import nltk\n",
    "import nltk.corpus\n",
    "from sklearn.feature_extraction.text  import TfidfVectorizer\n",
    "from sklearn.metrics                  import silhouette_samples, silhouette_score\n",
    "from sklearn.preprocessing            import normalize\n",
    "from nltk.tokenize                    import word_tokenize\n",
    "import re\n",
    "from unidecode                        import unidecode\n",
    "from nltk.corpus import stopwords"
   ]
  },
  {
   "cell_type": "code",
   "execution_count": 3,
   "id": "976c606a",
   "metadata": {},
   "outputs": [],
   "source": [
    "import matplotlib.pyplot  as plt\n",
    "import matplotlib.cm      as cm\n",
    "import seaborn            as sns\n",
    "from sklearn.metrics                  import silhouette_samples, silhouette_score\n",
    "from wordcloud                        import WordCloud"
   ]
  },
  {
   "cell_type": "code",
   "execution_count": 4,
   "id": "9ef49a8c",
   "metadata": {},
   "outputs": [],
   "source": [
    "from sklearn import cluster"
   ]
  },
  {
   "cell_type": "code",
   "execution_count": 5,
   "id": "9c531d03",
   "metadata": {},
   "outputs": [],
   "source": [
    "I_Timoteo_1 = \"Paul, an apostle of Jesus Christ by the commandment of God our Savior, and Lord Jesus Christ, which is our hope;To Timothy, my own son in the faith: Grace, mercy, and peace, from God our Father and Jesus Christ our Lord.As I sought you to abide still at Ephesus, when I went into Macedonia, that you might charge some that they teach no other doctrine,Neither give heed to fables and endless genealogies, which minister questions, rather than godly edifying which is in faith: so do.Now the end of the commandment is charity out of a pure heart, and of a good conscience, and of faith unfeigned:From which some having swerved have turned aside to vain jangling;Desiring to be teachers of the law; understanding neither what they say, nor whereof they affirm.But we know that the law is good, if a man use it lawfully;Knowing this, that the law is not made for a righteous man, but for the lawless and disobedient, for the ungodly and for sinners, for unholy and profane, for murderers of fathers and murderers of mothers, for murderers,For fornicators, for them that defile themselves with mankind, for enslavers, for liars, for perjured persons, and if there be any other thing that is contrary to sound doctrine;According to the glorious gospel of the blessed God, which was committed to my trust.And I thank Christ Jesus our Lord, who has enabled me, for that he counted me faithful, putting me into the ministry;Who was before a blasphemer, and a persecutor, and injurious: but I obtained mercy, because I did it ignorantly in unbelief.And the grace of our Lord was exceeding abundant with faith and love which is in Christ Jesus.This is a faithful saying, and worthy of all acceptation, that Christ Jesus came into the world to save sinners; of whom I am chief.However, for this cause I obtained mercy, that in me first Jesus Christ might show forth all long-suffering, for a pattern to them which should hereafter believe on him to life everlasting.Now to the King eternal, immortal, invisible, the only wise God, be honor and glory for ever and ever. Amen.This charge I commit to you, son Timothy, according to the prophecies which went before on you, that you by them might war a good warfare;Holding faith, and a good conscience; which some having put away concerning faith have made shipwreck:Of whom is Hymenaeus and Alexander; whom I have delivered to Satan, that they may learn not to blaspheme.\".lower()"
   ]
  },
  {
   "cell_type": "code",
   "execution_count": 6,
   "id": "893e98e4",
   "metadata": {},
   "outputs": [],
   "source": [
    "I_Timoteo_2 = \"I exhort therefore, that, first of all, supplications, prayers, intercessions, and giving of thanks, be made for all men;For kings, and for all that are in authority; that we may lead a quiet and peaceable life in all godliness and honesty.For this is good and acceptable in the sight of God our Savior;Who will have all men to be saved, and to come to the knowledge of the truth.For there is one God, and one mediator between God and men, the man Christ Jesus;Who gave himself a ransom for all, to be testified in due time.Whereunto I am ordained a preacher, and an apostle, (I speak the truth in Christ, and lie not;) a teacher of the Gentiles in faith and verity.I will therefore that men pray every where, lifting up holy hands, without wrath and doubting.In like manner also, that women adorn themselves in modest apparel, with modesty and sobriety; not with braided hair, or gold, or pearls, or costly array;But (which becomes women professing godliness) with good works.Let the woman learn in silence with all subjection.But I suffer not a woman to teach, nor to usurp authority over the man, but to be in silence.For Adam was first formed, then Eve.And Adam was not deceived, but the woman being deceived was in the transgression.Notwithstanding she shall be saved in childbearing, if they continue in faith and charity and holiness with sobriety.\".lower()"
   ]
  },
  {
   "cell_type": "code",
   "execution_count": 7,
   "id": "1c5387a6",
   "metadata": {},
   "outputs": [],
   "source": [
    "I_Timoteo_3 = \"This is a true saying, If a man desire the office of a bishop, he desires a good work.A bishop then must be blameless, the husband of one wife, vigilant, sober, of good behavior, given to hospitality, apt to teach;Not given to wine, no striker, not greedy of filthy lucre; but patient, not a brawler, not covetous;One that rules well his own house, having his children in subjection with all gravity;(For if a man know not how to rule his own house, how shall he take care of the church of God?)Not a novice, lest being lifted up with pride he fall into the condemnation of the devil.Moreover he must have a good report of them which are without; lest he fall into reproach and the snare of the devil.Likewise must the deacons be grave, not double-tongued, not given to much wine, not greedy of filthy lucre;Holding the mystery of the faith in a pure conscience.And let these also first be proved; then let them use the office of a deacon, being found blameless.Even so must their wives be grave, not slanderers, sober, faithful in all things.Let the deacons be the husbands of one wife, ruling their children and their own houses well.For they that have used the office of a deacon well purchase to themselves a good degree, and great boldness in the faith which is in Christ Jesus.These things write I to you, hoping to come to you shortly:But if I tarry long, that you may know how you ought to behave yourself in the house of God, which is the church of the living God, the pillar and ground of the truth.And without controversy great is the mystery of godliness: God was manifest in the flesh, justified in the Spirit, seen of angels, preached to the Gentiles, believed on in the world, received up into glory.\".lower()"
   ]
  },
  {
   "cell_type": "code",
   "execution_count": 8,
   "id": "bd348870",
   "metadata": {},
   "outputs": [],
   "source": [
    "I_Timoteo_4 = \"Now the Spirit speaks expressly, that in the latter times some shall depart from the faith, giving heed to seducing spirits, and doctrines of devils;Speaking lies in hypocrisy; having their conscience seared with a hot iron;Forbidding to marry, and commanding to abstain from meats, which God has created to be received with thanksgiving of them which believe and know the truth.For every creature of God is good, and nothing to be refused, if it be received with thanksgiving:For it is sanctified by the word of God and prayer.If you put the brothers in remembrance of these things, you shall be a good minister of Jesus Christ, nourished up in the words of faith and of good doctrine, whereunto you have attained.But refuse profane and old wives'fables, and exercise yourself rather to godliness.For bodily exercise profits little: but godliness is profitable to all things, having promise of the life that now is, and of that which is to come.This is a faithful saying and worthy of all acceptation.For therefore we both labor and suffer reproach, because we trust in the living God, who is the Savior of all men, specially of those that believe.These things command and teach.Let no man despise your youth; but be you an example of the believers, in word, in conversation, in charity, in spirit, in faith, in purity.Till I come, give attendance to reading, to exhortation, to doctrine.Neglect not the gift that is in you, which was given you by prophecy, with the laying on of the hands of the presbytery.Meditate on these things; give yourself wholly to them; that your profiting may appear to all.Take heed to yourself, and to the doctrine; continue in them: for in doing this you shall both save yourself, and them that hear you.\".lower()"
   ]
  },
  {
   "cell_type": "code",
   "execution_count": 9,
   "id": "b3ff7055",
   "metadata": {},
   "outputs": [],
   "source": [
    "I_Timoteo_5 = \"Rebuke not an elder, but entreat him as a father; and the younger men as brothers;The elder women as mothers; the younger as sisters, with all purity.Honor widows that are widows indeed.But if any widow have children or nephews, let them learn first to show piety at home, and to requite their parents: for that is good and acceptable before God.Now she that is a widow indeed, and desolate, trusts in God, and continues in supplications and prayers night and day.But she that lives in pleasure is dead while she lives.And these things give in charge, that they may be blameless.But if any provide not for his own, and specially for those of his own house, he has denied the faith, and is worse than an infidel.Let not a widow be taken into the number under three score years old, having been the wife of one man.Well reported of for good works; if she have brought up children, if she have lodged strangers, if she have washed the saints'feet, if she have relieved the afflicted, if she have diligently followed every good work.But the younger widows refuse: for when they have begun to wax wanton against Christ, they will marry;Having damnation, because they have cast off their first faith.And with they learn to be idle, wandering about from house to house; and not only idle, but tattlers also and busybodies, speaking things which they ought not.I will therefore that the younger women marry, bear children, guide the house, give none occasion to the adversary to speak reproachfully.For some are already turned aside after Satan.If any man or woman that believes have widows, let them relieve them, and let not the church be charged; that it may relieve them that are widows indeed.Let the elders that rule well be counted worthy of double honor, especially they who labor in the word and doctrine.For the scripture said, You shall not muzzle the ox that treads out the corn. And, The laborer is worthy of his reward.Against an elder receive not an accusation, but before two or three witnesses.Them that sin rebuke before all, that others also may fear.I charge you before God, and the Lord Jesus Christ, and the elect angels, that you observe these things without preferring one before another, doing nothing by partiality.Lay hands suddenly on no man, neither be partaker of other men' sins: keep yourself pure.Drink no longer water, but use a little wine for your stomach' sake and your often infirmities.Some men' sins are open beforehand, going before to judgment; and some men they follow after.Likewise also the good works of some are manifest beforehand; and they that are otherwise cannot be hid.\".lower()"
   ]
  },
  {
   "cell_type": "code",
   "execution_count": 10,
   "id": "ddab6797",
   "metadata": {},
   "outputs": [],
   "source": [
    "I_Timoteo_6 = \"Let as many servants as are under the yoke count their own masters worthy of all honor, that the name of God and his doctrine be not blasphemed.And they that have believing masters, let them not despise them, because they are brothers; but rather do them service, because they are faithful and beloved, partakers of the benefit. These things teach and exhort.If any man teach otherwise, and consent not to wholesome words, even the words of our Lord Jesus Christ, and to the doctrine which is according to godliness;He is proud, knowing nothing, but doting about questions and strifes of words, whereof comes envy, strife, railings, evil surmisings,Perverse disputings of men of corrupt minds, and destitute of the truth, supposing that gain is godliness: from such withdraw yourself.But godliness with contentment is great gain.For we brought nothing into this world, and it is certain we can carry nothing out.And having food and raiment let us be therewith content.But they that will be rich fall into temptation and a snare, and into many foolish and hurtful lusts, which drown men in destruction and perdition.For the love of money is the root of all evil: which while some coveted after, they have erred from the faith, and pierced themselves through with many sorrows.But you, O man of God, flee these things; and follow after righteousness, godliness, faith, love, patience, meekness.Fight the good fight of faith, lay hold on eternal life, whereunto you are also called, and have professed a good profession before many witnesses.I give you charge in the sight of God, who vivifies all things, and before Christ Jesus, who before Pontius Pilate witnessed a good confession;That you keep this commandment without spot, unrebukable, until the appearing of our Lord Jesus Christ:Which in his times he shall show, who is the blessed and only Potentate, the King of kings, and Lord of lords;Who only has immortality, dwelling in the light which no man can approach to; whom no man has seen, nor can see: to whom be honor and power everlasting. Amen.Charge them that are rich in this world, that they be not high minded, nor trust in uncertain riches, but in the living God, who gives us richly all things to enjoy;That they do good, that they be rich in good works, ready to distribute, willing to communicate;Laying up in store for themselves a good foundation against the time to come, that they may lay hold on eternal life.O Timothy, keep that which is committed to your trust, avoiding profane and vain babblings, and oppositions of science falsely so called:Which some professing have erred concerning the faith. Grace be with you. Amen.\".lower()"
   ]
  },
  {
   "cell_type": "code",
   "execution_count": 37,
   "id": "5b5fbff8",
   "metadata": {},
   "outputs": [],
   "source": [
    "tokens = nltk.word_tokenize(I_Timoteo_6)"
   ]
  },
  {
   "cell_type": "code",
   "execution_count": 38,
   "id": "9404c9ca",
   "metadata": {},
   "outputs": [],
   "source": [
    "stop_words = set(stopwords.words('english'))"
   ]
  },
  {
   "cell_type": "code",
   "execution_count": 39,
   "id": "bc15a36b",
   "metadata": {},
   "outputs": [],
   "source": [
    "filtered_sentence1 = [w for w in tokens if not w in stop_words] \n",
    "  \n",
    "filtered_sentence1 = []\n",
    "  \n",
    "for w in tokens: \n",
    "    if w not in stop_words: \n",
    "        filtered_sentence1.append(w)"
   ]
  },
  {
   "cell_type": "code",
   "execution_count": 40,
   "id": "64be946b",
   "metadata": {},
   "outputs": [
    {
     "name": "stdout",
     "output_type": "stream",
     "text": [
      "['let', 'many', 'servants', 'yoke', 'count', 'masters', 'worthy', 'honor', ',', 'name', 'god', 'doctrine', 'blasphemed.and', 'believing', 'masters', ',', 'let', 'despise', ',', 'brothers', ';', 'rather', 'service', ',', 'faithful', 'beloved', ',', 'partakers', 'benefit', '.', 'things', 'teach', 'exhort.if', 'man', 'teach', 'otherwise', ',', 'consent', 'wholesome', 'words', ',', 'even', 'words', 'lord', 'jesus', 'christ', ',', 'doctrine', 'according', 'godliness', ';', 'proud', ',', 'knowing', 'nothing', ',', 'doting', 'questions', 'strifes', 'words', ',', 'whereof', 'comes', 'envy', ',', 'strife', ',', 'railings', ',', 'evil', 'surmisings', ',', 'perverse', 'disputings', 'men', 'corrupt', 'minds', ',', 'destitute', 'truth', ',', 'supposing', 'gain', 'godliness', ':', 'withdraw', 'yourself.but', 'godliness', 'contentment', 'great', 'gain.for', 'brought', 'nothing', 'world', ',', 'certain', 'carry', 'nothing', 'out.and', 'food', 'raiment', 'let', 'us', 'therewith', 'content.but', 'rich', 'fall', 'temptation', 'snare', ',', 'many', 'foolish', 'hurtful', 'lusts', ',', 'drown', 'men', 'destruction', 'perdition.for', 'love', 'money', 'root', 'evil', ':', 'coveted', ',', 'erred', 'faith', ',', 'pierced', 'many', 'sorrows.but', ',', 'man', 'god', ',', 'flee', 'things', ';', 'follow', 'righteousness', ',', 'godliness', ',', 'faith', ',', 'love', ',', 'patience', ',', 'meekness.fight', 'good', 'fight', 'faith', ',', 'lay', 'hold', 'eternal', 'life', ',', 'whereunto', 'also', 'called', ',', 'professed', 'good', 'profession', 'many', 'witnesses.i', 'give', 'charge', 'sight', 'god', ',', 'vivifies', 'things', ',', 'christ', 'jesus', ',', 'pontius', 'pilate', 'witnessed', 'good', 'confession', ';', 'keep', 'commandment', 'without', 'spot', ',', 'unrebukable', ',', 'appearing', 'lord', 'jesus', 'christ', ':', 'times', 'shall', 'show', ',', 'blessed', 'potentate', ',', 'king', 'kings', ',', 'lord', 'lords', ';', 'immortality', ',', 'dwelling', 'light', 'man', 'approach', ';', 'man', 'seen', ',', 'see', ':', 'honor', 'power', 'everlasting', '.', 'amen.charge', 'rich', 'world', ',', 'high', 'minded', ',', 'trust', 'uncertain', 'riches', ',', 'living', 'god', ',', 'gives', 'us', 'richly', 'things', 'enjoy', ';', 'good', ',', 'rich', 'good', 'works', ',', 'ready', 'distribute', ',', 'willing', 'communicate', ';', 'laying', 'store', 'good', 'foundation', 'time', 'come', ',', 'may', 'lay', 'hold', 'eternal', 'life.o', 'timothy', ',', 'keep', 'committed', 'trust', ',', 'avoiding', 'profane', 'vain', 'babblings', ',', 'oppositions', 'science', 'falsely', 'called', ':', 'professing', 'erred', 'concerning', 'faith', '.', 'grace', '.', 'amen', '.']\n"
     ]
    }
   ],
   "source": [
    "print(filtered_sentence1)"
   ]
  },
  {
   "cell_type": "code",
   "execution_count": 41,
   "id": "0657c000",
   "metadata": {},
   "outputs": [],
   "source": [
    "data =np.array([[\"I_Timoteo_1\", \"'paul', ',', 'apostle', 'jesus', 'christ', 'commandment', 'god', 'savior', ',', 'lord', 'jesus', 'christ', ',', 'hope', ';', 'timothy', ',', 'son', 'faith', ':', 'grace', ',', 'mercy', ',', 'peace', ',', 'god', 'father', 'jesus', 'christ', 'lord.as', 'sought', 'abide', 'still', 'ephesus', ',', 'went', 'macedonia', ',', 'might', 'charge', 'teach', 'doctrine', ',', 'neither', 'give', 'heed', 'fables', 'endless', 'genealogies', ',', 'minister', 'questions', ',', 'rather', 'godly', 'edifying', 'faith', ':', 'do.now', 'end', 'commandment', 'charity', 'pure', 'heart', ',', 'good', 'conscience', ',', 'faith', 'unfeigned', ':', 'swerved', 'turned', 'aside', 'vain', 'jangling', ';', 'desiring', 'teachers', 'law', ';', 'understanding', 'neither', 'say', ',', 'whereof', 'affirm.but', 'know', 'law', 'good', ',', 'man', 'use', 'lawfully', ';', 'knowing', ',', 'law', 'made', 'righteous', 'man', ',', 'lawless', 'disobedient', ',', 'ungodly', 'sinners', ',', 'unholy', 'profane', ',', 'murderers', 'fathers', 'murderers', 'mothers', ',', 'murderers', ',', 'fornicators', ',', 'defile', 'mankind', ',', 'enslavers', ',', 'liars', ',', 'perjured', 'persons', ',', 'thing', 'contrary', 'sound', 'doctrine', ';', 'according', 'glorious', 'gospel', 'blessed', 'god', ',', 'committed', 'trust.and', 'thank', 'christ', 'jesus', 'lord', ',', 'enabled', ',', 'counted', 'faithful', ',', 'putting', 'ministry', ';', 'blasphemer', ',', 'persecutor', ',', 'injurious', ':', 'obtained', 'mercy', ',', 'ignorantly', 'unbelief.and', 'grace', 'lord', 'exceeding', 'abundant', 'faith', 'love', 'christ', 'jesus.this', 'faithful', 'saying', ',', 'worthy', 'acceptation', ',', 'christ', 'jesus', 'came', 'world', 'save', 'sinners', ';', 'chief.however', ',', 'cause', 'obtained', 'mercy', ',', 'first', 'jesus', 'christ', 'might', 'show', 'forth', 'long-suffering', ',', 'pattern', 'hereafter', 'believe', 'life', 'everlasting.now', 'king', 'eternal', ',', 'immortal', ',', 'invisible', ',', 'wise', 'god', ',', 'honor', 'glory', 'ever', 'ever', '.', 'amen.this', 'charge', 'commit', ',', 'son', 'timothy', ',', 'according', 'prophecies', 'went', ',', 'might', 'war', 'good', 'warfare', ';', 'holding', 'faith', ',', 'good', 'conscience', ';', 'put', 'away', 'concerning', 'faith', 'made', 'shipwreck', ':', 'hymenaeus', 'alexander', ';', 'delivered', 'satan', ',', 'may', 'learn', 'blaspheme', '.'\"],\n",
    "               [\"I_Timoteo_2\", \"'exhort', 'therefore', ',', ',', 'first', ',', 'supplications', ',', 'prayers', ',', 'intercessions', ',', 'giving', 'thanks', ',', 'made', 'men', ';', 'kings', ',', 'authority', ';', 'may', 'lead', 'quiet', 'peaceable', 'life', 'godliness', 'honesty.for', 'good', 'acceptable', 'sight', 'god', 'savior', ';', 'men', 'saved', ',', 'come', 'knowledge', 'truth.for', 'one', 'god', ',', 'one', 'mediator', 'god', 'men', ',', 'man', 'christ', 'jesus', ';', 'gave', 'ransom', ',', 'testified', 'due', 'time.whereunto', 'ordained', 'preacher', ',', 'apostle', ',', '(', 'speak', 'truth', 'christ', ',', 'lie', ';', ')', 'teacher', 'gentiles', 'faith', 'verity.i', 'therefore', 'men', 'pray', 'every', ',', 'lifting', 'holy', 'hands', ',', 'without', 'wrath', 'doubting.in', 'like', 'manner', 'also', ',', 'women', 'adorn', 'modest', 'apparel', ',', 'modesty', 'sobriety', ';', 'braided', 'hair', ',', 'gold', ',', 'pearls', ',', 'costly', 'array', ';', '(', 'becomes', 'women', 'professing', 'godliness', ')', 'good', 'works.let', 'woman', 'learn', 'silence', 'subjection.but', 'suffer', 'woman', 'teach', ',', 'usurp', 'authority', 'man', ',', 'silence.for', 'adam', 'first', 'formed', ',', 'eve.and', 'adam', 'deceived', ',', 'woman', 'deceived', 'transgression notwithstanding', 'shall', 'saved', 'childbearing', ',', 'continue', 'faith', 'charity', 'holiness', 'sobriety', '.'\"],\n",
    "               [\"I_Timoteo_3\", \"'true', 'saying', ',', 'man', 'desire', 'office', 'bishop', ',', 'desires', 'good', 'work.a', 'bishop', 'must', 'blameless', ',', 'husband', 'one', 'wife', ',', 'vigilant', ',', 'sober', ',', 'good', 'behavior', ',', 'given', 'hospitality', ',', 'apt', 'teach', ';', 'given', 'wine', ',', 'striker', ',', 'greedy', 'filthy', 'lucre', ';', 'patient', ',', 'brawler', ',', 'covetous', ';', 'one', 'rules', 'well', 'house', ',', 'children', 'subjection', 'gravity', ';', '(', 'man', 'know', 'rule', 'house', ',', 'shall', 'take', 'care', 'church', 'god', '?', ')', 'novice', ',', 'lest', 'lifted', 'pride', 'fall', 'condemnation', 'devil.moreover', 'must', 'good', 'report', 'without', ';', 'lest', 'fall', 'reproach', 'snare', 'devil.likewise', 'must', 'deacons', 'grave', ',', 'double-tongued', ',', 'given', 'much', 'wine', ',', 'greedy', 'filthy', 'lucre', ';', 'holding', 'mystery', 'faith', 'pure', 'conscience.and', 'let', 'also', 'first', 'proved', ';', 'let', 'use', 'office', 'deacon', ',', 'found', 'blameless.even', 'must', 'wives', 'grave', ',', 'slanderers', ',', 'sober', ',', 'faithful', 'things.let', 'deacons', 'husbands', 'one', 'wife', ',', 'ruling', 'children', 'houses', 'well.for', 'used', 'office', 'deacon', 'well', 'purchase', 'good', 'degree', ',', 'great', 'boldness', 'faith', 'christ', 'jesus.these', 'things', 'write', ',', 'hoping', 'come', 'shortly', ':', 'tarry', 'long', ',', 'may', 'know', 'ought', 'behave', 'house', 'god', ',', 'church', 'living', 'god', ',', 'pillar', 'ground', 'truth.and', 'without', 'controversy', 'great', 'mystery', 'godliness', ':', 'god', 'manifest', 'flesh', ',', 'justified', 'spirit', ',', 'seen', 'angels', ',', 'preached', 'gentiles', ',', 'believed', 'world', ',', 'received', 'glory', '.'\"],\n",
    "               [\"I_Timoteo_4\", \"'spirit', 'speaks', 'expressly', ',', 'latter', 'times', 'shall', 'depart', 'faith', ',', 'giving', 'heed', 'seducing', 'spirits', ',', 'doctrines', 'devils', ';', 'speaking', 'lies', 'hypocrisy', ';', 'conscience', 'seared', 'hot', 'iron', ';', 'forbidding', 'marry', ',', 'commanding', 'abstain', 'meats', ',', 'god', 'created', 'received', 'thanksgiving', 'believe', 'know', 'truth.for', 'every', 'creature', 'god', 'good', ',', 'nothing', 'refused', ',', 'received', 'thanksgiving', ':', 'sanctified', 'word', 'god', 'prayer.if', 'put', 'brothers', 'remembrance', 'things', ',', 'shall', 'good', 'minister', 'jesus', 'christ', ',', 'nourished', 'words', 'faith', 'good', 'doctrine', ',', 'whereunto', 'attained.but', 'refuse', 'profane', 'old', wives'fables, ',', 'exercise', 'rather', 'godliness.for', 'bodily', 'exercise', 'profits', 'little', ':', 'godliness', 'profitable', 'things', ',', 'promise', 'life', ',', 'come.this', 'faithful', 'saying', 'worthy', 'acceptation.for', 'therefore', 'labor', 'suffer', 'reproach', ',', 'trust', 'living', 'god', ',', 'savior', 'men', ',', 'specially', 'believe.these', 'things', 'command', 'teach.let', 'man', 'despise', 'youth', ';', 'example', 'believers', ',', 'word', ',', 'conversation', ',', 'charity', ',', 'spirit', ',', 'faith', ',', 'purity.till', 'come', ',', 'give', 'attendance', 'reading', ',', 'exhortation', ',', 'doctrine.neglect', 'gift', ',', 'given', 'prophecy', ',', 'laying', 'hands', 'presbytery.meditate', 'things', ';', 'give', 'wholly', ';', 'profiting', 'may', 'appear', 'all.take', 'heed', ',', 'doctrine', ';', 'continue', ':', 'shall', 'save', ',', 'hear', '.'\"],\n",
    "               [\"I_Timoteo_5\", \"'rebuke', 'elder', ',', 'entreat', 'father', ';', 'younger', 'men', 'brothers', ';', 'elder', 'women', 'mothers', ';', 'younger', 'sisters', ',', 'purity.honor', 'widows', 'widows', 'indeed.but', 'widow', 'children', 'nephews', ',', 'let', 'learn', 'first', 'show', 'piety', 'home', ',', 'requite', 'parents', ':', 'good', 'acceptable', 'god.now', 'widow', 'indeed', ',', 'desolate', ',', 'trusts', 'god', ',', 'continues', 'supplications', 'prayers', 'night', 'day.but', 'lives', 'pleasure', 'dead', 'lives.and', 'things', 'give', 'charge', ',', 'may', 'blameless.but', 'provide', ',', 'specially', 'house', ',', 'denied', 'faith', ',', 'worse', 'infidel.let', 'widow', 'taken', 'number', 'three', 'score', 'years', 'old', ',', 'wife', 'one', 'man.well', 'reported', 'good', 'works', ';', 'brought', 'children', ',', 'lodged', 'strangers', ',', 'washed', saints'feet, ',', 'relieved', 'afflicted', ',', 'diligently', 'followed', 'every', 'good', 'work.but', 'younger', 'widows', 'refuse', ':', 'begun', 'wax', 'wanton', 'christ', ',', 'marry', ';', 'damnation', ',', 'cast', 'first', 'faith.and', 'learn', 'idle', ',', 'wandering', 'house', 'house', ';', 'idle', ',', 'tattlers', 'also', 'busybodies', ',', 'speaking', 'things', 'ought', 'not.i', 'therefore', 'younger', 'women', 'marry', ',', 'bear', 'children', ',', 'guide', 'house', ',', 'give', 'none', 'occasion', 'adversary', 'speak', 'reproachfully.for', 'already', 'turned', 'aside', 'satan.if', 'man', 'woman', 'believes', 'widows', ',', 'let', 'relieve', ',', 'let', 'church', 'charged', ';', 'may', 'relieve', 'widows', 'indeed.let', 'elders', 'rule', 'well', 'counted', 'worthy', 'double', 'honor', ',', 'especially', 'labor', 'word', 'doctrine.for', 'scripture', 'said', ',', 'shall', 'muzzle', 'ox', 'treads', 'corn', '.', ',', 'laborer', 'worthy', 'reward.against', 'elder', 'receive', 'accusation', ',', 'two', 'three', 'witnesses.them', 'sin', 'rebuke', ',', 'others', 'also', 'may', 'fear.i', 'charge', 'god', ',', 'lord', 'jesus', 'christ', ',', 'elect', 'angels', ',', 'observe', 'things', 'without', 'preferring', 'one', 'another', ',', 'nothing', 'partiality.lay', 'hands', 'suddenly', 'man', ',', 'neither', 'partaker', 'men', ', 'sins', ':', 'keep', 'pure.drink', 'longer', 'water', ',', 'use', 'little', 'wine', 'stomach', ', 'sake', 'often', 'infirmities.some', 'men', ', 'sins', 'open', 'beforehand', ',', 'going', 'judgment', ';', 'men', 'follow', 'after.likewise', 'also', 'good', 'works', 'manifest', 'beforehand', ';', 'otherwise', 'hid', '.'\"],\n",
    "               [\"I_Timoteo_6\", \"'let', 'many', 'servants', 'yoke', 'count', 'masters', 'worthy', 'honor', ',', 'name', 'god', 'doctrine', 'blasphemed.and', 'believing', 'masters', ',', 'let', 'despise', ',', 'brothers', ';', 'rather', 'service', ',', 'faithful', 'beloved', ',', 'partakers', 'benefit', '.', 'things', 'teach', 'exhort.if', 'man', 'teach', 'otherwise', ',', 'consent', 'wholesome', 'words', ',', 'even', 'words', 'lord', 'jesus', 'christ', ',', 'doctrine', 'according', 'godliness', ';', 'proud', ',', 'knowing', 'nothing', ',', 'doting', 'questions', 'strifes', 'words', ',', 'whereof', 'comes', 'envy', ',', 'strife', ',', 'railings', ',', 'evil', 'surmisings', ',', 'perverse', 'disputings', 'men', 'corrupt', 'minds', ',', 'destitute', 'truth', ',', 'supposing', 'gain', 'godliness', ':', 'withdraw', 'yourself.but', 'godliness', 'contentment', 'great', 'gain.for', 'brought', 'nothing', 'world', ',', 'certain', 'carry', 'nothing', 'out.and', 'food', 'raiment', 'let', 'us', 'therewith', 'content.but', 'rich', 'fall', 'temptation', 'snare', ',', 'many', 'foolish', 'hurtful', 'lusts', ',', 'drown', 'men', 'destruction', 'perdition.for', 'love', 'money', 'root', 'evil', ':', 'coveted', ',', 'erred', 'faith', ',', 'pierced', 'many', 'sorrows.but', ',', 'man', 'god', ',', 'flee', 'things', ';', 'follow', 'righteousness', ',', 'godliness', ',', 'faith', ',', 'love', ',', 'patience', ',', 'meekness.fight', 'good', 'fight', 'faith', ',', 'lay', 'hold', 'eternal', 'life', ',', 'whereunto', 'also', 'called', ',', 'professed', 'good', 'profession', 'many', 'witnesses.i', 'give', 'charge', 'sight', 'god', ',', 'vivifies', 'things', ',', 'christ', 'jesus', ',', 'pontius', 'pilate', 'witnessed', 'good', 'confession', ';', 'keep', 'commandment', 'without', 'spot', ',', 'unrebukable', ',', 'appearing', 'lord', 'jesus', 'christ', ':', 'times', 'shall', 'show', ',', 'blessed', 'potentate', ',', 'king', 'kings', ',', 'lord', 'lords', ';', 'immortality', ',', 'dwelling', 'light', 'man', 'approach', ';', 'man', 'seen', ',', 'see', ':', 'honor', 'power', 'everlasting', '.', 'amen.charge', 'rich', 'world', ',', 'high', 'minded', ',', 'trust', 'uncertain', 'riches', ',', 'living', 'god', ',', 'gives', 'us', 'richly', 'things', 'enjoy', ';', 'good', ',', 'rich', 'good', 'works', ',', 'ready', 'distribute', ',', 'willing', 'communicate', ';', 'laying', 'store', 'good', 'foundation', 'time', 'come', ',', 'may', 'lay', 'hold', 'eternal', 'life.o', 'timothy', ',', 'keep', 'committed', 'trust', ',', 'avoiding', 'profane', 'vain', 'babblings', ',', 'oppositions', 'science', 'falsely', 'called', ':', 'professing', 'erred', 'concerning', 'faith', '.', 'grace', '.', 'amen', '.'\"]])"
   ]
  },
  {
   "cell_type": "code",
   "execution_count": 43,
   "id": "5c569303",
   "metadata": {},
   "outputs": [],
   "source": [
    "df = pd.DataFrame(data, index=range(100,106),columns=['Autor', 'Livro'])"
   ]
  },
  {
   "cell_type": "code",
   "execution_count": 44,
   "id": "ea1edfb7",
   "metadata": {},
   "outputs": [
    {
     "name": "stdout",
     "output_type": "stream",
     "text": [
      "           Autor                                              Livro\n",
      "100  I_Timoteo_1  'paul', ',', 'apostle', 'jesus', 'christ', 'co...\n",
      "101  I_Timoteo_2  'exhort', 'therefore', ',', ',', 'first', ',',...\n",
      "102  I_Timoteo_3  'true', 'saying', ',', 'man', 'desire', 'offic...\n",
      "103  I_Timoteo_4  'spirit', 'speaks', 'expressly', ',', 'latter'...\n",
      "104  I_Timoteo_5  'rebuke', 'elder', ',', 'entreat', 'father', '...\n",
      "105  I_Timoteo_6  'let', 'many', 'servants', 'yoke', 'count', 'm...\n"
     ]
    }
   ],
   "source": [
    "print(df)"
   ]
  },
  {
   "cell_type": "code",
   "execution_count": null,
   "id": "c8038d5e",
   "metadata": {},
   "outputs": [],
   "source": []
  }
 ],
 "metadata": {
  "kernelspec": {
   "display_name": "Python 3 (ipykernel)",
   "language": "python",
   "name": "python3"
  },
  "language_info": {
   "codemirror_mode": {
    "name": "ipython",
    "version": 3
   },
   "file_extension": ".py",
   "mimetype": "text/x-python",
   "name": "python",
   "nbconvert_exporter": "python",
   "pygments_lexer": "ipython3",
   "version": "3.7.2"
  }
 },
 "nbformat": 4,
 "nbformat_minor": 5
}
