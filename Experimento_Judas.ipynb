{
 "cells": [
  {
   "cell_type": "code",
   "execution_count": 1,
   "id": "8dafd9ce",
   "metadata": {},
   "outputs": [],
   "source": [
    "import numpy  as np\n",
    "import pandas as pd\n",
    "import json\n",
    "import pandas"
   ]
  },
  {
   "cell_type": "code",
   "execution_count": 2,
   "id": "d9fd32ed",
   "metadata": {},
   "outputs": [],
   "source": [
    "import nltk\n",
    "import nltk.corpus\n",
    "from sklearn.feature_extraction.text  import TfidfVectorizer\n",
    "from sklearn.metrics                  import silhouette_samples, silhouette_score\n",
    "from sklearn.preprocessing            import normalize\n",
    "from nltk.tokenize                    import word_tokenize\n",
    "import re\n",
    "from unidecode                        import unidecode\n",
    "from nltk.corpus import stopwords"
   ]
  },
  {
   "cell_type": "code",
   "execution_count": 3,
   "id": "206df784",
   "metadata": {},
   "outputs": [],
   "source": [
    "import matplotlib.pyplot  as plt\n",
    "import matplotlib.cm      as cm\n",
    "import seaborn            as sns\n",
    "from sklearn.metrics                  import silhouette_samples, silhouette_score\n",
    "from wordcloud                        import WordCloud"
   ]
  },
  {
   "cell_type": "code",
   "execution_count": 4,
   "id": "b41c7c88",
   "metadata": {},
   "outputs": [],
   "source": [
    "from sklearn import cluster"
   ]
  },
  {
   "cell_type": "code",
   "execution_count": 5,
   "id": "dfbed4bd",
   "metadata": {},
   "outputs": [],
   "source": [
    "Judas_1 = \"Jude, the servant of Jesus Christ, and brother of James, to them that are sanctified by God the Father, and preserved in Jesus Christ, and called:Mercy to you, and peace, and love, be multiplied.Beloved, when I gave all diligence to write to you of the common salvation, it was needful for me to write to you, and exhort you that you should earnestly contend for the faith which was once delivered to the saints.For there are certain men crept in unawares, who were before of old ordained to this condemnation, ungodly men, turning the grace of our God into lasciviousness, and denying the only Lord God, and our Lord Jesus Christ.I will therefore put you in remembrance, though you once knew this, how that the Lord, having saved the people out of the land of Egypt, afterward destroyed them that believed not.And the angels which kept not their first estate, but left their own habitation, he has reserved in everlasting chains under darkness to the judgment of the great day.Even as Sodom and Gomorrha, and the cities about them in like manner, giving themselves over to fornication, and going after strange flesh, are set forth for an example, suffering the vengeance of eternal fire.Likewise also these filthy dreamers defile the flesh, despise dominion, and speak evil of dignities.Yet Michael the archangel, when contending with the devil he disputed about the body of Moses, dared not bring against him a railing accusation, but said, The Lord rebuke you.But these speak evil of those things which they know not: but what they know naturally, as brute beasts, in those things they corrupt themselves.Woe to them! for they have gone in the way of Cain, and ran greedily after the error of Balaam for reward, and perished in the gainsaying of Core.These are spots in your feasts of charity, when they feast with you, feeding themselves without fear: clouds they are without water, carried about of winds; trees whose fruit wither, without fruit, twice dead, plucked up by the roots;Raging waves of the sea, foaming out their own shame; wandering stars, to whom is reserved the blackness of darkness for ever.And Enoch also, the seventh from Adam, prophesied of these, saying, Behold, the Lord comes with ten thousands of his saints,To execute judgment on all, and to convince all that are ungodly among them of all their ungodly deeds which they have ungodly committed, and of all their hard speeches which ungodly sinners have spoken against him.These are murmurers, complainers, walking after their own lusts; and their mouth speaks great swelling words, having men' persons in admiration because of advantage.But, beloved, remember you the words which were spoken before of the apostles of our Lord Jesus Christ;How that they told you there should be mockers in the last time, who should walk after their own ungodly lusts.These be they who separate themselves, sensual, having not the Spirit.But you, beloved, building up yourselves on your most holy faith, praying in the Holy Ghost,Keep yourselves in the love of God, looking for the mercy of our Lord Jesus Christ to eternal life.And of some have compassion, making a difference:And others save with fear, pulling them out of the fire; hating even the garment spotted by the flesh.Now to him that is able to keep you from falling, and to present you faultless before the presence of his glory with exceeding joy,To the only wise God our Savior, be glory and majesty, dominion and power, both now and ever. Amen.\".lower()"
   ]
  },
  {
   "cell_type": "code",
   "execution_count": 6,
   "id": "a75770e1",
   "metadata": {},
   "outputs": [],
   "source": [
    "tokens = nltk.word_tokenize(Judas_1)"
   ]
  },
  {
   "cell_type": "code",
   "execution_count": 7,
   "id": "8f94441e",
   "metadata": {},
   "outputs": [],
   "source": [
    "stop_words = set(stopwords.words('english'))"
   ]
  },
  {
   "cell_type": "code",
   "execution_count": 8,
   "id": "d100aefb",
   "metadata": {},
   "outputs": [],
   "source": [
    "filtered_sentence1 = [w for w in tokens if not w in stop_words] \n",
    "  \n",
    "filtered_sentence1 = []\n",
    "  \n",
    "for w in tokens: \n",
    "    if w not in stop_words: \n",
    "        filtered_sentence1.append(w)"
   ]
  },
  {
   "cell_type": "code",
   "execution_count": 9,
   "id": "85fe5a1d",
   "metadata": {},
   "outputs": [
    {
     "name": "stdout",
     "output_type": "stream",
     "text": [
      "['jude', ',', 'servant', 'jesus', 'christ', ',', 'brother', 'james', ',', 'sanctified', 'god', 'father', ',', 'preserved', 'jesus', 'christ', ',', 'called', ':', 'mercy', ',', 'peace', ',', 'love', ',', 'multiplied.beloved', ',', 'gave', 'diligence', 'write', 'common', 'salvation', ',', 'needful', 'write', ',', 'exhort', 'earnestly', 'contend', 'faith', 'delivered', 'saints.for', 'certain', 'men', 'crept', 'unawares', ',', 'old', 'ordained', 'condemnation', ',', 'ungodly', 'men', ',', 'turning', 'grace', 'god', 'lasciviousness', ',', 'denying', 'lord', 'god', ',', 'lord', 'jesus', 'christ.i', 'therefore', 'put', 'remembrance', ',', 'though', 'knew', ',', 'lord', ',', 'saved', 'people', 'land', 'egypt', ',', 'afterward', 'destroyed', 'believed', 'not.and', 'angels', 'kept', 'first', 'estate', ',', 'left', 'habitation', ',', 'reserved', 'everlasting', 'chains', 'darkness', 'judgment', 'great', 'day.even', 'sodom', 'gomorrha', ',', 'cities', 'like', 'manner', ',', 'giving', 'fornication', ',', 'going', 'strange', 'flesh', ',', 'set', 'forth', 'example', ',', 'suffering', 'vengeance', 'eternal', 'fire.likewise', 'also', 'filthy', 'dreamers', 'defile', 'flesh', ',', 'despise', 'dominion', ',', 'speak', 'evil', 'dignities.yet', 'michael', 'archangel', ',', 'contending', 'devil', 'disputed', 'body', 'moses', ',', 'dared', 'bring', 'railing', 'accusation', ',', 'said', ',', 'lord', 'rebuke', 'you.but', 'speak', 'evil', 'things', 'know', ':', 'know', 'naturally', ',', 'brute', 'beasts', ',', 'things', 'corrupt', 'themselves.woe', '!', 'gone', 'way', 'cain', ',', 'ran', 'greedily', 'error', 'balaam', 'reward', ',', 'perished', 'gainsaying', 'core.these', 'spots', 'feasts', 'charity', ',', 'feast', ',', 'feeding', 'without', 'fear', ':', 'clouds', 'without', 'water', ',', 'carried', 'winds', ';', 'trees', 'whose', 'fruit', 'wither', ',', 'without', 'fruit', ',', 'twice', 'dead', ',', 'plucked', 'roots', ';', 'raging', 'waves', 'sea', ',', 'foaming', 'shame', ';', 'wandering', 'stars', ',', 'reserved', 'blackness', 'darkness', 'ever.and', 'enoch', 'also', ',', 'seventh', 'adam', ',', 'prophesied', ',', 'saying', ',', 'behold', ',', 'lord', 'comes', 'ten', 'thousands', 'saints', ',', 'execute', 'judgment', ',', 'convince', 'ungodly', 'among', 'ungodly', 'deeds', 'ungodly', 'committed', ',', 'hard', 'speeches', 'ungodly', 'sinners', 'spoken', 'him.these', 'murmurers', ',', 'complainers', ',', 'walking', 'lusts', ';', 'mouth', 'speaks', 'great', 'swelling', 'words', ',', 'men', \"'\", 'persons', 'admiration', 'advantage.but', ',', 'beloved', ',', 'remember', 'words', 'spoken', 'apostles', 'lord', 'jesus', 'christ', ';', 'told', 'mockers', 'last', 'time', ',', 'walk', 'ungodly', 'lusts.these', 'separate', ',', 'sensual', ',', 'spirit.but', ',', 'beloved', ',', 'building', 'holy', 'faith', ',', 'praying', 'holy', 'ghost', ',', 'keep', 'love', 'god', ',', 'looking', 'mercy', 'lord', 'jesus', 'christ', 'eternal', 'life.and', 'compassion', ',', 'making', 'difference', ':', 'others', 'save', 'fear', ',', 'pulling', 'fire', ';', 'hating', 'even', 'garment', 'spotted', 'flesh.now', 'able', 'keep', 'falling', ',', 'present', 'faultless', 'presence', 'glory', 'exceeding', 'joy', ',', 'wise', 'god', 'savior', ',', 'glory', 'majesty', ',', 'dominion', 'power', ',', 'ever', '.', 'amen', '.']\n"
     ]
    }
   ],
   "source": [
    "print(filtered_sentence1)"
   ]
  },
  {
   "cell_type": "code",
   "execution_count": 10,
   "id": "858c7c79",
   "metadata": {},
   "outputs": [],
   "source": [
    "data =np.array([[\"Judas_1\", \"'jude', ',', 'servant', 'jesus', 'christ', ',', 'brother', 'james', ',', 'sanctified', 'god', 'father', ',', 'preserved', 'jesus', 'christ', ',', 'called', ':', 'mercy', ',', 'peace', ',', 'love', ',', 'multiplied.beloved', ',', 'gave', 'diligence', 'write', 'common', 'salvation', ',', 'needful', 'write', ',', 'exhort', 'earnestly', 'contend', 'faith', 'delivered', 'saints.for', 'certain', 'men', 'crept', 'unawares', ',', 'old', 'ordained', 'condemnation', ',', 'ungodly', 'men', ',', 'turning', 'grace', 'god', 'lasciviousness', ',', 'denying', 'lord', 'god', ',', 'lord', 'jesus', 'christ.i', 'therefore', 'put', 'remembrance', ',', 'though', 'knew', ',', 'lord', ',', 'saved', 'people', 'land', 'egypt', ',', 'afterward', 'destroyed', 'believed', 'not.and', 'angels', 'kept', 'first', 'estate', ',', 'left', 'habitation', ',', 'reserved', 'everlasting', 'chains', 'darkness', 'judgment', 'great', 'day.even', 'sodom', 'gomorrha', ',', 'cities', 'like', 'manner', ',', 'giving', 'fornication', ',', 'going', 'strange', 'flesh', ',', 'set', 'forth', 'example', ',', 'suffering', 'vengeance', 'eternal', 'fire.likewise', 'also', 'filthy', 'dreamers', 'defile', 'flesh', ',', 'despise', 'dominion', ',', 'speak', 'evil', 'dignities.yet', 'michael', 'archangel', ',', 'contending', 'devil', 'disputed', 'body', 'moses', ',', 'dared', 'bring', 'railing', 'accusation', ',', 'said', ',', 'lord', 'rebuke', 'you.but', 'speak', 'evil', 'things', 'know', ':', 'know', 'naturally', ',', 'brute', 'beasts', ',', 'things', 'corrupt', 'themselves.woe', '!', 'gone', 'way', 'cain', ',', 'ran', 'greedily', 'error', 'balaam', 'reward', ',', 'perished', 'gainsaying', 'core.these', 'spots', 'feasts', 'charity', ',', 'feast', ',', 'feeding', 'without', 'fear', ':', 'clouds', 'without', 'water', ',', 'carried', 'winds', ';', 'trees', 'whose', 'fruit', 'wither', ',', 'without', 'fruit', ',', 'twice', 'dead', ',', 'plucked', 'roots', ';', 'raging', 'waves', 'sea', ',', 'foaming', 'shame', ';', 'wandering', 'stars', ',', 'reserved', 'blackness', 'darkness', 'ever.and', 'enoch', 'also', ',', 'seventh', 'adam', ',', 'prophesied', ',', 'saying', ',', 'behold', ',', 'lord', 'comes', 'ten', 'thousands', 'saints', ',', 'execute', 'judgment', ',', 'convince', 'ungodly', 'among', 'ungodly', 'deeds', 'ungodly', 'committed', ',', 'hard', 'speeches', 'ungodly', 'sinners', 'spoken', 'him.these', 'murmurers', ',', 'complainers', ',', 'walking', 'lusts', ';', 'mouth', 'speaks', 'great', 'swelling', 'words', ',', 'men', ', 'persons', 'admiration', 'advantage.but', ',', 'beloved', ',', 'remember', 'words', 'spoken', 'apostles', 'lord', 'jesus', 'christ', ';', 'told', 'mockers', 'last', 'time', ',', 'walk', 'ungodly', 'lusts.these', 'separate', ',', 'sensual', ',', 'spirit.but', ',', 'beloved', ',', 'building', 'holy', 'faith', ',', 'praying', 'holy', 'ghost', ',', 'keep', 'love', 'god', ',', 'looking', 'mercy', 'lord', 'jesus', 'christ', 'eternal', 'life.and', 'compassion', ',', 'making', 'difference', ':', 'others', 'save', 'fear', ',', 'pulling', 'fire', ';', 'hating', 'even', 'garment', 'spotted', 'flesh.now', 'able', 'keep', 'falling', ',', 'present', 'faultless', 'presence', 'glory', 'exceeding', 'joy', ',', 'wise', 'god', 'savior', ',', 'glory', 'majesty', ',', 'dominion', 'power', ',', 'ever', '.', 'amen', '.'\"]])"
   ]
  },
  {
   "cell_type": "code",
   "execution_count": 11,
   "id": "46def594",
   "metadata": {},
   "outputs": [],
   "source": [
    "df = pd.DataFrame(data, index=range(100,101),columns=['Autor', 'Livro'])"
   ]
  },
  {
   "cell_type": "code",
   "execution_count": 12,
   "id": "0c9f2a91",
   "metadata": {},
   "outputs": [
    {
     "name": "stdout",
     "output_type": "stream",
     "text": [
      "       Autor                                              Livro\n",
      "100  Judas_1  'jude', ',', 'servant', 'jesus', 'christ', ','...\n"
     ]
    }
   ],
   "source": [
    "print(df)"
   ]
  },
  {
   "cell_type": "code",
   "execution_count": null,
   "id": "ab748f39",
   "metadata": {},
   "outputs": [],
   "source": []
  }
 ],
 "metadata": {
  "kernelspec": {
   "display_name": "Python 3 (ipykernel)",
   "language": "python",
   "name": "python3"
  },
  "language_info": {
   "codemirror_mode": {
    "name": "ipython",
    "version": 3
   },
   "file_extension": ".py",
   "mimetype": "text/x-python",
   "name": "python",
   "nbconvert_exporter": "python",
   "pygments_lexer": "ipython3",
   "version": "3.7.2"
  }
 },
 "nbformat": 4,
 "nbformat_minor": 5
}
