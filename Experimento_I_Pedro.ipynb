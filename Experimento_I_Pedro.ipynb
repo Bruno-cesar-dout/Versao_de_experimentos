{
 "cells": [
  {
   "cell_type": "code",
   "execution_count": 1,
   "id": "34dbcb70",
   "metadata": {},
   "outputs": [],
   "source": [
    "import numpy  as np\n",
    "import pandas as pd\n",
    "import json\n",
    "import pandas"
   ]
  },
  {
   "cell_type": "code",
   "execution_count": 2,
   "id": "ac2875b3",
   "metadata": {},
   "outputs": [],
   "source": [
    "import nltk\n",
    "import nltk.corpus\n",
    "from sklearn.feature_extraction.text  import TfidfVectorizer\n",
    "from sklearn.metrics                  import silhouette_samples, silhouette_score\n",
    "from sklearn.preprocessing            import normalize\n",
    "from nltk.tokenize                    import word_tokenize\n",
    "import re\n",
    "from unidecode                        import unidecode\n",
    "from nltk.corpus import stopwords"
   ]
  },
  {
   "cell_type": "code",
   "execution_count": 3,
   "id": "ec0c0a2b",
   "metadata": {},
   "outputs": [],
   "source": [
    "import matplotlib.pyplot  as plt\n",
    "import matplotlib.cm      as cm\n",
    "import seaborn            as sns\n",
    "from sklearn.metrics                  import silhouette_samples, silhouette_score\n",
    "from wordcloud                        import WordCloud"
   ]
  },
  {
   "cell_type": "code",
   "execution_count": 4,
   "id": "d0fa7499",
   "metadata": {},
   "outputs": [],
   "source": [
    "from sklearn import cluster"
   ]
  },
  {
   "cell_type": "code",
   "execution_count": 5,
   "id": "bdd3c811",
   "metadata": {},
   "outputs": [],
   "source": [
    "I_Pedro_1 = \"Peter, an apostle of Jesus Christ, to the strangers scattered throughout Pontus, Galatia, Cappadocia, Asia, and Bithynia,Elect according to the foreknowledge of God the Father, through sanctification of the Spirit, to obedience and sprinkling of the blood of Jesus Christ: Grace to you, and peace, be multiplied.Blessed be the God and Father of our Lord Jesus Christ, which according to his abundant mercy has begotten us again to a lively hope by the resurrection of Jesus Christ from the dead,To an inheritance incorruptible, and undefiled, and that fades not away, reserved in heaven for you,Who are kept by the power of God through faith to salvation ready to be revealed in the last time.Wherein you greatly rejoice, though now for a season, if need be, you are in heaviness through manifold temptations:That the trial of your faith, being much more precious than of gold that perishes, though it be tried with fire, might be found to praise and honor and glory at the appearing of Jesus Christ:Whom having not seen, you love; in whom, though now you see him not, yet believing, you rejoice with joy unspeakable and full of glory:Receiving the end of your faith, even the salvation of your souls.Of which salvation the prophets have inquired and searched diligently, who prophesied of the grace that should come to you:Searching what, or what manner of time the Spirit of Christ which was in them did signify, when it testified beforehand the sufferings of Christ, and the glory that should follow.To whom it was revealed, that not to themselves, but to us they did minister the things, which are now reported to you by them that have preached the gospel to you with the Holy Ghost sent down from heaven; which things the angels desire to look into.Why gird up the loins of your mind, be sober, and hope to the end for the grace that is to be brought to you at the revelation of Jesus Christ;As obedient children, not fashioning yourselves according to the former lusts in your ignorance:But as he which has called you is holy, so be you holy in all manner of conversation;Because it is written, Be you holy; for I am holy.And if you call on the Father, who without respect of persons judges according to every man' work, pass the time of your sojourning here in fear:For as much as you know that you were not redeemed with corruptible things, as silver and gold, from your vain conversation received by tradition from your fathers;But with the precious blood of Christ, as of a lamb without blemish and without spot:Who truly was foreordained before the foundation of the world, but was manifest in these last times for you,Who by him do believe in God, that raised him up from the dead, and gave him glory; that your faith and hope might be in God.Seeing you have purified your souls in obeying the truth through the Spirit to unfeigned love of the brothers, see that you love one another with a pure heart fervently:Being born again, not of corruptible seed, but of incorruptible, by the word of God, which lives and stays for ever.For all flesh is as grass, and all the glory of man as the flower of grass. The grass wither, and the flower thereof falls away:But the word of the Lord endures for ever. And this is the word which by the gospel is preached to you.\".lower()"
   ]
  },
  {
   "cell_type": "code",
   "execution_count": 6,
   "id": "210e9264",
   "metadata": {},
   "outputs": [],
   "source": [
    "I_Pedro_2 = \"Why laying aside all malice, and all guile, and hypocrisies, and envies, all evil speakings,As newborn babes, desire the sincere milk of the word, that you may grow thereby:If so be you have tasted that the Lord is gracious.To whom coming, as to a living stone, disallowed indeed of men, but chosen of God, and precious,You also, as lively stones, are built up a spiritual house, an holy priesthood, to offer up spiritual sacrifices, acceptable to God by Jesus Christ.Why also it is contained in the scripture, Behold, I lay in Sion a chief corner stone, elect, precious: and he that believes on him shall not be confounded.To you therefore which believe he is precious: but to them which be disobedient, the stone which the builders disallowed, the same is made the head of the corner,And a stone of stumbling, and a rock of offense, even to them which stumble at the word, being disobedient: whereunto also they were appointed.But you are a chosen generation, a royal priesthood, an holy nation, a peculiar people; that you should show forth the praises of him who has called you out of darkness into his marvelous light;Which in time past were not a people, but are now the people of God: which had not obtained mercy, but now have obtained mercy.Dearly beloved, I beseech you as strangers and pilgrims, abstain from fleshly lusts, which war against the soul;Having your conversation honest among the Gentiles: that, whereas they speak against you as evildoers, they may by your good works, which they shall behold, glorify God in the day of visitation.Submit yourselves to every ordinance of man for the Lord' sake: whether it be to the king, as supreme;Or to governors, as to them that are sent by him for the punishment of evildoers, and for the praise of them that do well.For so is the will of God, that with well doing you may put to silence the ignorance of foolish men:As free, and not using your liberty for a cloak of maliciousness, but as the servants of God.Honor all men. Love the brotherhood. Fear God. Honor the king.Servants, be subject to your masters with all fear; not only to the good and gentle, but also to the fraudulent.For this is thank worthy, if a man for conscience toward God endure grief, suffering wrongfully.For what glory is it, if, when you be buffeted for your faults, you shall take it patiently? but if, when you do well, and suffer for it, you take it patiently, this is acceptable with God.For even hereunto were you called: because Christ also suffered for us, leaving us an example, that you should follow his steps:Who did no sin, neither was guile found in his mouth:Who, when he was reviled, reviled not again; when he suffered, he threatened not; but committed himself to him that judges righteously:Who his own self bore our sins in his own body on the tree, that we, being dead to sins, should live to righteousness: by whose stripes you were healed.For you were as sheep going astray; but are now returned to the Shepherd and Bishop of your souls.\".lower()"
   ]
  },
  {
   "cell_type": "code",
   "execution_count": 7,
   "id": "3d5e437a",
   "metadata": {},
   "outputs": [],
   "source": [
    "I_Pedro_3 = \"Likewise, you wives, be in subjection to your own husbands; that, if any obey not the word, they also may without the word be won by the conversation of the wives;While they behold your chaste conversation coupled with fear.Whose adorning let it not be that outward adorning of plaiting the hair, and of wearing of gold, or of putting on of apparel;But let it be the hidden man of the heart, in that which is not corruptible, even the ornament of a meek and quiet spirit, which is in the sight of God of great price.For after this manner in the old time the holy women also, who trusted in God, adorned themselves, being in subjection to their own husbands:Even as Sara obeyed Abraham, calling him lord: whose daughters you are, as long as you do well, and are not afraid with any amazement.Likewise, you husbands, dwell with them according to knowledge, giving honor to the wife, as to the weaker vessel, and as being heirs together of the grace of life; that your prayers be not hindered.Finally, be you all of one mind, having compassion one of another, love as brothers, be pitiful, be courteous:Not rendering evil for evil, or railing for railing: but contrariwise blessing; knowing that you are thereunto called, that you should inherit a blessing.For he that will love life, and see good days, let him refrain his tongue from evil, and his lips that they speak no guile:Let him eschew evil, and do good; let him seek peace, and ensue it.For the eyes of the Lord are over the righteous, and his ears are open to their prayers: but the face of the Lord is against them that do evil.And who is he that will harm you, if you be followers of that which is good?But and if you suffer for righteousness'sake, happy are you: and be not afraid of their terror, neither be troubled;But sanctify the Lord God in your hearts: and be ready always to give an answer to every man that asks you a reason of the hope that is in you with meekness and fear:Having a good conscience; that, whereas they speak evil of you, as of evildoers, they may be ashamed that falsely accuse your good conversation in Christ.For it is better, if the will of God be so, that you suffer for well doing, than for evil doing.For Christ also has once suffered for sins, the just for the unjust, that he might bring us to God, being put to death in the flesh, but quickened by the Spirit:By which also he went and preached to the spirits in prison;Which sometime were disobedient, when once the long-suffering of God waited in the days of Noah, while the ark was a preparing, wherein few, that is, eight souls were saved by water.The like figure whereunto even baptism does also now save us (not the putting away of the filth of the flesh, but the answer of a good conscience toward God,) by the resurrection of Jesus Christ:Who is gone into heaven, and is on the right hand of God; angels and authorities and powers being made subject to him.\".lower()"
   ]
  },
  {
   "cell_type": "code",
   "execution_count": 8,
   "id": "75f75d4e",
   "metadata": {},
   "outputs": [],
   "source": [
    "I_Pedro_4 = \"For as much then as Christ has suffered for us in the flesh, arm yourselves likewise with the same mind: for he that has suffered in the flesh has ceased from sin;That he no longer should live the rest of his time in the flesh to the lusts of men, but to the will of God.For the time past of our life may suffice us to have worked the will of the Gentiles, when we walked in lasciviousness, lusts, excess of wine, revelings, parties, and abominable idolatries:Wherein they think it strange that you run not with them to the same excess of riot, speaking evil of you:Who shall give account to him that is ready to judge the quick and the dead.For for this cause was the gospel preached also to them that are dead, that they might be judged according to men in the flesh, but live according to God in the spirit.But the end of all things is at hand: be you therefore sober, and watch to prayer.And above all things have fervent charity among yourselves: for charity shall cover the multitude of sins.Use hospitality one to another without grudging.As every man has received the gift, even so minister the same one to another, as good stewards of the manifold grace of God.If any man speak, let him speak as the oracles of God; if any man minister, let him do it as of the ability which God gives: that God in all things may be glorified through Jesus Christ, to whom be praise and dominion for ever and ever. Amen.Beloved, think it not strange concerning the fiery trial which is to try you, as though some strange thing happened to you:But rejoice, inasmuch as you are partakers of Christ' sufferings; that, when his glory shall be revealed, you may be glad also with exceeding joy.If you be reproached for the name of Christ, happy are you; for the spirit of glory and of God rests on you: on their part he is evil spoken of, but on your part he is glorified.But let none of you suffer as a murderer, or as a thief, or as an evildoer, or as a busybody in other men' matters.Yet if any man suffer as a Christian, let him not be ashamed; but let him glorify God on this behalf.For the time is come that judgment must begin at the house of God: and if it first begin at us, what shall the end be of them that obey not the gospel of God?And if the righteous scarcely be saved, where shall the ungodly and the sinner appear?Why let them that suffer according to the will of God commit the keeping of their souls to him in well doing, as to a faithful Creator.\".lower()"
   ]
  },
  {
   "cell_type": "code",
   "execution_count": 9,
   "id": "805b95e2",
   "metadata": {},
   "outputs": [],
   "source": [
    "I_Pedro_5 = \"The elders which are among you I exhort, who am also an elder, and a witness of the sufferings of Christ, and also a partaker of the glory that shall be revealed:Feed the flock of God which is among you, taking the oversight thereof, not by constraint, but willingly; not for filthy lucre, but of a ready mind;Neither as being lords over God' heritage, but being ensamples to the flock.And when the chief Shepherd shall appear, you shall receive a crown of glory that fades not away.Likewise, you younger, submit yourselves to the elder. Yes, all of you be subject one to another, and be clothed with humility: for God resists the proud, and gives grace to the humble.Humble yourselves therefore under the mighty hand of God, that he may exalt you in due time:Casting all your care on him; for he cares for you.Be sober, be vigilant; because your adversary the devil, as a roaring lion, walks about, seeking whom he may devour:Whom resist steadfast in the faith, knowing that the same afflictions are accomplished in your brothers that are in the world.But the God of all grace, who has called us to his eternal glory by Christ Jesus, after that you have suffered a while, make you perfect, establish, strengthen, settle you.To him be glory and dominion for ever and ever. Amen.By Silvanus, a faithful brother to you, as I suppose, I have written briefly, exhorting, and testifying that this is the true grace of God wherein you stand.The church that is at Babylon, elected together with you, salutes you; and so does Marcus my son.Greet you one another with a kiss of charity. Peace be with you all that are in Christ Jesus. Amen.\".lower()"
   ]
  },
  {
   "cell_type": "code",
   "execution_count": 32,
   "id": "a9864aef",
   "metadata": {},
   "outputs": [],
   "source": [
    "tokens = nltk.word_tokenize(I_Pedro_5)"
   ]
  },
  {
   "cell_type": "code",
   "execution_count": 33,
   "id": "70eaef0c",
   "metadata": {},
   "outputs": [],
   "source": [
    "stop_words = set(stopwords.words('english'))"
   ]
  },
  {
   "cell_type": "code",
   "execution_count": 34,
   "id": "d753805f",
   "metadata": {},
   "outputs": [],
   "source": [
    "filtered_sentence1 = [w for w in tokens if not w in stop_words] \n",
    "  \n",
    "filtered_sentence1 = []\n",
    "  \n",
    "for w in tokens: \n",
    "    if w not in stop_words: \n",
    "        filtered_sentence1.append(w)"
   ]
  },
  {
   "cell_type": "code",
   "execution_count": 35,
   "id": "ca785018",
   "metadata": {},
   "outputs": [
    {
     "name": "stdout",
     "output_type": "stream",
     "text": [
      "['elders', 'among', 'exhort', ',', 'also', 'elder', ',', 'witness', 'sufferings', 'christ', ',', 'also', 'partaker', 'glory', 'shall', 'revealed', ':', 'feed', 'flock', 'god', 'among', ',', 'taking', 'oversight', 'thereof', ',', 'constraint', ',', 'willingly', ';', 'filthy', 'lucre', ',', 'ready', 'mind', ';', 'neither', 'lords', 'god', \"'\", 'heritage', ',', 'ensamples', 'flock.and', 'chief', 'shepherd', 'shall', 'appear', ',', 'shall', 'receive', 'crown', 'glory', 'fades', 'away.likewise', ',', 'younger', ',', 'submit', 'elder', '.', 'yes', ',', 'subject', 'one', 'another', ',', 'clothed', 'humility', ':', 'god', 'resists', 'proud', ',', 'gives', 'grace', 'humble.humble', 'therefore', 'mighty', 'hand', 'god', ',', 'may', 'exalt', 'due', 'time', ':', 'casting', 'care', ';', 'cares', 'you.be', 'sober', ',', 'vigilant', ';', 'adversary', 'devil', ',', 'roaring', 'lion', ',', 'walks', ',', 'seeking', 'may', 'devour', ':', 'resist', 'steadfast', 'faith', ',', 'knowing', 'afflictions', 'accomplished', 'brothers', 'world.but', 'god', 'grace', ',', 'called', 'us', 'eternal', 'glory', 'christ', 'jesus', ',', 'suffered', ',', 'make', 'perfect', ',', 'establish', ',', 'strengthen', ',', 'settle', 'you.to', 'glory', 'dominion', 'ever', 'ever', '.', 'amen.by', 'silvanus', ',', 'faithful', 'brother', ',', 'suppose', ',', 'written', 'briefly', ',', 'exhorting', ',', 'testifying', 'true', 'grace', 'god', 'wherein', 'stand.the', 'church', 'babylon', ',', 'elected', 'together', ',', 'salutes', ';', 'marcus', 'son.greet', 'one', 'another', 'kiss', 'charity', '.', 'peace', 'christ', 'jesus', '.', 'amen', '.']\n"
     ]
    }
   ],
   "source": [
    "print(filtered_sentence1)"
   ]
  },
  {
   "cell_type": "code",
   "execution_count": 37,
   "id": "e6a637e7",
   "metadata": {},
   "outputs": [],
   "source": [
    "data =np.array([[\"I_Pedro_1\", \"'peter', ',', 'apostle', 'jesus', 'christ', ',', 'strangers', 'scattered', 'throughout', 'pontus', ',', 'galatia', ',', 'cappadocia', ',', 'asia', ',', 'bithynia', ',', 'elect', 'according', 'foreknowledge', 'god', 'father', ',', 'sanctification', 'spirit', ',', 'obedience', 'sprinkling', 'blood', 'jesus', 'christ', ':', 'grace', ',', 'peace', ',', 'multiplied.blessed', 'god', 'father', 'lord', 'jesus', 'christ', ',', 'according', 'abundant', 'mercy', 'begotten', 'us', 'lively', 'hope', 'resurrection', 'jesus', 'christ', 'dead', ',', 'inheritance', 'incorruptible', ',', 'undefiled', ',', 'fades', 'away', ',', 'reserved', 'heaven', ',', 'kept', 'power', 'god', 'faith', 'salvation', 'ready', 'revealed', 'last', 'time.wherein', 'greatly', 'rejoice', ',', 'though', 'season', ',', 'need', ',', 'heaviness', 'manifold', 'temptations', ':', 'trial', 'faith', ',', 'much', 'precious', 'gold', 'perishes', ',', 'though', 'tried', 'fire', ',', 'might', 'found', 'praise', 'honor', 'glory', 'appearing', 'jesus', 'christ', ':', 'seen', ',', 'love', ';', ',', 'though', 'see', ',', 'yet', 'believing', ',', 'rejoice', 'joy', 'unspeakable', 'full', 'glory', ':', 'receiving', 'end', 'faith', ',', 'even', 'salvation', 'souls.of', 'salvation', 'prophets', 'inquired', 'searched', 'diligently', ',', 'prophesied', 'grace', 'come', ':', 'searching', ',', 'manner', 'time', 'spirit', 'christ', 'signify', ',', 'testified', 'beforehand', 'sufferings', 'christ', ',', 'glory', 'follow.to', 'revealed', ',', ',', 'us', 'minister', 'things', ',', 'reported', 'preached', 'gospel', 'holy', 'ghost', 'sent', 'heaven', ';', 'things', 'angels', 'desire', 'look', 'into.why', 'gird', 'loins', 'mind', ',', 'sober', ',', 'hope', 'end', 'grace', 'brought', 'revelation', 'jesus', 'christ', ';', 'obedient', 'children', ',', 'fashioning', 'according', 'former', 'lusts', 'ignorance', ':', 'called', 'holy', ',', 'holy', 'manner', 'conversation', ';', 'written', ',', 'holy', ';', 'holy.and', 'call', 'father', ',', 'without', 'respect', 'persons', 'judges', 'according', 'every', 'man', ', 'work', ',', 'pass', 'time', 'sojourning', 'fear', ':', 'much', 'know', 'redeemed', 'corruptible', 'things', ',', 'silver', 'gold', ',', 'vain', 'conversation', 'received', 'tradition', 'fathers', ';', 'precious', 'blood', 'christ', ',', 'lamb', 'without', 'blemish', 'without', 'spot', ':', 'truly', 'foreordained', 'foundation', 'world', ',', 'manifest', 'last', 'times', ',', 'believe', 'god', ',', 'raised', 'dead', ',', 'gave', 'glory', ';', 'faith', 'hope', 'might', 'god.seeing', 'purified', 'souls', 'obeying', 'truth', 'spirit', 'unfeigned', 'love', 'brothers', ',', 'see', 'love', 'one', 'another', 'pure', 'heart', 'fervently', ':', 'born', ',', 'corruptible', 'seed', ',', 'incorruptible', ',', 'word', 'god', ',', 'lives', 'stays', 'ever.for', 'flesh', 'grass', ',', 'glory', 'man', 'flower', 'grass', '.', 'grass', 'wither', ',', 'flower', 'thereof', 'falls', 'away', ':', 'word', 'lord', 'endures', 'ever', '.', 'word', 'gospel', 'preached', '.'\"],\n",
    "               [\"I_Pedro_2\", \"'laying', 'aside', 'malice', ',', 'guile', ',', 'hypocrisies', ',', 'envies', ',', 'evil', 'speakings', ',', 'newborn', 'babes', ',', 'desire', 'sincere', 'milk', 'word', ',', 'may', 'grow', 'thereby', ':', 'tasted', 'lord', 'gracious.to', 'coming', ',', 'living', 'stone', ',', 'disallowed', 'indeed', 'men', ',', 'chosen', 'god', ',', 'precious', ',', 'also', ',', 'lively', 'stones', ',', 'built', 'spiritual', 'house', ',', 'holy', 'priesthood', ',', 'offer', 'spiritual', 'sacrifices', ',', 'acceptable', 'god', 'jesus', 'christ.why', 'also', 'contained', 'scripture', ',', 'behold', ',', 'lay', 'sion', 'chief', 'corner', 'stone', ',', 'elect', ',', 'precious', ':', 'believes', 'shall', 'confounded.to', 'therefore', 'believe', 'precious', ':', 'disobedient', ',', 'stone', 'builders', 'disallowed', ',', 'made', 'head', 'corner', ',', 'stone', 'stumbling', ',', 'rock', 'offense', ',', 'even', 'stumble', 'word', ',', 'disobedient', ':', 'whereunto', 'also', 'appointed.but', 'chosen', 'generation', ',', 'royal', 'priesthood', ',', 'holy', 'nation', ',', 'peculiar', 'people', ';', 'show', 'forth', 'praises', 'called', 'darkness', 'marvelous', 'light', ';', 'time', 'past', 'people', ',', 'people', 'god', ':', 'obtained', 'mercy', ',', 'obtained', 'mercy.dearly', 'beloved', ',', 'beseech', 'strangers', 'pilgrims', ',', 'abstain', 'fleshly', 'lusts', ',', 'war', 'soul', ';', 'conversation', 'honest', 'among', 'gentiles', ':', ',', 'whereas', 'speak', 'evildoers', ',', 'may', 'good', 'works', ',', 'shall', 'behold', ',', 'glorify', 'god', 'day', 'visitation.submit', 'every', 'ordinance', 'man', 'lord', ', 'sake', ':', 'whether', 'king', ',', 'supreme', ';', 'governors', ',', 'sent', 'punishment', 'evildoers', ',', 'praise', 'well.for', 'god', ',', 'well', 'may', 'put', 'silence', 'ignorance', 'foolish', 'men', ':', 'free', ',', 'using', 'liberty', 'cloak', 'maliciousness', ',', 'servants', 'god.honor', 'men', '.', 'love', 'brotherhood', '.', 'fear', 'god', '.', 'honor', 'king.servants', ',', 'subject', 'masters', 'fear', ';', 'good', 'gentle', ',', 'also', 'fraudulent.for', 'thank', 'worthy', ',', 'man', 'conscience', 'toward', 'god', 'endure', 'grief', ',', 'suffering', 'wrongfully.for', 'glory', ',', ',', 'buffeted', 'faults', ',', 'shall', 'take', 'patiently', '?', ',', 'well', ',', 'suffer', ',', 'take', 'patiently', ',', 'acceptable', 'god.for', 'even', 'hereunto', 'called', ':', 'christ', 'also', 'suffered', 'us', ',', 'leaving', 'us', 'example', ',', 'follow', 'steps', ':', 'sin', ',', 'neither', 'guile', 'found', 'mouth', ':', ',', 'reviled', ',', 'reviled', ';', 'suffered', ',', 'threatened', ';', 'committed', 'judges', 'righteously', ':', 'self', 'bore', 'sins', 'body', 'tree', ',', ',', 'dead', 'sins', ',', 'live', 'righteousness', ':', 'whose', 'stripes', 'healed.for', 'sheep', 'going', 'astray', ';', 'returned', 'shepherd', 'bishop', 'souls', '.'\"],\n",
    "               [\"I_Pedro_3\", \"'likewise', ',', 'wives', ',', 'subjection', 'husbands', ';', ',', 'obey', 'word', ',', 'also', 'may', 'without', 'word', 'conversation', 'wives', ';', 'behold', 'chaste', 'conversation', 'coupled', 'fear.whose', 'adorning', 'let', 'outward', 'adorning', 'plaiting', 'hair', ',', 'wearing', 'gold', ',', 'putting', 'apparel', ';', 'let', 'hidden', 'man', 'heart', ',', 'corruptible', ',', 'even', 'ornament', 'meek', 'quiet', 'spirit', ',', 'sight', 'god', 'great', 'price.for', 'manner', 'old', 'time', 'holy', 'women', 'also', ',', 'trusted', 'god', ',', 'adorned', ',', 'subjection', 'husbands', ':', 'even', 'sara', 'obeyed', 'abraham', ',', 'calling', 'lord', ':', 'whose', 'daughters', ',', 'long', 'well', ',', 'afraid', 'amazement.likewise', ',', 'husbands', ',', 'dwell', 'according', 'knowledge', ',', 'giving', 'honor', 'wife', ',', 'weaker', 'vessel', ',', 'heirs', 'together', 'grace', 'life', ';', 'prayers', 'hindered.finally', ',', 'one', 'mind', ',', 'compassion', 'one', 'another', ',', 'love', 'brothers', ',', 'pitiful', ',', 'courteous', ':', 'rendering', 'evil', 'evil', ',', 'railing', 'railing', ':', 'contrariwise', 'blessing', ';', 'knowing', 'thereunto', 'called', ',', 'inherit', 'blessing.for', 'love', 'life', ',', 'see', 'good', 'days', ',', 'let', 'refrain', 'tongue', 'evil', ',', 'lips', 'speak', 'guile', ':', 'let', 'eschew', 'evil', ',', 'good', ';', 'let', 'seek', 'peace', ',', 'ensue', 'it.for', 'eyes', 'lord', 'righteous', ',', 'ears', 'open', 'prayers', ':', 'face', 'lord', 'evil.and', 'harm', ',', 'followers', 'good', '?', 'suffer', righteousness'sake, ',', 'happy', ':', 'afraid', 'terror', ',', 'neither', 'troubled', ';', 'sanctify', 'lord', 'god', 'hearts', ':', 'ready', 'always', 'give', 'answer', 'every', 'man', 'asks', 'reason', 'hope', 'meekness', 'fear', ':', 'good', 'conscience', ';', ',', 'whereas', 'speak', 'evil', ',', 'evildoers', ',', 'may', 'ashamed', 'falsely', 'accuse', 'good', 'conversation', 'christ.for', 'better', ',', 'god', ',', 'suffer', 'well', ',', 'evil', 'doing.for', 'christ', 'also', 'suffered', 'sins', ',', 'unjust', ',', 'might', 'bring', 'us', 'god', ',', 'put', 'death', 'flesh', ',', 'quickened', 'spirit', ':', 'also', 'went', 'preached', 'spirits', 'prison', ';', 'sometime', 'disobedient', ',', 'long-suffering', 'god', 'waited', 'days', 'noah', ',', 'ark', 'preparing', ',', 'wherein', ',', ',', 'eight', 'souls', 'saved', 'water.the', 'like', 'figure', 'whereunto', 'even', 'baptism', 'also', 'save', 'us', '(', 'putting', 'away', 'filth', 'flesh', ',', 'answer', 'good', 'conscience', 'toward', 'god', ',', ')', 'resurrection', 'jesus', 'christ', ':', 'gone', 'heaven', ',', 'right', 'hand', 'god', ';', 'angels', 'authorities', 'powers', 'made', 'subject', '.'\"],\n",
    "               [\"I_Pedro_4\", \"'much', 'christ', 'suffered', 'us', 'flesh', ',', 'arm', 'likewise', 'mind', ':', 'suffered', 'flesh', 'ceased', 'sin', ';', 'longer', 'live', 'rest', 'time', 'flesh', 'lusts', 'men', ',', 'god.for', 'time', 'past', 'life', 'may', 'suffice', 'us', 'worked', 'gentiles', ',', 'walked', 'lasciviousness', ',', 'lusts', ',', 'excess', 'wine', ',', 'revelings', ',', 'parties', ',', 'abominable', 'idolatries', ':', 'wherein', 'think', 'strange', 'run', 'excess', 'riot', ',', 'speaking', 'evil', ':', 'shall', 'give', 'account', 'ready', 'judge', 'quick', 'dead.for', 'cause', 'gospel', 'preached', 'also', 'dead', ',', 'might', 'judged', 'according', 'men', 'flesh', ',', 'live', 'according', 'god', 'spirit.but', 'end', 'things', 'hand', ':', 'therefore', 'sober', ',', 'watch', 'prayer.and', 'things', 'fervent', 'charity', 'among', ':', 'charity', 'shall', 'cover', 'multitude', 'sins.use', 'hospitality', 'one', 'another', 'without', 'grudging.as', 'every', 'man', 'received', 'gift', ',', 'even', 'minister', 'one', 'another', ',', 'good', 'stewards', 'manifold', 'grace', 'god.if', 'man', 'speak', ',', 'let', 'speak', 'oracles', 'god', ';', 'man', 'minister', ',', 'let', 'ability', 'god', 'gives', ':', 'god', 'things', 'may', 'glorified', 'jesus', 'christ', ',', 'praise', 'dominion', 'ever', 'ever', '.', 'amen.beloved', ',', 'think', 'strange', 'concerning', 'fiery', 'trial', 'try', ',', 'though', 'strange', 'thing', 'happened', ':', 'rejoice', ',', 'inasmuch', 'partakers', 'christ', ', 'sufferings', ';', ',', 'glory', 'shall', 'revealed', ',', 'may', 'glad', 'also', 'exceeding', 'joy.if', 'reproached', 'name', 'christ', ',', 'happy', ';', 'spirit', 'glory', 'god', 'rests', ':', 'part', 'evil', 'spoken', ',', 'part', 'glorified.but', 'let', 'none', 'suffer', 'murderer', ',', 'thief', ',', 'evildoer', ',', 'busybody', 'men', ', 'matters.yet', 'man', 'suffer', 'christian', ',', 'let', 'ashamed', ';', 'let', 'glorify', 'god', 'behalf.for', 'time', 'come', 'judgment', 'must', 'begin', 'house', 'god', ':', 'first', 'begin', 'us', ',', 'shall', 'end', 'obey', 'gospel', 'god', '?', 'righteous', 'scarcely', 'saved', ',', 'shall', 'ungodly', 'sinner', 'appear', '?', 'let', 'suffer', 'according', 'god', 'commit', 'keeping', 'souls', 'well', ',', 'faithful', 'creator', '.'\"],\n",
    "               [\"I_Pedro_5\", \"'elders', 'among', 'exhort', ',', 'also', 'elder', ',', 'witness', 'sufferings', 'christ', ',', 'also', 'partaker', 'glory', 'shall', 'revealed', ':', 'feed', 'flock', 'god', 'among', ',', 'taking', 'oversight', 'thereof', ',', 'constraint', ',', 'willingly', ';', 'filthy', 'lucre', ',', 'ready', 'mind', ';', 'neither', 'lords', 'god', ', 'heritage', ',', 'ensamples', 'flock.and', 'chief', 'shepherd', 'shall', 'appear', ',', 'shall', 'receive', 'crown', 'glory', 'fades', 'away.likewise', ',', 'younger', ',', 'submit', 'elder', '.', 'yes', ',', 'subject', 'one', 'another', ',', 'clothed', 'humility', ':', 'god', 'resists', 'proud', ',', 'gives', 'grace', 'humble.humble', 'therefore', 'mighty', 'hand', 'god', ',', 'may', 'exalt', 'due', 'time', ':', 'casting', 'care', ';', 'cares', 'you.be', 'sober', ',', 'vigilant', ';', 'adversary', 'devil', ',', 'roaring', 'lion', ',', 'walks', ',', 'seeking', 'may', 'devour', ':', 'resist', 'steadfast', 'faith', ',', 'knowing', 'afflictions', 'accomplished', 'brothers', 'world.but', 'god', 'grace', ',', 'called', 'us', 'eternal', 'glory', 'christ', 'jesus', ',', 'suffered', ',', 'make', 'perfect', ',', 'establish', ',', 'strengthen', ',', 'settle', 'you.to', 'glory', 'dominion', 'ever', 'ever', '.', 'amen.by', 'silvanus', ',', 'faithful', 'brother', ',', 'suppose', ',', 'written', 'briefly', ',', 'exhorting', ',', 'testifying', 'true', 'grace', 'god', 'wherein', 'stand.the', 'church', 'babylon', ',', 'elected', 'together', ',', 'salutes', ';', 'marcus', 'son.greet', 'one', 'another', 'kiss', 'charity', '.', 'peace', 'christ', 'jesus', '.', 'amen', '.'\"]])"
   ]
  },
  {
   "cell_type": "code",
   "execution_count": 38,
   "id": "f0332bd5",
   "metadata": {},
   "outputs": [],
   "source": [
    "df = pd.DataFrame(data, index=range(100,105),columns=['Autor', 'Livro'])"
   ]
  },
  {
   "cell_type": "code",
   "execution_count": 39,
   "id": "4da2d948",
   "metadata": {},
   "outputs": [
    {
     "name": "stdout",
     "output_type": "stream",
     "text": [
      "         Autor                                              Livro\n",
      "100  I_Pedro_1  'peter', ',', 'apostle', 'jesus', 'christ', ',...\n",
      "101  I_Pedro_2  'laying', 'aside', 'malice', ',', 'guile', ','...\n",
      "102  I_Pedro_3  'likewise', ',', 'wives', ',', 'subjection', '...\n",
      "103  I_Pedro_4  'much', 'christ', 'suffered', 'us', 'flesh', '...\n",
      "104  I_Pedro_5  'elders', 'among', 'exhort', ',', 'also', 'eld...\n"
     ]
    }
   ],
   "source": [
    "print(df)"
   ]
  },
  {
   "cell_type": "code",
   "execution_count": null,
   "id": "63ce76ff",
   "metadata": {},
   "outputs": [],
   "source": []
  }
 ],
 "metadata": {
  "kernelspec": {
   "display_name": "Python 3 (ipykernel)",
   "language": "python",
   "name": "python3"
  },
  "language_info": {
   "codemirror_mode": {
    "name": "ipython",
    "version": 3
   },
   "file_extension": ".py",
   "mimetype": "text/x-python",
   "name": "python",
   "nbconvert_exporter": "python",
   "pygments_lexer": "ipython3",
   "version": "3.7.2"
  }
 },
 "nbformat": 4,
 "nbformat_minor": 5
}
