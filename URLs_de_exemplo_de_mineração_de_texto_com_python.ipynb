{
 "cells": [
  {
   "cell_type": "markdown",
   "metadata": {},
   "source": [
    "# Teste exemplo de NPL com Python"
   ]
  },
  {
   "cell_type": "code",
   "execution_count": 1,
   "metadata": {},
   "outputs": [],
   "source": [
    "import nltk"
   ]
  },
  {
   "cell_type": "markdown",
   "metadata": {},
   "source": [
    "# Baixar todos os pacotes necessários"
   ]
  },
  {
   "cell_type": "code",
   "execution_count": null,
   "metadata": {},
   "outputs": [],
   "source": [
    "nltk.download()\n"
   ]
  },
  {
   "cell_type": "markdown",
   "metadata": {},
   "source": [
    "# Exemplo de algumas aplicações"
   ]
  },
  {
   "cell_type": "markdown",
   "metadata": {},
   "source": [
    "Subindo o texto"
   ]
  },
  {
   "cell_type": "code",
   "execution_count": 2,
   "metadata": {},
   "outputs": [],
   "source": [
    "texto = 'Jude, the servant of Jesus Christ, and brother of James, to them that are sanctified by God the Father, and preserved in Jesus Christ, and called:Mercy to you, and peace, and love, be multiplied.Beloved, when I gave all diligence to write to you of the common salvation, it was needful for me to write to you, and exhort you that you should earnestly contend for the faith which was once delivered to the saints.for there are certain men crept in unawares, who were before of old ordained to this condemnation, ungodly men, turning the grace of our God into lasciviousness, and denying the only Lord God, and our Lord Jesus Christ.I will therefore put you in remembrance, though you once knew this, how that the Lord, having saved the people out of the land of Egypt, afterward destroyed them that believed not.And the angels which kept not their first estate, but left their own habitation, he has reserved in everlasting chains under darkness to the judgment of the great day.Even as Sodom and Gomorrha, and the cities about them in like manner, giving themselves over to fornication, and going after strange flesh, are set forth for an example, suffering the vengeance of eternal fire.Likewise also these filthy dreamers defile the flesh, despise dominion, and speak evil of dignities.Yet Michael the archangel, when contending with the devil he disputed about the body of Moses, dared not bring against him a railing accusation, but said, The Lord rebuke you.But these speak evil of those things which they know not: but what they know naturally, as brute beasts, in those things they corrupt themselves.Woe to them! for they have gone in the way of Cain, and ran greedily after the error of Balaam for reward, and perished in the gainsaying of Core. These are spots in your feasts of charity, when they feast with you, feeding themselves without fear: clouds they are without water, carried about of winds; trees whose fruit wither, without fruit, twice dead, plucked up by the roots; Raging waves of the sea, foaming out their own shame; wandering stars, to whom is reserved the blackness of darkness for ever.And Enoch also, the seventh from Adam, prophesied of these, saying, Behold, the Lord comes with ten thousands of his saints,To execute judgment on all, and to convince all that are ungodly among them of all their ungodly deeds which they have ungodly committed, and of all their hard speeches which ungodly sinners have spoken against him.These are murmurers, complainers, walking after their own lusts; and their mouth speaks great swelling words, having men .persons in admiration because of advantage.But, beloved, remember you the words which were spoken before of the apostles of our Lord Jesus Christ;How that they told you there should be mockers in the last time, who should walk after their own ungodly lusts.These be they who separate themselves, sensual, having not the Spirit.But you, beloved, building up yourselves on your most holy faith, praying in the Holy Ghost,Keep yourselves in the love of God, looking for the mercy of our Lord Jesus Christ to eternal life.And of some have compassion, making a difference:And others save with fear, pulling them out of the fire; hating even the garment spotted by the flesh.Now to him that is able to keep you from falling, and to present you faultless before the presence of his glory with exceeding joy,To the only wise God our Savior, be glory and majesty, dominion and power, both now and ever. Amen.'"
   ]
  },
  {
   "cell_type": "code",
   "execution_count": 3,
   "metadata": {},
   "outputs": [
    {
     "data": {
      "text/plain": [
       "str"
      ]
     },
     "execution_count": 3,
     "metadata": {},
     "output_type": "execute_result"
    }
   ],
   "source": [
    "type(\"texto\")"
   ]
  },
  {
   "cell_type": "markdown",
   "metadata": {},
   "source": [
    "tokenizando o texto"
   ]
  },
  {
   "cell_type": "code",
   "execution_count": 4,
   "metadata": {},
   "outputs": [
    {
     "name": "stdout",
     "output_type": "stream",
     "text": [
      "['Jude, the servant of Jesus Christ, and brother of James, to them that are sanctified by God the Father, and preserved in Jesus Christ, and called:Mercy to you, and peace, and love, be multiplied.Beloved, when I gave all diligence to write to you of the common salvation, it was needful for me to write to you, and exhort you that you should earnestly contend for the faith which was once delivered to the saints.for there are certain men crept in unawares, who were before of old ordained to this condemnation, ungodly men, turning the grace of our God into lasciviousness, and denying the only Lord God, and our Lord Jesus Christ.I will therefore put you in remembrance, though you once knew this, how that the Lord, having saved the people out of the land of Egypt, afterward destroyed them that believed not.And the angels which kept not their first estate, but left their own habitation, he has reserved in everlasting chains under darkness to the judgment of the great day.Even as Sodom and Gomorrha, and the cities about them in like manner, giving themselves over to fornication, and going after strange flesh, are set forth for an example, suffering the vengeance of eternal fire.Likewise also these filthy dreamers defile the flesh, despise dominion, and speak evil of dignities.Yet Michael the archangel, when contending with the devil he disputed about the body of Moses, dared not bring against him a railing accusation, but said, The Lord rebuke you.But these speak evil of those things which they know not: but what they know naturally, as brute beasts, in those things they corrupt themselves.Woe to them!', 'for they have gone in the way of Cain, and ran greedily after the error of Balaam for reward, and perished in the gainsaying of Core.', 'These are spots in your feasts of charity, when they feast with you, feeding themselves without fear: clouds they are without water, carried about of winds; trees whose fruit wither, without fruit, twice dead, plucked up by the roots; Raging waves of the sea, foaming out their own shame; wandering stars, to whom is reserved the blackness of darkness for ever.And Enoch also, the seventh from Adam, prophesied of these, saying, Behold, the Lord comes with ten thousands of his saints,To execute judgment on all, and to convince all that are ungodly among them of all their ungodly deeds which they have ungodly committed, and of all their hard speeches which ungodly sinners have spoken against him.These are murmurers, complainers, walking after their own lusts; and their mouth speaks great swelling words, having men .persons in admiration because of advantage.But, beloved, remember you the words which were spoken before of the apostles of our Lord Jesus Christ;How that they told you there should be mockers in the last time, who should walk after their own ungodly lusts.These be they who separate themselves, sensual, having not the Spirit.But you, beloved, building up yourselves on your most holy faith, praying in the Holy Ghost,Keep yourselves in the love of God, looking for the mercy of our Lord Jesus Christ to eternal life.And of some have compassion, making a difference:And others save with fear, pulling them out of the fire; hating even the garment spotted by the flesh.Now to him that is able to keep you from falling, and to present you faultless before the presence of his glory with exceeding joy,To the only wise God our Savior, be glory and majesty, dominion and power, both now and ever.', 'Amen.']\n"
     ]
    }
   ],
   "source": [
    "frases = nltk.tokenize.sent_tokenize(texto)\n",
    "print(frases)"
   ]
  },
  {
   "cell_type": "markdown",
   "metadata": {},
   "source": [
    "Para reaizar a tokenização abaixo tem que retirar as aspas duplas e simples do texto, caso contrario não funciona"
   ]
  },
  {
   "cell_type": "code",
   "execution_count": 5,
   "metadata": {},
   "outputs": [
    {
     "name": "stdout",
     "output_type": "stream",
     "text": [
      "['Jude', ',', 'the', 'servant', 'of', 'Jesus', 'Christ', ',', 'and', 'brother', 'of', 'James', ',', 'to', 'them', 'that', 'are', 'sanctified', 'by', 'God', 'the', 'Father', ',', 'and', 'preserved', 'in', 'Jesus', 'Christ', ',', 'and', 'called', ':', 'Mercy', 'to', 'you', ',', 'and', 'peace', ',', 'and', 'love', ',', 'be', 'multiplied.Beloved', ',', 'when', 'I', 'gave', 'all', 'diligence', 'to', 'write', 'to', 'you', 'of', 'the', 'common', 'salvation', ',', 'it', 'was', 'needful', 'for', 'me', 'to', 'write', 'to', 'you', ',', 'and', 'exhort', 'you', 'that', 'you', 'should', 'earnestly', 'contend', 'for', 'the', 'faith', 'which', 'was', 'once', 'delivered', 'to', 'the', 'saints.for', 'there', 'are', 'certain', 'men', 'crept', 'in', 'unawares', ',', 'who', 'were', 'before', 'of', 'old', 'ordained', 'to', 'this', 'condemnation', ',', 'ungodly', 'men', ',', 'turning', 'the', 'grace', 'of', 'our', 'God', 'into', 'lasciviousness', ',', 'and', 'denying', 'the', 'only', 'Lord', 'God', ',', 'and', 'our', 'Lord', 'Jesus', 'Christ.I', 'will', 'therefore', 'put', 'you', 'in', 'remembrance', ',', 'though', 'you', 'once', 'knew', 'this', ',', 'how', 'that', 'the', 'Lord', ',', 'having', 'saved', 'the', 'people', 'out', 'of', 'the', 'land', 'of', 'Egypt', ',', 'afterward', 'destroyed', 'them', 'that', 'believed', 'not.And', 'the', 'angels', 'which', 'kept', 'not', 'their', 'first', 'estate', ',', 'but', 'left', 'their', 'own', 'habitation', ',', 'he', 'has', 'reserved', 'in', 'everlasting', 'chains', 'under', 'darkness', 'to', 'the', 'judgment', 'of', 'the', 'great', 'day.Even', 'as', 'Sodom', 'and', 'Gomorrha', ',', 'and', 'the', 'cities', 'about', 'them', 'in', 'like', 'manner', ',', 'giving', 'themselves', 'over', 'to', 'fornication', ',', 'and', 'going', 'after', 'strange', 'flesh', ',', 'are', 'set', 'forth', 'for', 'an', 'example', ',', 'suffering', 'the', 'vengeance', 'of', 'eternal', 'fire.Likewise', 'also', 'these', 'filthy', 'dreamers', 'defile', 'the', 'flesh', ',', 'despise', 'dominion', ',', 'and', 'speak', 'evil', 'of', 'dignities.Yet', 'Michael', 'the', 'archangel', ',', 'when', 'contending', 'with', 'the', 'devil', 'he', 'disputed', 'about', 'the', 'body', 'of', 'Moses', ',', 'dared', 'not', 'bring', 'against', 'him', 'a', 'railing', 'accusation', ',', 'but', 'said', ',', 'The', 'Lord', 'rebuke', 'you.But', 'these', 'speak', 'evil', 'of', 'those', 'things', 'which', 'they', 'know', 'not', ':', 'but', 'what', 'they', 'know', 'naturally', ',', 'as', 'brute', 'beasts', ',', 'in', 'those', 'things', 'they', 'corrupt', 'themselves.Woe', 'to', 'them', '!', 'for', 'they', 'have', 'gone', 'in', 'the', 'way', 'of', 'Cain', ',', 'and', 'ran', 'greedily', 'after', 'the', 'error', 'of', 'Balaam', 'for', 'reward', ',', 'and', 'perished', 'in', 'the', 'gainsaying', 'of', 'Core', '.', 'These', 'are', 'spots', 'in', 'your', 'feasts', 'of', 'charity', ',', 'when', 'they', 'feast', 'with', 'you', ',', 'feeding', 'themselves', 'without', 'fear', ':', 'clouds', 'they', 'are', 'without', 'water', ',', 'carried', 'about', 'of', 'winds', ';', 'trees', 'whose', 'fruit', 'wither', ',', 'without', 'fruit', ',', 'twice', 'dead', ',', 'plucked', 'up', 'by', 'the', 'roots', ';', 'Raging', 'waves', 'of', 'the', 'sea', ',', 'foaming', 'out', 'their', 'own', 'shame', ';', 'wandering', 'stars', ',', 'to', 'whom', 'is', 'reserved', 'the', 'blackness', 'of', 'darkness', 'for', 'ever.And', 'Enoch', 'also', ',', 'the', 'seventh', 'from', 'Adam', ',', 'prophesied', 'of', 'these', ',', 'saying', ',', 'Behold', ',', 'the', 'Lord', 'comes', 'with', 'ten', 'thousands', 'of', 'his', 'saints', ',', 'To', 'execute', 'judgment', 'on', 'all', ',', 'and', 'to', 'convince', 'all', 'that', 'are', 'ungodly', 'among', 'them', 'of', 'all', 'their', 'ungodly', 'deeds', 'which', 'they', 'have', 'ungodly', 'committed', ',', 'and', 'of', 'all', 'their', 'hard', 'speeches', 'which', 'ungodly', 'sinners', 'have', 'spoken', 'against', 'him.These', 'are', 'murmurers', ',', 'complainers', ',', 'walking', 'after', 'their', 'own', 'lusts', ';', 'and', 'their', 'mouth', 'speaks', 'great', 'swelling', 'words', ',', 'having', 'men', '.persons', 'in', 'admiration', 'because', 'of', 'advantage.But', ',', 'beloved', ',', 'remember', 'you', 'the', 'words', 'which', 'were', 'spoken', 'before', 'of', 'the', 'apostles', 'of', 'our', 'Lord', 'Jesus', 'Christ', ';', 'How', 'that', 'they', 'told', 'you', 'there', 'should', 'be', 'mockers', 'in', 'the', 'last', 'time', ',', 'who', 'should', 'walk', 'after', 'their', 'own', 'ungodly', 'lusts.These', 'be', 'they', 'who', 'separate', 'themselves', ',', 'sensual', ',', 'having', 'not', 'the', 'Spirit.But', 'you', ',', 'beloved', ',', 'building', 'up', 'yourselves', 'on', 'your', 'most', 'holy', 'faith', ',', 'praying', 'in', 'the', 'Holy', 'Ghost', ',', 'Keep', 'yourselves', 'in', 'the', 'love', 'of', 'God', ',', 'looking', 'for', 'the', 'mercy', 'of', 'our', 'Lord', 'Jesus', 'Christ', 'to', 'eternal', 'life.And', 'of', 'some', 'have', 'compassion', ',', 'making', 'a', 'difference', ':', 'And', 'others', 'save', 'with', 'fear', ',', 'pulling', 'them', 'out', 'of', 'the', 'fire', ';', 'hating', 'even', 'the', 'garment', 'spotted', 'by', 'the', 'flesh.Now', 'to', 'him', 'that', 'is', 'able', 'to', 'keep', 'you', 'from', 'falling', ',', 'and', 'to', 'present', 'you', 'faultless', 'before', 'the', 'presence', 'of', 'his', 'glory', 'with', 'exceeding', 'joy', ',', 'To', 'the', 'only', 'wise', 'God', 'our', 'Savior', ',', 'be', 'glory', 'and', 'majesty', ',', 'dominion', 'and', 'power', ',', 'both', 'now', 'and', 'ever', '.', 'Amen', '.']\n"
     ]
    }
   ],
   "source": [
    "tokens = nltk.word_tokenize(texto)\n",
    "print(tokens)"
   ]
  },
  {
   "cell_type": "markdown",
   "metadata": {},
   "source": [
    "Atribuindo classe gramatical ao texto\n",
    "\n"
   ]
  },
  {
   "cell_type": "code",
   "execution_count": 7,
   "metadata": {},
   "outputs": [
    {
     "name": "stdout",
     "output_type": "stream",
     "text": [
      "[('Jude', 'NNP'), (',', ','), ('the', 'DT'), ('servant', 'NN'), ('of', 'IN'), ('Jesus', 'NNP'), ('Christ', 'NNP'), (',', ','), ('and', 'CC'), ('brother', 'NN'), ('of', 'IN'), ('James', 'NNP'), (',', ','), ('to', 'TO'), ('them', 'PRP'), ('that', 'WDT'), ('are', 'VBP'), ('sanctified', 'VBN'), ('by', 'IN'), ('God', 'NNP'), ('the', 'DT'), ('Father', 'NNP'), (',', ','), ('and', 'CC'), ('preserved', 'VBD'), ('in', 'IN'), ('Jesus', 'NNP'), ('Christ', 'NNP'), (',', ','), ('and', 'CC'), ('called', 'VBD'), (':', ':'), ('Mercy', 'NN'), ('to', 'TO'), ('you', 'PRP'), (',', ','), ('and', 'CC'), ('peace', 'NN'), (',', ','), ('and', 'CC'), ('love', 'VB'), (',', ','), ('be', 'VB'), ('multiplied.Beloved', 'VBN'), (',', ','), ('when', 'WRB'), ('I', 'PRP'), ('gave', 'VBD'), ('all', 'DT'), ('diligence', 'NN'), ('to', 'TO'), ('write', 'VB'), ('to', 'TO'), ('you', 'PRP'), ('of', 'IN'), ('the', 'DT'), ('common', 'JJ'), ('salvation', 'NN'), (',', ','), ('it', 'PRP'), ('was', 'VBD'), ('needful', 'JJ'), ('for', 'IN'), ('me', 'PRP'), ('to', 'TO'), ('write', 'VB'), ('to', 'TO'), ('you', 'PRP'), (',', ','), ('and', 'CC'), ('exhort', 'NN'), ('you', 'PRP'), ('that', 'IN'), ('you', 'PRP'), ('should', 'MD'), ('earnestly', 'RB'), ('contend', 'VB'), ('for', 'IN'), ('the', 'DT'), ('faith', 'NN'), ('which', 'WDT'), ('was', 'VBD'), ('once', 'RB'), ('delivered', 'VBN'), ('to', 'TO'), ('the', 'DT'), ('saints.for', 'NN'), ('there', 'EX'), ('are', 'VBP'), ('certain', 'JJ'), ('men', 'NNS'), ('crept', 'VBD'), ('in', 'IN'), ('unawares', 'NNS'), (',', ','), ('who', 'WP'), ('were', 'VBD'), ('before', 'IN'), ('of', 'IN'), ('old', 'JJ'), ('ordained', 'VBN'), ('to', 'TO'), ('this', 'DT'), ('condemnation', 'NN'), (',', ','), ('ungodly', 'RB'), ('men', 'NNS'), (',', ','), ('turning', 'VBG'), ('the', 'DT'), ('grace', 'NN'), ('of', 'IN'), ('our', 'PRP$'), ('God', 'NNP'), ('into', 'IN'), ('lasciviousness', 'NN'), (',', ','), ('and', 'CC'), ('denying', 'VBG'), ('the', 'DT'), ('only', 'JJ'), ('Lord', 'NNP'), ('God', 'NNP'), (',', ','), ('and', 'CC'), ('our', 'PRP$'), ('Lord', 'NNP'), ('Jesus', 'NNP'), ('Christ.I', 'NNP'), ('will', 'MD'), ('therefore', 'VB'), ('put', 'NN'), ('you', 'PRP'), ('in', 'IN'), ('remembrance', 'NN'), (',', ','), ('though', 'IN'), ('you', 'PRP'), ('once', 'RB'), ('knew', 'VBD'), ('this', 'DT'), (',', ','), ('how', 'WRB'), ('that', 'IN'), ('the', 'DT'), ('Lord', 'NNP'), (',', ','), ('having', 'VBG'), ('saved', 'VBN'), ('the', 'DT'), ('people', 'NNS'), ('out', 'IN'), ('of', 'IN'), ('the', 'DT'), ('land', 'NN'), ('of', 'IN'), ('Egypt', 'NNP'), (',', ','), ('afterward', 'RB'), ('destroyed', 'VBD'), ('them', 'PRP'), ('that', 'IN'), ('believed', 'VBD'), ('not.And', 'IN'), ('the', 'DT'), ('angels', 'NNS'), ('which', 'WDT'), ('kept', 'VBD'), ('not', 'RB'), ('their', 'PRP$'), ('first', 'JJ'), ('estate', 'NN'), (',', ','), ('but', 'CC'), ('left', 'VBD'), ('their', 'PRP$'), ('own', 'JJ'), ('habitation', 'NN'), (',', ','), ('he', 'PRP'), ('has', 'VBZ'), ('reserved', 'VBN'), ('in', 'IN'), ('everlasting', 'VBG'), ('chains', 'NNS'), ('under', 'IN'), ('darkness', 'NN'), ('to', 'TO'), ('the', 'DT'), ('judgment', 'NN'), ('of', 'IN'), ('the', 'DT'), ('great', 'JJ'), ('day.Even', 'NN'), ('as', 'IN'), ('Sodom', 'NNP'), ('and', 'CC'), ('Gomorrha', 'NNP'), (',', ','), ('and', 'CC'), ('the', 'DT'), ('cities', 'NNS'), ('about', 'IN'), ('them', 'PRP'), ('in', 'IN'), ('like', 'IN'), ('manner', 'NN'), (',', ','), ('giving', 'VBG'), ('themselves', 'PRP'), ('over', 'IN'), ('to', 'TO'), ('fornication', 'NN'), (',', ','), ('and', 'CC'), ('going', 'VBG'), ('after', 'IN'), ('strange', 'JJ'), ('flesh', 'NN'), (',', ','), ('are', 'VBP'), ('set', 'VBN'), ('forth', 'NN'), ('for', 'IN'), ('an', 'DT'), ('example', 'NN'), (',', ','), ('suffering', 'VBG'), ('the', 'DT'), ('vengeance', 'NN'), ('of', 'IN'), ('eternal', 'JJ'), ('fire.Likewise', 'NN'), ('also', 'RB'), ('these', 'DT'), ('filthy', 'JJ'), ('dreamers', 'NNS'), ('defile', 'VBP'), ('the', 'DT'), ('flesh', 'NN'), (',', ','), ('despise', 'NN'), ('dominion', 'NN'), (',', ','), ('and', 'CC'), ('speak', 'JJ'), ('evil', 'NN'), ('of', 'IN'), ('dignities.Yet', 'NN'), ('Michael', 'NNP'), ('the', 'DT'), ('archangel', 'NN'), (',', ','), ('when', 'WRB'), ('contending', 'VBG'), ('with', 'IN'), ('the', 'DT'), ('devil', 'NN'), ('he', 'PRP'), ('disputed', 'VBD'), ('about', 'IN'), ('the', 'DT'), ('body', 'NN'), ('of', 'IN'), ('Moses', 'NNP'), (',', ','), ('dared', 'VBD'), ('not', 'RB'), ('bring', 'VBG'), ('against', 'IN'), ('him', 'PRP'), ('a', 'DT'), ('railing', 'VBG'), ('accusation', 'NN'), (',', ','), ('but', 'CC'), ('said', 'VBD'), (',', ','), ('The', 'DT'), ('Lord', 'NNP'), ('rebuke', 'NN'), ('you.But', 'NN'), ('these', 'DT'), ('speak', 'VBP'), ('evil', 'NN'), ('of', 'IN'), ('those', 'DT'), ('things', 'NNS'), ('which', 'WDT'), ('they', 'PRP'), ('know', 'VBP'), ('not', 'RB'), (':', ':'), ('but', 'CC'), ('what', 'WP'), ('they', 'PRP'), ('know', 'VBP'), ('naturally', 'RB'), (',', ','), ('as', 'IN'), ('brute', 'JJ'), ('beasts', 'NNS'), (',', ','), ('in', 'IN'), ('those', 'DT'), ('things', 'NNS'), ('they', 'PRP'), ('corrupt', 'VBP'), ('themselves.Woe', 'NNS'), ('to', 'TO'), ('them', 'PRP'), ('!', '.'), ('for', 'IN'), ('they', 'PRP'), ('have', 'VBP'), ('gone', 'VBN'), ('in', 'IN'), ('the', 'DT'), ('way', 'NN'), ('of', 'IN'), ('Cain', 'NNP'), (',', ','), ('and', 'CC'), ('ran', 'VBD'), ('greedily', 'RB'), ('after', 'IN'), ('the', 'DT'), ('error', 'NN'), ('of', 'IN'), ('Balaam', 'NNP'), ('for', 'IN'), ('reward', 'NN'), (',', ','), ('and', 'CC'), ('perished', 'VBD'), ('in', 'IN'), ('the', 'DT'), ('gainsaying', 'NN'), ('of', 'IN'), ('Core', 'NNP'), ('.', '.'), ('These', 'DT'), ('are', 'VBP'), ('spots', 'NNS'), ('in', 'IN'), ('your', 'PRP$'), ('feasts', 'NNS'), ('of', 'IN'), ('charity', 'NN'), (',', ','), ('when', 'WRB'), ('they', 'PRP'), ('feast', 'VBP'), ('with', 'IN'), ('you', 'PRP'), (',', ','), ('feeding', 'VBG'), ('themselves', 'PRP'), ('without', 'IN'), ('fear', 'NN'), (':', ':'), ('clouds', 'NN'), ('they', 'PRP'), ('are', 'VBP'), ('without', 'IN'), ('water', 'NN'), (',', ','), ('carried', 'VBD'), ('about', 'IN'), ('of', 'IN'), ('winds', 'NNS'), (';', ':'), ('trees', 'NNS'), ('whose', 'WP$'), ('fruit', 'NN'), ('wither', 'NN'), (',', ','), ('without', 'IN'), ('fruit', 'NN'), (',', ','), ('twice', 'RB'), ('dead', 'JJ'), (',', ','), ('plucked', 'VBD'), ('up', 'RP'), ('by', 'IN'), ('the', 'DT'), ('roots', 'NNS'), (';', ':'), ('Raging', 'VBG'), ('waves', 'NNS'), ('of', 'IN'), ('the', 'DT'), ('sea', 'NN'), (',', ','), ('foaming', 'VBG'), ('out', 'RP'), ('their', 'PRP$'), ('own', 'JJ'), ('shame', 'NN'), (';', ':'), ('wandering', 'VBG'), ('stars', 'NNS'), (',', ','), ('to', 'TO'), ('whom', 'WP'), ('is', 'VBZ'), ('reserved', 'VBN'), ('the', 'DT'), ('blackness', 'NN'), ('of', 'IN'), ('darkness', 'NN'), ('for', 'IN'), ('ever.And', 'NN'), ('Enoch', 'NNP'), ('also', 'RB'), (',', ','), ('the', 'DT'), ('seventh', 'NN'), ('from', 'IN'), ('Adam', 'NNP'), (',', ','), ('prophesied', 'VBD'), ('of', 'IN'), ('these', 'DT'), (',', ','), ('saying', 'VBG'), (',', ','), ('Behold', 'NNP'), (',', ','), ('the', 'DT'), ('Lord', 'NNP'), ('comes', 'VBZ'), ('with', 'IN'), ('ten', 'JJ'), ('thousands', 'NNS'), ('of', 'IN'), ('his', 'PRP$'), ('saints', 'NNS'), (',', ','), ('To', 'TO'), ('execute', 'VB'), ('judgment', 'NN'), ('on', 'IN'), ('all', 'DT'), (',', ','), ('and', 'CC'), ('to', 'TO'), ('convince', 'VB'), ('all', 'DT'), ('that', 'WDT'), ('are', 'VBP'), ('ungodly', 'RB'), ('among', 'IN'), ('them', 'PRP'), ('of', 'IN'), ('all', 'PDT'), ('their', 'PRP$'), ('ungodly', 'JJ'), ('deeds', 'NNS'), ('which', 'WDT'), ('they', 'PRP'), ('have', 'VBP'), ('ungodly', 'RB'), ('committed', 'VBN'), (',', ','), ('and', 'CC'), ('of', 'IN'), ('all', 'DT'), ('their', 'PRP$'), ('hard', 'NN'), ('speeches', 'NNS'), ('which', 'WDT'), ('ungodly', 'RB'), ('sinners', 'NNS'), ('have', 'VBP'), ('spoken', 'VBN'), ('against', 'IN'), ('him.These', 'NNS'), ('are', 'VBP'), ('murmurers', 'NNS'), (',', ','), ('complainers', 'NNS'), (',', ','), ('walking', 'VBG'), ('after', 'IN'), ('their', 'PRP$'), ('own', 'JJ'), ('lusts', 'NNS'), (';', ':'), ('and', 'CC'), ('their', 'PRP$'), ('mouth', 'NN'), ('speaks', 'VBZ'), ('great', 'JJ'), ('swelling', 'VBG'), ('words', 'NNS'), (',', ','), ('having', 'VBG'), ('men', 'NNS'), ('.persons', 'NNS'), ('in', 'IN'), ('admiration', 'NN'), ('because', 'IN'), ('of', 'IN'), ('advantage.But', 'NN'), (',', ','), ('beloved', 'VBN'), (',', ','), ('remember', 'VB'), ('you', 'PRP'), ('the', 'DT'), ('words', 'NNS'), ('which', 'WDT'), ('were', 'VBD'), ('spoken', 'VBN'), ('before', 'IN'), ('of', 'IN'), ('the', 'DT'), ('apostles', 'NNS'), ('of', 'IN'), ('our', 'PRP$'), ('Lord', 'NNP'), ('Jesus', 'NNP'), ('Christ', 'NNP'), (';', ':'), ('How', 'WRB'), ('that', 'IN'), ('they', 'PRP'), ('told', 'VBD'), ('you', 'PRP'), ('there', 'EX'), ('should', 'MD'), ('be', 'VB'), ('mockers', 'NNS'), ('in', 'IN'), ('the', 'DT'), ('last', 'JJ'), ('time', 'NN'), (',', ','), ('who', 'WP'), ('should', 'MD'), ('walk', 'VB'), ('after', 'IN'), ('their', 'PRP$'), ('own', 'JJ'), ('ungodly', 'RB'), ('lusts.These', 'JJ'), ('be', 'VB'), ('they', 'PRP'), ('who', 'WP'), ('separate', 'VBP'), ('themselves', 'PRP'), (',', ','), ('sensual', 'JJ'), (',', ','), ('having', 'VBG'), ('not', 'RB'), ('the', 'DT'), ('Spirit.But', 'NNP'), ('you', 'PRP'), (',', ','), ('beloved', 'VBN'), (',', ','), ('building', 'VBG'), ('up', 'RP'), ('yourselves', 'NNS'), ('on', 'IN'), ('your', 'PRP$'), ('most', 'JJS'), ('holy', 'JJ'), ('faith', 'NN'), (',', ','), ('praying', 'VBG'), ('in', 'IN'), ('the', 'DT'), ('Holy', 'NNP'), ('Ghost', 'NNP'), (',', ','), ('Keep', 'NNP'), ('yourselves', 'VBZ'), ('in', 'IN'), ('the', 'DT'), ('love', 'NN'), ('of', 'IN'), ('God', 'NNP'), (',', ','), ('looking', 'VBG'), ('for', 'IN'), ('the', 'DT'), ('mercy', 'NN'), ('of', 'IN'), ('our', 'PRP$'), ('Lord', 'NNP'), ('Jesus', 'NNP'), ('Christ', 'NNP'), ('to', 'TO'), ('eternal', 'JJ'), ('life.And', 'NN'), ('of', 'IN'), ('some', 'DT'), ('have', 'VBP'), ('compassion', 'NN'), (',', ','), ('making', 'VBG'), ('a', 'DT'), ('difference', 'NN'), (':', ':'), ('And', 'CC'), ('others', 'NNS'), ('save', 'VBP'), ('with', 'IN'), ('fear', 'NN'), (',', ','), ('pulling', 'VBG'), ('them', 'PRP'), ('out', 'IN'), ('of', 'IN'), ('the', 'DT'), ('fire', 'NN'), (';', ':'), ('hating', 'VBG'), ('even', 'RB'), ('the', 'DT'), ('garment', 'NN'), ('spotted', 'VBN'), ('by', 'IN'), ('the', 'DT'), ('flesh.Now', 'NN'), ('to', 'TO'), ('him', 'PRP'), ('that', 'DT'), ('is', 'VBZ'), ('able', 'JJ'), ('to', 'TO'), ('keep', 'VB'), ('you', 'PRP'), ('from', 'IN'), ('falling', 'VBG'), (',', ','), ('and', 'CC'), ('to', 'TO'), ('present', 'VB'), ('you', 'PRP'), ('faultless', 'JJ'), ('before', 'IN'), ('the', 'DT'), ('presence', 'NN'), ('of', 'IN'), ('his', 'PRP$'), ('glory', 'NN'), ('with', 'IN'), ('exceeding', 'VBG'), ('joy', 'NN'), (',', ','), ('To', 'TO'), ('the', 'DT'), ('only', 'JJ'), ('wise', 'NN'), ('God', 'NNP'), ('our', 'PRP$'), ('Savior', 'NNP'), (',', ','), ('be', 'VB'), ('glory', 'NN'), ('and', 'CC'), ('majesty', 'NN'), (',', ','), ('dominion', 'NN'), ('and', 'CC'), ('power', 'NN'), (',', ','), ('both', 'DT'), ('now', 'RB'), ('and', 'CC'), ('ever', 'RB'), ('.', '.'), ('Amen', 'NNS'), ('.', '.')]\n"
     ]
    }
   ],
   "source": [
    "classes = nltk.pos_tag(tokens)\n",
    "print(classes)"
   ]
  },
  {
   "cell_type": "markdown",
   "metadata": {},
   "source": [
    "# URL DO SITE POS TAG"
   ]
  },
  {
   "cell_type": "markdown",
   "metadata": {},
   "source": [
    "https://cs.nyu.edu/grishman/jet/guide/PennPOS.html"
   ]
  },
  {
   "cell_type": "markdown",
   "metadata": {},
   "source": [
    "# URL DE EXEMPLOS DE TEXTO EM PORTUGUES"
   ]
  },
  {
   "cell_type": "markdown",
   "metadata": {},
   "source": [
    "http://www.nltk.org/howto/portuguese_en.html"
   ]
  },
  {
   "cell_type": "markdown",
   "metadata": {},
   "source": [
    "# URL de mineração de texto com python"
   ]
  },
  {
   "cell_type": "markdown",
   "metadata": {},
   "source": [
    "https://cs.nyu.edu/grishman/jet/guide/PennPOS.html"
   ]
  },
  {
   "cell_type": "markdown",
   "metadata": {},
   "source": [
    "# URL de modelo de text mining com python (k -medias)"
   ]
  },
  {
   "cell_type": "markdown",
   "metadata": {},
   "source": [
    "https://nbviewer.jupyter.org/github/LucasTurtle/national-anthems-clustering/blob/master/Cluster_Anthems.ipynb"
   ]
  },
  {
   "cell_type": "markdown",
   "metadata": {},
   "source": [
    "# URL de um modelo de bag of word"
   ]
  },
  {
   "cell_type": "markdown",
   "metadata": {},
   "source": [
    "https://pythonprogramminglanguage.com/bag-of-words/"
   ]
  },
  {
   "cell_type": "markdown",
   "metadata": {},
   "source": [
    "# URL de modelo de extração de features"
   ]
  },
  {
   "cell_type": "markdown",
   "metadata": {},
   "source": [
    "https://scikit-learn.org/stable/modules/feature_extraction.html"
   ]
  },
  {
   "cell_type": "markdown",
   "metadata": {},
   "source": [
    "# URL de json da Biblia em ingles (versão king)"
   ]
  },
  {
   "cell_type": "markdown",
   "metadata": {},
   "source": [
    "https://raw.githubusercontent.com/camilacarvalho/Biblia---em-JSON/master/json/en_kjv.json\n",
    "\n"
   ]
  },
  {
   "cell_type": "markdown",
   "metadata": {},
   "source": [
    "# URL de uso do KNN"
   ]
  },
  {
   "cell_type": "markdown",
   "metadata": {},
   "source": [
    "https://stackabuse.com/k-nearest-neighbors-algorithm-in-python-and-scikit-learn/"
   ]
  },
  {
   "cell_type": "markdown",
   "metadata": {},
   "source": [
    "# URL de uso com a biblioteca Spacy do python"
   ]
  },
  {
   "cell_type": "markdown",
   "metadata": {},
   "source": [
    "https://www.dataquest.io/blog/tutorial-text-classification-in-python-using-spacy/"
   ]
  },
  {
   "cell_type": "markdown",
   "metadata": {},
   "source": [
    "# URL de texto da biblia txt king James version"
   ]
  },
  {
   "cell_type": "markdown",
   "metadata": {},
   "source": [
    "https://raw.githubusercontent.com/pstephens/kingjames.bible/master/kjv-src/kjv-1769.txt\n",
    "\n"
   ]
  },
  {
   "cell_type": "markdown",
   "metadata": {},
   "source": [
    "# URL de normalização de texto tokenizado para predição de classes \n"
   ]
  },
  {
   "cell_type": "markdown",
   "metadata": {},
   "source": [
    "https://medium.com/machine-learning-intuition/document-classification-part-2-text-processing-eaa26d16c719"
   ]
  },
  {
   "cell_type": "code",
   "execution_count": null,
   "metadata": {},
   "outputs": [],
   "source": []
  }
 ],
 "metadata": {
  "kernelspec": {
   "display_name": "Python 3 (ipykernel)",
   "language": "python",
   "name": "python3"
  },
  "language_info": {
   "codemirror_mode": {
    "name": "ipython",
    "version": 3
   },
   "file_extension": ".py",
   "mimetype": "text/x-python",
   "name": "python",
   "nbconvert_exporter": "python",
   "pygments_lexer": "ipython3",
   "version": "3.7.2"
  }
 },
 "nbformat": 4,
 "nbformat_minor": 4
}
