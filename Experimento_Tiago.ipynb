{
 "cells": [
  {
   "cell_type": "code",
   "execution_count": 1,
   "id": "5e97dfe0",
   "metadata": {},
   "outputs": [],
   "source": [
    "import numpy  as np\n",
    "import pandas as pd\n",
    "import json\n",
    "import pandas"
   ]
  },
  {
   "cell_type": "code",
   "execution_count": 2,
   "id": "1f619f95",
   "metadata": {},
   "outputs": [],
   "source": [
    "import nltk\n",
    "import nltk.corpus\n",
    "from sklearn.feature_extraction.text  import TfidfVectorizer\n",
    "from sklearn.metrics                  import silhouette_samples, silhouette_score\n",
    "from sklearn.preprocessing            import normalize\n",
    "from nltk.tokenize                    import word_tokenize\n",
    "import re\n",
    "from unidecode                        import unidecode\n",
    "from nltk.corpus import stopwords"
   ]
  },
  {
   "cell_type": "code",
   "execution_count": 3,
   "id": "d2160382",
   "metadata": {},
   "outputs": [],
   "source": [
    "import matplotlib.pyplot  as plt\n",
    "import matplotlib.cm      as cm\n",
    "import seaborn            as sns\n",
    "from sklearn.metrics                  import silhouette_samples, silhouette_score\n",
    "from wordcloud                        import WordCloud"
   ]
  },
  {
   "cell_type": "code",
   "execution_count": 4,
   "id": "1afa851b",
   "metadata": {},
   "outputs": [],
   "source": [
    "from sklearn import cluster"
   ]
  },
  {
   "cell_type": "code",
   "execution_count": 5,
   "id": "c47499e2",
   "metadata": {},
   "outputs": [],
   "source": [
    "Tiago_1 = \"James, a servant of God and of the Lord Jesus Christ, to the twelve tribes which are scattered abroad, greeting.My brothers, count it all joy when you fall into divers temptations;Knowing this, that the trying of your faith works patience.But let patience have her perfect work, that you may be perfect and entire, wanting nothing.If any of you lack wisdom, let him ask of God, that gives to all men liberally, and upbraides not; and it shall be given him.But let him ask in faith, nothing wavering. For he that wavers is like a wave of the sea driven with the wind and tossed.For let not that man think that he shall receive any thing of the Lord.A double minded man is unstable in all his ways.Let the brother of low degree rejoice in that he is exalted:But the rich, in that he is made low: because as the flower of the grass he shall pass away.For the sun is no sooner risen with a burning heat, but it wither the grass, and the flower thereof falls, and the grace of the fashion of it perishes: so also shall the rich man fade away in his ways.Blessed is the man that endures temptation: for when he is tried, he shall receive the crown of life, which the Lord has promised to them that love him.Let no man say when he is tempted, I am tempted of God: for God cannot be tempted with evil, neither tempts he any man:But every man is tempted, when he is drawn away of his own lust, and enticed.Then when lust has conceived, it brings forth sin: and sin, when it is finished, brings forth death.Do not err, my beloved brothers.Every good gift and every perfect gift is from above, and comes down from the Father of lights, with whom is no ficklenss, neither shadow of turning.Of his own will begat he us with the word of truth, that we should be a kind of first fruits of his creatures.Why, my beloved brothers, let every man be swift to hear, slow to speak, slow to wrath:For the wrath of man works not the righteousness of God.Why lay apart all filthiness and superfluity of naughtiness, and receive with meekness the engrafted word, which is able to save your souls.But be you doers of the word, and not hearers only, deceiving your own selves.For if any be a hearer of the word, and not a doer, he is like to a man beholding his natural face in a glass:For he beholds himself, and goes his way, and straightway forgets what manner of man he was.But whoever looks into the perfect law of liberty, and continues therein, he being not a forgetful hearer, but a doer of the work, this man shall be blessed in his deed.If any man among you seem to be religious, and bridles not his tongue, but deceives his own heart, this man' religion is vain.Pure religion and undefiled before God and the Father is this, To visit the fatherless and widows in their affliction, and to keep himself unspotted from the world.\".lower()"
   ]
  },
  {
   "cell_type": "code",
   "execution_count": 6,
   "id": "63cbb7ca",
   "metadata": {},
   "outputs": [],
   "source": [
    "Tiago_2 = \"My brothers, have not the faith of our Lord Jesus Christ, the Lord of glory, with respect of persons.For if there come to your assembly a man with a gold ring, in goodly apparel, and there come in also a poor man in vile raiment;And you have respect to him that wears the gay clothing, and say to him, Sit you here in a good place; and say to the poor, Stand you there, or sit here under my footstool:Are you not then partial in yourselves, and are become judges of evil thoughts?Listen, my beloved brothers, Has not God chosen the poor of this world rich in faith, and heirs of the kingdom which he has promised to them that love him?But you have despised the poor. Do not rich men oppress you, and draw you before the judgment seats?Do not they blaspheme that worthy name by the which you are called?If you fulfill the royal law according to the scripture, You shall love your neighbor as yourself, you do well:But if you have respect to persons, you commit sin, and are convinced of the law as transgressors.For whoever shall keep the whole law, and yet offend in one point, he is guilty of all.For he that said, Do not commit adultery, said also, Do not kill. Now if you commit no adultery, yet if you kill, you are become a transgressor of the law.So speak you, and so do, as they that shall be judged by the law of liberty.For he shall have judgment without mercy, that has showed no mercy; and mercy rejoices against judgment.What does it profit, my brothers, though a man say he has faith, and have not works? can faith save him?If a brother or sister be naked, and destitute of daily food,And one of you say to them, Depart in peace, be you warmed and filled; notwithstanding you give them not those things which are needful to the body; what does it profit?Even so faith, if it has not works, is dead, being alone.Yes, a man may say, You have faith, and I have works: show me your faith without your works, and I will show you my faith by my works.You believe that there is one God; you do well: the devils also believe, and tremble.But will you know, O vain man, that faith without works is dead?Was not Abraham our father justified by works, when he had offered Isaac his son on the altar?See you how faith worked with his works, and by works was faith made perfect?And the scripture was fulfilled which said, Abraham believed God, and it was imputed to him for righteousness: and he was called the Friend of God.You see then how that by works a man is justified, and not by faith only.Likewise also was not Rahab the harlot justified by works, when she had received the messengers, and had sent them out another way?For as the body without the spirit is dead, so faith without works is dead also.\".lower()"
   ]
  },
  {
   "cell_type": "code",
   "execution_count": 7,
   "id": "3a7fc849",
   "metadata": {},
   "outputs": [],
   "source": [
    "Tiago_3 = \"My brothers, be not many masters, knowing that we shall receive the greater condemnation.For in many things we offend all. If any man offend not in word, the same is a perfect man, and able also to bridle the whole body.Behold, we put bits in the horses'mouths, that they may obey us; and we turn about their whole body.Behold also the ships, which though they be so great, and are driven of fierce winds, yet are they turned about with a very small helm, wherever the governor wants.Even so the tongue is a little member, and boasts great things. Behold, how great a matter a little fire kindles!And the tongue is a fire, a world of iniquity: so is the tongue among our members, that it defiles the whole body, and sets on fire the course of nature; and it is set on fire of hell.For every kind of beasts, and of birds, and of serpents, and of things in the sea, is tamed, and has been tamed of mankind:But the tongue can no man tame; it is an unruly evil, full of deadly poison.Therewith bless we God, even the Father; and therewith curse we men, which are made after the similitude of God.Out of the same mouth proceeds blessing and cursing. My brothers, these things ought not so to be.Does a fountain send forth at the same place sweet water and bitter?Can the fig tree, my brothers, bear olive berries? either a vine, figs? so can no fountain both yield salt water and fresh.Who is a wise man and endued with knowledge among you? let him show out of a good conversation his works with meekness of wisdom.But if you have bitter envying and strife in your hearts, glory not, and lie not against the truth.This wisdom descends not from above, but is earthly, sensual, devilish.For where envying and strife is, there is confusion and every evil work.But the wisdom that is from above is first pure, then peaceable, gentle, and easy to be entreated, full of mercy and good fruits, without partiality, and without hypocrisy.And the fruit of righteousness is sown in peace of them that make peace.\".lower()"
   ]
  },
  {
   "cell_type": "code",
   "execution_count": 8,
   "id": "5e2d21b4",
   "metadata": {},
   "outputs": [],
   "source": [
    "Tiago_4 = \"From where come wars and fights among you? come they not hence, even of your lusts that war in your members?You lust, and have not: you kill, and desire to have, and cannot obtain: you fight and war, yet you have not, because you ask not.You ask, and receive not, because you ask amiss, that you may consume it on your lusts.You adulterers and adulteresses, know you not that the friendship of the world is enmity with God? whoever therefore will be a friend of the world is the enemy of God.Do you think that the scripture said in vain, The spirit that dwells in us lusts to envy?But he gives more grace. Why he said, God resists the proud, but gives grace to the humble.Submit yourselves therefore to God. Resist the devil, and he will flee from you.Draw near to God, and he will draw near to you. Cleanse your hands, you sinners; and purify your hearts, you double minded.Be afflicted, and mourn, and weep: let your laughter be turned to mourning, and your joy to heaviness.Humble yourselves in the sight of the Lord, and he shall lift you up.Speak not evil one of another, brothers. He that speaks evil of his brother, and judges his brother, speaks evil of the law, and judges the law: but if you judge the law, you are not a doer of the law, but a judge.There is one lawgiver, who is able to save and to destroy: who are you that judge another?Go to now, you that say, To day or to morrow we will go into such a city, and continue there a year, and buy and sell, and get gain:Whereas you know not what shall be on the morrow. For what is your life? It is even a vapor, that appears for a little time, and then vanishes away.For that you ought to say, If the Lord will, we shall live, and do this, or that.But now you rejoice in your boastings: all such rejoicing is evil.Therefore to him that knows to do good, and does it not, to him it is sin.\".lower()"
   ]
  },
  {
   "cell_type": "code",
   "execution_count": 9,
   "id": "649463da",
   "metadata": {},
   "outputs": [],
   "source": [
    "Tiago_5 = \"Go to now, you rich men, weep and howl for your miseries that shall come on you.Your riches are corrupted, and your garments are moth-eaten.Your gold and silver is corroded; and the rust of them shall be a witness against you, and shall eat your flesh as it were fire. You have heaped treasure together for the last days.Behold, the hire of the laborers who have reaped down your fields, which is of you kept back by fraud, cries: and the cries of them which have reaped are entered into the ears of the Lord of sabaoth.You have lived in pleasure on the earth, and been wanton; you have nourished your hearts, as in a day of slaughter.You have condemned and killed the just; and he does not resist you.Be patient therefore, brothers, to the coming of the Lord. Behold, the farmer waits for the precious fruit of the earth, and has long patience for it, until he receive the early and latter rain.Be you also patient; establish your hearts: for the coming of the Lord draws near.Grudge not one against another, brothers, lest you be condemned: behold, the judge stands before the door.Take, my brothers, the prophets, who have spoken in the name of the Lord, for an example of suffering affliction, and of patience.Behold, we count them happy which endure. You have heard of the patience of Job, and have seen the end of the Lord; that the Lord is very pitiful, and of tender mercy.But above all things, my brothers, swear not, neither by heaven, neither by the earth, neither by any other oath: but let your yes be yes; and your no, no; lest you fall into condemnation.Is any among you afflicted? let him pray. Is any merry? let him sing psalms.Is any sick among you? let him call for the elders of the church; and let them pray over him, anointing him with oil in the name of the Lord:And the prayer of faith shall save the sick, and the Lord shall raise him up; and if he have committed sins, they shall be forgiven him.Confess your faults one to another, and pray one for another, that you may be healed. The effectual fervent prayer of a righteous man avails much.Elias was a man subject to like passions as we are, and he prayed earnestly that it might not rain: and it rained not on the earth by the space of three years and six months.And he prayed again, and the heaven gave rain, and the earth brought forth her fruit.Brothers, if any of you do err from the truth, and one convert him;Let him know, that he which converts the sinner from the error of his way shall save a soul from death, and shall hide a multitude of sins.\".lower()"
   ]
  },
  {
   "cell_type": "code",
   "execution_count": 30,
   "id": "5aca9920",
   "metadata": {},
   "outputs": [],
   "source": [
    "tokens = nltk.word_tokenize(Tiago_5)"
   ]
  },
  {
   "cell_type": "code",
   "execution_count": 31,
   "id": "cfbba1c7",
   "metadata": {},
   "outputs": [],
   "source": [
    "stop_words = set(stopwords.words('english'))"
   ]
  },
  {
   "cell_type": "code",
   "execution_count": 32,
   "id": "1e6e74a6",
   "metadata": {},
   "outputs": [],
   "source": [
    "filtered_sentence1 = [w for w in tokens if not w in stop_words] \n",
    "  \n",
    "filtered_sentence1 = []\n",
    "  \n",
    "for w in tokens: \n",
    "    if w not in stop_words: \n",
    "        filtered_sentence1.append(w)"
   ]
  },
  {
   "cell_type": "code",
   "execution_count": 33,
   "id": "ea038d28",
   "metadata": {},
   "outputs": [
    {
     "name": "stdout",
     "output_type": "stream",
     "text": [
      "['go', ',', 'rich', 'men', ',', 'weep', 'howl', 'miseries', 'shall', 'come', 'you.your', 'riches', 'corrupted', ',', 'garments', 'moth-eaten.your', 'gold', 'silver', 'corroded', ';', 'rust', 'shall', 'witness', ',', 'shall', 'eat', 'flesh', 'fire', '.', 'heaped', 'treasure', 'together', 'last', 'days.behold', ',', 'hire', 'laborers', 'reaped', 'fields', ',', 'kept', 'back', 'fraud', ',', 'cries', ':', 'cries', 'reaped', 'entered', 'ears', 'lord', 'sabaoth.you', 'lived', 'pleasure', 'earth', ',', 'wanton', ';', 'nourished', 'hearts', ',', 'day', 'slaughter.you', 'condemned', 'killed', ';', 'resist', 'you.be', 'patient', 'therefore', ',', 'brothers', ',', 'coming', 'lord', '.', 'behold', ',', 'farmer', 'waits', 'precious', 'fruit', 'earth', ',', 'long', 'patience', ',', 'receive', 'early', 'latter', 'rain.be', 'also', 'patient', ';', 'establish', 'hearts', ':', 'coming', 'lord', 'draws', 'near.grudge', 'one', 'another', ',', 'brothers', ',', 'lest', 'condemned', ':', 'behold', ',', 'judge', 'stands', 'door.take', ',', 'brothers', ',', 'prophets', ',', 'spoken', 'name', 'lord', ',', 'example', 'suffering', 'affliction', ',', 'patience.behold', ',', 'count', 'happy', 'endure', '.', 'heard', 'patience', 'job', ',', 'seen', 'end', 'lord', ';', 'lord', 'pitiful', ',', 'tender', 'mercy.but', 'things', ',', 'brothers', ',', 'swear', ',', 'neither', 'heaven', ',', 'neither', 'earth', ',', 'neither', 'oath', ':', 'let', 'yes', 'yes', ';', ',', ';', 'lest', 'fall', 'condemnation.is', 'among', 'afflicted', '?', 'let', 'pray', '.', 'merry', '?', 'let', 'sing', 'psalms.is', 'sick', 'among', '?', 'let', 'call', 'elders', 'church', ';', 'let', 'pray', ',', 'anointing', 'oil', 'name', 'lord', ':', 'prayer', 'faith', 'shall', 'save', 'sick', ',', 'lord', 'shall', 'raise', ';', 'committed', 'sins', ',', 'shall', 'forgiven', 'him.confess', 'faults', 'one', 'another', ',', 'pray', 'one', 'another', ',', 'may', 'healed', '.', 'effectual', 'fervent', 'prayer', 'righteous', 'man', 'avails', 'much.elias', 'man', 'subject', 'like', 'passions', ',', 'prayed', 'earnestly', 'might', 'rain', ':', 'rained', 'earth', 'space', 'three', 'years', 'six', 'months.and', 'prayed', ',', 'heaven', 'gave', 'rain', ',', 'earth', 'brought', 'forth', 'fruit.brothers', ',', 'err', 'truth', ',', 'one', 'convert', ';', 'let', 'know', ',', 'converts', 'sinner', 'error', 'way', 'shall', 'save', 'soul', 'death', ',', 'shall', 'hide', 'multitude', 'sins', '.']\n"
     ]
    }
   ],
   "source": [
    "print(filtered_sentence1)"
   ]
  },
  {
   "cell_type": "code",
   "execution_count": 34,
   "id": "05d213f0",
   "metadata": {},
   "outputs": [],
   "source": [
    "data =np.array([[\"Tiago_1\", \"'james', ',', 'servant', 'god', 'lord', 'jesus', 'christ', ',', 'twelve', 'tribes', 'scattered', 'abroad', ',', 'greeting.my', 'brothers', ',', 'count', 'joy', 'fall', 'divers', 'temptations', ';', 'knowing', ',', 'trying', 'faith', 'works', 'patience.but', 'let', 'patience', 'perfect', 'work', ',', 'may', 'perfect', 'entire', ',', 'wanting', 'nothing.if', 'lack', 'wisdom', ',', 'let', 'ask', 'god', ',', 'gives', 'men', 'liberally', ',', 'upbraides', ';', 'shall', 'given', 'him.but', 'let', 'ask', 'faith', ',', 'nothing', 'wavering', '.', 'wavers', 'like', 'wave', 'sea', 'driven', 'wind', 'tossed.for', 'let', 'man', 'think', 'shall', 'receive', 'thing', 'lord.a', 'double', 'minded', 'man', 'unstable', 'ways.let', 'brother', 'low', 'degree', 'rejoice', 'exalted', ':', 'rich', ',', 'made', 'low', ':', 'flower', 'grass', 'shall', 'pass', 'away.for', 'sun', 'sooner', 'risen', 'burning', 'heat', ',', 'wither', 'grass', ',', 'flower', 'thereof', 'falls', ',', 'grace', 'fashion', 'perishes', ':', 'also', 'shall', 'rich', 'man', 'fade', 'away', 'ways.blessed', 'man', 'endures', 'temptation', ':', 'tried', ',', 'shall', 'receive', 'crown', 'life', ',', 'lord', 'promised', 'love', 'him.let', 'man', 'say', 'tempted', ',', 'tempted', 'god', ':', 'god', 'tempted', 'evil', ',', 'neither', 'tempts', 'man', ':', 'every', 'man', 'tempted', ',', 'drawn', 'away', 'lust', ',', 'enticed.then', 'lust', 'conceived', ',', 'brings', 'forth', 'sin', ':', 'sin', ',', 'finished', ',', 'brings', 'forth', 'death.do', 'err', ',', 'beloved', 'brothers.every', 'good', 'gift', 'every', 'perfect', 'gift', ',', 'comes', 'father', 'lights', ',', 'ficklenss', ',', 'neither', 'shadow', 'turning.of', 'begat', 'us', 'word', 'truth', ',', 'kind', 'first', 'fruits', 'creatures.why', ',', 'beloved', 'brothers', ',', 'let', 'every', 'man', 'swift', 'hear', ',', 'slow', 'speak', ',', 'slow', 'wrath', ':', 'wrath', 'man', 'works', 'righteousness', 'god.why', 'lay', 'apart', 'filthiness', 'superfluity', 'naughtiness', ',', 'receive', 'meekness', 'engrafted', 'word', ',', 'able', 'save', 'souls.but', 'doers', 'word', ',', 'hearers', ',', 'deceiving', 'selves.for', 'hearer', 'word', ',', 'doer', ',', 'like', 'man', 'beholding', 'natural', 'face', 'glass', ':', 'beholds', ',', 'goes', 'way', ',', 'straightway', 'forgets', 'manner', 'man', 'was.but', 'whoever', 'looks', 'perfect', 'law', 'liberty', ',', 'continues', 'therein', ',', 'forgetful', 'hearer', ',', 'doer', 'work', ',', 'man', 'shall', 'blessed', 'deed.if', 'man', 'among', 'seem', 'religious', ',', 'bridles', 'tongue', ',', 'deceives', 'heart', ',', 'man', ', 'religion', 'vain.pure', 'religion', 'undefiled', 'god', 'father', ',', 'visit', 'fatherless', 'widows', 'affliction', ',', 'keep', 'unspotted', 'world', '.'\"],\n",
    "               [\"Tiago_2\", \"'brothers', ',', 'faith', 'lord', 'jesus', 'christ', ',', 'lord', 'glory', ',', 'respect', 'persons.for', 'come', 'assembly', 'man', 'gold', 'ring', ',', 'goodly', 'apparel', ',', 'come', 'also', 'poor', 'man', 'vile', 'raiment', ';', 'respect', 'wears', 'gay', 'clothing', ',', 'say', ',', 'sit', 'good', 'place', ';', 'say', 'poor', ',', 'stand', ',', 'sit', 'footstool', ':', 'partial', ',', 'become', 'judges', 'evil', 'thoughts', '?', 'listen', ',', 'beloved', 'brothers', ',', 'god', 'chosen', 'poor', 'world', 'rich', 'faith', ',', 'heirs', 'kingdom', 'promised', 'love', '?', 'despised', 'poor', '.', 'rich', 'men', 'oppress', ',', 'draw', 'judgment', 'seats', '?', 'blaspheme', 'worthy', 'name', 'called', '?', 'fulfill', 'royal', 'law', 'according', 'scripture', ',', 'shall', 'love', 'neighbor', ',', 'well', ':', 'respect', 'persons', ',', 'commit', 'sin', ',', 'convinced', 'law', 'transgressors.for', 'whoever', 'shall', 'keep', 'whole', 'law', ',', 'yet', 'offend', 'one', 'point', ',', 'guilty', 'all.for', 'said', ',', 'commit', 'adultery', ',', 'said', 'also', ',', 'kill', '.', 'commit', 'adultery', ',', 'yet', 'kill', ',', 'become', 'transgressor', 'law.so', 'speak', ',', ',', 'shall', 'judged', 'law', 'liberty.for', 'shall', 'judgment', 'without', 'mercy', ',', 'showed', 'mercy', ';', 'mercy', 'rejoices', 'judgment.what', 'profit', ',', 'brothers', ',', 'though', 'man', 'say', 'faith', ',', 'works', '?', 'faith', 'save', '?', 'brother', 'sister', 'naked', ',', 'destitute', 'daily', 'food', ',', 'one', 'say', ',', 'depart', 'peace', ',', 'warmed', 'filled', ';', 'notwithstanding', 'give', 'things', 'needful', 'body', ';', 'profit', '?', 'even', 'faith', ',', 'works', ',', 'dead', ',', 'alone.yes', ',', 'man', 'may', 'say', ',', 'faith', ',', 'works', ':', 'show', 'faith', 'without', 'works', ',', 'show', 'faith', 'works.you', 'believe', 'one', 'god', ';', 'well', ':', 'devils', 'also', 'believe', ',', 'tremble.but', 'know', ',', 'vain', 'man', ',', 'faith', 'without', 'works', 'dead', '?', 'abraham', 'father', 'justified', 'works', ',', 'offered', 'isaac', 'son', 'altar', '?', 'see', 'faith', 'worked', 'works', ',', 'works', 'faith', 'made', 'perfect', '?', 'scripture', 'fulfilled', 'said', ',', 'abraham', 'believed', 'god', ',', 'imputed', 'righteousness', ':', 'called', 'friend', 'god.you', 'see', 'works', 'man', 'justified', ',', 'faith', 'only.likewise', 'also', 'rahab', 'harlot', 'justified', 'works', ',', 'received', 'messengers', ',', 'sent', 'another', 'way', '?', 'body', 'without', 'spirit', 'dead', ',', 'faith', 'without', 'works', 'dead', 'also', '.'\"],\n",
    "               [\"Tiago_3\", \"'brothers', ',', 'many', 'masters', ',', 'knowing', 'shall', 'receive', 'greater', 'condemnation.for', 'many', 'things', 'offend', '.', 'man', 'offend', 'word', ',', 'perfect', 'man', ',', 'able', 'also', 'bridle', 'whole', 'body.behold', ',', 'put', 'bits', horses'mouths, ',', 'may', 'obey', 'us', ';', 'turn', 'whole', 'body.behold', 'also', 'ships', ',', 'though', 'great', ',', 'driven', 'fierce', 'winds', ',', 'yet', 'turned', 'small', 'helm', ',', 'wherever', 'governor', 'wants.even', 'tongue', 'little', 'member', ',', 'boasts', 'great', 'things', '.', 'behold', ',', 'great', 'matter', 'little', 'fire', 'kindles', '!', 'tongue', 'fire', ',', 'world', 'iniquity', ':', 'tongue', 'among', 'members', ',', 'defiles', 'whole', 'body', ',', 'sets', 'fire', 'course', 'nature', ';', 'set', 'fire', 'hell.for', 'every', 'kind', 'beasts', ',', 'birds', ',', 'serpents', ',', 'things', 'sea', ',', 'tamed', ',', 'tamed', 'mankind', ':', 'tongue', 'man', 'tame', ';', 'unruly', 'evil', ',', 'full', 'deadly', 'poison.therewith', 'bless', 'god', ',', 'even', 'father', ';', 'therewith', 'curse', 'men', ',', 'made', 'similitude', 'god.out', 'mouth', 'proceeds', 'blessing', 'cursing', '.', 'brothers', ',', 'things', 'ought', 'be.does', 'fountain', 'send', 'forth', 'place', 'sweet', 'water', 'bitter', '?', 'fig', 'tree', ',', 'brothers', ',', 'bear', 'olive', 'berries', '?', 'either', 'vine', ',', 'figs', '?', 'fountain', 'yield', 'salt', 'water', 'fresh.who', 'wise', 'man', 'endued', 'knowledge', 'among', '?', 'let', 'show', 'good', 'conversation', 'works', 'meekness', 'wisdom.but', 'bitter', 'envying', 'strife', 'hearts', ',', 'glory', ',', 'lie', 'truth.this', 'wisdom', 'descends', ',', 'earthly', ',', 'sensual', ',', 'devilish.for', 'envying', 'strife', ',', 'confusion', 'every', 'evil', 'work.but', 'wisdom', 'first', 'pure', ',', 'peaceable', ',', 'gentle', ',', 'easy', 'entreated', ',', 'full', 'mercy', 'good', 'fruits', ',', 'without', 'partiality', ',', 'without', 'hypocrisy.and', 'fruit', 'righteousness', 'sown', 'peace', 'make', 'peace', '.'\"],\n",
    "               [\"Tiago_4\", \"'come', 'wars', 'fights', 'among', '?', 'come', 'hence', ',', 'even', 'lusts', 'war', 'members', '?', 'lust', ',', ':', 'kill', ',', 'desire', ',', 'obtain', ':', 'fight', 'war', ',', 'yet', ',', 'ask', 'not.you', 'ask', ',', 'receive', ',', 'ask', 'amiss', ',', 'may', 'consume', 'lusts.you', 'adulterers', 'adulteresses', ',', 'know', 'friendship', 'world', 'enmity', 'god', '?', 'whoever', 'therefore', 'friend', 'world', 'enemy', 'god.do', 'think', 'scripture', 'said', 'vain', ',', 'spirit', 'dwells', 'us', 'lusts', 'envy', '?', 'gives', 'grace', '.', 'said', ',', 'god', 'resists', 'proud', ',', 'gives', 'grace', 'humble.submit', 'therefore', 'god', '.', 'resist', 'devil', ',', 'flee', 'you.draw', 'near', 'god', ',', 'draw', 'near', '.', 'cleanse', 'hands', ',', 'sinners', ';', 'purify', 'hearts', ',', 'double', 'minded.be', 'afflicted', ',', 'mourn', ',', 'weep', ':', 'let', 'laughter', 'turned', 'mourning', ',', 'joy', 'heaviness.humble', 'sight', 'lord', ',', 'shall', 'lift', 'up.speak', 'evil', 'one', 'another', ',', 'brothers', '.', 'speaks', 'evil', 'brother', ',', 'judges', 'brother', ',', 'speaks', 'evil', 'law', ',', 'judges', 'law', ':', 'judge', 'law', ',', 'doer', 'law', ',', 'judge.there', 'one', 'lawgiver', ',', 'able', 'save', 'destroy', ':', 'judge', 'another', '?', 'go', ',', 'say', ',', 'day', 'morrow', 'go', 'city', ',', 'continue', 'year', ',', 'buy', 'sell', ',', 'get', 'gain', ':', 'whereas', 'know', 'shall', 'morrow', '.', 'life', '?', 'even', 'vapor', ',', 'appears', 'little', 'time', ',', 'vanishes', 'away.for', 'ought', 'say', ',', 'lord', ',', 'shall', 'live', ',', ',', 'that.but', 'rejoice', 'boastings', ':', 'rejoicing', 'evil.therefore', 'knows', 'good', ',', ',', 'sin', '.'\"],\n",
    "               [\"Tiago_5\", \"'go', ',', 'rich', 'men', ',', 'weep', 'howl', 'miseries', 'shall', 'come', 'you.your', 'riches', 'corrupted', ',', 'garments', 'moth-eaten.your', 'gold', 'silver', 'corroded', ';', 'rust', 'shall', 'witness', ',', 'shall', 'eat', 'flesh', 'fire', '.', 'heaped', 'treasure', 'together', 'last', 'days.behold', ',', 'hire', 'laborers', 'reaped', 'fields', ',', 'kept', 'back', 'fraud', ',', 'cries', ':', 'cries', 'reaped', 'entered', 'ears', 'lord', 'sabaoth.you', 'lived', 'pleasure', 'earth', ',', 'wanton', ';', 'nourished', 'hearts', ',', 'day', 'slaughter.you', 'condemned', 'killed', ';', 'resist', 'you.be', 'patient', 'therefore', ',', 'brothers', ',', 'coming', 'lord', '.', 'behold', ',', 'farmer', 'waits', 'precious', 'fruit', 'earth', ',', 'long', 'patience', ',', 'receive', 'early', 'latter', 'rain.be', 'also', 'patient', ';', 'establish', 'hearts', ':', 'coming', 'lord', 'draws', 'near.grudge', 'one', 'another', ',', 'brothers', ',', 'lest', 'condemned', ':', 'behold', ',', 'judge', 'stands', 'door.take', ',', 'brothers', ',', 'prophets', ',', 'spoken', 'name', 'lord', ',', 'example', 'suffering', 'affliction', ',', 'patience.behold', ',', 'count', 'happy', 'endure', '.', 'heard', 'patience', 'job', ',', 'seen', 'end', 'lord', ';', 'lord', 'pitiful', ',', 'tender', 'mercy.but', 'things', ',', 'brothers', ',', 'swear', ',', 'neither', 'heaven', ',', 'neither', 'earth', ',', 'neither', 'oath', ':', 'let', 'yes', 'yes', ';', ',', ';', 'lest', 'fall', 'condemnation.is', 'among', 'afflicted', '?', 'let', 'pray', '.', 'merry', '?', 'let', 'sing', 'psalms.is', 'sick', 'among', '?', 'let', 'call', 'elders', 'church', ';', 'let', 'pray', ',', 'anointing', 'oil', 'name', 'lord', ':', 'prayer', 'faith', 'shall', 'save', 'sick', ',', 'lord', 'shall', 'raise', ';', 'committed', 'sins', ',', 'shall', 'forgiven', 'him.confess', 'faults', 'one', 'another', ',', 'pray', 'one', 'another', ',', 'may', 'healed', '.', 'effectual', 'fervent', 'prayer', 'righteous', 'man', 'avails', 'much.elias', 'man', 'subject', 'like', 'passions', ',', 'prayed', 'earnestly', 'might', 'rain', ':', 'rained', 'earth', 'space', 'three', 'years', 'six', 'months.and', 'prayed', ',', 'heaven', 'gave', 'rain', ',', 'earth', 'brought', 'forth', 'fruit.brothers', ',', 'err', 'truth', ',', 'one', 'convert', ';', 'let', 'know', ',', 'converts', 'sinner', 'error', 'way', 'shall', 'save', 'soul', 'death', ',', 'shall', 'hide', 'multitude', 'sins', '.'\"]])"
   ]
  },
  {
   "cell_type": "code",
   "execution_count": 36,
   "id": "79764a2b",
   "metadata": {},
   "outputs": [],
   "source": [
    "df = pd.DataFrame(data, index=range(100,105),columns=['Autor', 'Livro'])"
   ]
  },
  {
   "cell_type": "code",
   "execution_count": 37,
   "id": "6c7a516a",
   "metadata": {},
   "outputs": [
    {
     "name": "stdout",
     "output_type": "stream",
     "text": [
      "       Autor                                              Livro\n",
      "100  Tiago_1  'james', ',', 'servant', 'god', 'lord', 'jesus...\n",
      "101  Tiago_2  'brothers', ',', 'faith', 'lord', 'jesus', 'ch...\n",
      "102  Tiago_3  'brothers', ',', 'many', 'masters', ',', 'know...\n",
      "103  Tiago_4  'come', 'wars', 'fights', 'among', '?', 'come'...\n",
      "104  Tiago_5  'go', ',', 'rich', 'men', ',', 'weep', 'howl',...\n"
     ]
    }
   ],
   "source": [
    "print(df)"
   ]
  },
  {
   "cell_type": "code",
   "execution_count": null,
   "id": "02aa0d8d",
   "metadata": {},
   "outputs": [],
   "source": []
  }
 ],
 "metadata": {
  "kernelspec": {
   "display_name": "Python 3 (ipykernel)",
   "language": "python",
   "name": "python3"
  },
  "language_info": {
   "codemirror_mode": {
    "name": "ipython",
    "version": 3
   },
   "file_extension": ".py",
   "mimetype": "text/x-python",
   "name": "python",
   "nbconvert_exporter": "python",
   "pygments_lexer": "ipython3",
   "version": "3.7.2"
  }
 },
 "nbformat": 4,
 "nbformat_minor": 5
}
