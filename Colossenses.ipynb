{
 "cells": [
  {
   "cell_type": "code",
   "execution_count": 1,
   "id": "06a4c957",
   "metadata": {},
   "outputs": [],
   "source": [
    "import numpy  as np\n",
    "import pandas as pd\n",
    "import json\n",
    "import pandas"
   ]
  },
  {
   "cell_type": "code",
   "execution_count": 2,
   "id": "c9aabb58",
   "metadata": {},
   "outputs": [],
   "source": [
    "import nltk\n",
    "import nltk.corpus\n",
    "from sklearn.feature_extraction.text  import TfidfVectorizer\n",
    "from sklearn.metrics                  import silhouette_samples, silhouette_score\n",
    "from sklearn.preprocessing            import normalize\n",
    "from nltk.tokenize                    import word_tokenize\n",
    "import re\n",
    "from unidecode                        import unidecode\n",
    "from nltk.corpus import stopwords"
   ]
  },
  {
   "cell_type": "code",
   "execution_count": 3,
   "id": "680ec34c",
   "metadata": {},
   "outputs": [],
   "source": [
    "import matplotlib.pyplot  as plt\n",
    "import matplotlib.cm      as cm\n",
    "import seaborn            as sns\n",
    "from sklearn.metrics                  import silhouette_samples, silhouette_score\n",
    "from wordcloud                        import WordCloud"
   ]
  },
  {
   "cell_type": "code",
   "execution_count": 4,
   "id": "cef29f0d",
   "metadata": {},
   "outputs": [],
   "source": [
    "from sklearn import cluster"
   ]
  },
  {
   "cell_type": "code",
   "execution_count": 5,
   "id": "0b5dc766",
   "metadata": {},
   "outputs": [],
   "source": [
    "Colossenses_1 = \"Paul, an apostle of Jesus Christ by the will of God, and Timotheus our brother,To the saints and faithful brothers in Christ which are at Colosse: Grace be to you, and peace, from God our Father and the Lord Jesus Christ.We give thanks to God and the Father of our Lord Jesus Christ, praying always for you,Since we heard of your faith in Christ Jesus, and of the love which you have to all the saints,For the hope which is laid up for you in heaven, whereof you heard before in the word of the truth of the gospel;Which is come to you, as it is in all the world; and brings forth fruit, as it does also in you, since the day you heard of it, and knew the grace of God in truth:As you also learned of Epaphras our dear fellow servant, who is for you a faithful minister of Christ;Who also declared to us your love in the Spirit.For this cause we also, since the day we heard it, do not cease to pray for you, and to desire that you might be filled with the knowledge of his will in all wisdom and spiritual understanding;That you might walk worthy of the Lord to all pleasing, being fruitful in every good work, and increasing in the knowledge of God;Strengthened with all might, according to his glorious power, to all patience and long-suffering with joyfulness;Giving thanks to the Father, which has made us meet to be partakers of the inheritance of the saints in light:Who has delivered us from the power of darkness, and has translated us into the kingdom of his dear Son:In whom we have redemption through his blood, even the forgiveness of sins:Who is the image of the invisible God, the firstborn of every creature:For by him were all things created, that are in heaven, and that are in earth, visible and invisible, whether they be thrones, or dominions, or principalities, or powers: all things were created by him, and for him:And he is before all things, and by him all things consist.And he is the head of the body, the church: who is the beginning, the firstborn from the dead; that in all things he might have the preeminence.For it pleased the Father that in him should all fullness dwell;And, having made peace through the blood of his cross, by him to reconcile all things to himself; by him, I say, whether they be things in earth, or things in heaven.And you, that were sometime alienated and enemies in your mind by wicked works, yet now has he reconciledIn the body of his flesh through death, to present you holy and blameless and unreproveable in his sight:If you continue in the faith grounded and settled, and be not moved away from the hope of the gospel, which you have heard, and which was preached to every creature which is under heaven; whereof I Paul am made a minister;Who now rejoice in my sufferings for you, and fill up that which is behind of the afflictions of Christ in my flesh for his body' sake, which is the church:Whereof I am made a minister, according to the dispensation of God which is given to me for you, to fulfill the word of God;Even the mystery which has been hid from ages and from generations, but now is made manifest to his saints:To whom God would make known what is the riches of the glory of this mystery among the Gentiles; which is Christ in you, the hope of glory:Whom we preach, warning every man, and teaching every man in all wisdom; that we may present every man perfect in Christ Jesus:Whereunto I also labor, striving according to his working, which works in me mightily.\".lower()"
   ]
  },
  {
   "cell_type": "code",
   "execution_count": 6,
   "id": "3aafced9",
   "metadata": {},
   "outputs": [],
   "source": [
    "Colossenses_2 = \"For I would that you knew what great conflict I have for you, and for them at Laodicea, and for as many as have not seen my face in the flesh;That their hearts might be comforted, being knit together in love, and to all riches of the full assurance of understanding, to the acknowledgment of the mystery of God, and of the Father, and of Christ;In whom are hid all the treasures of wisdom and knowledge.And this I say, lest any man should beguile you with enticing words.For though I be absent in the flesh, yet am I with you in the spirit, rejoicing and beholding your order, and the steadfastness of your faith in Christ.As you have therefore received Christ Jesus the Lord, so walk you in him:Rooted and built up in him, and established in the faith, as you have been taught, abounding therein with thanksgiving.Beware lest any man spoil you through philosophy and vain deceit, after the tradition of men, after the rudiments of the world, and not after Christ.For in him dwells all the fullness of the Godhead bodily.And you are complete in him, which is the head of all principality and power:In whom also you are circumcised with the circumcision made without hands, in putting off the body of the sins of the flesh by the circumcision of Christ:Buried with him in baptism, wherein also you are risen with him through the faith of the operation of God, who has raised him from the dead.And you, being dead in your sins and the uncircumcision of your flesh, has he quickened together with him, having forgiven you all trespasses;Blotting out the handwriting of ordinances that was against us, which was contrary to us, and took it out of the way, nailing it to his cross;And having spoiled principalities and powers, he made a show of them openly, triumphing over them in it.Let no man therefore judge you in meat, or in drink, or in respect of an holy day, or of the new moon, or of the sabbath days:Which are a shadow of things to come; but the body is of Christ.Let no man beguile you of your reward in a voluntary humility and worshipping of angels, intruding into those things which he has not seen, vainly puffed up by his fleshly mind,And not holding the Head, from which all the body by joints and bands having nourishment ministered, and knit together, increases with the increase of God.Why if you be dead with Christ from the rudiments of the world, why, as though living in the world, are you subject to ordinances,(Touch not; taste not; handle not;Which all are to perish with the using;) after the commandments and doctrines of men?Which things have indeed a show of wisdom in will worship, and humility, and neglecting of the body: not in any honor to the satisfying of the flesh.\".lower()"
   ]
  },
  {
   "cell_type": "code",
   "execution_count": 7,
   "id": "196f957a",
   "metadata": {},
   "outputs": [],
   "source": [
    "Colossenses_3 = \"If you then be risen with Christ, seek those things which are above, where Christ sits on the right hand of God.Set your affection on things above, not on things on the earth.For you are dead, and your life is hid with Christ in God.When Christ, who is our life, shall appear, then shall you also appear with him in glory.Mortify therefore your members which are on the earth; fornication, uncleanness, inordinate affection, evil concupiscence, and covetousness, which is idolatry:For which things'sake the wrath of God comes on the children of disobedience:In the which you also walked some time, when you lived in them.But now you also put off all these; anger, wrath, malice, blasphemy, filthy communication out of your mouth.Lie not one to another, seeing that you have put off the old man with his deeds;And have put on the new man, which is renewed in knowledge after the image of him that created him:Where there is neither Greek nor Jew, circumcision nor uncircumcision, Barbarian, Scythian, bond nor free: but Christ is all, and in all.Put on therefore, as the elect of God, holy and beloved, bowels of mercies, kindness, humbleness of mind, meekness, long-suffering;Forbearing one another, and forgiving one another, if any man have a quarrel against any: even as Christ forgave you, so also do you.And above all these things put on charity, which is the bond of perfection.And let the peace of God rule in your hearts, to the which also you are called in one body; and be you thankful.Let the word of Christ dwell in you richly in all wisdom; teaching and admonishing one another in psalms and hymns and spiritual songs, singing with grace in your hearts to the Lord.And whatever you do in word or deed, do all in the name of the Lord Jesus, giving thanks to God and the Father by him.Wives, submit yourselves to your own husbands, as it is fit in the Lord.Husbands, love your wives, and be not bitter against them.Children, obey your parents in all things: for this is well pleasing to the Lord.Fathers, provoke not your children to anger, lest they be discouraged.Servants, obey in all things your masters according to the flesh; not with eye-service, as men pleasers; but in singleness of heart, fearing God;And whatever you do, do it heartily, as to the Lord, and not to men;Knowing that of the Lord you shall receive the reward of the inheritance: for you serve the Lord Christ.But he that does wrong shall receive for the wrong which he has done: and there is no respect of persons.\".lower()"
   ]
  },
  {
   "cell_type": "code",
   "execution_count": 8,
   "id": "9ba6681c",
   "metadata": {},
   "outputs": [],
   "source": [
    "Colossenses_4 = \"Masters, give to your servants that which is just and equal; knowing that you also have a Master in heaven.Continue in prayer, and watch in the same with thanksgiving;With praying also for us, that God would open to us a door of utterance, to speak the mystery of Christ, for which I am also in bonds:That I may make it manifest, as I ought to speak.Walk in wisdom toward them that are without, redeeming the time.Let your speech be always with grace, seasoned with salt, that you may know how you ought to answer every man.All my state shall Tychicus declare to you, who is a beloved brother, and a faithful minister and fellow servant in the Lord:Whom I have sent to you for the same purpose, that he might know your estate, and comfort your hearts;With Onesimus, a faithful and beloved brother, who is one of you. They shall make known to you all things which are done here.Aristarchus my fellow prisoner salutes you, and Marcus, sister' son to Barnabas, (touching whom you received commandments: if he come to you, receive him;)And Jesus, which is called Justus, who are of the circumcision. These only are my fellow workers to the kingdom of God, which have been a comfort to me.Epaphras, who is one of you, a servant of Christ, salutes you, always laboring fervently for you in prayers, that you may stand perfect and complete in all the will of God.For I bear him record, that he has a great zeal for you, and them that are in Laodicea, and them in Hierapolis.Luke, the beloved physician, and Demas, greet you.Salute the brothers which are in Laodicea, and Nymphas, and the church which is in his house.And when this letter is read among you, cause that it be read also in the church of the Laodiceans; and that you likewise read the letter from Laodicea.And say to Archippus, Take heed to the ministry which you have received in the Lord, that you fulfill it.The salutation by the hand of me Paul. Remember my bonds. Grace be with you. Amen.\".lower()"
   ]
  },
  {
   "cell_type": "code",
   "execution_count": 24,
   "id": "069c8c95",
   "metadata": {},
   "outputs": [],
   "source": [
    "tokens = nltk.word_tokenize(Colossenses_4)"
   ]
  },
  {
   "cell_type": "code",
   "execution_count": 25,
   "id": "41323404",
   "metadata": {},
   "outputs": [],
   "source": [
    "stop_words = set(stopwords.words('english'))"
   ]
  },
  {
   "cell_type": "code",
   "execution_count": 26,
   "id": "0249c200",
   "metadata": {},
   "outputs": [],
   "source": [
    "filtered_sentence1 = [w for w in tokens if not w in stop_words] \n",
    "  \n",
    "filtered_sentence1 = []\n",
    "  \n",
    "for w in tokens: \n",
    "    if w not in stop_words: \n",
    "        filtered_sentence1.append(w)"
   ]
  },
  {
   "cell_type": "code",
   "execution_count": 27,
   "id": "fae09ae7",
   "metadata": {},
   "outputs": [
    {
     "name": "stdout",
     "output_type": "stream",
     "text": [
      "['masters', ',', 'give', 'servants', 'equal', ';', 'knowing', 'also', 'master', 'heaven.continue', 'prayer', ',', 'watch', 'thanksgiving', ';', 'praying', 'also', 'us', ',', 'god', 'would', 'open', 'us', 'door', 'utterance', ',', 'speak', 'mystery', 'christ', ',', 'also', 'bonds', ':', 'may', 'make', 'manifest', ',', 'ought', 'speak.walk', 'wisdom', 'toward', 'without', ',', 'redeeming', 'time.let', 'speech', 'always', 'grace', ',', 'seasoned', 'salt', ',', 'may', 'know', 'ought', 'answer', 'every', 'man.all', 'state', 'shall', 'tychicus', 'declare', ',', 'beloved', 'brother', ',', 'faithful', 'minister', 'fellow', 'servant', 'lord', ':', 'sent', 'purpose', ',', 'might', 'know', 'estate', ',', 'comfort', 'hearts', ';', 'onesimus', ',', 'faithful', 'beloved', 'brother', ',', 'one', '.', 'shall', 'make', 'known', 'things', 'done', 'here.aristarchus', 'fellow', 'prisoner', 'salutes', ',', 'marcus', ',', 'sister', \"'\", 'son', 'barnabas', ',', '(', 'touching', 'received', 'commandments', ':', 'come', ',', 'receive', ';', ')', 'jesus', ',', 'called', 'justus', ',', 'circumcision', '.', 'fellow', 'workers', 'kingdom', 'god', ',', 'comfort', 'me.epaphras', ',', 'one', ',', 'servant', 'christ', ',', 'salutes', ',', 'always', 'laboring', 'fervently', 'prayers', ',', 'may', 'stand', 'perfect', 'complete', 'god.for', 'bear', 'record', ',', 'great', 'zeal', ',', 'laodicea', ',', 'hierapolis.luke', ',', 'beloved', 'physician', ',', 'demas', ',', 'greet', 'you.salute', 'brothers', 'laodicea', ',', 'nymphas', ',', 'church', 'house.and', 'letter', 'read', 'among', ',', 'cause', 'read', 'also', 'church', 'laodiceans', ';', 'likewise', 'read', 'letter', 'laodicea.and', 'say', 'archippus', ',', 'take', 'heed', 'ministry', 'received', 'lord', ',', 'fulfill', 'it.the', 'salutation', 'hand', 'paul', '.', 'remember', 'bonds', '.', 'grace', '.', 'amen', '.']\n"
     ]
    }
   ],
   "source": [
    "print(filtered_sentence1)"
   ]
  },
  {
   "cell_type": "code",
   "execution_count": 28,
   "id": "0f56a78c",
   "metadata": {},
   "outputs": [],
   "source": [
    "data =np.array([[\"Colossenses_1\", \"'paul', ',', 'apostle', 'jesus', 'christ', 'god', ',', 'timotheus', 'brother', ',', 'saints', 'faithful', 'brothers', 'christ', 'colosse', ':', 'grace', ',', 'peace', ',', 'god', 'father', 'lord', 'jesus', 'christ.we', 'give', 'thanks', 'god', 'father', 'lord', 'jesus', 'christ', ',', 'praying', 'always', ',', 'since', 'heard', 'faith', 'christ', 'jesus', ',', 'love', 'saints', ',', 'hope', 'laid', 'heaven', ',', 'whereof', 'heard', 'word', 'truth', 'gospel', ';', 'come', ',', 'world', ';', 'brings', 'forth', 'fruit', ',', 'also', ',', 'since', 'day', 'heard', ',', 'knew', 'grace', 'god', 'truth', ':', 'also', 'learned', 'epaphras', 'dear', 'fellow', 'servant', ',', 'faithful', 'minister', 'christ', ';', 'also', 'declared', 'us', 'love', 'spirit.for', 'cause', 'also', ',', 'since', 'day', 'heard', ',', 'cease', 'pray', ',', 'desire', 'might', 'filled', 'knowledge', 'wisdom', 'spiritual', 'understanding', ';', 'might', 'walk', 'worthy', 'lord', 'pleasing', ',', 'fruitful', 'every', 'good', 'work', ',', 'increasing', 'knowledge', 'god', ';', 'strengthened', 'might', ',', 'according', 'glorious', 'power', ',', 'patience', 'long-suffering', 'joyfulness', ';', 'giving', 'thanks', 'father', ',', 'made', 'us', 'meet', 'partakers', 'inheritance', 'saints', 'light', ':', 'delivered', 'us', 'power', 'darkness', ',', 'translated', 'us', 'kingdom', 'dear', 'son', ':', 'redemption', 'blood', ',', 'even', 'forgiveness', 'sins', ':', 'image', 'invisible', 'god', ',', 'firstborn', 'every', 'creature', ':', 'things', 'created', ',', 'heaven', ',', 'earth', ',', 'visible', 'invisible', ',', 'whether', 'thrones', ',', 'dominions', ',', 'principalities', ',', 'powers', ':', 'things', 'created', ',', ':', 'things', ',', 'things', 'consist.and', 'head', 'body', ',', 'church', ':', 'beginning', ',', 'firstborn', 'dead', ';', 'things', 'might', 'preeminence.for', 'pleased', 'father', 'fullness', 'dwell', ';', ',', 'made', 'peace', 'blood', 'cross', ',', 'reconcile', 'things', ';', ',', 'say', ',', 'whether', 'things', 'earth', ',', 'things', 'heaven.and', ',', 'sometime', 'alienated', 'enemies', 'mind', 'wicked', 'works', ',', 'yet', 'reconciledin', 'body', 'flesh', 'death', ',', 'present', 'holy', 'blameless', 'unreproveable', 'sight', ':', 'continue', 'faith', 'grounded', 'settled', ',', 'moved', 'away', 'hope', 'gospel', ',', 'heard', ',', 'preached', 'every', 'creature', 'heaven', ';', 'whereof', 'paul', 'made', 'minister', ';', 'rejoice', 'sufferings', ',', 'fill', 'behind', 'afflictions', 'christ', 'flesh', 'body', ', 'sake', ',', 'church', ':', 'whereof', 'made', 'minister', ',', 'according', 'dispensation', 'god', 'given', ',', 'fulfill', 'word', 'god', ';', 'even', 'mystery', 'hid', 'ages', 'generations', ',', 'made', 'manifest', 'saints', ':', 'god', 'would', 'make', 'known', 'riches', 'glory', 'mystery', 'among', 'gentiles', ';', 'christ', ',', 'hope', 'glory', ':', 'preach', ',', 'warning', 'every', 'man', ',', 'teaching', 'every', 'man', 'wisdom', ';', 'may', 'present', 'every', 'man', 'perfect', 'christ', 'jesus', ':', 'whereunto', 'also', 'labor', ',', 'striving', 'according', 'working', ',', 'works', 'mightily', '.'\"],\n",
    "               [\"Colossenses_2\", \"'would', 'knew', 'great', 'conflict', ',', 'laodicea', ',', 'many', 'seen', 'face', 'flesh', ';', 'hearts', 'might', 'comforted', ',', 'knit', 'together', 'love', ',', 'riches', 'full', 'assurance', 'understanding', ',', 'acknowledgment', 'mystery', 'god', ',', 'father', ',', 'christ', ';', 'hid', 'treasures', 'wisdom', 'knowledge.and', 'say', ',', 'lest', 'man', 'beguile', 'enticing', 'words.for', 'though', 'absent', 'flesh', ',', 'yet', 'spirit', ',', 'rejoicing', 'beholding', 'order', ',', 'steadfastness', 'faith', 'christ.as', 'therefore', 'received', 'christ', 'jesus', 'lord', ',', 'walk', ':', 'rooted', 'built', ',', 'established', 'faith', ',', 'taught', ',', 'abounding', 'therein', 'thanksgiving.beware', 'lest', 'man', 'spoil', 'philosophy', 'vain', 'deceit', ',', 'tradition', 'men', ',', 'rudiments', 'world', ',', 'christ.for', 'dwells', 'fullness', 'godhead', 'bodily.and', 'complete', ',', 'head', 'principality', 'power', ':', 'also', 'circumcised', 'circumcision', 'made', 'without', 'hands', ',', 'putting', 'body', 'sins', 'flesh', 'circumcision', 'christ', ':', 'buried', 'baptism', ',', 'wherein', 'also', 'risen', 'faith', 'operation', 'god', ',', 'raised', 'dead.and', ',', 'dead', 'sins', 'uncircumcision', 'flesh', ',', 'quickened', 'together', ',', 'forgiven', 'trespasses', ';', 'blotting', 'handwriting', 'ordinances', 'us', ',', 'contrary', 'us', ',', 'took', 'way', ',', 'nailing', 'cross', ';', 'spoiled', 'principalities', 'powers', ',', 'made', 'show', 'openly', ',', 'triumphing', 'it.let', 'man', 'therefore', 'judge', 'meat', ',', 'drink', ',', 'respect', 'holy', 'day', ',', 'new', 'moon', ',', 'sabbath', 'days', ':', 'shadow', 'things', 'come', ';', 'body', 'christ.let', 'man', 'beguile', 'reward', 'voluntary', 'humility', 'worshipping', 'angels', ',', 'intruding', 'things', 'seen', ',', 'vainly', 'puffed', 'fleshly', 'mind', ',', 'holding', 'head', ',', 'body', 'joints', 'bands', 'nourishment', 'ministered', ',', 'knit', 'together', ',', 'increases', 'increase', 'god.why', 'dead', 'christ', 'rudiments', 'world', ',', ',', 'though', 'living', 'world', ',', 'subject', 'ordinances', ',', '(', 'touch', ';', 'taste', ';', 'handle', ';', 'perish', 'using', ';', ')', 'commandments', 'doctrines', 'men', '?', 'things', 'indeed', 'show', 'wisdom', 'worship', ',', 'humility', ',', 'neglecting', 'body', ':', 'honor', 'satisfying', 'flesh', '.'\"],\n",
    "               [\"Colossenses_3\", \"'risen', 'christ', ',', 'seek', 'things', ',', 'christ', 'sits', 'right', 'hand', 'god.set', 'affection', 'things', ',', 'things', 'earth.for', 'dead', ',', 'life', 'hid', 'christ', 'god.when', 'christ', ',', 'life', ',', 'shall', 'appear', ',', 'shall', 'also', 'appear', 'glory.mortify', 'therefore', 'members', 'earth', ';', 'fornication', ',', 'uncleanness', ',', 'inordinate', 'affection', ',', 'evil', 'concupiscence', ',', 'covetousness', ',', 'idolatry', ':', things'sake, 'wrath', 'god', 'comes', 'children', 'disobedience', ':', 'also', 'walked', 'time', ',', 'lived', 'them.but', 'also', 'put', ';', 'anger', ',', 'wrath', ',', 'malice', ',', 'blasphemy', ',', 'filthy', 'communication', 'mouth.lie', 'one', 'another', ',', 'seeing', 'put', 'old', 'man', 'deeds', ';', 'put', 'new', 'man', ',', 'renewed', 'knowledge', 'image', 'created', ':', 'neither', 'greek', 'jew', ',', 'circumcision', 'uncircumcision', ',', 'barbarian', ',', 'scythian', ',', 'bond', 'free', ':', 'christ', ',', 'all.put', 'therefore', ',', 'elect', 'god', ',', 'holy', 'beloved', ',', 'bowels', 'mercies', ',', 'kindness', ',', 'humbleness', 'mind', ',', 'meekness', ',', 'long-suffering', ';', 'forbearing', 'one', 'another', ',', 'forgiving', 'one', 'another', ',', 'man', 'quarrel', ':', 'even', 'christ', 'forgave', ',', 'also', 'you.and', 'things', 'put', 'charity', ',', 'bond', 'perfection.and', 'let', 'peace', 'god', 'rule', 'hearts', ',', 'also', 'called', 'one', 'body', ';', 'thankful.let', 'word', 'christ', 'dwell', 'richly', 'wisdom', ';', 'teaching', 'admonishing', 'one', 'another', 'psalms', 'hymns', 'spiritual', 'songs', ',', 'singing', 'grace', 'hearts', 'lord.and', 'whatever', 'word', 'deed', ',', 'name', 'lord', 'jesus', ',', 'giving', 'thanks', 'god', 'father', 'him.wives', ',', 'submit', 'husbands', ',', 'fit', 'lord.husbands', ',', 'love', 'wives', ',', 'bitter', 'them.children', ',', 'obey', 'parents', 'things', ':', 'well', 'pleasing', 'lord.fathers', ',', 'provoke', 'children', 'anger', ',', 'lest', 'discouraged.servants', ',', 'obey', 'things', 'masters', 'according', 'flesh', ';', 'eye-service', ',', 'men', 'pleasers', ';', 'singleness', 'heart', ',', 'fearing', 'god', ';', 'whatever', ',', 'heartily', ',', 'lord', ',', 'men', ';', 'knowing', 'lord', 'shall', 'receive', 'reward', 'inheritance', ':', 'serve', 'lord', 'christ.but', 'wrong', 'shall', 'receive', 'wrong', 'done', ':', 'respect', 'persons', '.'\"],\n",
    "               [\"Colossenses_4\", \"'masters', ',', 'give', 'servants', 'equal', ';', 'knowing', 'also', 'master', 'heaven.continue', 'prayer', ',', 'watch', 'thanksgiving', ';', 'praying', 'also', 'us', ',', 'god', 'would', 'open', 'us', 'door', 'utterance', ',', 'speak', 'mystery', 'christ', ',', 'also', 'bonds', ':', 'may', 'make', 'manifest', ',', 'ought', 'speak.walk', 'wisdom', 'toward', 'without', ',', 'redeeming', 'time.let', 'speech', 'always', 'grace', ',', 'seasoned', 'salt', ',', 'may', 'know', 'ought', 'answer', 'every', 'man.all', 'state', 'shall', 'tychicus', 'declare', ',', 'beloved', 'brother', ',', 'faithful', 'minister', 'fellow', 'servant', 'lord', ':', 'sent', 'purpose', ',', 'might', 'know', 'estate', ',', 'comfort', 'hearts', ';', 'onesimus', ',', 'faithful', 'beloved', 'brother', ',', 'one', '.', 'shall', 'make', 'known', 'things', 'done', 'here.aristarchus', 'fellow', 'prisoner', 'salutes', ',', 'marcus', ',', 'sister', ', 'son', 'barnabas', ',', '(', 'touching', 'received', 'commandments', ':', 'come', ',', 'receive', ';', ')', 'jesus', ',', 'called', 'justus', ',', 'circumcision', '.', 'fellow', 'workers', 'kingdom', 'god', ',', 'comfort', 'me.epaphras', ',', 'one', ',', 'servant', 'christ', ',', 'salutes', ',', 'always', 'laboring', 'fervently', 'prayers', ',', 'may', 'stand', 'perfect', 'complete', 'god.for', 'bear', 'record', ',', 'great', 'zeal', ',', 'laodicea', ',', 'hierapolis.luke', ',', 'beloved', 'physician', ',', 'demas', ',', 'greet', 'you.salute', 'brothers', 'laodicea', ',', 'nymphas', ',', 'church', 'house.and', 'letter', 'read', 'among', ',', 'cause', 'read', 'also', 'church', 'laodiceans', ';', 'likewise', 'read', 'letter', 'laodicea.and', 'say', 'archippus', ',', 'take', 'heed', 'ministry', 'received', 'lord', ',', 'fulfill', 'it.the', 'salutation', 'hand', 'paul', '.', 'remember', 'bonds', '.', 'grace', '.', 'amen', '.'\"]])"
   ]
  },
  {
   "cell_type": "code",
   "execution_count": 29,
   "id": "c0f9a868",
   "metadata": {},
   "outputs": [],
   "source": [
    "df = pd.DataFrame(data, index=range(100,104),columns=['Autor', 'Livro'])"
   ]
  },
  {
   "cell_type": "code",
   "execution_count": 30,
   "id": "d30831a6",
   "metadata": {},
   "outputs": [
    {
     "name": "stdout",
     "output_type": "stream",
     "text": [
      "             Autor                                              Livro\n",
      "100  Colossenses_1  'paul', ',', 'apostle', 'jesus', 'christ', 'go...\n",
      "101  Colossenses_2  'would', 'knew', 'great', 'conflict', ',', 'la...\n",
      "102  Colossenses_3  'risen', 'christ', ',', 'seek', 'things', ',',...\n",
      "103  Colossenses_4  'masters', ',', 'give', 'servants', 'equal', '...\n"
     ]
    }
   ],
   "source": [
    "print(df)"
   ]
  },
  {
   "cell_type": "code",
   "execution_count": null,
   "id": "bb3bc3e1",
   "metadata": {},
   "outputs": [],
   "source": []
  }
 ],
 "metadata": {
  "kernelspec": {
   "display_name": "Python 3 (ipykernel)",
   "language": "python",
   "name": "python3"
  },
  "language_info": {
   "codemirror_mode": {
    "name": "ipython",
    "version": 3
   },
   "file_extension": ".py",
   "mimetype": "text/x-python",
   "name": "python",
   "nbconvert_exporter": "python",
   "pygments_lexer": "ipython3",
   "version": "3.7.2"
  }
 },
 "nbformat": 4,
 "nbformat_minor": 5
}
