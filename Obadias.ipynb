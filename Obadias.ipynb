{
 "cells": [
  {
   "cell_type": "markdown",
   "metadata": {
    "id": "8iyG1_cgXHM_"
   },
   "source": [
    "### Obadias "
   ]
  },
  {
   "cell_type": "code",
   "execution_count": 1,
   "metadata": {},
   "outputs": [],
   "source": [
    "import numpy  as np\n",
    "import pandas as pd\n",
    "import json\n",
    "import pandas"
   ]
  },
  {
   "cell_type": "code",
   "execution_count": 2,
   "metadata": {},
   "outputs": [],
   "source": [
    "import nltk\n",
    "import nltk.corpus\n",
    "from sklearn.feature_extraction.text  import TfidfVectorizer\n",
    "from sklearn.metrics                  import silhouette_samples, silhouette_score\n",
    "from sklearn.preprocessing            import normalize\n",
    "from nltk.tokenize                    import word_tokenize\n",
    "import re\n",
    "from unidecode                        import unidecode\n",
    "from nltk.corpus import stopwords"
   ]
  },
  {
   "cell_type": "code",
   "execution_count": 3,
   "metadata": {},
   "outputs": [],
   "source": [
    "import matplotlib.pyplot  as plt\n",
    "import matplotlib.cm      as cm\n",
    "import seaborn            as sns\n",
    "from sklearn.metrics                  import silhouette_samples, silhouette_score\n",
    "from wordcloud                        import WordCloud"
   ]
  },
  {
   "cell_type": "code",
   "execution_count": 4,
   "metadata": {},
   "outputs": [],
   "source": [
    "from sklearn import cluster"
   ]
  },
  {
   "cell_type": "code",
   "execution_count": 5,
   "metadata": {
    "id": "7R9J9PfHXHNB"
   },
   "outputs": [],
   "source": [
    "Obadias_1 = \"The vision of Obadiah. Thus said the Lord GOD concerning Edom; We have heard a rumor from the LORD, and an ambassador is sent among the heathen, Arise you, and let us rise up against her in battle.Behold, I have made you small among the heathen: you are greatly despised.The pride of your heart has deceived you, you that dwell in the clefts of the rock, whose habitation is high; that said in his heart, Who shall bring me down to the ground?Though you exalt yourself as the eagle, and though you set your nest among the stars, there will I bring you down, said the LORD.If thieves came to you, if robbers by night, (how are you cut off!) would they not have stolen till they had enough? if the grape gatherers came to you, would they not leave some grapes?How are the things of Esau searched out! how are his hidden things sought up!All the men of your confederacy have brought you even to the border: the men that were at peace with you have deceived you, and prevailed against you; that they eat your bread have laid a wound under you: there is none understanding in him.Shall I not in that day, said the LORD, even destroy the wise men out of Edom, and understanding out of the mount of Esau?And your mighty men, O Teman, shall be dismayed, to the end that every one of the mount of Esau may be cut off by slaughter.For your violence against your brother Jacob shame shall cover you, and you shall be cut off for ever.In the day that you stood on the other side, in the day that the strangers carried away captive his forces, and foreigners entered into his gates, and cast lots on Jerusalem, even you were as one of them.But you should not have looked on the day of your brother in the day that he became a stranger; neither should you have rejoiced over the children of Judah in the day of their destruction; neither should you have spoken proudly in the day of distress.You should not have entered into the gate of my people in the day of their calamity; yes, you should not have looked on their affliction in the day of their calamity, nor have laid hands on their substance in the day of their calamity;Neither should you have stood in the crossway, to cut off those of his that did escape; neither should you have delivered up those of his that did remain in the day of distress.For the day of the LORD is near on all the heathen: as you have done, it shall be done to you: your reward shall return on your own head.For as you have drunk on my holy mountain, so shall all the heathen drink continually, yes, they shall drink, and they shall swallow down, and they shall be as though they had not been.But on mount Zion shall be deliverance, and there shall be holiness; and the house of Jacob shall possess their possessions.And the house of Jacob shall be a fire, and the house of Joseph a flame, and the house of Esau for stubble, and they shall kindle in them, and devour them; and there shall not be any remaining of the house of Esau; for the LORD has spoken it.And they of the south shall possess the mount of Esau; and they of the plain the Philistines: and they shall possess the fields of Ephraim, and the fields of Samaria: and Benjamin shall possess Gilead.And the captivity of this host of the children of Israel shall possess that of the Canaanites, even to Zarephath; and the captivity of Jerusalem, which is in Sepharad, shall possess the cities of the south.And saviors shall come up on mount Zion to judge the mount of Esau; and the kingdom shall be the LORD'.\".lower()"
   ]
  },
  {
   "cell_type": "code",
   "execution_count": 6,
   "metadata": {},
   "outputs": [],
   "source": [
    "tokens = nltk.word_tokenize(Obadias_1)"
   ]
  },
  {
   "cell_type": "code",
   "execution_count": 7,
   "metadata": {},
   "outputs": [],
   "source": [
    "stop_words = set(stopwords.words('english'))"
   ]
  },
  {
   "cell_type": "code",
   "execution_count": 8,
   "metadata": {
    "id": "3ms23g2zXkop"
   },
   "outputs": [],
   "source": [
    "filtered_sentence1 = [w for w in tokens if not w in stop_words] \n",
    "  \n",
    "filtered_sentence1 = []\n",
    "  \n",
    "for w in tokens: \n",
    "    if w not in stop_words: \n",
    "        filtered_sentence1.append(w)"
   ]
  },
  {
   "cell_type": "code",
   "execution_count": 9,
   "metadata": {},
   "outputs": [
    {
     "name": "stdout",
     "output_type": "stream",
     "text": [
      "['vision', 'obadiah', '.', 'thus', 'said', 'lord', 'god', 'concerning', 'edom', ';', 'heard', 'rumor', 'lord', ',', 'ambassador', 'sent', 'among', 'heathen', ',', 'arise', ',', 'let', 'us', 'rise', 'battle.behold', ',', 'made', 'small', 'among', 'heathen', ':', 'greatly', 'despised.the', 'pride', 'heart', 'deceived', ',', 'dwell', 'clefts', 'rock', ',', 'whose', 'habitation', 'high', ';', 'said', 'heart', ',', 'shall', 'bring', 'ground', '?', 'though', 'exalt', 'eagle', ',', 'though', 'set', 'nest', 'among', 'stars', ',', 'bring', ',', 'said', 'lord.if', 'thieves', 'came', ',', 'robbers', 'night', ',', '(', 'cut', '!', ')', 'would', 'stolen', 'till', 'enough', '?', 'grape', 'gatherers', 'came', ',', 'would', 'leave', 'grapes', '?', 'things', 'esau', 'searched', '!', 'hidden', 'things', 'sought', '!', 'men', 'confederacy', 'brought', 'even', 'border', ':', 'men', 'peace', 'deceived', ',', 'prevailed', ';', 'eat', 'bread', 'laid', 'wound', ':', 'none', 'understanding', 'him.shall', 'day', ',', 'said', 'lord', ',', 'even', 'destroy', 'wise', 'men', 'edom', ',', 'understanding', 'mount', 'esau', '?', 'mighty', 'men', ',', 'teman', ',', 'shall', 'dismayed', ',', 'end', 'every', 'one', 'mount', 'esau', 'may', 'cut', 'slaughter.for', 'violence', 'brother', 'jacob', 'shame', 'shall', 'cover', ',', 'shall', 'cut', 'ever.in', 'day', 'stood', 'side', ',', 'day', 'strangers', 'carried', 'away', 'captive', 'forces', ',', 'foreigners', 'entered', 'gates', ',', 'cast', 'lots', 'jerusalem', ',', 'even', 'one', 'them.but', 'looked', 'day', 'brother', 'day', 'became', 'stranger', ';', 'neither', 'rejoiced', 'children', 'judah', 'day', 'destruction', ';', 'neither', 'spoken', 'proudly', 'day', 'distress.you', 'entered', 'gate', 'people', 'day', 'calamity', ';', 'yes', ',', 'looked', 'affliction', 'day', 'calamity', ',', 'laid', 'hands', 'substance', 'day', 'calamity', ';', 'neither', 'stood', 'crossway', ',', 'cut', 'escape', ';', 'neither', 'delivered', 'remain', 'day', 'distress.for', 'day', 'lord', 'near', 'heathen', ':', 'done', ',', 'shall', 'done', ':', 'reward', 'shall', 'return', 'head.for', 'drunk', 'holy', 'mountain', ',', 'shall', 'heathen', 'drink', 'continually', ',', 'yes', ',', 'shall', 'drink', ',', 'shall', 'swallow', ',', 'shall', 'though', 'been.but', 'mount', 'zion', 'shall', 'deliverance', ',', 'shall', 'holiness', ';', 'house', 'jacob', 'shall', 'possess', 'possessions.and', 'house', 'jacob', 'shall', 'fire', ',', 'house', 'joseph', 'flame', ',', 'house', 'esau', 'stubble', ',', 'shall', 'kindle', ',', 'devour', ';', 'shall', 'remaining', 'house', 'esau', ';', 'lord', 'spoken', 'it.and', 'south', 'shall', 'possess', 'mount', 'esau', ';', 'plain', 'philistines', ':', 'shall', 'possess', 'fields', 'ephraim', ',', 'fields', 'samaria', ':', 'benjamin', 'shall', 'possess', 'gilead.and', 'captivity', 'host', 'children', 'israel', 'shall', 'possess', 'canaanites', ',', 'even', 'zarephath', ';', 'captivity', 'jerusalem', ',', 'sepharad', ',', 'shall', 'possess', 'cities', 'south.and', 'saviors', 'shall', 'come', 'mount', 'zion', 'judge', 'mount', 'esau', ';', 'kingdom', 'shall', 'lord', \"'\", '.']\n"
     ]
    }
   ],
   "source": [
    "print(filtered_sentence1)"
   ]
  },
  {
   "cell_type": "code",
   "execution_count": 11,
   "metadata": {},
   "outputs": [],
   "source": [
    "data =np.array([[\"Obadias_1\", \"'vision', 'obadiah', '.', 'thus', 'said', 'lord', 'god', 'concerning', 'edom', ';', 'heard', 'rumor', 'lord', ',', 'ambassador', 'sent', 'among', 'heathen', ',', 'arise', ',', 'let', 'us', 'rise', 'battle.behold', ',', 'made', 'small', 'among', 'heathen', ':', 'greatly', 'despised.the', 'pride', 'heart', 'deceived', ',', 'dwell', 'clefts', 'rock', ',', 'whose', 'habitation', 'high', ';', 'said', 'heart', ',', 'shall', 'bring', 'ground', '?', 'though', 'exalt', 'eagle', ',', 'though', 'set', 'nest', 'among', 'stars', ',', 'bring', ',', 'said', 'lord.if', 'thieves', 'came', ',', 'robbers', 'night', ',', '(', 'cut', '!', ')', 'would', 'stolen', 'till', 'enough', '?', 'grape', 'gatherers', 'came', ',', 'would', 'leave', 'grapes', '?', 'things', 'esau', 'searched', '!', 'hidden', 'things', 'sought', '!', 'men', 'confederacy', 'brought', 'even', 'border', ':', 'men', 'peace', 'deceived', ',', 'prevailed', ';', 'eat', 'bread', 'laid', 'wound', ':', 'none', 'understanding', 'him.shall', 'day', ',', 'said', 'lord', ',', 'even', 'destroy', 'wise', 'men', 'edom', ',', 'understanding', 'mount', 'esau', '?', 'mighty', 'men', ',', 'teman', ',', 'shall', 'dismayed', ',', 'end', 'every', 'one', 'mount', 'esau', 'may', 'cut', 'slaughter.for', 'violence', 'brother', 'jacob', 'shame', 'shall', 'cover', ',', 'shall', 'cut', 'ever.in', 'day', 'stood', 'side', ',', 'day', 'strangers', 'carried', 'away', 'captive', 'forces', ',', 'foreigners', 'entered', 'gates', ',', 'cast', 'lots', 'jerusalem', ',', 'even', 'one', 'them.but', 'looked', 'day', 'brother', 'day', 'became', 'stranger', ';', 'neither', 'rejoiced', 'children', 'judah', 'day', 'destruction', ';', 'neither', 'spoken', 'proudly', 'day', 'distress.you', 'entered', 'gate', 'people', 'day', 'calamity', ';', 'yes', ',', 'looked', 'affliction', 'day', 'calamity', ',', 'laid', 'hands', 'substance', 'day', 'calamity', ';', 'neither', 'stood', 'crossway', ',', 'cut', 'escape', ';', 'neither', 'delivered', 'remain', 'day', 'distress.for', 'day', 'lord', 'near', 'heathen', ':', 'done', ',', 'shall', 'done', ':', 'reward', 'shall', 'return', 'head.for', 'drunk', 'holy', 'mountain', ',', 'shall', 'heathen', 'drink', 'continually', ',', 'yes', ',', 'shall', 'drink', ',', 'shall', 'swallow', ',', 'shall', 'though', 'been.but', 'mount', 'zion', 'shall', 'deliverance', ',', 'shall', 'holiness', ';', 'house', 'jacob', 'shall', 'possess', 'possessions.and', 'house', 'jacob', 'shall', 'fire', ',', 'house', 'joseph', 'flame', ',', 'house', 'esau', 'stubble', ',', 'shall', 'kindle', ',', 'devour', ';', 'shall', 'remaining', 'house', 'esau', ';', 'lord', 'spoken', 'it.and', 'south', 'shall', 'possess', 'mount', 'esau', ';', 'plain', 'philistines', ':', 'shall', 'possess', 'fields', 'ephraim', ',', 'fields', 'samaria', ':', 'benjamin', 'shall', 'possess', 'gilead.and', 'captivity', 'host', 'children', 'israel', 'shall', 'possess', 'canaanites', ',', 'even', 'zarephath', ';', 'captivity', 'jerusalem', ',', 'sepharad', ',', 'shall', 'possess', 'cities', 'south.and', 'saviors', 'shall', 'come', 'mount', 'zion', 'judge', 'mount', 'esau', ';', 'kingdom', 'shall', 'lord', ', '.'\"]])"
   ]
  },
  {
   "cell_type": "markdown",
   "metadata": {
    "id": "2sj8p0PFXYMm"
   },
   "source": [
    "Só possui um capitulo \n"
   ]
  }
 ],
 "metadata": {
  "colab": {
   "name": "Obadias.ipynb",
   "provenance": []
  },
  "kernelspec": {
   "display_name": "Python 3 (ipykernel)",
   "language": "python",
   "name": "python3"
  },
  "language_info": {
   "codemirror_mode": {
    "name": "ipython",
    "version": 3
   },
   "file_extension": ".py",
   "mimetype": "text/x-python",
   "name": "python",
   "nbconvert_exporter": "python",
   "pygments_lexer": "ipython3",
   "version": "3.7.2"
  }
 },
 "nbformat": 4,
 "nbformat_minor": 1
}
