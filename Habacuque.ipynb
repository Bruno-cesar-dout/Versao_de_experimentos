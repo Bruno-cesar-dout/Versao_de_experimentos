{
 "cells": [
  {
   "cell_type": "code",
   "execution_count": 1,
   "metadata": {},
   "outputs": [],
   "source": [
    "import numpy  as np\n",
    "import pandas as pd\n",
    "import json\n",
    "import pandas"
   ]
  },
  {
   "cell_type": "code",
   "execution_count": 2,
   "metadata": {},
   "outputs": [],
   "source": [
    "import nltk\n",
    "import nltk.corpus\n",
    "from sklearn.feature_extraction.text  import TfidfVectorizer\n",
    "from sklearn.metrics                  import silhouette_samples, silhouette_score\n",
    "from sklearn.preprocessing            import normalize\n",
    "from nltk.tokenize                    import word_tokenize\n",
    "import re\n",
    "from unidecode                        import unidecode\n",
    "from nltk.corpus import stopwords"
   ]
  },
  {
   "cell_type": "code",
   "execution_count": 3,
   "metadata": {},
   "outputs": [],
   "source": [
    "import matplotlib.pyplot  as plt\n",
    "import matplotlib.cm      as cm\n",
    "import seaborn            as sns\n",
    "from sklearn.metrics                  import silhouette_samples, silhouette_score\n",
    "from wordcloud                        import WordCloud"
   ]
  },
  {
   "cell_type": "code",
   "execution_count": 4,
   "metadata": {},
   "outputs": [],
   "source": [
    "from sklearn import cluster"
   ]
  },
  {
   "cell_type": "code",
   "execution_count": 5,
   "metadata": {},
   "outputs": [],
   "source": [
    "Habacuque_1 = \"The burden which Habakkuk the prophet did see.O LORD, how long shall I cry, and you will not hear! even cry out to you of violence, and you will not save!Why do you show me iniquity, and cause me to behold grievance? for spoiling and violence are before me: and there are that raise up strife and contention.Therefore the law is slacked, and judgment does never go forth: for the wicked does compass about the righteous; therefore wrong judgment proceeds.Behold you among the heathen, and regard, and wonder marvelously: for I will work a work in your days which you will not believe, though it be told you.For, see, I raise up the Chaldeans, that bitter and hasty nation, which shall march through the breadth of the land, to possess the dwelling places that are not their'.They are terrible and dreadful: their judgment and their dignity shall proceed of themselves.Their horses also are swifter than the leopards, and are more fierce than the evening wolves: and their horsemen shall spread themselves, and their horsemen shall come from far; they shall fly as the eagle that hastens to eat.They shall come all for violence: their faces shall sup up as the east wind, and they shall gather the captivity as the sand.And they shall scoff at the kings, and the princes shall be a scorn to them: they shall deride every strong hold; for they shall heap dust, and take it.Then shall his mind change, and he shall pass over, and offend, imputing this his power to his god.Are you not from everlasting, O LORD my God, my Holy One? we shall not die. O LORD, you have ordained them for judgment; and, O mighty God, you have established them for correction.You are of purer eyes than to behold evil, and can not look on iniquity: why look you on them that deal treacherously, and hold your tongue when the wicked devours the man that is more righteous than he?And make men as the fishes of the sea, as the creeping things, that have no ruler over them?They take up all of them with the angle, they catch them in their net, and gather them in their drag: therefore they rejoice and are glad.Therefore they sacrifice to their net, and burn incense to their drag; because by them their portion is fat, and their meat plenteous.Shall they therefore empty their net, and not spare continually to slay the nations?\".lower()"
   ]
  },
  {
   "cell_type": "code",
   "execution_count": 6,
   "metadata": {},
   "outputs": [],
   "source": [
    "Habacuque_2 = \"I will stand on my watch, and set me on the tower, and will watch to see what he will say to me, and what I shall answer when I am reproved.And the LORD answered me, and said, Write the vision, and make it plain on tables, that he may run that reads it.For the vision is yet for an appointed time, but at the end it shall speak, and not lie: though it tarry, wait for it; because it will surely come, it will not tarry.Behold, his soul which is lifted up is not upright in him: but the just shall live by his faith.Yes also, because he transgresses by wine, he is a proud man, neither keeps at home, who enlarges his desire as hell, and is as death, and cannot be satisfied, but gathers to him all nations, and heaps to him all people:Shall not all these take up a parable against him, and a taunting proverb against him, and say, Woe to him that increases that which is not his! how long? and to him that lades himself with thick clay!Shall they not rise up suddenly that shall bite you, and awake that shall vex you, and you shall be for booties to them?Because you have spoiled many nations, all the remnant of the people shall spoil you; because of men' blood, and for the violence of the land, of the city, and of all that dwell therein.Woe to him that covets an evil covetousness to his house, that he may set his nest on high, that he may be delivered from the power of evil!You have consulted shame to your house by cutting off many people, and have sinned against your soul.For the stone shall cry out of the wall, and the beam out of the timber shall answer it.Woe to him that builds a town with blood, and establishes a city by iniquity!Behold, is it not of the LORD of hosts that the people shall labor in the very fire, and the people shall weary themselves for very vanity?For the earth shall be filled with the knowledge of the glory of the LORD, as the waters cover the sea.Woe to him that gives his neighbor drink, that put your bottle to him, and make him drunken also, that you may look on their nakedness!You are filled with shame for glory: drink you also, and let your foreskin be uncovered: the cup of the LORD' right hand shall be turned to you, and shameful spewing shall be on your glory.For the violence of Lebanon shall cover you, and the spoil of beasts, which made them afraid, because of men' blood, and for the violence of the land, of the city, and of all that dwell therein.What profits the graven image that the maker thereof has graven it; the molten image, and a teacher of lies, that the maker of his work trusts therein, to make dumb idols?Woe to him that said to the wood, Awake; to the dumb stone, Arise, it shall teach! Behold, it is laid over with gold and silver, and there is no breath at all in the middle of it.But the LORD is in his holy temple: let all the earth keep silence before him.\".lower()"
   ]
  },
  {
   "cell_type": "code",
   "execution_count": 7,
   "metadata": {},
   "outputs": [],
   "source": [
    "Habacuque_3 = \"A prayer of Habakkuk the prophet on Shigionoth.O LORD, I have heard your speech, and was afraid: O LORD, revive your work in the middle of the years, in the middle of the years make known; in wrath remember mercy.God came from Teman, and the Holy One from mount Paran. Selah. His glory covered the heavens, and the earth was full of his praise.And his brightness was as the light; he had horns coming out of his hand: and there was the hiding of his power.Before him went the pestilence, and burning coals went forth at his feet.He stood, and measured the earth: he beheld, and drove asunder the nations; and the everlasting mountains were scattered, the perpetual hills did bow: his ways are everlasting.I saw the tents of Cushan in affliction: and the curtains of the land of Midian did tremble.Was the LORD displeased against the rivers? was your anger against the rivers? was your wrath against the sea, that you did ride on your horses and your chariots of salvation?Your bow was made quite naked, according to the oaths of the tribes, even your word. Selah. You did split the earth with rivers.The mountains saw you, and they trembled: the overflowing of the water passed by: the deep uttered his voice, and lifted up his hands on high.The sun and moon stood still in their habitation: at the light of your arrows they went, and at the shining of your glittering spear.You did march through the land in indignation, you did thresh the heathen in anger.You went forth for the salvation of your people, even for salvation with your anointed; you wounded the head out of the house of the wicked, by discovering the foundation to the neck. Selah.You did strike through with his staves the head of his villages: they came out as a whirlwind to scatter me: their rejoicing was as to devour the poor secretly.You did walk through the sea with your horses, through the heap of great waters.When I heard, my belly trembled; my lips quivered at the voice: rottenness entered into my bones, and I trembled in myself, that I might rest in the day of trouble: when he comes up to the people, he will invade them with his troops.Although the fig tree shall not blossom, neither shall fruit be in the vines; the labor of the olive shall fail, and the fields shall yield no meat; the flock shall be cut off from the fold, and there shall be no herd in the stalls:Yet I will rejoice in the LORD, I will joy in the God of my salvation.The LORD God is my strength, and he will make my feet like hinds'feet, and he will make me to walk on my high places. To the chief singer on my stringed instruments.\".lower()"
   ]
  },
  {
   "cell_type": "code",
   "execution_count": 19,
   "metadata": {},
   "outputs": [],
   "source": [
    "tokens = nltk.word_tokenize(Habacuque_3)"
   ]
  },
  {
   "cell_type": "code",
   "execution_count": 20,
   "metadata": {},
   "outputs": [],
   "source": [
    "stop_words = set(stopwords.words('english'))"
   ]
  },
  {
   "cell_type": "code",
   "execution_count": 21,
   "metadata": {},
   "outputs": [],
   "source": [
    "filtered_sentence1 = [w for w in tokens if not w in stop_words] \n",
    "  \n",
    "filtered_sentence1 = []\n",
    "  \n",
    "for w in tokens: \n",
    "    if w not in stop_words: \n",
    "        filtered_sentence1.append(w)"
   ]
  },
  {
   "cell_type": "code",
   "execution_count": 22,
   "metadata": {},
   "outputs": [
    {
     "name": "stdout",
     "output_type": "stream",
     "text": [
      "['prayer', 'habakkuk', 'prophet', 'shigionoth.o', 'lord', ',', 'heard', 'speech', ',', 'afraid', ':', 'lord', ',', 'revive', 'work', 'middle', 'years', ',', 'middle', 'years', 'make', 'known', ';', 'wrath', 'remember', 'mercy.god', 'came', 'teman', ',', 'holy', 'one', 'mount', 'paran', '.', 'selah', '.', 'glory', 'covered', 'heavens', ',', 'earth', 'full', 'praise.and', 'brightness', 'light', ';', 'horns', 'coming', 'hand', ':', 'hiding', 'power.before', 'went', 'pestilence', ',', 'burning', 'coals', 'went', 'forth', 'feet.he', 'stood', ',', 'measured', 'earth', ':', 'beheld', ',', 'drove', 'asunder', 'nations', ';', 'everlasting', 'mountains', 'scattered', ',', 'perpetual', 'hills', 'bow', ':', 'ways', 'everlasting.i', 'saw', 'tents', 'cushan', 'affliction', ':', 'curtains', 'land', 'midian', 'tremble.was', 'lord', 'displeased', 'rivers', '?', 'anger', 'rivers', '?', 'wrath', 'sea', ',', 'ride', 'horses', 'chariots', 'salvation', '?', 'bow', 'made', 'quite', 'naked', ',', 'according', 'oaths', 'tribes', ',', 'even', 'word', '.', 'selah', '.', 'split', 'earth', 'rivers.the', 'mountains', 'saw', ',', 'trembled', ':', 'overflowing', 'water', 'passed', ':', 'deep', 'uttered', 'voice', ',', 'lifted', 'hands', 'high.the', 'sun', 'moon', 'stood', 'still', 'habitation', ':', 'light', 'arrows', 'went', ',', 'shining', 'glittering', 'spear.you', 'march', 'land', 'indignation', ',', 'thresh', 'heathen', 'anger.you', 'went', 'forth', 'salvation', 'people', ',', 'even', 'salvation', 'anointed', ';', 'wounded', 'head', 'house', 'wicked', ',', 'discovering', 'foundation', 'neck', '.', 'selah.you', 'strike', 'staves', 'head', 'villages', ':', 'came', 'whirlwind', 'scatter', ':', 'rejoicing', 'devour', 'poor', 'secretly.you', 'walk', 'sea', 'horses', ',', 'heap', 'great', 'waters.when', 'heard', ',', 'belly', 'trembled', ';', 'lips', 'quivered', 'voice', ':', 'rottenness', 'entered', 'bones', ',', 'trembled', ',', 'might', 'rest', 'day', 'trouble', ':', 'comes', 'people', ',', 'invade', 'troops.although', 'fig', 'tree', 'shall', 'blossom', ',', 'neither', 'shall', 'fruit', 'vines', ';', 'labor', 'olive', 'shall', 'fail', ',', 'fields', 'shall', 'yield', 'meat', ';', 'flock', 'shall', 'cut', 'fold', ',', 'shall', 'herd', 'stalls', ':', 'yet', 'rejoice', 'lord', ',', 'joy', 'god', 'salvation.the', 'lord', 'god', 'strength', ',', 'make', 'feet', 'like', \"hinds'feet\", ',', 'make', 'walk', 'high', 'places', '.', 'chief', 'singer', 'stringed', 'instruments', '.']\n"
     ]
    }
   ],
   "source": [
    "print(filtered_sentence1)"
   ]
  },
  {
   "cell_type": "code",
   "execution_count": 23,
   "metadata": {},
   "outputs": [],
   "source": [
    "data =np.array([[\"Habacuque_1\", \"'burden', 'habakkuk', 'prophet', 'see.o', 'lord', ',', 'long', 'shall', 'cry', ',', 'hear', '!', 'even', 'cry', 'violence', ',', 'save', '!', 'show', 'iniquity', ',', 'cause', 'behold', 'grievance', '?', 'spoiling', 'violence', ':', 'raise', 'strife', 'contention.therefore', 'law', 'slacked', ',', 'judgment', 'never', 'go', 'forth', ':', 'wicked', 'compass', 'righteous', ';', 'therefore', 'wrong', 'judgment', 'proceeds.behold', 'among', 'heathen', ',', 'regard', ',', 'wonder', 'marvelously', ':', 'work', 'work', 'days', 'believe', ',', 'though', 'told', 'you.for', ',', 'see', ',', 'raise', 'chaldeans', ',', 'bitter', 'hasty', 'nation', ',', 'shall', 'march', 'breadth', 'land', ',', 'possess', 'dwelling', 'places', their'.they, 'terrible', 'dreadful', ':', 'judgment', 'dignity', 'shall', 'proceed', 'themselves.their', 'horses', 'also', 'swifter', 'leopards', ',', 'fierce', 'evening', 'wolves', ':', 'horsemen', 'shall', 'spread', ',', 'horsemen', 'shall', 'come', 'far', ';', 'shall', 'fly', 'eagle', 'hastens', 'eat.they', 'shall', 'come', 'violence', ':', 'faces', 'shall', 'sup', 'east', 'wind', ',', 'shall', 'gather', 'captivity', 'sand.and', 'shall', 'scoff', 'kings', ',', 'princes', 'shall', 'scorn', ':', 'shall', 'deride', 'every', 'strong', 'hold', ';', 'shall', 'heap', 'dust', ',', 'take', 'it.then', 'shall', 'mind', 'change', ',', 'shall', 'pass', ',', 'offend', ',', 'imputing', 'power', 'god.are', 'everlasting', ',', 'lord', 'god', ',', 'holy', 'one', '?', 'shall', 'die', '.', 'lord', ',', 'ordained', 'judgment', ';', ',', 'mighty', 'god', ',', 'established', 'correction.you', 'purer', 'eyes', 'behold', 'evil', ',', 'look', 'iniquity', ':', 'look', 'deal', 'treacherously', ',', 'hold', 'tongue', 'wicked', 'devours', 'man', 'righteous', '?', 'make', 'men', 'fishes', 'sea', ',', 'creeping', 'things', ',', 'ruler', '?', 'take', 'angle', ',', 'catch', 'net', ',', 'gather', 'drag', ':', 'therefore', 'rejoice', 'glad.therefore', 'sacrifice', 'net', ',', 'burn', 'incense', 'drag', ';', 'portion', 'fat', ',', 'meat', 'plenteous.shall', 'therefore', 'empty', 'net', ',', 'spare', 'continually', 'slay', 'nations', '?'\"],\n",
    "               [\"Habacuque_2\", \"'stand', 'watch', ',', 'set', 'tower', ',', 'watch', 'see', 'say', ',', 'shall', 'answer', 'reproved.and', 'lord', 'answered', ',', 'said', ',', 'write', 'vision', ',', 'make', 'plain', 'tables', ',', 'may', 'run', 'reads', 'it.for', 'vision', 'yet', 'appointed', 'time', ',', 'end', 'shall', 'speak', ',', 'lie', ':', 'though', 'tarry', ',', 'wait', ';', 'surely', 'come', ',', 'tarry.behold', ',', 'soul', 'lifted', 'upright', ':', 'shall', 'live', 'faith.yes', 'also', ',', 'transgresses', 'wine', ',', 'proud', 'man', ',', 'neither', 'keeps', 'home', ',', 'enlarges', 'desire', 'hell', ',', 'death', ',', 'satisfied', ',', 'gathers', 'nations', ',', 'heaps', 'people', ':', 'shall', 'take', 'parable', ',', 'taunting', 'proverb', ',', 'say', ',', 'woe', 'increases', '!', 'long', '?', 'lades', 'thick', 'clay', '!', 'shall', 'rise', 'suddenly', 'shall', 'bite', ',', 'awake', 'shall', 'vex', ',', 'shall', 'booties', '?', 'spoiled', 'many', 'nations', ',', 'remnant', 'people', 'shall', 'spoil', ';', 'men', ', 'blood', ',', 'violence', 'land', ',', 'city', ',', 'dwell', 'therein.woe', 'covets', 'evil', 'covetousness', 'house', ',', 'may', 'set', 'nest', 'high', ',', 'may', 'delivered', 'power', 'evil', '!', 'consulted', 'shame', 'house', 'cutting', 'many', 'people', ',', 'sinned', 'soul.for', 'stone', 'shall', 'cry', 'wall', ',', 'beam', 'timber', 'shall', 'answer', 'it.woe', 'builds', 'town', 'blood', ',', 'establishes', 'city', 'iniquity', '!', 'behold', ',', 'lord', 'hosts', 'people', 'shall', 'labor', 'fire', ',', 'people', 'shall', 'weary', 'vanity', '?', 'earth', 'shall', 'filled', 'knowledge', 'glory', 'lord', ',', 'waters', 'cover', 'sea.woe', 'gives', 'neighbor', 'drink', ',', 'put', 'bottle', ',', 'make', 'drunken', 'also', ',', 'may', 'look', 'nakedness', '!', 'filled', 'shame', 'glory', ':', 'drink', 'also', ',', 'let', 'foreskin', 'uncovered', ':', 'cup', 'lord', ', 'right', 'hand', 'shall', 'turned', ',', 'shameful', 'spewing', 'shall', 'glory.for', 'violence', 'lebanon', 'shall', 'cover', ',', 'spoil', 'beasts', ',', 'made', 'afraid', ',', 'men', ', 'blood', ',', 'violence', 'land', ',', 'city', ',', 'dwell', 'therein.what', 'profits', 'graven', 'image', 'maker', 'thereof', 'graven', ';', 'molten', 'image', ',', 'teacher', 'lies', ',', 'maker', 'work', 'trusts', 'therein', ',', 'make', 'dumb', 'idols', '?', 'woe', 'said', 'wood', ',', 'awake', ';', 'dumb', 'stone', ',', 'arise', ',', 'shall', 'teach', '!', 'behold', ',', 'laid', 'gold', 'silver', ',', 'breath', 'middle', 'it.but', 'lord', 'holy', 'temple', ':', 'let', 'earth', 'keep', 'silence', '.'\"],\n",
    "               [\"Habacuque_3\", \"'prayer', 'habakkuk', 'prophet', 'shigionoth.o', 'lord', ',', 'heard', 'speech', ',', 'afraid', ':', 'lord', ',', 'revive', 'work', 'middle', 'years', ',', 'middle', 'years', 'make', 'known', ';', 'wrath', 'remember', 'mercy.god', 'came', 'teman', ',', 'holy', 'one', 'mount', 'paran', '.', 'selah', '.', 'glory', 'covered', 'heavens', ',', 'earth', 'full', 'praise.and', 'brightness', 'light', ';', 'horns', 'coming', 'hand', ':', 'hiding', 'power.before', 'went', 'pestilence', ',', 'burning', 'coals', 'went', 'forth', 'feet.he', 'stood', ',', 'measured', 'earth', ':', 'beheld', ',', 'drove', 'asunder', 'nations', ';', 'everlasting', 'mountains', 'scattered', ',', 'perpetual', 'hills', 'bow', ':', 'ways', 'everlasting.i', 'saw', 'tents', 'cushan', 'affliction', ':', 'curtains', 'land', 'midian', 'tremble.was', 'lord', 'displeased', 'rivers', '?', 'anger', 'rivers', '?', 'wrath', 'sea', ',', 'ride', 'horses', 'chariots', 'salvation', '?', 'bow', 'made', 'quite', 'naked', ',', 'according', 'oaths', 'tribes', ',', 'even', 'word', '.', 'selah', '.', 'split', 'earth', 'rivers.the', 'mountains', 'saw', ',', 'trembled', ':', 'overflowing', 'water', 'passed', ':', 'deep', 'uttered', 'voice', ',', 'lifted', 'hands', 'high.the', 'sun', 'moon', 'stood', 'still', 'habitation', ':', 'light', 'arrows', 'went', ',', 'shining', 'glittering', 'spear.you', 'march', 'land', 'indignation', ',', 'thresh', 'heathen', 'anger.you', 'went', 'forth', 'salvation', 'people', ',', 'even', 'salvation', 'anointed', ';', 'wounded', 'head', 'house', 'wicked', ',', 'discovering', 'foundation', 'neck', '.', 'selah.you', 'strike', 'staves', 'head', 'villages', ':', 'came', 'whirlwind', 'scatter', ':', 'rejoicing', 'devour', 'poor', 'secretly.you', 'walk', 'sea', 'horses', ',', 'heap', 'great', 'waters.when', 'heard', ',', 'belly', 'trembled', ';', 'lips', 'quivered', 'voice', ':', 'rottenness', 'entered', 'bones', ',', 'trembled', ',', 'might', 'rest', 'day', 'trouble', ':', 'comes', 'people', ',', 'invade', 'troops.although', 'fig', 'tree', 'shall', 'blossom', ',', 'neither', 'shall', 'fruit', 'vines', ';', 'labor', 'olive', 'shall', 'fail', ',', 'fields', 'shall', 'yield', 'meat', ';', 'flock', 'shall', 'cut', 'fold', ',', 'shall', 'herd', 'stalls', ':', 'yet', 'rejoice', 'lord', ',', 'joy', 'god', 'salvation.the', 'lord', 'god', 'strength', ',', 'make', 'feet', 'like', hinds'feet, ',', 'make', 'walk', 'high', 'places', '.', 'chief', 'singer', 'stringed', 'instruments', '.'\"]])"
   ]
  },
  {
   "cell_type": "code",
   "execution_count": 24,
   "metadata": {},
   "outputs": [],
   "source": [
    "df = pd.DataFrame(data, index=range(100,103),columns=['Autor', 'Livro'])"
   ]
  },
  {
   "cell_type": "code",
   "execution_count": 25,
   "metadata": {},
   "outputs": [
    {
     "name": "stdout",
     "output_type": "stream",
     "text": [
      "           Autor                                              Livro\n",
      "100  Habacuque_1  'burden', 'habakkuk', 'prophet', 'see.o', 'lor...\n",
      "101  Habacuque_2  'stand', 'watch', ',', 'set', 'tower', ',', 'w...\n",
      "102  Habacuque_3  'prayer', 'habakkuk', 'prophet', 'shigionoth.o...\n"
     ]
    }
   ],
   "source": [
    "print(df)"
   ]
  },
  {
   "cell_type": "code",
   "execution_count": null,
   "metadata": {},
   "outputs": [],
   "source": []
  }
 ],
 "metadata": {
  "kernelspec": {
   "display_name": "Python 3",
   "language": "python",
   "name": "python3"
  },
  "language_info": {
   "codemirror_mode": {
    "name": "ipython",
    "version": 3
   },
   "file_extension": ".py",
   "mimetype": "text/x-python",
   "name": "python",
   "nbconvert_exporter": "python",
   "pygments_lexer": "ipython3",
   "version": "3.8.5"
  }
 },
 "nbformat": 4,
 "nbformat_minor": 4
}
