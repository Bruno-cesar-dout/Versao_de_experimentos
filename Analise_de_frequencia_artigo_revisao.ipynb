{
 "cells": [
  {
   "cell_type": "code",
   "execution_count": 1,
   "id": "3214e889",
   "metadata": {},
   "outputs": [],
   "source": [
    "import numpy  as np\n",
    "import pandas as pd\n",
    "import json\n",
    "import pandas"
   ]
  },
  {
   "cell_type": "code",
   "execution_count": 2,
   "id": "452ddc12",
   "metadata": {},
   "outputs": [],
   "source": [
    "import nltk\n",
    "import nltk.corpus\n",
    "from sklearn.feature_extraction.text  import TfidfVectorizer\n",
    "from sklearn.metrics                  import silhouette_samples, silhouette_score\n",
    "from sklearn.preprocessing            import normalize\n",
    "from nltk.tokenize                    import word_tokenize\n",
    "import re\n",
    "from unidecode                        import unidecode\n",
    "from nltk.corpus import stopwords"
   ]
  },
  {
   "cell_type": "code",
   "execution_count": 3,
   "id": "3f7a7516",
   "metadata": {},
   "outputs": [],
   "source": [
    "import matplotlib.pyplot  as plt\n",
    "import matplotlib.cm      as cm\n",
    "import seaborn            as sns\n",
    "from sklearn.metrics                  import silhouette_samples, silhouette_score\n",
    "from wordcloud                        import WordCloud"
   ]
  },
  {
   "cell_type": "code",
   "execution_count": 4,
   "id": "67d0c0e1",
   "metadata": {},
   "outputs": [],
   "source": [
    "from sklearn import cluster"
   ]
  },
  {
   "cell_type": "code",
   "execution_count": 5,
   "id": "40001123",
   "metadata": {},
   "outputs": [],
   "source": [
    "CONTEXT_BASED_MACHINE_TRANSLATION = \"he current approaches for machine translation usually require large set of parallel corpus in order to achieve fluency like in the case of neural machine translation NMT, statistical machine translation SMT and example-based machinetranslation EBMT. The context awareness of phrase-based machine translation PBMT approaches is also questionable. This research develops a system thattranslates English text to Amharic text using a combination of context based machine translation CBMT and a recurrent neural network machine translation RNNMT. We built a bilingual dictionary for the CBMT system to use along witha large target corpus. The RNNMT model has then been provided with the output of the CBMT and a parallel corpus for training. Our combinational approachon English-Amharic language pair yields a performance improvement over thesimple neural machine translation NMT.\".lower()"
   ]
  },
  {
   "cell_type": "code",
   "execution_count": 6,
   "id": "c9037765",
   "metadata": {},
   "outputs": [
    {
     "name": "stdout",
     "output_type": "stream",
     "text": [
      "he current approaches for machine translation usually require large set of parallel corpus in order to achieve fluency like in the case of neural machine translation nmt, statistical machine translation smt and example-based machinetranslation ebmt. the context awareness of phrase-based machine translation pbmt approaches is also questionable. this research develops a system thattranslates english text to amharic text using a combination of context based machine translation cbmt and a recurrent neural network machine translation rnnmt. we built a bilingual dictionary for the cbmt system to use along witha large target corpus. the rnnmt model has then been provided with the output of the cbmt and a parallel corpus for training. our combinational approachon english-amharic language pair yields a performance improvement over thesimple neural machine translation nmt.\n"
     ]
    }
   ],
   "source": [
    "print(CONTEXT_BASED_MACHINE_TRANSLATION)"
   ]
  },
  {
   "cell_type": "code",
   "execution_count": 7,
   "id": "314bcf64",
   "metadata": {},
   "outputs": [],
   "source": [
    "Deep_Transfer_Learning_for_writer = \"In digital paleography, recent technology advancements are used to support paleographers in the study andanalysis of ancient documents. One main goal of paleographersis to identify the different scribes (writers) who wrote a givenmanuscript. Deep learning has recently received much attentionfrom researchers as classification system and has been applied tomany domains. However, this approach is based on the hypothesisthat large amount of labeled data are available. To overcomethis drawback, transfer learning techniques have been proposed These techniques use parts of large deep networks, learned byusing very large image datasets, as starting points for the learningof networks to solve a more specific classification problem. In thispaper, we present a deep transfer learning based tool to helppaleographers in identifying the parts of a manuscript that werewritten by the same writer The proposed approach has beentested on a set of digital images from a Bible of the XII century The achieved results confirmed the effectiveness of the proposed approach.\".lower()"
   ]
  },
  {
   "cell_type": "code",
   "execution_count": 8,
   "id": "e6afb4eb",
   "metadata": {
    "scrolled": true
   },
   "outputs": [
    {
     "name": "stdout",
     "output_type": "stream",
     "text": [
      "in digital paleography, recent technology advancements are used to support paleographers in the study andanalysis of ancient documents. one main goal of paleographersis to identify the different scribes (writers) who wrote a givenmanuscript. deep learning has recently received much attentionfrom researchers as classification system and has been applied tomany domains. however, this approach is based on the hypothesisthat large amount of labeled data are available. to overcomethis drawback, transfer learning techniques have been proposed these techniques use parts of large deep networks, learned byusing very large image datasets, as starting points for the learningof networks to solve a more specific classification problem. in thispaper, we present a deep transfer learning based tool to helppaleographers in identifying the parts of a manuscript that werewritten by the same writer the proposed approach has beentested on a set of digital images from a bible of the xii century the achieved results confirmed the effectiveness of the proposed approach.\n"
     ]
    }
   ],
   "source": [
    "print(Deep_Transfer_Learning_for_writer)"
   ]
  },
  {
   "cell_type": "code",
   "execution_count": 9,
   "id": "b620012b",
   "metadata": {},
   "outputs": [],
   "source": [
    "Detecting_the_Evolution_of_Semantics = \"Individual differences in semantics and beliefs have up tonow been identified primarily by questioning people. How\u0002ever, semantics and beliefs can also be observed in concrete,quantifiable contexts such as reaction-time experiments. Herewe demonstrate an automatic mechanism which can repli\u0002cate such semantics by observing regularities in language usethrough statistical text analysis. We postulate that humanchildren, who are fantastic pattern recognizers, may also ex\u0002ploit this same information, thus our mechanism may be anessential module in a human-like cognitive system. In thisarticle we first review the underlying theories and existing re\u0002sults, then present the tool itself. We validate the tool againstexisting semantic priming reaction-time results. Finally weuse the tool to explore the evolution of beliefs extracted fromthree sources: the Bible, the works of Shakespeare and thecontemporary British National Corpus.\".lower()"
   ]
  },
  {
   "cell_type": "code",
   "execution_count": 10,
   "id": "a6c246c6",
   "metadata": {},
   "outputs": [
    {
     "name": "stdout",
     "output_type": "stream",
     "text": [
      "individual differences in semantics and beliefs have up tonow been identified primarily by questioning people. how\u0002ever, semantics and beliefs can also be observed in concrete,quantifiable contexts such as reaction-time experiments. herewe demonstrate an automatic mechanism which can repli\u0002cate such semantics by observing regularities in language usethrough statistical text analysis. we postulate that humanchildren, who are fantastic pattern recognizers, may also ex\u0002ploit this same information, thus our mechanism may be anessential module in a human-like cognitive system. in thisarticle we first review the underlying theories and existing re\u0002sults, then present the tool itself. we validate the tool againstexisting semantic priming reaction-time results. finally weuse the tool to explore the evolution of beliefs extracted fromthree sources: the bible, the works of shakespeare and thecontemporary british national corpus.\n"
     ]
    }
   ],
   "source": [
    "print(Detecting_the_Evolution_of_Semantics)"
   ]
  },
  {
   "cell_type": "code",
   "execution_count": 11,
   "id": "e5ab1ae0",
   "metadata": {},
   "outputs": [],
   "source": [
    "Graphics_based_intelligent_search = \"This paper presents an autonomous text and context-mining algorithm that converts text documents into point clouds for visual search cues. This algorithm is applied to the task of data-mining a scriptural database comprised of the Old andNew Testaments from the Bible and the Book of Mormon, Doctrine and Covenants, and the Pearl of Great Price. Results are generated which graphically show the scripture that represents the average concept of the database and the mining ofthe documents down to the verse level.\".lower()"
   ]
  },
  {
   "cell_type": "code",
   "execution_count": 12,
   "id": "60d8f753",
   "metadata": {},
   "outputs": [
    {
     "name": "stdout",
     "output_type": "stream",
     "text": [
      "this paper presents an autonomous text and context-mining algorithm that converts text documents into point clouds for visual search cues. this algorithm is applied to the task of data-mining a scriptural database comprised of the old andnew testaments from the bible and the book of mormon, doctrine and covenants, and the pearl of great price. results are generated which graphically show the scripture that represents the average concept of the database and the mining ofthe documents down to the verse level.\n"
     ]
    }
   ],
   "source": [
    "print(Graphics_based_intelligent_search)"
   ]
  },
  {
   "cell_type": "code",
   "execution_count": 13,
   "id": "cac93152",
   "metadata": {},
   "outputs": [],
   "source": [
    "Rolling_stylometry = \"his article introduces a new stylometric method that combines supervised ma\u0002chine-learning classification with the idea of sequential analysis. Unlike standardprocedures, aimed at assessing style differentiation between discrete text samples,the new method, supported with compact visualization, tries to look inside a textrepresented as a set of linearly sliced chunks, in order to test their stylistic con\u0002sistency. Three flavors of the method have been introduced: Rolling SVM,relying on the support vector machines (SVM) classifier, Rolling NSC, basedon the nearest shrunken centroids method, and  Rolling Delta, using theclassic Burrowsian measure of similarity. The technique is primarily intendedto assess mixed authorship; however, it can be also used as a magnifying glass toinspect works with unclear stylometric signal. To demonstrate its applicability,three different examples of collaborative work have been briefly discussed:  the13th-century French allegorical poem Roman de la Rose, a 15th-centurytranslation of the Bible into Polish known as Queen Sophia’s Bible, and  TheInheritors, a novel collaboratively written by Joseph Conrad and Ford MadoxFord in 1901.\".lower()"
   ]
  },
  {
   "cell_type": "code",
   "execution_count": 14,
   "id": "25be5a94",
   "metadata": {},
   "outputs": [
    {
     "name": "stdout",
     "output_type": "stream",
     "text": [
      "his article introduces a new stylometric method that combines supervised ma\u0002chine-learning classification with the idea of sequential analysis. unlike standardprocedures, aimed at assessing style differentiation between discrete text samples,the new method, supported with compact visualization, tries to look inside a textrepresented as a set of linearly sliced chunks, in order to test their stylistic con\u0002sistency. three flavors of the method have been introduced: rolling svm,relying on the support vector machines (svm) classifier, rolling nsc, basedon the nearest shrunken centroids method, and  rolling delta, using theclassic burrowsian measure of similarity. the technique is primarily intendedto assess mixed authorship; however, it can be also used as a magnifying glass toinspect works with unclear stylometric signal. to demonstrate its applicability,three different examples of collaborative work have been briefly discussed:  the13th-century french allegorical poem roman de la rose, a 15th-centurytranslation of the bible into polish known as queen sophia’s bible, and  theinheritors, a novel collaboratively written by joseph conrad and ford madoxford in 1901.\n"
     ]
    }
   ],
   "source": [
    "print(Rolling_stylometry)"
   ]
  },
  {
   "cell_type": "code",
   "execution_count": 15,
   "id": "5ab2fc25",
   "metadata": {},
   "outputs": [],
   "source": [
    "Text_alignment_in_early_printed = \" describe a technique for transcript alignment in early printed books by using deep models in combination with dynamic programming algorithms. Two object detection models, based on Faster R-CNN,are trained to locate words. We first train an initial model to recognize generic words and hyphens byusing information about the number of words in text lines. Using the model prediction on pages with aline-by-line ground-truth annotation is available, we train a second model able to detect landmark words.The alignment is then based on the identification of landmark words in pages where we only know thetext corresponding to zones in the page. The proposed technique is evaluated on a publicly available digitization of the Gutenberg Bible while the transcription is based on the Vulgata, a late 4th century Latin translation of the Bible.\".lower()"
   ]
  },
  {
   "cell_type": "code",
   "execution_count": 16,
   "id": "f8cd4875",
   "metadata": {},
   "outputs": [
    {
     "name": "stdout",
     "output_type": "stream",
     "text": [
      " describe a technique for transcript alignment in early printed books by using deep models in combination with dynamic programming algorithms. two object detection models, based on faster r-cnn,are trained to locate words. we first train an initial model to recognize generic words and hyphens byusing information about the number of words in text lines. using the model prediction on pages with aline-by-line ground-truth annotation is available, we train a second model able to detect landmark words.the alignment is then based on the identification of landmark words in pages where we only know thetext corresponding to zones in the page. the proposed technique is evaluated on a publicly available digitization of the gutenberg bible while the transcription is based on the vulgata, a late 4th century latin translation of the bible.\n"
     ]
    }
   ],
   "source": [
    "print(Text_alignment_in_early_printed)"
   ]
  },
  {
   "cell_type": "code",
   "execution_count": 17,
   "id": "678649f4",
   "metadata": {},
   "outputs": [],
   "source": [
    "Algorithmic_handwriting_analysis_of_Judah = \"The relationship between the expansion of literacy in Judah andcomposition of biblical texts has attracted scholarly attention forover a century. Information on this issue can be deduced fromHebrew inscriptions from the final phase of the first Templeperiod. We report our investigation of 16 inscriptions from theJudahite desert fortress of Arad, dated ca. 600 BCE—the eve ofNebuchadnezzar’s destruction of Jerusalem. The inquiry is basedon new methods for image processing and document analysis, aswell as machine learning algorithms. These techniques enableidentification of the minimal number of authors in a given groupof inscriptions. Our algorithmic analysis, complemented by thetextual information, reveals a minimum of six authors within theexamined inscriptions. The results indicate that in this remote fortliteracy had spread throughout the military hierarchy, down to thequartermaster and probably even below that rank. This impliesthat an educational infrastructure that could support the composition of literary texts in Judah already existed before the destruction of the first Temple. A similar level of literacy in this area isattested again only 400 y later, ca. 200 BCE.\".lower()"
   ]
  },
  {
   "cell_type": "code",
   "execution_count": 18,
   "id": "4068afa7",
   "metadata": {},
   "outputs": [
    {
     "name": "stdout",
     "output_type": "stream",
     "text": [
      "the relationship between the expansion of literacy in judah andcomposition of biblical texts has attracted scholarly attention forover a century. information on this issue can be deduced fromhebrew inscriptions from the final phase of the first templeperiod. we report our investigation of 16 inscriptions from thejudahite desert fortress of arad, dated ca. 600 bce—the eve ofnebuchadnezzar’s destruction of jerusalem. the inquiry is basedon new methods for image processing and document analysis, aswell as machine learning algorithms. these techniques enableidentification of the minimal number of authors in a given groupof inscriptions. our algorithmic analysis, complemented by thetextual information, reveals a minimum of six authors within theexamined inscriptions. the results indicate that in this remote fortliteracy had spread throughout the military hierarchy, down to thequartermaster and probably even below that rank. this impliesthat an educational infrastructure that could support the composition of literary texts in judah already existed before the destruction of the first temple. a similar level of literacy in this area isattested again only 400 y later, ca. 200 bce.\n"
     ]
    }
   ],
   "source": [
    "print(Algorithmic_handwriting_analysis_of_Judah)"
   ]
  },
  {
   "cell_type": "code",
   "execution_count": 19,
   "id": "d6e67fad",
   "metadata": {},
   "outputs": [],
   "source": [
    "An_end_to_end_deep_learning_system = \"This paper presents an end-to-end system to identify writers in medieval manuscripts. The proposedsystem consists in a three-step model for detection and classification of lines in the manuscript andpage writer identification. The first two steps are based on deep neural networks trained with transferlearning techniques and specialized to solve the task in hand. The third stage is a weighted majority voterow-decision combiner that assigns to each page a writer. The main goal of this paper is to study theapplicability of deep learning in this context when a relatively small training dataset is available. Wetested our system with several state-of-the-art deep architectures on a digitized manuscript known asthe Avila Bible, using only of the total pages for training. Our approach proves to be very effectivein identifying page writers, reaching a peak of  of accuracy and  of F1 score.\".lower()"
   ]
  },
  {
   "cell_type": "code",
   "execution_count": 20,
   "id": "8004a90f",
   "metadata": {},
   "outputs": [
    {
     "name": "stdout",
     "output_type": "stream",
     "text": [
      "this paper presents an end-to-end system to identify writers in medieval manuscripts. the proposedsystem consists in a three-step model for detection and classification of lines in the manuscript andpage writer identification. the first two steps are based on deep neural networks trained with transferlearning techniques and specialized to solve the task in hand. the third stage is a weighted majority voterow-decision combiner that assigns to each page a writer. the main goal of this paper is to study theapplicability of deep learning in this context when a relatively small training dataset is available. wetested our system with several state-of-the-art deep architectures on a digitized manuscript known asthe avila bible, using only of the total pages for training. our approach proves to be very effectivein identifying page writers, reaching a peak of  of accuracy and  of f1 score.\n"
     ]
    }
   ],
   "source": [
    "print(An_end_to_end_deep_learning_system)"
   ]
  },
  {
   "cell_type": "code",
   "execution_count": 21,
   "id": "5334f5f0",
   "metadata": {},
   "outputs": [],
   "source": [
    "An_Experimental_Comparison_between_Deep = \"In the framework of palaeography, the availability of both effective image analysisalgorithms, and high-quality digital images has favored the development of new applications forthe study of ancient manuscripts and has provided new tools for decision-making support systems.The quality of the results provided by such applications, however, is strongly influenced by theselection of effective features, which should be able to capture the distinctive aspects to which thepaleography expert is interested in. This process is very difficult to generalize due to the enormousvariability in the type of ancient documents, produced in different historical periods with differentlanguages and styles. The effect is that it is very difficult to define standard techniques that aregeneral enough to be effectively used in any case, and this is the reason why ad-hoc systems,generally designed according to paleographers’ suggestions, have been designed for the analysisof ancient manuscripts. In recent years, there has been a growing scientific interest in the useof techniques based on deep learning (DL) for the automatic processing of ancient documents.This interest is not only due to their capability of designing high-performance pattern recognitionsystems, but also to their ability of automatically extracting features from raw data, without using anya priori knowledge. Moving from these considerations, the aim of this study is to verify if DL-basedapproaches may actually represent a general methodology for automatically designing machinelearning systems for palaeography applications. To this purpose, we compared the performance of aDL-based approach with that of a “classical” machine learning one, in a particularly unfavorable casefor DL, namely that of highly standardized schools. The rationale of this choice is to compare theobtainable results even when context information is present and discriminating: this information isignored by DL approaches, while it is used by machine learning methods, making the comparisonmore significant. The experimental results refer to the use of a large sets of digital images extractedfrom an entire 12th-century Bibles, the “Avila Bible”. This manuscript, produced by several scribeswho worked in different periods and in different places, represents a severe test bed to evaluate theefficiency of scribe identification systems.\".lower()"
   ]
  },
  {
   "cell_type": "code",
   "execution_count": 22,
   "id": "5b60c60a",
   "metadata": {},
   "outputs": [
    {
     "name": "stdout",
     "output_type": "stream",
     "text": [
      "in the framework of palaeography, the availability of both effective image analysisalgorithms, and high-quality digital images has favored the development of new applications forthe study of ancient manuscripts and has provided new tools for decision-making support systems.the quality of the results provided by such applications, however, is strongly influenced by theselection of effective features, which should be able to capture the distinctive aspects to which thepaleography expert is interested in. this process is very difficult to generalize due to the enormousvariability in the type of ancient documents, produced in different historical periods with differentlanguages and styles. the effect is that it is very difficult to define standard techniques that aregeneral enough to be effectively used in any case, and this is the reason why ad-hoc systems,generally designed according to paleographers’ suggestions, have been designed for the analysisof ancient manuscripts. in recent years, there has been a growing scientific interest in the useof techniques based on deep learning (dl) for the automatic processing of ancient documents.this interest is not only due to their capability of designing high-performance pattern recognitionsystems, but also to their ability of automatically extracting features from raw data, without using anya priori knowledge. moving from these considerations, the aim of this study is to verify if dl-basedapproaches may actually represent a general methodology for automatically designing machinelearning systems for palaeography applications. to this purpose, we compared the performance of adl-based approach with that of a “classical” machine learning one, in a particularly unfavorable casefor dl, namely that of highly standardized schools. the rationale of this choice is to compare theobtainable results even when context information is present and discriminating: this information isignored by dl approaches, while it is used by machine learning methods, making the comparisonmore significant. the experimental results refer to the use of a large sets of digital images extractedfrom an entire 12th-century bibles, the “avila bible”. this manuscript, produced by several scribeswho worked in different periods and in different places, represents a severe test bed to evaluate theefficiency of scribe identification systems.\n"
     ]
    }
   ],
   "source": [
    "print(An_Experimental_Comparison_between_Deep)"
   ]
  },
  {
   "cell_type": "code",
   "execution_count": 23,
   "id": "f35506ff",
   "metadata": {},
   "outputs": [],
   "source": [
    "Biblical_intertextuality_in_a_digital = \"Over centuries texts of all genres have been connected byquotes, allusions, idioms, stylistic imitations and many more.Understanding literature means understanding these kindsof intertextual relations. The goal of the G¨ottingen sub\u0002project of eTRACES,1an interdisciplinary project of hu\u0002manists and computer scientists, is to enable research onthis essential part of literary studies. We are creating a dig\u0002ital working environment, a tool called GERTRUDE (G¨ot\u0002tingen E-Research: Text Re-Use for Digital Editions), in aneffort to determine whether and to what degree such a toolcan support a researcher in finding, marking and annotatingintertextual relations:- Especially in big text corpora, looking for intertextual rela\u0002tions can be very time-consuming. So Text-Mining-algorithmsare integrated to determine so called “textual re-use”, hop\u0002ing also to find interesting textual relations not yet knownor expected (serendipity effect).- For referencing an exact text passage, the TextGrid Ci\u0002tation Schema is used, because it enables us to mark up asegment of text down to the granularity of letters and toaddress different editions of a text.- The possibilities and limitations of annotating or even eval\u0002uating a text passage in its relation to others, its form, func\u0002tion and “degree” of intertextuality will be researched by cre\u0002ating this tool as a crowd-sourcing environment: It is usableby everyone interested and it is also integrated in universitycourses, where students are encouraged to use it. By thismeans it is possible to compare and discuss the results aswell as the usability, possibilities and limitations of the tool.Our approach is based on German literature from 1500s to1900s and is part of a BMBF-sponsored text corpus availableunder a Creative Commons License online\".lower()"
   ]
  },
  {
   "cell_type": "code",
   "execution_count": 24,
   "id": "a1695137",
   "metadata": {},
   "outputs": [
    {
     "name": "stdout",
     "output_type": "stream",
     "text": [
      "over centuries texts of all genres have been connected byquotes, allusions, idioms, stylistic imitations and many more.understanding literature means understanding these kindsof intertextual relations. the goal of the g¨ottingen sub\u0002project of etraces,1an interdisciplinary project of hu\u0002manists and computer scientists, is to enable research onthis essential part of literary studies. we are creating a dig\u0002ital working environment, a tool called gertrude (g¨ot\u0002tingen e-research: text re-use for digital editions), in aneffort to determine whether and to what degree such a toolcan support a researcher in finding, marking and annotatingintertextual relations:- especially in big text corpora, looking for intertextual rela\u0002tions can be very time-consuming. so text-mining-algorithmsare integrated to determine so called “textual re-use”, hop\u0002ing also to find interesting textual relations not yet knownor expected (serendipity effect).- for referencing an exact text passage, the textgrid ci\u0002tation schema is used, because it enables us to mark up asegment of text down to the granularity of letters and toaddress different editions of a text.- the possibilities and limitations of annotating or even eval\u0002uating a text passage in its relation to others, its form, func\u0002tion and “degree” of intertextuality will be researched by cre\u0002ating this tool as a crowd-sourcing environment: it is usableby everyone interested and it is also integrated in universitycourses, where students are encouraged to use it. by thismeans it is possible to compare and discuss the results aswell as the usability, possibilities and limitations of the tool.our approach is based on german literature from 1500s to1900s and is part of a bmbf-sponsored text corpus availableunder a creative commons license online\n"
     ]
    }
   ],
   "source": [
    "print(Biblical_intertextuality_in_a_digital)"
   ]
  },
  {
   "cell_type": "code",
   "execution_count": 25,
   "id": "65f1cb94",
   "metadata": {},
   "outputs": [],
   "source": [
    "Computational_modelling_of_an_optical_character = \"This study acquired a dataset of scanned images of Standard Yorùbá printed text andformulated a Yorùbá character image recognition model. The model formulated was implemented and the performance of the model evaluated to develop an Optical CharacterRecognition (OCR) model for Yorùbá printed text images.The image dataset at  dots per inches (dpi) was acquired by generating image textline from Yorùbá New Testament Bible (Bibeli Mimo) corpus using Unicode UTF8. The LongShort Term Memory (LSTM) model, a variant of Recurrent Neural Network (RNN) was usedto formulate the Standard Yorùbá character image recognition model. The Python OCRopusframework was used to implement the model designed. The performance of the modeldesigned was evaluated using character error rate based on Levenshtein Edit Distance al\u0002gorithm.The results show that the Character Error Rate (CER) of  for the font Times NewRoman which gives better recognition than the other font style metric performance. Themodel achieved an OCR result of DejaVuSans font style image dataset, whilefor Ariel font image dataset, a result of  was achieved. The introduction of Languagemodel-based Standard Yorùbá a spell-checker corrector show a reduction in the CharacterError Rate. The Times New Roman font recorded an error rate of , the DejaVuSansfont style at an error rate of  while the Ariel font at .The study concluded that the performance of the model shows that the farther away animage text font is from the font(s) used in training the network, the higher the charactererror rate of the recognition and that the inclusion of a post-processing stage shows areduction in the Character Error Rates.\".lower()"
   ]
  },
  {
   "cell_type": "code",
   "execution_count": 26,
   "id": "06bd57db",
   "metadata": {},
   "outputs": [
    {
     "name": "stdout",
     "output_type": "stream",
     "text": [
      "this study acquired a dataset of scanned images of standard yorùbá printed text andformulated a yorùbá character image recognition model. the model formulated was implemented and the performance of the model evaluated to develop an optical characterrecognition (ocr) model for yorùbá printed text images.the image dataset at  dots per inches (dpi) was acquired by generating image textline from yorùbá new testament bible (bibeli mimo) corpus using unicode utf8. the longshort term memory (lstm) model, a variant of recurrent neural network (rnn) was usedto formulate the standard yorùbá character image recognition model. the python ocropusframework was used to implement the model designed. the performance of the modeldesigned was evaluated using character error rate based on levenshtein edit distance al\u0002gorithm.the results show that the character error rate (cer) of  for the font times newroman which gives better recognition than the other font style metric performance. themodel achieved an ocr result of dejavusans font style image dataset, whilefor ariel font image dataset, a result of  was achieved. the introduction of languagemodel-based standard yorùbá a spell-checker corrector show a reduction in the charactererror rate. the times new roman font recorded an error rate of , the dejavusansfont style at an error rate of  while the ariel font at .the study concluded that the performance of the model shows that the farther away animage text font is from the font(s) used in training the network, the higher the charactererror rate of the recognition and that the inclusion of a post-processing stage shows areduction in the character error rates.\n"
     ]
    }
   ],
   "source": [
    "print(Computational_modelling_of_an_optical_character)"
   ]
  },
  {
   "cell_type": "code",
   "execution_count": 27,
   "id": "b4317f12",
   "metadata": {},
   "outputs": [],
   "source": [
    "Continuous_multilinguality_with_language = \"Most existing models for multilingual natural language processing (NLP) treat language as a discrete category, and makepredictions for either one language or theother. In contrast, we propose usingcontinuous vector representations of language. We show that these can be learnedefficiently with a character-based neural language model, and used to improve inference about language varieties not seenduring training. In experiments with  Bible translations into  different languages, we empirically explore the capacity of multilingual language models,and also show that the language vectorscapture genetic relationships between languages.\".lower()"
   ]
  },
  {
   "cell_type": "code",
   "execution_count": 29,
   "id": "7aead2d5",
   "metadata": {},
   "outputs": [
    {
     "name": "stdout",
     "output_type": "stream",
     "text": [
      "most existing models for multilingual natural language processing (nlp) treat language as a discrete category, and makepredictions for either one language or theother. in contrast, we propose usingcontinuous vector representations of language. we show that these can be learnedefficiently with a character-based neural language model, and used to improve inference about language varieties not seenduring training. in experiments with  bible translations into  different languages, we empirically explore the capacity of multilingual language models,and also show that the language vectorscapture genetic relationships between languages.\n"
     ]
    }
   ],
   "source": [
    "print(Continuous_multilinguality_with_language)"
   ]
  },
  {
   "cell_type": "code",
   "execution_count": 30,
   "id": "5eb3dc63",
   "metadata": {},
   "outputs": [],
   "source": [
    "Design_and_Development_of_Part_of_Speech_Tagging = \"in this paper, we report on the design of a part-of-speech-tagset for Wolof and on the creation of a semi-automatically annotated goldstandard. The main motivation for this resource is to obtain data for training automatic taggers with machine learning approaches. Hence,we take machine learning considerations into account during tagset design and present training experiments as part of this paper. Thebest automatic tagger achieves an accuracy of in cross-validation experiments. We also wanted to create a basis for experimentingwith annotation projection techniques, which exploit parallel corpora. For this reason, it was useful to use a part of the Bible as the goldstandard corpus, for which sentence-aligned parallel versions in many languages are easy to obtain.\".lower()"
   ]
  },
  {
   "cell_type": "code",
   "execution_count": 31,
   "id": "54f207a3",
   "metadata": {},
   "outputs": [
    {
     "name": "stdout",
     "output_type": "stream",
     "text": [
      "in this paper, we report on the design of a part-of-speech-tagset for wolof and on the creation of a semi-automatically annotated goldstandard. the main motivation for this resource is to obtain data for training automatic taggers with machine learning approaches. hence,we take machine learning considerations into account during tagset design and present training experiments as part of this paper. thebest automatic tagger achieves an accuracy of in cross-validation experiments. we also wanted to create a basis for experimentingwith annotation projection techniques, which exploit parallel corpora. for this reason, it was useful to use a part of the bible as the goldstandard corpus, for which sentence-aligned parallel versions in many languages are easy to obtain.\n"
     ]
    }
   ],
   "source": [
    "print(Design_and_Development_of_Part_of_Speech_Tagging)"
   ]
  },
  {
   "cell_type": "code",
   "execution_count": 32,
   "id": "36c70f0b",
   "metadata": {},
   "outputs": [],
   "source": [
    "Development_of_a_Recurrent_Neural_Network_Model = \"This research developed a recurrent neural network model for English to Yoruba machine translation. Parallel corpus was obtained from the English and Yoruba bible corpus. The developed model was tested and evaluated using both manual and automatic evaluation techniques. Results from manual evaluation by ten human evaluators show that the system is adequate and fluent. Also, results from automatic evaluation shows that the developed model has decent and good translation as well as higher accuracy because it has better correlation with human judgment.\".lower()"
   ]
  },
  {
   "cell_type": "code",
   "execution_count": 33,
   "id": "da8fcaf1",
   "metadata": {},
   "outputs": [
    {
     "name": "stdout",
     "output_type": "stream",
     "text": [
      "this research developed a recurrent neural network model for english to yoruba machine translation. parallel corpus was obtained from the english and yoruba bible corpus. the developed model was tested and evaluated using both manual and automatic evaluation techniques. results from manual evaluation by ten human evaluators show that the system is adequate and fluent. also, results from automatic evaluation shows that the developed model has decent and good translation as well as higher accuracy because it has better correlation with human judgment.\n"
     ]
    }
   ],
   "source": [
    "print(Development_of_a_Recurrent_Neural_Network_Model )"
   ]
  },
  {
   "cell_type": "code",
   "execution_count": 34,
   "id": "3f94ad59",
   "metadata": {},
   "outputs": [],
   "source": [
    " Hybrid_Part_of_Speech_Tagger_for = \"The process of assigning part of speech for every word in a given sentence according to the context is called as part of speech tagging. Part of speech tagging (POS tagging) plays an important role in the area of natural language processing (NLP) including applications such as speech recognition, speech synthesis, natural language parsing, information retrieval, multi words term extraction, word sense disambiguation and machine translation. This paper proposes an efficient and accurate POS tagging technique for Malayalam language using hybrid approach. We propose a Conditional Random Fields(CRF) based method integrated with Rule-Based method. We use SVM based method to compare the accuracy. The corpus both tagged and untagged used for training and testing the system is in the unicode format. The tagset developed by lIlT Hyderabad for Indian Languages is used. The system is tested for selected books of Bible and perform with an accuracy of\""
   ]
  },
  {
   "cell_type": "code",
   "execution_count": 35,
   "id": "f1f6dc7e",
   "metadata": {},
   "outputs": [
    {
     "name": "stdout",
     "output_type": "stream",
     "text": [
      "The process of assigning part of speech for every word in a given sentence according to the context is called as part of speech tagging. Part of speech tagging (POS tagging) plays an important role in the area of natural language processing (NLP) including applications such as speech recognition, speech synthesis, natural language parsing, information retrieval, multi words term extraction, word sense disambiguation and machine translation. This paper proposes an efficient and accurate POS tagging technique for Malayalam language using hybrid approach. We propose a Conditional Random Fields(CRF) based method integrated with Rule-Based method. We use SVM based method to compare the accuracy. The corpus both tagged and untagged used for training and testing the system is in the unicode format. The tagset developed by lIlT Hyderabad for Indian Languages is used. The system is tested for selected books of Bible and perform with an accuracy of\n"
     ]
    }
   ],
   "source": [
    "print( Hybrid_Part_of_Speech_Tagger_for)"
   ]
  },
  {
   "cell_type": "code",
   "execution_count": 36,
   "id": "bbca9336",
   "metadata": {},
   "outputs": [],
   "source": [
    "If_all_you_have_is_a_bit_of_the_Bible = \"We present a simple method for learning part-of-speech taggers for languages like Akawaio,Aukan, or Cakchiquel – languages for whichnothing but a translation of parts of the Bibleexists. By aggregating over the tags from afew annotated languages and spreading themvia word-alignment on the verses, we learnPOS taggers for 100 languages, using the languages to bootstrap each other. We evaluate our cross-lingual models on the languages where test sets exist. Our approachperforms much better than state-of-the-art unsupervised POS taggers inducedfrom Bible translations, and is often competitive with weakly supervised approaches thatassume high-quality parallel corpora, representative monolingual corpora with perfect tokenization, and or tag dictionaries. We make models for all \".lower()\n"
   ]
  },
  {
   "cell_type": "code",
   "execution_count": 37,
   "id": "112875a9",
   "metadata": {},
   "outputs": [
    {
     "name": "stdout",
     "output_type": "stream",
     "text": [
      "we present a simple method for learning part-of-speech taggers for languages like akawaio,aukan, or cakchiquel – languages for whichnothing but a translation of parts of the bibleexists. by aggregating over the tags from afew annotated languages and spreading themvia word-alignment on the verses, we learnpos taggers for 100 languages, using the languages to bootstrap each other. we evaluate our cross-lingual models on the languages where test sets exist. our approachperforms much better than state-of-the-art unsupervised pos taggers inducedfrom bible translations, and is often competitive with weakly supervised approaches thatassume high-quality parallel corpora, representative monolingual corpora with perfect tokenization, and or tag dictionaries. we make models for all \n"
     ]
    }
   ],
   "source": [
    "print(If_all_you_have_is_a_bit_of_the_Bible)"
   ]
  },
  {
   "cell_type": "code",
   "execution_count": 38,
   "id": "3c59dc06",
   "metadata": {},
   "outputs": [],
   "source": [
    "If_You_Even_Dont_Have_a_Bit_of_Bible_Learning_Delexicalized = \"art-of-speech (POS) induction is one of the most popular tasks in research on unsupervised NLP. Various unsupervised and semi\u0002supervised methods have been proposed to tag an unseen language. However, many of them require some partial understanding of thetarget language because they rely on dictionaries or parallel corpora such as the Bible. In this paper, we propose a different methodnamed delexicalized tagging, for which we only need a raw corpus of the target language. We transfer tagging models trained onannotated corpora of one or more resource-rich languages. We employ language-independent features such as word length, frequency,neighborhood entropy, character classes (alphabetic vs. numeric vs. punctuation) etc. We demonstrate that such features can, to certainextent, serve as predictors of the part of speech, represented by the universal POS tag (Das and Petrov, ).Keywords: delexicalized tagging, HamdleDT , features expansion, classifier\".lower() "
   ]
  },
  {
   "cell_type": "code",
   "execution_count": 40,
   "id": "1af06432",
   "metadata": {},
   "outputs": [
    {
     "name": "stdout",
     "output_type": "stream",
     "text": [
      "art-of-speech (pos) induction is one of the most popular tasks in research on unsupervised nlp. various unsupervised and semi\u0002supervised methods have been proposed to tag an unseen language. however, many of them require some partial understanding of thetarget language because they rely on dictionaries or parallel corpora such as the bible. in this paper, we propose a different methodnamed delexicalized tagging, for which we only need a raw corpus of the target language. we transfer tagging models trained onannotated corpora of one or more resource-rich languages. we employ language-independent features such as word length, frequency,neighborhood entropy, character classes (alphabetic vs. numeric vs. punctuation) etc. we demonstrate that such features can, to certainextent, serve as predictors of the part of speech, represented by the universal pos tag (das and petrov, ).keywords: delexicalized tagging, hamdledt , features expansion, classifier\n"
     ]
    }
   ],
   "source": [
    "print(If_You_Even_Dont_Have_a_Bit_of_Bible_Learning_Delexicalized)"
   ]
  },
  {
   "cell_type": "code",
   "execution_count": 41,
   "id": "0b5784a3",
   "metadata": {},
   "outputs": [],
   "source": [
    "LVQ_for_text_categorization_using_a_multilingual = \"Neural learning has been used with e6ectiveness in natural language processing tasks. Par\u0002ticularly, the Widrow–Ho6 and the Kivinen–Warmuth exponentiated gradient (based on neurallearning rules) algorithms have been used in text categorization, improving the results obtainedby the well-known Rocchio’s algorithm. The high performance of competitive learning algo\u0002rithms, recently applied to solve information retrieval problems, leads us to use them in thespeci=c text categorization tasks. This paper presents a multilingual categorization system basedon neural learning, using the polyglot Bible as training collection, both in Spanish and English.The method we suggest is based on using the LVQalgorithm to build a classi=er that learns thetraining multilingual collection. We have performed experiments with the four algorithm whichshow that the ideas we describe are promising and are worth further investigation\".lower()"
   ]
  },
  {
   "cell_type": "code",
   "execution_count": 42,
   "id": "a1127046",
   "metadata": {},
   "outputs": [
    {
     "name": "stdout",
     "output_type": "stream",
     "text": [
      "neural learning has been used with e6ectiveness in natural language processing tasks. par\u0002ticularly, the widrow–ho6 and the kivinen–warmuth exponentiated gradient (based on neurallearning rules) algorithms have been used in text categorization, improving the results obtainedby the well-known rocchio’s algorithm. the high performance of competitive learning algo\u0002rithms, recently applied to solve information retrieval problems, leads us to use them in thespeci=c text categorization tasks. this paper presents a multilingual categorization system basedon neural learning, using the polyglot bible as training collection, both in spanish and english.the method we suggest is based on using the lvqalgorithm to build a classi=er that learns thetraining multilingual collection. we have performed experiments with the four algorithm whichshow that the ideas we describe are promising and are worth further investigation\n"
     ]
    }
   ],
   "source": [
    "print(LVQ_for_text_categorization_using_a_multilingual)"
   ]
  },
  {
   "cell_type": "code",
   "execution_count": 43,
   "id": "15d9ef9c",
   "metadata": {},
   "outputs": [],
   "source": [
    "Modeling_the_Hebrew_Bible_Potential = \"Providing useful and efficient semantic annotations is a major challengefor knowledge design of any body of text, especially historical documents. Inthis article, we propose Topic Modeling as an important first step to gathersemantic information beyond the lexicon which can be added as annotationsin the SHEBANQ. By laying out a case study, we discuss both noise andstructure found in comparing topics extracted within different distributions,and show the value of such approach, which we label a topic hierarchy. Wealso show a first result in applying such approach to study diachronic varietyin the Bible, and show how this overall Topic Modeling approach can resultin more query options for users of the database\".lower()"
   ]
  },
  {
   "cell_type": "code",
   "execution_count": 44,
   "id": "9ef753d2",
   "metadata": {},
   "outputs": [
    {
     "name": "stdout",
     "output_type": "stream",
     "text": [
      "providing useful and efficient semantic annotations is a major challengefor knowledge design of any body of text, especially historical documents. inthis article, we propose topic modeling as an important first step to gathersemantic information beyond the lexicon which can be added as annotationsin the shebanq. by laying out a case study, we discuss both noise andstructure found in comparing topics extracted within different distributions,and show the value of such approach, which we label a topic hierarchy. wealso show a first result in applying such approach to study diachronic varietyin the bible, and show how this overall topic modeling approach can resultin more query options for users of the database\n"
     ]
    }
   ],
   "source": [
    "print(Modeling_the_Hebrew_Bible_Potential)"
   ]
  },
  {
   "cell_type": "code",
   "execution_count": 45,
   "id": "b86f0e31",
   "metadata": {},
   "outputs": [],
   "source": [
    "Normalizing_Historical_Orthography = \"Historical text presents numerous challenges for contemporary different techniques, e.g. information retrieval, OCRand POS tagging. In particular, the absence of consistentorthographic conventions in historical text presents difficul\u0002ties for any system which requires reference to a fixed lexiconaccessed by orthographic form. For example, language modeling or retrieval engine for historical text which is producedby OCR systems, where the spelling of words often differ invarious way, e.g. one word might have different spellingsevolved over time. It is very important to aid those tech\u0002niques with the rules for automatic mapping of historicalwordforms. In this paper, we propose a new technique tomodel the target modern language by means of a recurrentneural network with long-short term memory architecture.Because the network is recurrent, the considered context isnot limited to a fixed size especially due to memory cellswhich are designed to deal with long-term dependencies.In the set of experiments conducted on the Luther bibledatabase and transform wordforms from Early New HighGerman (ENHG) 14th - 16th centuries to the corresponding modern wordforms in New High German (NHG). Wecompare our proposed supervised model LSTM to variousmethods for computing word alignments using statistical,heuristic models. Our new proposed LSTM outperformsthe other three state-of-the-art methods. The evaluationshows the accuracy of our model on the known wordforms is and on the unknown wordforms is , while theaccuracy of the existing state-of-the-art combined approachof the wordlist-based and rule-based normalization models is for known and for unknown tokens. Our proposed LSTM model outperforms on normalizing the modernwordform to historical wordform. The performance on seentokens is , while for unknown tokens is \".lower()"
   ]
  },
  {
   "cell_type": "code",
   "execution_count": 46,
   "id": "a816ac9c",
   "metadata": {},
   "outputs": [
    {
     "name": "stdout",
     "output_type": "stream",
     "text": [
      "historical text presents numerous challenges for contemporary different techniques, e.g. information retrieval, ocrand pos tagging. in particular, the absence of consistentorthographic conventions in historical text presents difficul\u0002ties for any system which requires reference to a fixed lexiconaccessed by orthographic form. for example, language modeling or retrieval engine for historical text which is producedby ocr systems, where the spelling of words often differ invarious way, e.g. one word might have different spellingsevolved over time. it is very important to aid those tech\u0002niques with the rules for automatic mapping of historicalwordforms. in this paper, we propose a new technique tomodel the target modern language by means of a recurrentneural network with long-short term memory architecture.because the network is recurrent, the considered context isnot limited to a fixed size especially due to memory cellswhich are designed to deal with long-term dependencies.in the set of experiments conducted on the luther bibledatabase and transform wordforms from early new highgerman (enhg) 14th - 16th centuries to the corresponding modern wordforms in new high german (nhg). wecompare our proposed supervised model lstm to variousmethods for computing word alignments using statistical,heuristic models. our new proposed lstm outperformsthe other three state-of-the-art methods. the evaluationshows the accuracy of our model on the known wordforms is and on the unknown wordforms is , while theaccuracy of the existing state-of-the-art combined approachof the wordlist-based and rule-based normalization models is for known and for unknown tokens. our proposed lstm model outperforms on normalizing the modernwordform to historical wordform. the performance on seentokens is , while for unknown tokens is \n"
     ]
    }
   ],
   "source": [
    "print(Normalizing_Historical_Orthography)"
   ]
  },
  {
   "cell_type": "code",
   "execution_count": 47,
   "id": "9ffddf74",
   "metadata": {},
   "outputs": [],
   "source": [
    "Ontology_Based_CBR_System_on_Religious = \"The Bible, which is the holy book for Christians, contains instructions for life and has a vastreservoir of information, useful for life. It is sufficient to provide an answer to queries onany vital topic in life. The paper focuses on ‘Leadership’, which is an important concept inlife and aims at developing Ontology for the same, based on a few books of the Old and NewTestaments of the Bible. Leadership is one of the vital personality traits that decide howmuch a person achieves and climbs up the ladder of success in life and influences otherpeople and the society at large. The study on leadership was done from various perspectives—historical, sociological, psychological, etc. However, in this work, it is approached from aBiblical perspective, wherein the Biblical truths are used both to diagnose the leadershippotential in a person and recommend leadership scope for a person based on his or herleadership abilities. A combination of ontological approach and Case-Based Reasoning(CBR) is used for this. The Ontology Web Language (OWL) on leadership is developed andused in the CBR system development. The CBR system is developed using myCBR. Any usercan use this application to assess his leadership traits, recognize his eligibility for becominga leader and receive biblical recommendations to equip him for future leadership.\""
   ]
  },
  {
   "cell_type": "code",
   "execution_count": 48,
   "id": "028693f9",
   "metadata": {},
   "outputs": [
    {
     "name": "stdout",
     "output_type": "stream",
     "text": [
      "The Bible, which is the holy book for Christians, contains instructions for life and has a vastreservoir of information, useful for life. It is sufficient to provide an answer to queries onany vital topic in life. The paper focuses on ‘Leadership’, which is an important concept inlife and aims at developing Ontology for the same, based on a few books of the Old and NewTestaments of the Bible. Leadership is one of the vital personality traits that decide howmuch a person achieves and climbs up the ladder of success in life and influences otherpeople and the society at large. The study on leadership was done from various perspectives—historical, sociological, psychological, etc. However, in this work, it is approached from aBiblical perspective, wherein the Biblical truths are used both to diagnose the leadershippotential in a person and recommend leadership scope for a person based on his or herleadership abilities. A combination of ontological approach and Case-Based Reasoning(CBR) is used for this. The Ontology Web Language (OWL) on leadership is developed andused in the CBR system development. The CBR system is developed using myCBR. Any usercan use this application to assess his leadership traits, recognize his eligibility for becominga leader and receive biblical recommendations to equip him for future leadership.\n"
     ]
    }
   ],
   "source": [
    "print(Ontology_Based_CBR_System_on_Religious)"
   ]
  },
  {
   "cell_type": "code",
   "execution_count": 49,
   "id": "e18567b3",
   "metadata": {},
   "outputs": [],
   "source": [
    "Prototype_Matching_Finding_Meaning = \"it is common that text documents are characterised andclassified by keywords and that the authors use to give andname these text characteristics. Visa et al. have, however,developed a new methodology based on prototype matching.The prototype is an interesting document or a part of anextracted, interesting text. This prototype is matched withthe existing document database or the monitored documentflow. Our claim is that the new methodology is capable ofextracting meaning automatically from the contents of thedocument. To verify this hypothesis a test was designedwith the Bible. Two different translations, one in Englishand another in Finnish, were selected as test text material.Verification tests that included the search of the ten nearestbooks to every book of the Bible were performed with a de\u0002signed prototype version of the software application. Theinteresting test results are reported in this paper.The new methodology is based on a hierarchy of Self\u0002Organizing Maps (SOM) and on a smart encoding of words.The words of a text document are encoded. The encodedwords are represented as word vectors. The word vectorsare clustered by the SOM and this process creates a wordmap. The words of a text document are replaced with theaddresses on the word map. Now the document consists ofa sequence of addresses. These addresses contain informa\u0002tion of word order. The document is considered sentenceby sentence. These sentence vectors are clustered by SOM.This process creates a sentence map. Now the sentences ofthe text document are replaced with addresses on the sen\".lower()"
   ]
  },
  {
   "cell_type": "code",
   "execution_count": 50,
   "id": "84497d03",
   "metadata": {},
   "outputs": [
    {
     "name": "stdout",
     "output_type": "stream",
     "text": [
      "it is common that text documents are characterised andclassified by keywords and that the authors use to give andname these text characteristics. visa et al. have, however,developed a new methodology based on prototype matching.the prototype is an interesting document or a part of anextracted, interesting text. this prototype is matched withthe existing document database or the monitored documentflow. our claim is that the new methodology is capable ofextracting meaning automatically from the contents of thedocument. to verify this hypothesis a test was designedwith the bible. two different translations, one in englishand another in finnish, were selected as test text material.verification tests that included the search of the ten nearestbooks to every book of the bible were performed with a de\u0002signed prototype version of the software application. theinteresting test results are reported in this paper.the new methodology is based on a hierarchy of self\u0002organizing maps (som) and on a smart encoding of words.the words of a text document are encoded. the encodedwords are represented as word vectors. the word vectorsare clustered by the som and this process creates a wordmap. the words of a text document are replaced with theaddresses on the word map. now the document consists ofa sequence of addresses. these addresses contain informa\u0002tion of word order. the document is considered sentenceby sentence. these sentence vectors are clustered by som.this process creates a sentence map. now the sentences ofthe text document are replaced with addresses on the sen\n"
     ]
    }
   ],
   "source": [
    "print(Prototype_Matching_Finding_Meaning)"
   ]
  },
  {
   "cell_type": "code",
   "execution_count": 51,
   "id": "de22ed1c",
   "metadata": {},
   "outputs": [],
   "source": [
    "Reliable_writer_identification_in_medieval_manuscripts = \"In the field of manuscript studies (palaeography and codicology), a particularly interesting case is the study ofhighly standardized handwriting and book typologies. In such cases, the analysis of some basic layout features,mainly related to the organization of the page and to the exploitation of the available space, may be very helpfulfor distinguishing similar scribal hands. In this framework, we have defined a set of layout features to develop apattern recognition system for identifying the scribes who collaborated to the transcription of a single medievalLatin book. We have also experimentally characterized the discriminative power of each considered feature andwe have verified whether the selection of an appropriate subset of features for each scribe, specifically devisedfor distinguishing him from all the others, could allow us to achieve better results. This approach allowed usto introduce in a very simple way a reject option for rejecting unreliably classified samples, namely thosenot assigned to any scribe or assigned to more scribes. The experiments, performed on a large database ofdigital images from the so called ‘‘Avila Bible’’ – a giant Latin copy of the whole Bible produced during the XIIcentury between Italy and Spain – confirmed the effectiveness of the proposed method. Finally, we made publiclyavailable the data set extracted from the Avila Bible images\""
   ]
  },
  {
   "cell_type": "code",
   "execution_count": 52,
   "id": "6c8e84fb",
   "metadata": {},
   "outputs": [
    {
     "name": "stdout",
     "output_type": "stream",
     "text": [
      "In the field of manuscript studies (palaeography and codicology), a particularly interesting case is the study ofhighly standardized handwriting and book typologies. In such cases, the analysis of some basic layout features,mainly related to the organization of the page and to the exploitation of the available space, may be very helpfulfor distinguishing similar scribal hands. In this framework, we have defined a set of layout features to develop apattern recognition system for identifying the scribes who collaborated to the transcription of a single medievalLatin book. We have also experimentally characterized the discriminative power of each considered feature andwe have verified whether the selection of an appropriate subset of features for each scribe, specifically devisedfor distinguishing him from all the others, could allow us to achieve better results. This approach allowed usto introduce in a very simple way a reject option for rejecting unreliably classified samples, namely thosenot assigned to any scribe or assigned to more scribes. The experiments, performed on a large database ofdigital images from the so called ‘‘Avila Bible’’ – a giant Latin copy of the whole Bible produced during the XIIcentury between Italy and Spain – confirmed the effectiveness of the proposed method. Finally, we made publiclyavailable the data set extracted from the Avila Bible images\n"
     ]
    }
   ],
   "source": [
    "print(Reliable_writer_identification_in_medieval_manuscripts)"
   ]
  },
  {
   "cell_type": "code",
   "execution_count": 53,
   "id": "d2f00e86",
   "metadata": {},
   "outputs": [],
   "source": [
    "Semantic_Vector_Combinations_and_the_Synoptic = \"This paper applies some recent methods involving semanticvectors and their combination operations to some very traditional questions, including the discovery of similarities and differences between thefour Gospels, relationships between individuals, and the identification ofgeopolitical regions and leaders in the ancient world. In the process, weemploy several methods from linear algebra and vector space models,some of which are of particular importance in quantum mechanics andquantum logic. Our conclusions are in general positive: the vector methods do a good jobof capturing well-known facts about the Bible, its authors, and relationships between people and places mentioned in the Bible. On the morespecific topic of quantum as opposed to other approaches, our conclusionsare more mixed: on the whole, we do not find evidence for preferring vector methods that are directly associated with quantum mechanics overvector methods developed independently of quantum mechanics. We suggest that this argues for synthesis rather than division between classicaland quantum models for information processing\".lower()\n"
   ]
  },
  {
   "cell_type": "code",
   "execution_count": 54,
   "id": "3ec2c7c3",
   "metadata": {},
   "outputs": [
    {
     "name": "stdout",
     "output_type": "stream",
     "text": [
      "this paper applies some recent methods involving semanticvectors and their combination operations to some very traditional questions, including the discovery of similarities and differences between thefour gospels, relationships between individuals, and the identification ofgeopolitical regions and leaders in the ancient world. in the process, weemploy several methods from linear algebra and vector space models,some of which are of particular importance in quantum mechanics andquantum logic. our conclusions are in general positive: the vector methods do a good jobof capturing well-known facts about the bible, its authors, and relationships between people and places mentioned in the bible. on the morespecific topic of quantum as opposed to other approaches, our conclusionsare more mixed: on the whole, we do not find evidence for preferring vector methods that are directly associated with quantum mechanics overvector methods developed independently of quantum mechanics. we suggest that this argues for synthesis rather than division between classicaland quantum models for information processing\n"
     ]
    }
   ],
   "source": [
    "print(Semantic_Vector_Combinations_and_the_Synoptic)"
   ]
  },
  {
   "cell_type": "code",
   "execution_count": 55,
   "id": "05d7ce77",
   "metadata": {},
   "outputs": [],
   "source": [
    "Stylometric_classification_of_different_translations = \"Quantitative stylometry of ten translations of the same Bible passage into English,followed by Ward clustering, produces a dendrogram that reflects the well-knownhistory and intent of the translations. We conclude that quantitative stylometrycombined with clustering is a useful tool for reconstructing literary history\".lower()"
   ]
  },
  {
   "cell_type": "code",
   "execution_count": 56,
   "id": "9f44f55d",
   "metadata": {},
   "outputs": [
    {
     "name": "stdout",
     "output_type": "stream",
     "text": [
      "quantitative stylometry of ten translations of the same bible passage into english,followed by ward clustering, produces a dendrogram that reflects the well-knownhistory and intent of the translations. we conclude that quantitative stylometrycombined with clustering is a useful tool for reconstructing literary history\n"
     ]
    }
   ],
   "source": [
    "print(Stylometric_classification_of_different_translations)"
   ]
  },
  {
   "cell_type": "code",
   "execution_count": 57,
   "id": "b44dd863",
   "metadata": {},
   "outputs": [],
   "source": [
    "Text_Mining_Analysis_of_the_King_James = \"English as a Second Language (ESL) students are oftenexpected to read and use English translations of the Bible foracademic and worship purposes. The purpose of this studywas to explore the writing style of the King James Versionand the New International Version in terms of each transla\u0002tion’s formality, readability, and sentiment using quantitativetext mining analysis tools. Results indicated that the KJV usedmore formal language, had a higher grade level of readabilityand used slightly more positive wording than the NIV. In add\u0002ition, for both translations the Old Testament was much morenegative in terms of sentiment than the New Testament.Lastly, a moderate positive relationship was found betweenreadability and formality for both translations.\".lower()"
   ]
  },
  {
   "cell_type": "code",
   "execution_count": 58,
   "id": "945e17af",
   "metadata": {},
   "outputs": [
    {
     "name": "stdout",
     "output_type": "stream",
     "text": [
      "english as a second language (esl) students are oftenexpected to read and use english translations of the bible foracademic and worship purposes. the purpose of this studywas to explore the writing style of the king james versionand the new international version in terms of each transla\u0002tion’s formality, readability, and sentiment using quantitativetext mining analysis tools. results indicated that the kjv usedmore formal language, had a higher grade level of readabilityand used slightly more positive wording than the niv. in add\u0002ition, for both translations the old testament was much morenegative in terms of sentiment than the new testament.lastly, a moderate positive relationship was found betweenreadability and formality for both translations.\n"
     ]
    }
   ],
   "source": [
    "print(Text_Mining_Analysis_of_the_King_James)"
   ]
  },
  {
   "cell_type": "code",
   "execution_count": 121,
   "id": "ea0cea2a",
   "metadata": {},
   "outputs": [],
   "source": [
    "Text_Correction_Using_Approaches_Based = \"Several authors have reported interesting results obtained by using untrained randomly initialized recurrentpart of an recurrent neural network (RNN). Instead of long,difficult and often unnecessary adaptation process, dynamics based on fixed point attractors can be rich enough forfurther exploitation for some tasks. The principle explaining untrained RNN state space structure is called Markovian architectural bias and several methods usingthis behavior were studied. In this paper we apply theseapproaches to correct corrupted symbols from symbol sequence. These approaches share some properties with variable length Markov models hence our experiments are inspired by the paper dealing with the text correction on thebible dataset\".lower()"
   ]
  },
  {
   "cell_type": "code",
   "execution_count": 122,
   "id": "a4c676fe",
   "metadata": {},
   "outputs": [
    {
     "name": "stdout",
     "output_type": "stream",
     "text": [
      "several authors have reported interesting results obtained by using untrained randomly initialized recurrentpart of an recurrent neural network (rnn). instead of long,difficult and often unnecessary adaptation process, dynamics based on fixed point attractors can be rich enough forfurther exploitation for some tasks. the principle explaining untrained rnn state space structure is called markovian architectural bias and several methods usingthis behavior were studied. in this paper we apply theseapproaches to correct corrupted symbols from symbol sequence. these approaches share some properties with variable length markov models hence our experiments are inspired by the paper dealing with the text correction on thebible dataset\n"
     ]
    }
   ],
   "source": [
    "print(Text_Correction_Using_Approaches_Based)"
   ]
  },
  {
   "cell_type": "markdown",
   "id": "857870fc",
   "metadata": {},
   "source": [
    "####################################################################################"
   ]
  },
  {
   "cell_type": "markdown",
   "id": "86b1d34b",
   "metadata": {},
   "source": [
    "Anexo dos artigos da meta-análise para produzir as figuras dos artigos. "
   ]
  },
  {
   "cell_type": "code",
   "execution_count": 1,
   "id": "9f4848cf",
   "metadata": {},
   "outputs": [],
   "source": [
    "A_Hierarchical_Book_Representation_of_Word_Embeddings = \"Semantic word embeddings have shown to cluster in space based on linguistic similarities that are quantifiablycaptured using simple vector arithmetic. Recently, methods for learning distributed word vectors have pro\u0002gressively empowered neural language models to compute compositional vector representations for phrasesof variable length. However, they remain limited in expressing more generic relatedness between instances ofa larger and non-uniform sized body-of-text. In this work, we propose a formulation that combines a wordvector set of variable cardinality to represent a verse or a sentence, with an iterative distance metric to eval\u0002uate similarity in pairs of non-conforming verse matrices. In contrast to baselines characterized by a bag offeatures, our model preserves word order and is more sustainable in performing semantic matching at anyof a verse, chapter and book levels. Using our framework to train word vectors, we analyzed the clusteringof bible books exploring multidimensional scaling for visualization, and experimented with book searchesof both contiguous and out-of-order parts of verses. We report robust results that support our intuition formeasuring book-to-book and verse-to-book similarity.\".lower()"
   ]
  },
  {
   "cell_type": "code",
   "execution_count": 11,
   "id": "aa64def5",
   "metadata": {},
   "outputs": [
    {
     "name": "stdout",
     "output_type": "stream",
     "text": [
      "semantic word embeddings have shown to cluster in space based on linguistic similarities that are quantifiablycaptured using simple vector arithmetic. recently, methods for learning distributed word vectors have pro\u0002gressively empowered neural language models to compute compositional vector representations for phrasesof variable length. however, they remain limited in expressing more generic relatedness between instances ofa larger and non-uniform sized body-of-text. in this work, we propose a formulation that combines a wordvector set of variable cardinality to represent a verse or a sentence, with an iterative distance metric to eval\u0002uate similarity in pairs of non-conforming verse matrices. in contrast to baselines characterized by a bag offeatures, our model preserves word order and is more sustainable in performing semantic matching at anyof a verse, chapter and book levels. using our framework to train word vectors, we analyzed the clusteringof bible books exploring multidimensional scaling for visualization, and experimented with book searchesof both contiguous and out-of-order parts of verses. we report robust results that support our intuition formeasuring book-to-book and verse-to-book similarity.\n"
     ]
    }
   ],
   "source": [
    "print(A_Hierarchical_Book_Representation_of_Word_Embeddings)"
   ]
  },
  {
   "cell_type": "code",
   "execution_count": 2,
   "id": "275b5ab9",
   "metadata": {},
   "outputs": [],
   "source": [
    "Annotation_as_a_New_Paradigm_in_Research = \"We outline a paradigm to preserve results of digital scholarship, whether they are  query results, feature values, or topic assignments. This paradigm is characterized by using annotations as multifunctional carriers and making them portable. The testing grounds we have chosen are two significant enterprises,  one in the history of science,  and one in Hebrew scholarship.The first one (CKCC) focuses on the results of a project where a Dutch consortium of universities, research institutes, and cultural heritage  institutions  experimented for 4 years with language techniques and topic modeling methods with the aim to analyze the emergence of scholarly debates. The data: a complex set of about 20.000 letters.The second one (DTHB)  is a  multi-year effort to express the linguistic features of the Hebrew bible in  a  text database, which is still growing in detail and sophistication. Versions of this database are packaged in commercial bible study software.We state that the results of these forms of scholarship require new knowledge management and archive practices. Only when researchers can build efficiently on each other's (intermediate)results, they can achieve the aggregations of quality data by which new questions can be answered, and hidden patterns visualized. Archives are required to find a balance between preserving authoritative versions of sources and supporting collaborative efforts in digital scholarship. Annotations are promising vehicles for preserving and reusing research results.\".lower()"
   ]
  },
  {
   "cell_type": "code",
   "execution_count": 20,
   "id": "1b2a2a44",
   "metadata": {},
   "outputs": [
    {
     "name": "stdout",
     "output_type": "stream",
     "text": [
      "we outline a paradigm to preserve results of digital scholarship, whether they are  query results, feature values, or topic assignments. this paradigm is characterized by using annotations as multifunctional carriers and making them portable. the testing grounds we have chosen are two significant enterprises,  one in the history of science,  and one in hebrew scholarship.the first one (ckcc) focuses on the results of a project where a dutch consortium of universities, research institutes, and cultural heritage  institutions  experimented for 4 years with language techniques and topic modeling methods with the aim to analyze the emergence of scholarly debates. the data: a complex set of about 20.000 letters.the second one (dthb)  is a  multi-year effort to express the linguistic features of the hebrew bible in  a  text database, which is still growing in detail and sophistication. versions of this database are packaged in commercial bible study software.we state that the results of these forms of scholarship require new knowledge management and archive practices. only when researchers can build efficiently on each other's (intermediate)results, they can achieve the aggregations of quality data by which new questions can be answered, and hidden patterns visualized. archives are required to find a balance between preserving authoritative versions of sources and supporting collaborative efforts in digital scholarship. annotations are promising vehicles for preserving and reusing research results.\n"
     ]
    }
   ],
   "source": [
    "print(Annotation_as_a_New_Paradigm_in_Research)"
   ]
  },
  {
   "cell_type": "code",
   "execution_count": 23,
   "id": "5232e412",
   "metadata": {},
   "outputs": [],
   "source": [
    "Contents_Matching_Defined_by_Prototypes = \"It is common that text documents are characterized and classified by keywords, index terms, or headings. We have developed a new methodology based onprototype matching. The prototype is an interesting document or a part of an ex\u0002tracted, interesting text. This prototype is matched with the existing document data\u0002base or with the monitored document flow. The claim is that the new methodology iscapable of extracting the contents of the document. To verify this hypothesis, a testwith the Bible was designed. Different translations in English, Latin, Greek, and Finnishwere selected to test materials. Verification tests that included the search of the tennearest books to every book of the Bible were performed with a designed prototypeversion of the software application. The test results are reported in this paper.\""
   ]
  },
  {
   "cell_type": "code",
   "execution_count": 24,
   "id": "2959026c",
   "metadata": {},
   "outputs": [
    {
     "name": "stdout",
     "output_type": "stream",
     "text": [
      "It is common that text documents are characterized and classified by keywords, index terms, or headings. We have developed a new methodology based onprototype matching. The prototype is an interesting document or a part of an ex\u0002tracted, interesting text. This prototype is matched with the existing document data\u0002base or with the monitored document flow. The claim is that the new methodology iscapable of extracting the contents of the document. To verify this hypothesis, a testwith the Bible was designed. Different translations in English, Latin, Greek, and Finnishwere selected to test materials. Verification tests that included the search of the tennearest books to every book of the Bible were performed with a designed prototypeversion of the software application. The test results are reported in this paper.\n"
     ]
    }
   ],
   "source": [
    "print(Contents_Matching_Defined_by_Prototypes)"
   ]
  },
  {
   "cell_type": "code",
   "execution_count": 4,
   "id": "4faee911",
   "metadata": {},
   "outputs": [],
   "source": [
    "Exegetical_Science_for_the_Interpretation = \"Systematic thought (such as Christian theology) has primarily been investigated using literature-based approaches, with texts that are usually more abstract and subjective in nature than scientific papers. However, as systematic ideas and thought influence all areas of human activity and thinking, the applica\u0002tion of scientific methodologies such as bibliometrics, natural language processing, and other information technologies may provide a more objective understanding of systematic thought. This paper introduces four methods of quan\u0002titative analysis for the interpretation of the Bible in a scientific manner. The methods are citation analysis for interpreters’ texts, vocabulary analysis for translations, variant text analysis for canonical texts, and an evaluation method for rhetorical structure. Furthermore, these algorithms are implemented for Java-based software\".lower()"
   ]
  },
  {
   "cell_type": "code",
   "execution_count": 27,
   "id": "7f6af988",
   "metadata": {},
   "outputs": [
    {
     "name": "stdout",
     "output_type": "stream",
     "text": [
      "systematic thought (such as christian theology) has primarily been investigated using literature-based approaches, with texts that are usually more abstract and subjective in nature than scientific papers. however, as systematic ideas and thought influence all areas of human activity and thinking, the applica\u0002tion of scientific methodologies such as bibliometrics, natural language processing, and other information technologies may provide a more objective understanding of systematic thought. this paper introduces four methods of quan\u0002titative analysis for the interpretation of the bible in a scientific manner. the methods are citation analysis for interpreters’ texts, vocabulary analysis for translations, variant text analysis for canonical texts, and an evaluation method for rhetorical structure. furthermore, these algorithms are implemented for java-based software\n"
     ]
    }
   ],
   "source": [
    "print(Exegetical_Science_for_the_Interpretation)"
   ]
  },
  {
   "cell_type": "code",
   "execution_count": 5,
   "id": "c0bee914",
   "metadata": {},
   "outputs": [],
   "source": [
    "Extracting_Knowledge_from_the_Bible_A_Comparison = \"The objective of this work is to present a comparison between the Old Testament and the New Testament in terms of knowledge extraction and ontology learning. It is a knows fact that these two books have many differences in term of size, practice of worship, prophecy and there is also a difference in the time period when they were written. By applying the ontology learning and knowledge extraction methods we were interested do see if these differences are revealed and what are the similarities among them. Ontology learning can be applied for the semantic analysis of text, in order to extract concepts, relations, which can be further used for automated summaries or critical comparison. Such activities are important in education as they can allow dynamic creation of content or analyses that can be further used in the educational process. Since ontology-learning methods require large corpus of unstructured data, we have chosen the Bible as source for the text. In this way, the new developed methods are validated, and they can be used successfully in other educational domains. The Bible is the religious text of Christians and Jews. The Bible contains a collection of scriptures that was written by many authors, at different time and locations. Computationally, the Bible contains semi-structured information due to its organized structure of scriptures and numbered chapters. We have used Text2Onto as the main tool in order to obtain the most relevant concepts from the New Testament and then from The Old Testament. After that we analyze the most relevant concepts and the range of similarity for each domain identified in the New Testament and in The Old Testament. We can mention that there are no studies reported in the literature using ontology extraction for this religious domain. Those methods can be employed for automatic generation of content that can be further used in the educational process.\".lower()"
   ]
  },
  {
   "cell_type": "code",
   "execution_count": 29,
   "id": "139a74c8",
   "metadata": {},
   "outputs": [
    {
     "name": "stdout",
     "output_type": "stream",
     "text": [
      "the objective of this work is to present a comparison between the old testament and the new testament in terms of knowledge extraction and ontology learning. it is a knows fact that these two books have many differences in term of size, practice of worship, prophecy and there is also a difference in the time period when they were written. by applying the ontology learning and knowledge extraction methods we were interested do see if these differences are revealed and what are the similarities among them. ontology learning can be applied for the semantic analysis of text, in order to extract concepts, relations, which can be further used for automated summaries or critical comparison. such activities are important in education as they can allow dynamic creation of content or analyses that can be further used in the educational process. since ontology-learning methods require large corpus of unstructured data, we have chosen the bible as source for the text. in this way, the new developed methods are validated, and they can be used successfully in other educational domains. the bible is the religious text of christians and jews. the bible contains a collection of scriptures that was written by many authors, at different time and locations. computationally, the bible contains semi-structured information due to its organized structure of scriptures and numbered chapters. we have used text2onto as the main tool in order to obtain the most relevant concepts from the new testament and then from the old testament. after that we analyze the most relevant concepts and the range of similarity for each domain identified in the new testament and in the old testament. we can mention that there are no studies reported in the literature using ontology extraction for this religious domain. those methods can be employed for automatic generation of content that can be further used in the educational process.\n"
     ]
    }
   ],
   "source": [
    "print(Extracting_Knowledge_from_the_Bible_A_Comparison)"
   ]
  },
  {
   "cell_type": "code",
   "execution_count": 6,
   "id": "d782e581",
   "metadata": {},
   "outputs": [],
   "source": [
    "Finding_Answers_from_the_Word_of_God = \"Question answering (QA) has significantly benefittedfrom deep learning techniques in recent years. However, domain\u0002specific QA remains a challenge due to the significant amountof data required to train a neural network. This paper studiesthe answer sentence selection task in the Bible domain andanswer questions by selecting relevant verses from the Bible.For this purpose, we create a new dataset BibleQA basedon bible trivia questions and propose three neural networkmodels for our task. We pre-train our models on a large-scaleQA dataset, SQuAD, and investigate the effect of transferringweights on model accuracy. Furthermore, we also measuredthe model accuracies with different answer context lengths anddifferent Bible translations. We affirm that transfer learning hasa noticeable improvement in the model accuracy. We achievedrelatively good results with shorter context lengths, whereaslonger context lengths decreased model accuracy. We also findthat using a more modern Bible translation in the dataset has apositive effect on the task.\".lower()"
   ]
  },
  {
   "cell_type": "code",
   "execution_count": 31,
   "id": "0cf4a0f2",
   "metadata": {},
   "outputs": [
    {
     "name": "stdout",
     "output_type": "stream",
     "text": [
      "question answering (qa) has significantly benefittedfrom deep learning techniques in recent years. however, domain\u0002specific qa remains a challenge due to the significant amountof data required to train a neural network. this paper studiesthe answer sentence selection task in the bible domain andanswer questions by selecting relevant verses from the bible.for this purpose, we create a new dataset bibleqa basedon bible trivia questions and propose three neural networkmodels for our task. we pre-train our models on a large-scaleqa dataset, squad, and investigate the effect of transferringweights on model accuracy. furthermore, we also measuredthe model accuracies with different answer context lengths anddifferent bible translations. we affirm that transfer learning hasa noticeable improvement in the model accuracy. we achievedrelatively good results with shorter context lengths, whereaslonger context lengths decreased model accuracy. we also findthat using a more modern bible translation in the dataset has apositive effect on the task.\n"
     ]
    }
   ],
   "source": [
    "print(Finding_Answers_from_the_Word_of_God)"
   ]
  },
  {
   "cell_type": "code",
   "execution_count": 34,
   "id": "feac334b",
   "metadata": {},
   "outputs": [],
   "source": [
    "From_Plagiarism_Detection_to_Bible_Analysis = \"The amount of textual data available from digitalized sourcessuch as free online libraries or social media posts has increased drastically in the last decade. In this paper, the main idea to analyze authorsby their grammatical writing style is presented. In particular, tasks likeauthorship attribution, plagiarism detection or author profiling are tack\u0002led using the presented algorithm, revealing promising results. Therebyall of the presented approaches are ultimately solved by machine learningalgorithms.\".lower()"
   ]
  },
  {
   "cell_type": "code",
   "execution_count": 35,
   "id": "5bbf9dfe",
   "metadata": {},
   "outputs": [
    {
     "name": "stdout",
     "output_type": "stream",
     "text": [
      "the amount of textual data available from digitalized sourcessuch as free online libraries or social media posts has increased drastically in the last decade. in this paper, the main idea to analyze authorsby their grammatical writing style is presented. in particular, tasks likeauthorship attribution, plagiarism detection or author profiling are tack\u0002led using the presented algorithm, revealing promising results. therebyall of the presented approaches are ultimately solved by machine learningalgorithms.\n"
     ]
    }
   ],
   "source": [
    "print(From_Plagiarism_Detection_to_Bible_Analysis)"
   ]
  },
  {
   "cell_type": "code",
   "execution_count": 8,
   "id": "b71d2f6c",
   "metadata": {},
   "outputs": [],
   "source": [
    "Introducing_Scientific_Methods_for_the_Interpretation_of_the_Bible = \"Systematic thought (such as Christian theology) has primarily been investigated using literature-based approaches, with texts that are usually more abstract and subjective in nature than scientific papers. However, as systematic ideas and thought influence all areas of human activity and thinking, the application of scientific methodologies such as bibliometrics, NLP (Natural Language Processing), and other information technologies may provide a more objective understanding of systematic thought. This paper introduces four methods of quantitative analysis for interpretation of the Bible in a scientific manner. The methods are citation analysis for interpreter’s texts, vocabulary analysis for translations, variant text analysis for canonical texts, and evaluation method for rhetorical structure.\".lower()"
   ]
  },
  {
   "cell_type": "code",
   "execution_count": 38,
   "id": "ea055ab3",
   "metadata": {},
   "outputs": [
    {
     "name": "stdout",
     "output_type": "stream",
     "text": [
      "systematic thought (such as christian theology) has primarily been investigated using literature-based approaches, with texts that are usually more abstract and subjective in nature than scientific papers. however, as systematic ideas and thought influence all areas of human activity and thinking, the application of scientific methodologies such as bibliometrics, nlp (natural language processing), and other information technologies may provide a more objective understanding of systematic thought. this paper introduces four methods of quantitative analysis for interpretation of the bible in a scientific manner. the methods are citation analysis for interpreter’s texts, vocabulary analysis for translations, variant text analysis for canonical texts, and evaluation method for rhetorical structure.\n"
     ]
    }
   ],
   "source": [
    "print(Introducing_Scientific_Methods_for_the_Interpretation_of_the_Bible)"
   ]
  },
  {
   "cell_type": "code",
   "execution_count": 9,
   "id": "54dc60e8",
   "metadata": {},
   "outputs": [],
   "source": [
    "Lexical_And_Semantic_Analysis_Of_Sacred = \"Text mining is the process of exploring and analyzing large amounts of text data and extracting high-quality information based on patterns and trends in data. The patterns and trends include the analysis of similarity measures and opinion mining or sentimental analysis expressed in the texts. Text data mining reveals relationships that lie in single or multiple text data. Applying text mining to religious texts can yield various insights on the cultural and religious basis. Reliable automatic knowledge extraction from sacred texts is a challenging task but it will be beneficial to mankind. This research started with the hypothesis that there is intersection between the Bible, Tanakh, and Quran. All these three books have origins in the Middle East. Bible is the holy book of Christians contains a collection of scriptures that were written by many authors, at different time and locations. Tanakh is the sacred text of Jews with 24 books with three parts- Torah, Nevi‘im and Ketuvim and Quran is the central religious text of Islam with 114 chapters as Surah. These three sacred texts contain semi-structured information due to its organized structure of scriptures and numbered chapters, so the comparative studies of the theodicy of three religious texts should reveal interesting insights. The objectives of the research are to implement text analytics on sacred texts and reveal the similarity insights of these sacred texts using Natural Language Processing, ontology modeling, and Machine Learning techniques\".lower()"
   ]
  },
  {
   "cell_type": "code",
   "execution_count": 40,
   "id": "69220813",
   "metadata": {},
   "outputs": [
    {
     "name": "stdout",
     "output_type": "stream",
     "text": [
      "text mining is the process of exploring and analyzing large amounts of text data and extracting high-quality information based on patterns and trends in data. the patterns and trends include the analysis of similarity measures and opinion mining or sentimental analysis expressed in the texts. text data mining reveals relationships that lie in single or multiple text data. applying text mining to religious texts can yield various insights on the cultural and religious basis. reliable automatic knowledge extraction from sacred texts is a challenging task but it will be beneficial to mankind. this research started with the hypothesis that there is intersection between the bible, tanakh, and quran. all these three books have origins in the middle east. bible is the holy book of christians contains a collection of scriptures that were written by many authors, at different time and locations. tanakh is the sacred text of jews with 24 books with three parts- torah, nevi‘im and ketuvim and quran is the central religious text of islam with 114 chapters as surah. these three sacred texts contain semi-structured information due to its organized structure of scriptures and numbered chapters, so the comparative studies of the theodicy of three religious texts should reveal interesting insights. the objectives of the research are to implement text analytics on sacred texts and reveal the similarity insights of these sacred texts using natural language processing, ontology modeling, and machine learning techniques\n"
     ]
    }
   ],
   "source": [
    "print(Lexical_And_Semantic_Analysis_Of_Sacred)"
   ]
  },
  {
   "cell_type": "code",
   "execution_count": 10,
   "id": "0616548e",
   "metadata": {},
   "outputs": [],
   "source": [
    "Unsupervised_Learning_of_Two_Bible_Books = \"The book of Proverbs teaches the wisdom of life that was relevant in the days of King Solomon, the prin\u0002cipal author of this book and a son of King David, but more importantly it is still applicable and needed in the life of today. The book of Psalms is the longest book and perhaps the most widely read book of the Bible, which contains 150 songs and prayers with King David as its main composer. The proverbs imparts that the success in life depends on personal choices and actions that relate to other people, while the psalms are used in worship that relates to God. In this report, we apply unsupervised learning to the study of these two books because of their shared association with wisdom. The chapters in each of the two books are grouped by content. Similar chapters and verses between these two books, written by a father and a son, are also identified, allowing one book to illuminate the other. Our computational findings match those by Biblical scholars at large, but have made a few new discoveries that could not be accom\u0002plished by traditional methods.\".lower()"
   ]
  },
  {
   "cell_type": "code",
   "execution_count": 42,
   "id": "57d402a6",
   "metadata": {},
   "outputs": [
    {
     "name": "stdout",
     "output_type": "stream",
     "text": [
      "the book of proverbs teaches the wisdom of life that was relevant in the days of king solomon, the prin\u0002cipal author of this book and a son of king david, but more importantly it is still applicable and needed in the life of today. the book of psalms is the longest book and perhaps the most widely read book of the bible, which contains 150 songs and prayers with king david as its main composer. the proverbs imparts that the success in life depends on personal choices and actions that relate to other people, while the psalms are used in worship that relates to god. in this report, we apply unsupervised learning to the study of these two books because of their shared association with wisdom. the chapters in each of the two books are grouped by content. similar chapters and verses between these two books, written by a father and a son, are also identified, allowing one book to illuminate the other. our computational findings match those by biblical scholars at large, but have made a few new discoveries that could not be accom\u0002plished by traditional methods.\n"
     ]
    }
   ],
   "source": [
    "print(Unsupervised_Learning_of_Two_Bible_Books)"
   ]
  },
  {
   "cell_type": "markdown",
   "id": "2132978a",
   "metadata": {},
   "source": [
    "############################################################################"
   ]
  },
  {
   "cell_type": "markdown",
   "id": "4e483389",
   "metadata": {},
   "source": [
    "Para realizar a retirada de stopword manualmente, não é tarefa trivial, logo, foi necessario a importação da biblioteca \"sys\" e consequentemente a criação dessa função de retirada de palavras (stopword). temos a função 1 que não retira de forma eficiente, contudo, a função 2 realiza a retirada de forma eficiente. "
   ]
  },
  {
   "cell_type": "code",
   "execution_count": 24,
   "id": "f003f88d",
   "metadata": {},
   "outputs": [],
   "source": [
    "import sys"
   ]
  },
  {
   "cell_type": "markdown",
   "id": "19c0beaf",
   "metadata": {},
   "source": [
    "Função 1 de retirada de Stopword "
   ]
  },
  {
   "cell_type": "code",
   "execution_count": 25,
   "id": "ef28d67f",
   "metadata": {
    "scrolled": true
   },
   "outputs": [
    {
     "name": "stdout",
     "output_type": "stream",
     "text": [
      "enter the string from which you want to remove list of stop words\n",
      "teste\n",
      "teste "
     ]
    }
   ],
   "source": [
    "    print (\"enter the string from which you want to remove list of stop words\")\n",
    "    userstring = input().split(\" \")\n",
    "    list =[\"i\",\"me\",\"my\",\"myself\",\"we\",\"our\",\"ours\",\"ourselves\",\"you\",\"your\",\"yours\",\"yourself\",\"yourselves\",\"he\",\"him\",\"his\",\"himself\",\"she\",\"her\",\"hers\",\"herself\",\"it\",\"its\",\"itself\",\"they\",\"them\",\"their\",\"theirs\",\"themselves\",\"what\",\"which\",\"who\",\"whom\",\"this\",\"that\",\"these\",\"those\",\"am\",\"is\",\"are\",\"was\",\"were\",\"be\",\"been\",\"being\",\"have\",\"has\",\"had\",\"having\",\"do\",\"does\",\"did\",\"doing\",\"would\",\"should\",\"could\",\"ought\",\"i'm\",\"you're\",\"he's\",\"she's\",\"it's\",\"we're\",\"they're\",\"i've\",\"you've\",\"we've\",\"they've\",\"i'd\",\"you'd\",\"he'd\",\"she'd\",\"we'd\",\"they'd\",\"i'll\",\"you'll\",\"he'll\",\"she'll\",\"we'll\",\"they'll\",\"isn't\",\"aren't\",\"wasn't\",\"weren't\",\"hasn't\",\"haven't\",\"hadn't\",\"doesn't\",\"don't\",\"didn't\",\"won't\",\"wouldn't\",\"shan't\",\"shouldn't\",\"can't\",\"cannot\",\"couldn't\",\"mustn't\",\"let's\",\"that's\",\"who's\",\"what's\",\"here's\",\"there's\",\"when's\",\"where's\",\"why's\",\"how's\",\"a\",\"an\",\"the\",\"and\",\"but\",\"if\",\"or\",\"because\",\"as\",\"until\",\"while\",\"of\",\"at\",\"by\",\"for\",\"with\",\"about\",\"against\",\"between\",\"into\",\"through\",\"during\",\"before\",\"after\",\"above\",\"below\",\"to\",\"from\",\"up\",\"down\",\"in\",\"out\",\"on\",\"off\",\"over\",\"under\",\"again\",\"further\",\"then\",\"once\",\"here\",\"there\",\"when\",\"where\",\"why\",\"how\",\"all\",\"any\",\"both\",\"each\",\"few\",\"more\",\"most\",\"other\",\"some\",\"such\",\"no\",\"nor\",\"not\",\"only\",\"own\",\"same\",\"so\",\"than\",\"too\",\"very\",\"the\"]\n",
    "    another_list = []\n",
    "    for x in userstring:\n",
    "        if x in list:           \n",
    "            userstring.remove(x)  \n",
    "    for x in userstring:           \n",
    "        print(x,end = ' ') "
   ]
  },
  {
   "cell_type": "markdown",
   "id": "3668df9f",
   "metadata": {},
   "source": [
    "Função 2 de retirada de Stopword (caso não seja retirado no codigo 1 as palavras, seja utilizado esse)"
   ]
  },
  {
   "cell_type": "code",
   "execution_count": 61,
   "id": "11420740",
   "metadata": {
    "scrolled": true
   },
   "outputs": [
    {
     "name": "stdout",
     "output_type": "stream",
     "text": [
      "enter the string from which you want to remove list of stop words\n",
      "the topic of empire is one of the main disputed points in the discussion following the ‘accra declaration’. this article evaluates several points of view from the south and north concerning ‘empire’ and shows how the dynamics of the different contexts have infl uenced the tense discussions in the churches. a distinction has to be made between the real-political high profi le of modern empires and the more metaphorical interpretation of empire as it is expressed in the bible. the discussion on empire can become a stumbling block if it is not approached with great compassion for the victims of globalisation, a careful sense of the vastly different situations in the south and the north, and an understanding of real-political structures. this article warns against the danger of polarisation and seeks to build a bridge toward a common understanding\n",
      "topic empire one main disputed points discussion following ‘accra declaration’. article evaluates several points view south north concerning ‘empire’ shows dynamics different contexts infl uenced tense discussions churches. distinction made real-political high profi le modern empires metaphorical interpretation empire expressed bible. discussion empire can become stumbling block approached great compassion victims globalisation, careful sense vastly different situations south north, understanding real-political structures. article warns danger polarisation seeks build bridge toward common understanding "
     ]
    }
   ],
   "source": [
    "print (\"enter the string from which you want to remove list of stop words\")\n",
    "userstring = input().split(\" \")\n",
    "list =[\"i\",\"me\",\"my\",\"myself\",\"we\",\"our\",\"ours\",\"ourselves\",\"you\",\"your\",\"yours\",\"yourself\",\"yourselves\",\"he\",\"him\",\"his\",\"himself\",\"she\",\"her\",\"hers\",\"herself\",\"it\",\"its\",\"itself\",\"they\",\"them\",\"their\",\"theirs\",\"themselves\",\"what\",\"which\",\"who\",\"whom\",\"this\",\"that\",\"these\",\"those\",\"am\",\"is\",\"are\",\"was\",\"were\",\"be\",\"been\",\"being\",\"have\",\"has\",\"had\",\"having\",\"do\",\"does\",\"did\",\"doing\",\"would\",\"should\",\"could\",\"ought\",\"i'm\",\"you're\",\"he's\",\"she's\",\"it's\",\"we're\",\"they're\",\"i've\",\"you've\",\"we've\",\"they've\",\"i'd\",\"you'd\",\"he'd\",\"she'd\",\"we'd\",\"they'd\",\"i'll\",\"you'll\",\"he'll\",\"she'll\",\"we'll\",\"they'll\",\"isn't\",\"aren't\",\"wasn't\",\"weren't\",\"hasn't\",\"haven't\",\"hadn't\",\"doesn't\",\"don't\",\"didn't\",\"won't\",\"wouldn't\",\"shan't\",\"shouldn't\",\"can't\",\"cannot\",\"couldn't\",\"mustn't\",\"let's\",\"that's\",\"who's\",\"what's\",\"here's\",\"there's\",\"when's\",\"where's\",\"why's\",\"how's\",\"a\",\"an\",\"the\",\"and\",\"but\",\"if\",\"or\",\"because\",\"as\",\"until\",\"while\",\"of\",\"at\",\"by\",\"for\",\"with\",\"about\",\"against\",\"between\",\"into\",\"through\",\"during\",\"before\",\"after\",\"above\",\"below\",\"to\",\"from\",\"up\",\"down\",\"in\",\"out\",\"on\",\"off\",\"over\",\"under\",\"again\",\"further\",\"then\",\"once\",\"here\",\"there\",\"when\",\"where\",\"why\",\"how\",\"all\",\"any\",\"both\",\"each\",\"few\",\"more\",\"most\",\"other\",\"some\",\"such\",\"no\",\"nor\",\"not\",\"only\",\"own\",\"same\",\"so\",\"than\",\"too\",\"very\",\"the\",\",\",\"The\", \"In\"]\n",
    "another_list = []\n",
    "for x in userstring:\n",
    "    if x not in list:           # comparing from the list and removing it\n",
    "        another_list.append(x)  # it is also possible to use .remove\n",
    "for x in another_list:\n",
    "     print(x,end=' ')"
   ]
  },
  {
   "cell_type": "markdown",
   "id": "08161d8a",
   "metadata": {},
   "source": [
    "Foi registrado aqui a criação de uma função de n-grams (aqui é escolhido pelo usuario o que ele deseja em termos de quantidade de n-grams)"
   ]
  },
  {
   "cell_type": "code",
   "execution_count": 133,
   "id": "63778de8",
   "metadata": {},
   "outputs": [],
   "source": [
    "Text_Mining_Analysis_of_the_King_James = \"english second language (esl) students oftenexpected read use english translations bible foracademic worship purposes. purpose studywas explore writing style king james versionand new international version terms transla\u0002tion’s formality, readability, sentiment using quantitativetext mining analysis tools. results indicated kjv usedmore formal language, higher grade level readabilityand used slightly positive wording niv. add\u0002ition, translations old testament much morenegative terms sentiment new testament.lastly, moderate positive relationship found betweenreadability formality translations. \""
   ]
  },
  {
   "cell_type": "code",
   "execution_count": 134,
   "id": "e52bbda8",
   "metadata": {},
   "outputs": [],
   "source": [
    "from nltk.tokenize import word_tokenize\n",
    "from nltk.util import ngrams\n",
    "\n",
    "def get_ngrams(text, n ):\n",
    "    n_grams = ngrams(word_tokenize(text), n)\n",
    "    return [ ' '.join(grams) for grams in n_grams]"
   ]
  },
  {
   "cell_type": "code",
   "execution_count": 137,
   "id": "674f6a90",
   "metadata": {},
   "outputs": [],
   "source": [
    "Resultado = get_ngrams(Text_Mining_Analysis_of_the_King_James, 2 )"
   ]
  },
  {
   "cell_type": "code",
   "execution_count": 149,
   "id": "7cbf5dd2",
   "metadata": {},
   "outputs": [
    {
     "name": "stdout",
     "output_type": "stream",
     "text": [
      "['english second', 'second language', 'language (', '( esl', 'esl )', ') students', 'students oftenexpected', 'oftenexpected read', 'read use', 'use english', 'english translations', 'translations bible', 'bible foracademic', 'foracademic worship', 'worship purposes', 'purposes .', '. purpose', 'purpose studywas', 'studywas explore', 'explore writing', 'writing style', 'style king', 'king james', 'james versionand', 'versionand new', 'new international', 'international version', 'version terms', 'terms transla\\x02tion', 'transla\\x02tion ’', '’ s', 's formality', 'formality ,', ', readability', 'readability ,', ', sentiment', 'sentiment using', 'using quantitativetext', 'quantitativetext mining', 'mining analysis', 'analysis tools', 'tools .', '. results', 'results indicated', 'indicated kjv', 'kjv usedmore', 'usedmore formal', 'formal language', 'language ,', ', higher', 'higher grade', 'grade level', 'level readabilityand', 'readabilityand used', 'used slightly', 'slightly positive', 'positive wording', 'wording niv', 'niv .', '. add\\x02ition', 'add\\x02ition ,', ', translations', 'translations old', 'old testament', 'testament much', 'much morenegative', 'morenegative terms', 'terms sentiment', 'sentiment new', 'new testament.lastly', 'testament.lastly ,', ', moderate', 'moderate positive', 'positive relationship', 'relationship found', 'found betweenreadability', 'betweenreadability formality', 'formality translations', 'translations .']\n"
     ]
    }
   ],
   "source": [
    "print(Resultado)"
   ]
  },
  {
   "cell_type": "markdown",
   "id": "fc513685",
   "metadata": {},
   "source": [
    "Aqui foi registrado uma função de Criação de histograma de frequencia de palavras generico, contudo, ele não é muito eficiente. "
   ]
  },
  {
   "cell_type": "code",
   "execution_count": 148,
   "id": "6b3d3a90",
   "metadata": {},
   "outputs": [
    {
     "data": {
      "image/png": "[encoded data removed]",
      "text/plain": [
       "<Figure size 432x288 with 1 Axes>"
      ]
     },
     "metadata": {
      "needs_background": "light"
     },
     "output_type": "display_data"
    }
   ],
   "source": [
    "description_list = df['description'].values.tolist()\n",
    "\n",
    "# Assign the Counter instance `most_common` call to a variable:\n",
    "word_frequency = Counter(\" \".join(description_list).split()).most_common(10)\n",
    "\n",
    "# `most_common` returns a list of (word, count) tuples\n",
    "words = [word for word, _ in word_frequency]\n",
    "counts = [counts for _, counts in word_frequency]\n",
    "\n",
    "plt.bar(words, counts)\n",
    "plt.title(\"10 most frequent tokens in description\")\n",
    "plt.ylabel(\"Frequency\")\n",
    "plt.xlabel(\"Words\")\n",
    "plt.show()"
   ]
  },
  {
   "cell_type": "markdown",
   "id": "8a23e420",
   "metadata": {},
   "source": [
    "### Destaque de função\n",
    "\n",
    "Esses bibliotecas e funções criam um histograma de frequencia de palavras de forma eficiente e com escolha de bigrams. colorido e personalizavel. "
   ]
  },
  {
   "cell_type": "code",
   "execution_count": 43,
   "id": "9a8cb6de",
   "metadata": {},
   "outputs": [],
   "source": [
    "from collections import Counter"
   ]
  },
  {
   "cell_type": "code",
   "execution_count": 44,
   "id": "99edb840",
   "metadata": {},
   "outputs": [],
   "source": [
    "from sklearn.feature_extraction.text import CountVectorizer"
   ]
  },
  {
   "cell_type": "code",
   "execution_count": 45,
   "id": "800e4966",
   "metadata": {},
   "outputs": [],
   "source": [
    "from sklearn.feature_extraction import text"
   ]
  },
  {
   "cell_type": "code",
   "execution_count": 46,
   "id": "c8ebd82e",
   "metadata": {},
   "outputs": [],
   "source": [
    "df.Paper = df.Paper.astype(str)"
   ]
  },
  {
   "cell_type": "code",
   "execution_count": 47,
   "id": "4ce90988",
   "metadata": {},
   "outputs": [],
   "source": [
    "cv = CountVectorizer(stop_words = text.ENGLISH_STOP_WORDS.union([\"Titulo\",\"Paper\"]))"
   ]
  },
  {
   "cell_type": "code",
   "execution_count": 48,
   "id": "db17cd3c",
   "metadata": {
    "scrolled": true
   },
   "outputs": [
    {
     "name": "stderr",
     "output_type": "stream",
     "text": [
      "c:\\users\\bcmus\\appdata\\local\\programs\\python\\python37\\lib\\site-packages\\sklearn\\feature_extraction\\text.py:391: UserWarning: Your stop_words may be inconsistent with your preprocessing. Tokenizing the stop words generated tokens ['paper', 'titulo'] not in stop_words.\n",
      "  'stop_words.' % sorted(inconsistent))\n"
     ]
    }
   ],
   "source": [
    "words = cv.fit_transform(df.Paper)"
   ]
  },
  {
   "cell_type": "code",
   "execution_count": 49,
   "id": "855c7d9d",
   "metadata": {},
   "outputs": [
    {
     "data": {
      "text/plain": [
       "Text(0, 0.5, 'Frequency')"
      ]
     },
     "execution_count": 49,
     "metadata": {},
     "output_type": "execute_result"
    },
    {
     "data": {
      "image/png": "[encoded data removed]",
      "text/plain": [
       "<Figure size 1080x432 with 1 Axes>"
      ]
     },
     "metadata": {},
     "output_type": "display_data"
    }
   ],
   "source": [
    "df.Paper = df.Paper.astype(str)\n",
    "words = cv.fit_transform(df.Paper)\n",
    "sum_words = words.sum(axis=0)\n",
    "words_freq = [(word, sum_words[0, idx]) for word, idx in cv.vocabulary_.items()]\n",
    "words_freq = sorted(words_freq, key = lambda x: x[1], reverse = True)\n",
    "frequency = pd.DataFrame(words_freq, columns=['word', 'freq'])\n",
    "plt.style.use('fivethirtyeight')\n",
    "color = plt.cm.gist_earth(np.linspace(0, 1, 25))\n",
    "frequency.head(25).plot(x='word', y='freq', kind='bar', figsize=(15, 6), color = color)\n",
    "plt.title(\"Most Frequently Words in Papers - Top 25\")\n",
    "plt.xlabel('Word')\n",
    "plt.ylabel('Frequency')\n"
   ]
  },
  {
   "cell_type": "markdown",
   "id": "972d9b2d",
   "metadata": {},
   "source": [
    "Segue a função de Bigrams na sequencia, contudo, para Fazer uma visualização adequada é necessario construir um dataframe sem tokenizar para conseguir produzir o histotograma de bigrams de forma adequada. "
   ]
  },
  {
   "cell_type": "code",
   "execution_count": 44,
   "id": "1c6f3a3e",
   "metadata": {},
   "outputs": [],
   "source": [
    "data =np.array([[\"CONTEXT_BASED_MACHINE_TRANSLATION\",\"current approaches machine translation usually require large set parallel corpus order achieve fluency like case neural machine translation nmt, statistical machine translation smt example-based machinetranslation ebmt. context awareness phrase-based machine translation pbmt approaches also questionable. research develops system thattranslates english text amharic text using combination context based machine translation cbmt recurrent neural network machine translation rnnmt. built bilingual dictionary cbmt system use along witha large target corpus. rnnmt model provided output cbmt parallel corpus training. combinational approachon english-amharic language pair yields performance improvement thesimple neural machine translation nmt.\"],\n",
    "               [\"Deep_Transfer_Learning_for_writer\", \"digital paleography, recent technology advancements used support paleographers study andanalysis ancient documents. one main goal paleographersis identify different scribes (writers) wrote givenmanuscript. deep learning recently received much attentionfrom researchers classification system applied tomany domains. however, approach based hypothesisthat large amount labeled data available. overcomethis drawback, transfer learning techniques proposed techniques use parts large deep networks, learned byusing large image datasets, starting points learningof networks solve specific classification problem. thispaper, present deep transfer learning based tool helppaleographers identifying parts manuscript werewritten writer proposed approach beentested set digital images bible xii century achieved results confirmed effectiveness proposed approach.\"],\n",
    "               [\"Detecting_the_Evolution_of_Semantics\", \"individual differences semantics beliefs tonow identified primarily questioning people. how\u0002ever, semantics beliefs can also observed concrete,quantifiable contexts reaction-time experiments. herewe demonstrate automatic mechanism can repli\u0002cate semantics observing regularities language usethrough statistical text analysis. postulate humanchildren, fantastic pattern recognizers, may also ex\u0002ploit information, thus mechanism may anessential module human-like cognitive system. thisarticle first review underlying theories existing re\u0002sults, present tool itself. validate tool againstexisting semantic priming reaction-time results. finally weuse tool explore evolution beliefs extracted fromthree sources: bible, works shakespeare thecontemporary british national corpus.\"],\n",
    "               [\"Graphics_based_intelligent_search\", \"paper presents autonomous text context-mining algorithm converts text documents point clouds visual search cues. algorithm applied task data-mining scriptural database comprised old andnew testaments bible book mormon, doctrine covenants, pearl great price. results generated graphically show scripture represents average concept database mining ofthe documents verse level. \"],\n",
    "               [\"Rolling_stylometry\", \"article introduces new stylometric method combines supervised ma\u0002chine-learning classification idea sequential analysis. unlike standardprocedures, aimed assessing style differentiation discrete text samples,the new method, supported compact visualization, tries look inside textrepresented set linearly sliced chunks, order test stylistic con\u0002sistency. three flavors method introduced: rolling svm,relying support vector machines (svm) classifier, rolling nsc, basedon nearest shrunken centroids method,  rolling delta, using theclassic burrowsian measure similarity. technique primarily intendedto assess mixed authorship; however, can also used magnifying glass toinspect works unclear stylometric signal. demonstrate applicability,three different examples collaborative work briefly discussed:  the13th-century french allegorical poem roman de la rose, 15th-centurytranslation bible polish known queen sophia’s bible,  theinheritors, novel collaboratively written joseph conrad ford madoxford 1901. \"],\n",
    "               [\"Text_alignment_in_early_printed\", \"describe technique transcript alignment early printed books using deep models combination dynamic programming algorithms. two object detection models, based faster r-cnn,are trained locate words. first train initial model recognize generic words hyphens byusing information number words text lines. using model prediction pages aline-by-line ground-truth annotation available, train second model able detect landmark words.the alignment based identification landmark words pages know thetext corresponding zones page. proposed technique evaluated publicly available digitization gutenberg bible transcription based vulgata, late 4th century latin translation bible. \"],\n",
    "               [\"Algorithmic_handwriting_analysis_of_Judah\", \"relationship expansion literacy judah andcomposition biblical texts attracted scholarly attention forover century. information issue can deduced fromhebrew inscriptions final phase first templeperiod. report investigation 16 inscriptions thejudahite desert fortress arad, dated ca. 600 bce—the eve ofnebuchadnezzar’s destruction jerusalem. inquiry basedon new methods image processing document analysis, aswell machine learning algorithms. techniques enableidentification minimal number authors given groupof inscriptions. algorithmic analysis, complemented thetextual information, reveals minimum six authors within theexamined inscriptions. results indicate remote fortliteracy spread throughout military hierarchy, thequartermaster probably even rank. impliesthat educational infrastructure support composition literary texts judah already existed destruction first temple. similar level literacy area isattested 400 y later, ca. 200 bce.\"],\n",
    "               [\"An_end_to_end_deep_learning_system \", \"paper presents end-to-end system identify writers medieval manuscripts. proposedsystem consists three-step model detection classification lines manuscript andpage writer identification. first two steps based deep neural networks trained transferlearning techniques specialized solve task hand. third stage weighted majority voterow-decision combiner assigns page writer. main goal paper study theapplicability deep learning context relatively small training dataset available. wetested system several state-of-the-art deep architectures digitized manuscript known asthe avila bible, using total pages training. approach proves effectivein identifying page writers, reaching peak  accuracy  f1 score \"],\n",
    "               [\"An_Experimental_Comparison_between_Deep\", \"framework palaeography, availability effective image analysisalgorithms, high-quality digital images favored development new applications forthe study ancient manuscripts provided new tools decision-making support systems.the quality results provided applications, however, strongly influenced theselection effective features, able capture distinctive aspects thepaleography expert interested in. process difficult generalize due enormousvariability type ancient documents, produced different historical periods differentlanguages styles. effect difficult define standard techniques aregeneral enough effectively used case, reason ad-hoc systems,generally designed according paleographers’ suggestions, designed analysisof ancient manuscripts. recent years, growing scientific interest useof techniques based deep learning (dl) automatic processing ancient documents.this interest due capability designing high-performance pattern recognitionsystems, also ability automatically extracting features raw data, without using anya priori knowledge. moving considerations, aim study verify dl-basedapproaches may actually represent general methodology automatically designing machinelearning systems palaeography applications. purpose, compared performance adl-based approach “classical” machine learning one, particularly unfavorable casefor dl, namely highly standardized schools. rationale choice compare theobtainable results even context information present discriminating: information isignored dl approaches, used machine learning methods, making comparisonmore significant. experimental results refer use large sets digital images extractedfrom entire 12th-century bibles, “avila bible”. manuscript, produced several scribeswho worked different periods different places, represents severe test bed evaluate theefficiency scribe identification systems. \"],\n",
    "               [\"Biblical_intertextuality_in_a_digital\", \"centuries texts genres connected byquotes, allusions, idioms, stylistic imitations many more.understanding literature means understanding kindsof intertextual relations. goal g¨ottingen sub\u0002project etraces,1an interdisciplinary project hu\u0002manists computer scientists, enable research onthis essential part literary studies. creating dig\u0002ital working environment, tool called gertrude (g¨ot\u0002tingen e-research: text re-use digital editions), aneffort determine whether degree toolcan support researcher finding, marking annotatingintertextual relations:- especially big text corpora, looking intertextual rela\u0002tions can time-consuming. text-mining-algorithmsare integrated determine called “textual re-use”, hop\u0002ing also find interesting textual relations yet knownor expected (serendipity effect).- referencing exact text passage, textgrid ci\u0002tation schema used, enables us mark asegment text granularity letters toaddress different editions text.- possibilities limitations annotating even eval\u0002uating text passage relation others, form, func\u0002tion “degree” intertextuality will researched cre\u0002ating tool crowd-sourcing environment: usableby everyone interested also integrated universitycourses, students encouraged use it. thismeans possible compare discuss results aswell usability, possibilities limitations tool.our approach based german literature 1500s to1900s part bmbf-sponsored text corpus availableunder creative commons license online \"],\n",
    "               [\"Computational_modelling_of_an_optical_character\", \"study acquired dataset scanned images standard yorùbá printed text andformulated yorùbá character image recognition model. model formulated implemented performance model evaluated develop optical characterrecognition (ocr) model yorùbá printed text images.the image dataset  dots per inches (dpi) acquired generating image textline yorùbá new testament bible (bibeli mimo) corpus using unicode utf8. longshort term memory (lstm) model, variant recurrent neural network (rnn) usedto formulate standard yorùbá character image recognition model. python ocropusframework used implement model designed. performance modeldesigned evaluated using character error rate based levenshtein edit distance al\u0002gorithm.the results show character error rate (cer)  font times newroman gives better recognition font style metric performance. themodel achieved ocr result dejavusans font style image dataset, whilefor ariel font image dataset, result  achieved. introduction languagemodel-based standard yorùbá spell-checker corrector show reduction charactererror rate. times new roman font recorded error rate dejavusansfont style error rate  ariel font .the study concluded performance model shows farther away animage text font font(s) used training network, higher charactererror rate recognition inclusion post-processing stage shows areduction character error rates\"],\n",
    "               [\"Continuous_multilinguality_with_language\", \"existing models multilingual natural language processing (nlp) treat language discrete category, makepredictions either one language theother. contrast, propose usingcontinuous vector representations language. show can learnedefficiently character-based neural language model, used improve inference language varieties seenduring training. experiments  bible translations  different languages, empirically explore capacity multilingual language models,and also show language vectorscapture genetic relationships languages.\"],\n",
    "               [\"Design_and_Development_of_Part_of_Speech_Tagging\", \"paper, report design part-of-speech-tagset wolof creation semi-automatically annotated goldstandard. main motivation resource obtain data training automatic taggers machine learning approaches. hence,we take machine learning considerations account tagset design present training experiments part paper. thebest automatic tagger achieves accuracy cross-validation experiments. also wanted create basis experimentingwith annotation projection techniques, exploit parallel corpora. reason, useful use part bible goldstandard corpus, sentence-aligned parallel versions many languages easy obtain.\"],\n",
    "               [\"Development_of_a_Recurrent_Neural_Network_Model\", \"research developed recurrent neural network model english yoruba machine translation. parallel corpus obtained english yoruba bible corpus. developed model tested evaluated using manual automatic evaluation techniques. results manual evaluation ten human evaluators show system adequate fluent. also, results automatic evaluation shows developed model decent good translation well higher accuracy better correlation human judgment.\"],\n",
    "               [\" Hybrid_Part_of_Speech_Tagger_for\", \"process assigning part speech every word given sentence according context called part speech tagging. Part speech tagging (POS tagging) plays important role area natural language processing (NLP) including applications speech recognition, speech synthesis, natural language parsing, information retrieval, multi words term extraction, word sense disambiguation machine translation. This paper proposes efficient accurate POS tagging technique Malayalam language using hybrid approach. We propose Conditional Random Fields(CRF) based method integrated Rule-Based method. We use SVM based method compare accuracy. corpus tagged untagged used training testing system unicode format. tagset developed lIlT Hyderabad Indian Languages used. system tested selected books Bible perform accuracy \"],\n",
    "               [\"If_You_Even_Dont_Have_a_Bit_of_Bible_Learning_Delexicalized\", \"art-of-speech (pos) induction one popular tasks research unsupervised nlp. various unsupervised semi\u0002supervised methods proposed tag unseen language. however, many require partial understanding thetarget language rely dictionaries parallel corpora bible. paper, propose different methodnamed delexicalized tagging, need raw corpus target language. transfer tagging models trained onannotated corpora one resource-rich languages. employ language-independent features word length, frequency,neighborhood entropy, character classes (alphabetic vs. numeric vs. punctuation) etc. demonstrate features can, certainextent, serve predictors part speech, represented universal pos tag (das petrov, ).keywords: delexicalized tagging, hamdledt features expansion, classifier \"],\n",
    "               [\"LVQ_for_text_categorization_using_a_multilingual\", \"neural learning used e6ectiveness natural language processing tasks. par\u0002ticularly, widrow–ho6 kivinen–warmuth exponentiated gradient (based neurallearning rules) algorithms used text categorization, improving results obtainedby well-known rocchio’s algorithm. high performance competitive learning algo\u0002rithms, recently applied solve information retrieval problems, leads us use thespeci=c text categorization tasks. paper presents multilingual categorization system basedon neural learning, using polyglot bible training collection, spanish english.the method suggest based using lvqalgorithm build classi=er learns thetraining multilingual collection. performed experiments four algorithm whichshow ideas describe promising worth investigation\"],\n",
    "               [\"Modeling_the_Hebrew_Bible_Potential\", \"topic modeling approach can resultin more query options for users of the databaseproviding useful efficient semantic annotations major challengefor knowledge design body text, especially historical documents. inthis article, propose topic modeling important first step gathersemantic information beyond lexicon can added annotationsin shebanq. laying case study, discuss noise andstructure found comparing topics extracted within different distributions,and show value approach, label topic hierarchy. wealso show first result applying approach study diachronic varietyin bible, show overall topic modeling approach can resultin query options users database \"],\n",
    "               [\"Normalizing_Historical_Orthography\", \"historical text presents numerous challenges contemporary different techniques, e.g. information retrieval, ocrand pos tagging. particular, absence consistentorthographic conventions historical text presents difficul\u0002ties system requires reference fixed lexiconaccessed orthographic form. example, language modeling retrieval engine historical text producedby ocr systems, spelling words often differ invarious way, e.g. one word might different spellingsevolved time. important aid tech\u0002niques rules automatic mapping historicalwordforms. paper, propose new technique tomodel target modern language means recurrentneural network long-short term memory architecture.because network recurrent, considered context isnot limited fixed size especially due memory cellswhich designed deal long-term dependencies.in set experiments conducted luther bibledatabase transform wordforms early new highgerman (enhg) 14th - 16th centuries corresponding modern wordforms new high german (nhg). wecompare proposed supervised model lstm variousmethods computing word alignments using statistical,heuristic models. new proposed lstm outperformsthe three state-of-the-art methods. evaluationshows accuracy model known wordforms unknown wordforms theaccuracy existing state-of-the-art combined approachof wordlist-based rule-based normalization models known unknown tokens. proposed lstm model outperforms normalizing modernwordform historical wordform. performance seentokens unknown tokens\"],\n",
    "               [\"Prototype_Matching_Finding_Meaning\", \"common text documents characterised andclassified keywords authors use give andname text characteristics. visa et al. have, however,developed new methodology based prototype matching.the prototype interesting document part anextracted, interesting text. prototype matched withthe existing document database monitored documentflow. claim new methodology capable ofextracting meaning automatically contents thedocument. verify hypothesis test designedwith bible. two different translations, one englishand another finnish, selected test text material.verification tests included search ten nearestbooks every book bible performed de\u0002signed prototype version software application. theinteresting test results reported paper.the new methodology based hierarchy self\u0002organizing maps (som) smart encoding words.the words text document encoded. encodedwords represented word vectors. word vectorsare clustered som process creates wordmap. words text document replaced theaddresses word map. now document consists ofa sequence addresses. addresses contain informa\u0002tion word order. document considered sentenceby sentence. sentence vectors clustered som.this process creates sentence map. now sentences ofthe text document replaced addresses sen\"],\n",
    "               [\"Reliable_writer_identification_in_medieval_manuscripts\", \"paper applies recent methods involving semanticvectors combination operations traditional questions, including discovery similarities differences thefour gospels, relationships individuals, identification ofgeopolitical regions leaders ancient world. process, weemploy several methods linear algebra vector space models,some particular importance quantum mechanics andquantum logic. conclusions general positive: vector methods good jobof capturing well-known facts bible, authors, relationships people places mentioned bible. morespecific topic quantum opposed approaches, conclusionsare mixed: whole, find evidence preferring vector methods directly associated quantum mechanics overvector methods developed independently quantum mechanics. suggest argues synthesis rather division classicaland quantum models information processing \"],\n",
    "               [\"Stylometric_classification_of_different_translations\", \"quantitative stylometry ten translations bible passage english,followed ward clustering, produces dendrogram reflects well-knownhistory intent translations. conclude quantitative stylometrycombined clustering useful tool reconstructing literary history \"],\n",
    "               [\"Text_Mining_Analysis_of_the_King_James\", \"english second language (esl) students oftenexpected read use english translations bible foracademic worship purposes. purpose studywas explore writing style king james versionand new international version terms transla\u0002tion’s formality, readability, sentiment using quantitativetext mining analysis tools. results indicated kjv usedmore formal language, higher grade level readabilityand used slightly positive wording niv. add\u0002ition, translations old testament much morenegative terms sentiment new testament.lastly, moderate positive relationship found betweenreadability formality translations.\"],\n",
    "               [\"Semantic_Vector_Combinations_and_the_Synoptic\", \"paper applies recent methods involving semanticvectors combination operations traditional questions, including discovery similarities differences thefour gospels, relationships individuals, identification ofgeopolitical regions leaders ancient world. process, weemploy several methods linear algebra vector space models,some particular importance quantum mechanics andquantum logic. conclusions general positive: vector methods good jobof capturing well-known facts bible, authors, relationships people places mentioned bible. morespecific topic quantum opposed approaches, conclusionsare mixed: whole, find evidence preferring vector methods directly associated quantum mechanics overvector methods developed independently quantum mechanics. suggest argues synthesis rather division classicaland quantum models information processing \"],\n",
    "               [\"Text_Correction_Using_Approaches_Based\", \"several authors reported interesting results obtained using untrained randomly initialized recurrentpart recurrent neural network (rnn). instead long,difficult often unnecessary adaptation process, dynamics based fixed point attractors can rich enough forfurther exploitation tasks. principle explaining untrained rnn state space structure called markovian architectural bias several methods usingthis behavior studied. paper apply theseapproaches correct corrupted symbols symbol sequence. approaches share properties variable length markov models hence experiments inspired paper dealing text correction thebible dataset\"],\n",
    "               [\"A_Hierarchical_Book_Representation_of_Word_Embeddings\", \"semantic word embeddings shown cluster space based linguistic similarities quantifiablycaptured using simple vector arithmetic. recently, methods learning distributed word vectors pro\u0002gressively empowered neural language models compute compositional vector representations phrasesof variable length. however, remain limited expressing generic relatedness instances ofa larger non-uniform sized body-of-text. work, propose formulation combines wordvector set variable cardinality represent verse sentence, iterative distance metric eval\u0002uate similarity pairs non-conforming verse matrices. contrast baselines characterized bag offeatures, model preserves word order sustainable performing semantic matching anyof verse, chapter book levels. using framework train word vectors, analyzed clusteringof bible books exploring multidimensional scaling visualization, experimented book searchesof contiguous out-of-order parts verses. report robust results support intuition formeasuring book-to-book verse-to-book similarity.\"],\n",
    "               [\"Annotation_as_a_New_Paradigm_in_Research\", \"outline paradigm preserve results digital scholarship, whether  query results, feature values, topic assignments. paradigm characterized using annotations multifunctional carriers making portable. testing grounds chosen two significant enterprises,  one history science,  one hebrew scholarship.the first one (ckcc) focuses results project dutch consortium universities, research institutes, cultural heritage  institutions  experimented 4 years language techniques topic modeling methods aim analyze emergence scholarly debates. data: complex set 20.000 letters.the second one (dthb)   multi-year effort express linguistic features hebrew bible   text database, still growing detail sophistication. versions database packaged commercial bible study software.we state results forms scholarship require new knowledge management archive practices. researchers can build efficiently other's (intermediate)results, can achieve aggregations quality data new questions can answered, hidden patterns visualized. archives required find balance preserving authoritative versions sources supporting collaborative efforts digital scholarship. annotations promising vehicles preserving reusing research results. \"],\n",
    "               [\"Contents_Matching_Defined_by_Prototypes\", \"It common text documents characterized classified keywords, index terms, headings. We developed new methodology based onprototype matching. prototype interesting document part ex\u0002tracted, interesting text. This prototype matched existing document data\u0002base monitored document flow. claim new methodology iscapable extracting contents document. To verify hypothesis, testwith Bible designed. Different translations English, Latin, Greek, Finnishwere selected test materials. Verification tests included search tennearest books every book Bible performed designed prototypeversion software application. test results reported paper.\"],\n",
    "               [\"Exegetical_Science_for_the_Interpretation\", \"systematic thought (such christian theology) primarily investigated using literature-based approaches, texts usually abstract subjective nature scientific papers. however, systematic ideas thought influence areas human activity thinking, applica\u0002tion scientific methodologies bibliometrics, natural language processing, information technologies may provide objective understanding systematic thought. paper introduces four methods quan\u0002titative analysis interpretation bible scientific manner. methods citation analysis interpreters’ texts, vocabulary analysis translations, variant text analysis canonical texts, evaluation method rhetorical structure. furthermore, algorithms implemented java-based software \"],\n",
    "               [\"Extracting_Knowledge_from_the_Bible_A_Comparison\", \"objective work present comparison old testament new testament terms knowledge extraction ontology learning. knows fact two books many differences term size, practice worship, prophecy also difference time period written. applying ontology learning knowledge extraction methods interested see differences revealed similarities among them. ontology learning can applied semantic analysis text, order extract concepts, relations, can used automated summaries critical comparison. activities important education can allow dynamic creation content analyses can used educational process. since ontology-learning methods require large corpus unstructured data, chosen bible source text. way, new developed methods validated, can used successfully educational domains. bible religious text christians jews. bible contains collection scriptures written many authors, different time locations. computationally, bible contains semi-structured information due organized structure scriptures numbered chapters. used text2onto main tool order obtain relevant concepts new testament old testament. analyze relevant concepts range similarity domain identified new testament old testament. can mention studies reported literature using ontology extraction religious domain. methods can employed automatic generation content can used educational process.\"],\n",
    "               [\"Finding_Answers_from_the_Word_of_God\", \"question answering (qa) significantly benefittedfrom deep learning techniques recent years. however, domain\u0002specific qa remains challenge due significant amountof data required train neural network. paper studiesthe answer sentence selection task bible domain andanswer questions selecting relevant verses bible.for purpose, create new dataset bibleqa basedon bible trivia questions propose three neural networkmodels task. pre-train models large-scaleqa dataset, squad, investigate effect transferringweights model accuracy. furthermore, also measuredthe model accuracies different answer context lengths anddifferent bible translations. affirm transfer learning hasa noticeable improvement model accuracy. achievedrelatively good results shorter context lengths, whereaslonger context lengths decreased model accuracy. also findthat using modern bible translation dataset apositive effect task.\"],\n",
    "               [\"From_Plagiarism_Detection_to_Bible_Analysis\", \"amount textual data available digitalized sourcessuch free online libraries social media posts increased drastically last decade. paper, main idea analyze authorsby grammatical writing style presented. particular, tasks likeauthorship attribution, plagiarism detection author profiling tack\u0002led using presented algorithm, revealing promising results. therebyall presented approaches ultimately solved machine learning algorithms. \"],\n",
    "               [\"Introducing_Scientific_Methods_for_the_Interpretation_of_the_Bible\", \"systematic thought (such christian theology) primarily investigated using literature-based approaches, texts usually abstract subjective nature scientific papers. however, systematic ideas thought influence areas human activity thinking, application scientific methodologies bibliometrics, nlp (natural language processing), information technologies may provide objective understanding systematic thought. paper introduces four methods quantitative analysis interpretation bible scientific manner. methods citation analysis interpreter’s texts, vocabulary analysis translations, variant text analysis canonical texts, evaluation method rhetorical structure. \"],\n",
    "               [\"Lexical_And_Semantic_Analysis_Of_Sacred\", \"text mining process exploring analyzing large amounts text data extracting high-quality information based patterns trends data. patterns trends include analysis similarity measures opinion mining sentimental analysis expressed texts. text data mining reveals relationships lie single multiple text data. applying text mining religious texts can yield various insights cultural religious basis. reliable automatic knowledge extraction sacred texts challenging task will beneficial mankind. research started hypothesis intersection bible, tanakh, quran. three books origins middle east. bible holy book christians contains collection scriptures written many authors, different time locations. tanakh sacred text jews 24 books three parts- torah, nevi‘im ketuvim quran central religious text islam 114 chapters surah. three sacred texts contain semi-structured information due organized structure scriptures numbered chapters, comparative studies theodicy three religious texts reveal interesting insights. objectives research implement text analytics sacred texts reveal similarity insights sacred texts using natural language processing, ontology modeling, machine learning techniques \"],\n",
    "               [\"Unsupervised_Learning_of_Two_Bible_Books\", \"book proverbs teaches wisdom life relevant days king solomon, prin\u0002cipal author book son king david, importantly still applicable needed life today. book psalms longest book perhaps widely read book bible, contains 150 songs prayers king david main composer. proverbs imparts success life depends personal choices actions relate people, psalms used worship relates god. report, apply unsupervised learning study two books shared association wisdom. chapters two books grouped content. similar chapters verses two books, written father son, also identified, allowing one book illuminate other. computational findings match biblical scholars large, made new discoveries accom\u0002plished traditional methods.\"]])"
   ]
  },
  {
   "cell_type": "code",
   "execution_count": 46,
   "id": "6e7265a9",
   "metadata": {},
   "outputs": [],
   "source": [
    "df = pd.DataFrame(data, index=range(100, 135),columns=['Titulo', 'Paper'])"
   ]
  },
  {
   "cell_type": "code",
   "execution_count": null,
   "id": "e8497250",
   "metadata": {},
   "outputs": [],
   "source": []
  },
  {
   "cell_type": "markdown",
   "id": "e94e11e7",
   "metadata": {},
   "source": [
    "Função de Bigrams abaixo."
   ]
  },
  {
   "cell_type": "code",
   "execution_count": 65,
   "id": "46e125aa",
   "metadata": {},
   "outputs": [],
   "source": [
    "def get_top_n_bigram(df, n=None):\n",
    " vec = CountVectorizer(ngram_range=(2, 2), stop_words=text.ENGLISH_STOP_WORDS.union([\"community\",\"tribe\"])).fit(df)\n",
    " bag_of_words = vec.transform(df)\n",
    " sum_words = bag_of_words.sum(axis=0)\n",
    " words_freq = [(word, sum_words[0, idx]) for word, idx in vec.vocabulary_.items()]\n",
    " words_freq =sorted(words_freq, key = lambda x: x[1], reverse=True)\n",
    " return words_freq[:n]\n",
    "\n",
    "\n",
    " "
   ]
  },
  {
   "cell_type": "code",
   "execution_count": 66,
   "id": "f6f41c82",
   "metadata": {
    "scrolled": false
   },
   "outputs": [
    {
     "data": {
      "text/plain": [
       "Text(0, 0.5, 'Frequency')"
      ]
     },
     "execution_count": 66,
     "metadata": {},
     "output_type": "execute_result"
    },
    {
     "data": {
      "image/png": "[encoded data removed]",
      "text/plain": [
       "<Figure size 1080x432 with 1 Axes>"
      ]
     },
     "metadata": {},
     "output_type": "display_data"
    }
   ],
   "source": [
    " common_words = get_top_n_bigram(df['Paper'], 25)\n",
    " df_b = pd.DataFrame(common_words, columns = ['bigrams' , 'count'])\n",
    " plt.style.use('fivethirtyeight')\n",
    " color = plt.cm.gist_earth(np.linspace(0, 1, 25))\n",
    " df_b.plot(x='bigrams', y='count', kind='bar', figsize=(15, 6), color = color)\n",
    " plt.title(\"Bigrams in Papers - Top 25\")\n",
    " plt.xlabel('Bigrams')\n",
    " plt.ylabel('Frequency')"
   ]
  },
  {
   "cell_type": "markdown",
   "id": "de6aed95",
   "metadata": {},
   "source": [
    "#######################################################################################################\n"
   ]
  },
  {
   "cell_type": "code",
   "execution_count": 5,
   "id": "45890b9b",
   "metadata": {},
   "outputs": [],
   "source": [
    "GOLEMS_IN_THE = \"The legend of the golem, the creation of life throughmystical and magical means, is the most famous postbiblical Jewishlegend. After noting recent references to the golem legend in fiction,film, art, and scientific literature, I outline three stages of the devel\u0002opment of the legend, including its relationship to the story of Fran\u0002kenstein. I apply teachings about the golem in classical Jewish religiousliterature to implications of the legend for ethical issues relating tobioengineering, reproductive biotechnology, robotics, artificial intel\u0002ligence, artificial life, and corporate ethics. The golem legend emergesas a source of prudent guidance through the minefield of ethical andspiritual problems emerging from current and expected developmentsin biotechnology.\".lower()"
   ]
  },
  {
   "cell_type": "code",
   "execution_count": 6,
   "id": "98883ad5",
   "metadata": {},
   "outputs": [
    {
     "name": "stdout",
     "output_type": "stream",
     "text": [
      "the legend of the golem, the creation of life throughmystical and magical means, is the most famous postbiblical jewishlegend. after noting recent references to the golem legend in fiction,film, art, and scientific literature, i outline three stages of the devel\u0002opment of the legend, including its relationship to the story of fran\u0002kenstein. i apply teachings about the golem in classical jewish religiousliterature to implications of the legend for ethical issues relating tobioengineering, reproductive biotechnology, robotics, artificial intel\u0002ligence, artificial life, and corporate ethics. the golem legend emergesas a source of prudent guidance through the minefield of ethical andspiritual problems emerging from current and expected developmentsin biotechnology.\n"
     ]
    }
   ],
   "source": [
    "print(GOLEMS_IN_THE)"
   ]
  },
  {
   "cell_type": "code",
   "execution_count": 10,
   "id": "c4def99e",
   "metadata": {},
   "outputs": [],
   "source": [
    "Learning_attributes = \"In this project, students at a private university in Nigeria completed a survey concerned with their personal attributes and study dispositions. First class (summa cum laude) students were compared with third class (less successful) students. Differences were not found in their goal setting habits, and declaration of healthiness. The third class students indicated higher levels of participation in sport\u0002ing activities. The first class students reported higher levels of spirituality and Bible reading. When asked about their use of basic study skills, the two groups reported fairly similar levels, but then they diverged strongly on deeper learning approaches, with the first class students reporting higher levels of deep study strategies.\".lower()"
   ]
  },
  {
   "cell_type": "code",
   "execution_count": 11,
   "id": "47673638",
   "metadata": {},
   "outputs": [
    {
     "name": "stdout",
     "output_type": "stream",
     "text": [
      "in this project, students at a private university in nigeria completed a survey concerned with their personal attributes and study dispositions. first class (summa cum laude) students were compared with third class (less successful) students. differences were not found in their goal setting habits, and declaration of healthiness. the third class students indicated higher levels of participation in sport\u0002ing activities. the first class students reported higher levels of spirituality and bible reading. when asked about their use of basic study skills, the two groups reported fairly similar levels, but then they diverged strongly on deeper learning approaches, with the first class students reporting higher levels of deep study strategies.\n"
     ]
    }
   ],
   "source": [
    "print(Learning_attributes)"
   ]
  },
  {
   "cell_type": "code",
   "execution_count": 12,
   "id": "90e8eedd",
   "metadata": {},
   "outputs": [],
   "source": [
    "Web_personalization = \"The paper discusses the potential of the usage of Extended Boolean operations for personalized information delivery on the Internet based on semantic vector representation models. The final goal is the design of an e-commerce portal tracking user’s clickstream activity and purchases history in order to offer them personalized information. The emphasis is put on the introduction of dynamic composite user profiles constructed by means of extended Boolean operations. The basic binary Boolean operations such as OR, AND and NOT (AND-NOT) and their combinations have been introduced and implemented in variety of ways. An evaluation is presented based on the classic Latent Semantic Indexing method for information retrieval using a text corpus of religious and sacred texts.\".lower()"
   ]
  },
  {
   "cell_type": "code",
   "execution_count": 13,
   "id": "543d0337",
   "metadata": {},
   "outputs": [
    {
     "name": "stdout",
     "output_type": "stream",
     "text": [
      "the paper discusses the potential of the usage of extended boolean operations for personalized information delivery on the internet based on semantic vector representation models. the final goal is the design of an e-commerce portal tracking user’s clickstream activity and purchases history in order to offer them personalized information. the emphasis is put on the introduction of dynamic composite user profiles constructed by means of extended boolean operations. the basic binary boolean operations such as or, and and not (and-not) and their combinations have been introduced and implemented in variety of ways. an evaluation is presented based on the classic latent semantic indexing method for information retrieval using a text corpus of religious and sacred texts.\n"
     ]
    }
   ],
   "source": [
    "print(Web_personalization)"
   ]
  },
  {
   "cell_type": "code",
   "execution_count": 14,
   "id": "7fc87588",
   "metadata": {},
   "outputs": [],
   "source": [
    "When_Being_Numerate = \"The aim of this paper is to present a new method of biblical criticism by drawing attention to the importance of numbers and their meanings in the biblical text, with and without concepts that are also known as being Pythagorean concepts. It is argued that the numerical symbolism of Sarah having lived 127 years is that it denotes the concept of perfectness, while the numerical symbolism of Moses having lived 120 years is that it denotes completeness. It is shown that the years of lives of the Patriarchs are set in a series, and they were no random numbers. The meaning and implications of the innovation is discussed, showing that it might be done in whatever language, not just in Hebrew.\".lower()"
   ]
  },
  {
   "cell_type": "code",
   "execution_count": 15,
   "id": "22d03cc7",
   "metadata": {},
   "outputs": [
    {
     "name": "stdout",
     "output_type": "stream",
     "text": [
      "the aim of this paper is to present a new method of biblical criticism by drawing attention to the importance of numbers and their meanings in the biblical text, with and without concepts that are also known as being pythagorean concepts. it is argued that the numerical symbolism of sarah having lived 127 years is that it denotes the concept of perfectness, while the numerical symbolism of moses having lived 120 years is that it denotes completeness. it is shown that the years of lives of the patriarchs are set in a series, and they were no random numbers. the meaning and implications of the innovation is discussed, showing that it might be done in whatever language, not just in hebrew.\n"
     ]
    }
   ],
   "source": [
    "print(When_Being_Numerate)"
   ]
  },
  {
   "cell_type": "code",
   "execution_count": 16,
   "id": "3deef40f",
   "metadata": {},
   "outputs": [],
   "source": [
    "A_History_of = \"We look at two traditions for talking about creative activity,one originating in the classical Latin use of the word “creare”as a natural process of bringing about change, the other inJerome’s later use in the Vulgate bible, referring to the Chris\u0002tian God’s creation of the world from nothing but ideas. Weaim to show that because the latter tradition has predominatedrecently in the fields of Psychology and Artificial Intelligencethese academic fields have been limited in scope to the Western culture of individualism and progress. We argue that theformer tradition is a more general and useful notion as it applies more readily to describing human experience and activity as well as applying equally to other non-western cultures.Furthermore, because both traditions are still alive, and sincethey are both referred to through the use of this word “creativity”, there is chronic confusion in everyday modern discourseas well as in Psychology and Artificial Intelligence. We outline these two traditions in order to understand and unpickthis confusion and discuss implications for future research.\".lower()"
   ]
  },
  {
   "cell_type": "code",
   "execution_count": 17,
   "id": "241c0106",
   "metadata": {},
   "outputs": [
    {
     "name": "stdout",
     "output_type": "stream",
     "text": [
      "we look at two traditions for talking about creative activity,one originating in the classical latin use of the word “creare”as a natural process of bringing about change, the other injerome’s later use in the vulgate bible, referring to the chris\u0002tian god’s creation of the world from nothing but ideas. weaim to show that because the latter tradition has predominatedrecently in the fields of psychology and artificial intelligencethese academic fields have been limited in scope to the western culture of individualism and progress. we argue that theformer tradition is a more general and useful notion as it applies more readily to describing human experience and activity as well as applying equally to other non-western cultures.furthermore, because both traditions are still alive, and sincethey are both referred to through the use of this word “creativity”, there is chronic confusion in everyday modern discourseas well as in psychology and artificial intelligence. we outline these two traditions in order to understand and unpickthis confusion and discuss implications for future research.\n"
     ]
    }
   ],
   "source": [
    "print(A_History_of)"
   ]
  },
  {
   "cell_type": "code",
   "execution_count": 18,
   "id": "8dd26423",
   "metadata": {},
   "outputs": [],
   "source": [
    "A_Survey = \"An important feature of malware is that it can self-replicate. It is notknown who created the first self-replicating program in the world, but it is clear thatthe first malware/virus (Creeper) was created by the Bible Broadcasting Networkengineer Robert (Bob) H. Thomas, probably around 1970, and since then malwareare evolving continuously to evade the known detection techniques from early-daysignature-based to the date machine learning methods. The complexity of the malware is continuously growing using sophisticated obfuscation techniques not only toattack individual computational devices but also for the military espionage, to disruptindustries, ransomware, etc. Thus researchers are motivated to find an effective antimalware to detect the known as well as new or previously unseen malware. Hence,time-to-time to defend the attacks/threats from the advanced malware, a number ofstatic and dynamic methods are proposed by the researchers. Therefore, in order tounderstand various techniques proposed/used for the detection of new or previouslyunseen Windows Desktops malware in this paper, we present the survey conductedby us on the work done by the researchers in this field.\".lower()"
   ]
  },
  {
   "cell_type": "code",
   "execution_count": 19,
   "id": "5bf36b92",
   "metadata": {},
   "outputs": [
    {
     "name": "stdout",
     "output_type": "stream",
     "text": [
      "an important feature of malware is that it can self-replicate. it is notknown who created the first self-replicating program in the world, but it is clear thatthe first malware/virus (creeper) was created by the bible broadcasting networkengineer robert (bob) h. thomas, probably around 1970, and since then malwareare evolving continuously to evade the known detection techniques from early-daysignature-based to the date machine learning methods. the complexity of the malware is continuously growing using sophisticated obfuscation techniques not only toattack individual computational devices but also for the military espionage, to disruptindustries, ransomware, etc. thus researchers are motivated to find an effective antimalware to detect the known as well as new or previously unseen malware. hence,time-to-time to defend the attacks/threats from the advanced malware, a number ofstatic and dynamic methods are proposed by the researchers. therefore, in order tounderstand various techniques proposed/used for the detection of new or previouslyunseen windows desktops malware in this paper, we present the survey conductedby us on the work done by the researchers in this field.\n"
     ]
    }
   ],
   "source": [
    "print(A_Survey )"
   ]
  },
  {
   "cell_type": "code",
   "execution_count": 22,
   "id": "6b51341a",
   "metadata": {},
   "outputs": [],
   "source": [
    "On_big = \"This paper defines big wisdom with a HAO/BIBLE framework, which integrates humanintelligence (HI), artificial intelligence (AI), and organizational/business intelligence (O/BL)with Bigdata analytics in Large Environments, for industrial intelligence in organizationalactivities. Big wisdom starts with Bigdata, discovers big knowledge, and facilitates humanand machine synergism for complex problem solving. When the HAO/BIBLE frameworkis applied to a regular (non-Bigdata) environment, it becomes the well-known PEAS agentstructure, and when the knowledge graph in HAO/BIBLE relies on domain expertise (ratherthan big knowledge), HAO BIBLE serves as an expert system. This paper compares andcontrasts Bigdata, big knowledge, and big wisdom and instantiates HAO BIBLE with a casestudy for intelligent catering services to illustrate synergized HAO intelligence for big wisdom\".lower()"
   ]
  },
  {
   "cell_type": "code",
   "execution_count": 23,
   "id": "c22da262",
   "metadata": {},
   "outputs": [
    {
     "name": "stdout",
     "output_type": "stream",
     "text": [
      "this paper defines big wisdom with a hao/bible framework, which integrates humanintelligence (hi), artificial intelligence (ai), and organizational/business intelligence (o/bl)with bigdata analytics in large environments, for industrial intelligence in organizationalactivities. big wisdom starts with bigdata, discovers big knowledge, and facilitates humanand machine synergism for complex problem solving. when the hao/bible frameworkis applied to a regular (non-bigdata) environment, it becomes the well-known peas agentstructure, and when the knowledge graph in hao/bible relies on domain expertise (ratherthan big knowledge), hao bible serves as an expert system. this paper compares andcontrasts bigdata, big knowledge, and big wisdom and instantiates hao bible with a casestudy for intelligent catering services to illustrate synergized hao intelligence for big wisdom\n"
     ]
    }
   ],
   "source": [
    "print(On_big)"
   ]
  },
  {
   "cell_type": "code",
   "execution_count": 55,
   "id": "aff14b7c",
   "metadata": {},
   "outputs": [],
   "source": [
    "The_Eclipse = \"In the last 500 years our modern world has oscillated between thebelief in “disenchanted” strategies of bureaucratic control and surveil\u0002lance, and the celebration of iconoclastic ruptures that are supposedto preserve our sense of freedom and dignity. Yet, the equilibriumbetween these poles has fallen out of balance after the turn of themillennium. While the obsession with control has released concertedefforts to replace our supposedly irrational intelligence by the “artifi\u0002cial intelligence” of digital technologies, the implementation of ICTtechnologies in our everyday life has undermined the iconoclasticconviction that artefacts are merely tools. Our smartphones have a“magic life” of their own – be it that they afford a life that weappreciate, or that they nudge us into a life that we abhor. Thischallenge requires us to recover our ability to distinguish betweenidolatrous attachments and the prudent use of “magic objects” thatis consistent with our natural desire to transform our life for thebetter. The following essay will discuss the question to what extentthe basic assumptions of the confessionalized religions of the post\u0002Reformation era distract us from the task of engaging with this chal\u0002lenge. Moreover it will question the modern inclination to replace theengagement with sacramental objects with an engagement with pious“master signifiers”: authoritative substitutes for the “body of Christ”,like the Eucharistic host, the Bible or secular party books that reducethe attachment to religious traditions to a matter of formal beliefand submission to an authoritative system of clerical, bureaucratic,or (today) robotic surveillance\".lower()"
   ]
  },
  {
   "cell_type": "code",
   "execution_count": 56,
   "id": "d33d7b73",
   "metadata": {},
   "outputs": [
    {
     "name": "stdout",
     "output_type": "stream",
     "text": [
      "in the last 500 years our modern world has oscillated between thebelief in “disenchanted” strategies of bureaucratic control and surveil\u0002lance, and the celebration of iconoclastic ruptures that are supposedto preserve our sense of freedom and dignity. yet, the equilibriumbetween these poles has fallen out of balance after the turn of themillennium. while the obsession with control has released concertedefforts to replace our supposedly irrational intelligence by the “artifi\u0002cial intelligence” of digital technologies, the implementation of icttechnologies in our everyday life has undermined the iconoclasticconviction that artefacts are merely tools. our smartphones have a“magic life” of their own – be it that they afford a life that weappreciate, or that they nudge us into a life that we abhor. thischallenge requires us to recover our ability to distinguish betweenidolatrous attachments and the prudent use of “magic objects” thatis consistent with our natural desire to transform our life for thebetter. the following essay will discuss the question to what extentthe basic assumptions of the confessionalized religions of the post\u0002reformation era distract us from the task of engaging with this chal\u0002lenge. moreover it will question the modern inclination to replace theengagement with sacramental objects with an engagement with pious“master signifiers”: authoritative substitutes for the “body of christ”,like the eucharistic host, the bible or secular party books that reducethe attachment to religious traditions to a matter of formal beliefand submission to an authoritative system of clerical, bureaucratic,or (today) robotic surveillance\n"
     ]
    }
   ],
   "source": [
    "print(The_Eclipse)"
   ]
  },
  {
   "cell_type": "code",
   "execution_count": 59,
   "id": "62c664f2",
   "metadata": {},
   "outputs": [],
   "source": [
    "THE_CONCEPT = \"The topic of empire is one of the main disputed points in the discussion following the ‘Accra Declaration’. This article evaluates several points of view from the South and North concerning ‘empire’ and shows how the dynamics of the different contexts have infl uenced the tense discussions in the churches. A distinction has to be made between the real-political high profi le of modern empires and the more metaphorical interpretation of empire as it is expressed in the Bible. The discussion on empire can become a stumbling block if it is not approached with great compassion for the victims of globalisation, a careful sense of the vastly different situations in the South and the North, and an understanding of real-political structures. This article warns against the danger of polarisation and seeks to build a bridge toward a common understanding\".lower()"
   ]
  },
  {
   "cell_type": "code",
   "execution_count": 60,
   "id": "996e8e61",
   "metadata": {},
   "outputs": [
    {
     "name": "stdout",
     "output_type": "stream",
     "text": [
      "the topic of empire is one of the main disputed points in the discussion following the ‘accra declaration’. this article evaluates several points of view from the south and north concerning ‘empire’ and shows how the dynamics of the different contexts have infl uenced the tense discussions in the churches. a distinction has to be made between the real-political high profi le of modern empires and the more metaphorical interpretation of empire as it is expressed in the bible. the discussion on empire can become a stumbling block if it is not approached with great compassion for the victims of globalisation, a careful sense of the vastly different situations in the south and the north, and an understanding of real-political structures. this article warns against the danger of polarisation and seeks to build a bridge toward a common understanding\n"
     ]
    }
   ],
   "source": [
    "print(THE_CONCEPT)"
   ]
  },
  {
   "cell_type": "code",
   "execution_count": 62,
   "id": "e80a9657",
   "metadata": {},
   "outputs": [],
   "source": [
    "data =np.array([[\"GOLEMS_IN_THE\", \"legend golem, creation life throughmystical magical means, famous postbiblical jewishlegend. noting recent references golem legend fiction,film, art, scientific literature, outline three stages devel\u0002opment legend, including relationship story fran\u0002kenstein. apply teachings golem classical jewish religiousliterature implications legend ethical issues relating tobioengineering, reproductive biotechnology, robotics, artificial intelligence, artificial life, corporate ethics. golem legend emergesas source prudent guidance minefield ethical andspiritual problems emerging current expected developmentsin biotechnology \"],\n",
    "               [\"Learning_attributes\", \"project, students private university nigeria completed survey concerned personal attributes study dispositions. first class (summa cum laude) students compared third class (less successful) students. differences found goal setting habits, declaration healthiness. third class students indicated higher levels participation sport\u0002ing activities. first class students reported higher levels spirituality bible reading. asked use basic study skills, two groups reported fairly similar levels, diverged strongly deeper learning approaches, first class students reporting higher levels deep study strategies. \"],\n",
    "               [\"Web_personalization\", \"paper discusses potential usage extended boolean operations personalized information delivery internet based semantic vector representation models. final goal design e-commerce portal tracking user’s clickstream activity purchases history order offer personalized information. emphasis put introduction dynamic composite user profiles constructed means extended boolean operations. basic binary boolean operations or, (and-not) combinations introduced implemented variety ways. evaluation presented based classic latent semantic indexing method information retrieval using text corpus religious sacred texts. \"],\n",
    "               [\"When_Being_Numerate\", \"aim paper present new method biblical criticism drawing attention importance numbers meanings biblical text, without concepts also known pythagorean concepts. argued numerical symbolism sarah lived 127 years denotes concept perfectness, numerical symbolism moses lived 120 years denotes completeness. shown years lives patriarchs set series, random numbers. meaning implications innovation discussed, showing might done whatever language, just hebrew. \"],\n",
    "               [\"A_History_of\", \"look two traditions talking creative activity,one originating classical latin use word “creare”as natural process bringing change, injerome’s later use vulgate bible, referring chris\u0002tian god’s creation world nothing ideas. weaim show latter tradition predominatedrecently fields psychology artificial intelligencethese academic fields limited scope western culture individualism progress. argue theformer tradition general useful notion applies readily describing human experience activity well applying equally non-western cultures.furthermore, traditions still alive, sincethey referred use word “creativity”, chronic confusion everyday modern discourseas well psychology artificial intelligence. outline two traditions order understand unpickthis confusion discuss implications future research. \"],\n",
    "               [\"A_Survey\", \"look two traditions talking creative activity,one originating classical latin use word “creare”as natural process bringing change, injerome’s later use vulgate bible, referring chris\u0002tian god’s creation world nothing ideas. weaim show latter tradition predominatedrecently fields psychology artificial intelligencethese academic fields limited scope western culture individualism progress. argue theformer tradition general useful notion applies readily describing human experience activity well applying equally non-western cultures.furthermore, traditions still alive, sincethey referred use word “creativity”, chronic confusion everyday modern discourseas well psychology artificial intelligence. outline two traditions order understand unpickthis confusion discuss implications future research \"],\n",
    "               [\"On_big\", \"paper defines big wisdom hao/bible framework, integrates humanintelligence (hi), artificial intelligence (ai), organizational/business intelligence (o/bl)with bigdata analytics large environments, industrial intelligence organizationalactivities. big wisdom starts bigdata, discovers big knowledge, facilitates humanand machine synergism complex problem solving. hao/bible frameworkis applied regular (non-bigdata) environment, becomes well-known peas agentstructure, knowledge graph hao/bible relies domain expertise (ratherthan big knowledge), hao bible serves expert system. paper compares andcontrasts bigdata, big knowledge, big wisdom instantiates hao bible casestudy intelligent catering services illustrate synergized hao intelligence big wisdom\"],\n",
    "               [\"The_Eclipse\", \"last 500 years modern world oscillated thebelief “disenchanted” strategies bureaucratic control surveil\u0002lance, celebration iconoclastic ruptures supposedto preserve sense freedom dignity. yet, equilibriumbetween poles fallen balance turn themillennium. obsession control released concertedefforts replace supposedly irrational intelligence “artifi\u0002cial intelligence” digital technologies, implementation icttechnologies everyday life undermined iconoclasticconviction artefacts merely tools. smartphones a“magic life” – afford life weappreciate, nudge us life abhor. thischallenge requires us recover ability distinguish betweenidolatrous attachments prudent use “magic objects” thatis consistent natural desire transform life thebetter. following essay will discuss question extentthe basic assumptions confessionalized religions post\u0002reformation era distract us task engaging chal\u0002lenge. moreover will question modern inclination replace theengagement sacramental objects engagement pious“master signifiers”: authoritative substitutes “body christ”,like eucharistic host, bible secular party books reducethe attachment religious traditions matter formal beliefand submission authoritative system clerical, bureaucratic,or (today) robotic surveillance \"],\n",
    "               [\"the_concept\", \"topic empire one main disputed points discussion following ‘accra declaration’. article evaluates several points view south north concerning ‘empire’ shows dynamics different contexts infl uenced tense discussions churches. distinction made real-political high profi le modern empires metaphorical interpretation empire expressed bible. discussion empire can become stumbling block approached great compassion victims globalisation, careful sense vastly different situations south north, understanding real-political structures. article warns danger polarisation seeks build bridge toward common understanding \"]])"
   ]
  },
  {
   "cell_type": "code",
   "execution_count": 64,
   "id": "9513ecae",
   "metadata": {},
   "outputs": [],
   "source": [
    "df = pd.DataFrame(data, index=range(100, 109),columns=['Titulo', 'Paper'])"
   ]
  },
  {
   "cell_type": "code",
   "execution_count": null,
   "id": "9561d545",
   "metadata": {},
   "outputs": [],
   "source": []
  }
 ],
 "metadata": {
  "kernelspec": {
   "display_name": "Python 3 (ipykernel)",
   "language": "python",
   "name": "python3"
  },
  "language_info": {
   "codemirror_mode": {
    "name": "ipython",
    "version": 3
   },
   "file_extension": ".py",
   "mimetype": "text/x-python",
   "name": "python",
   "nbconvert_exporter": "python",
   "pygments_lexer": "ipython3",
   "version": "3.7.2"
  }
 },
 "nbformat": 4,
 "nbformat_minor": 5
}
