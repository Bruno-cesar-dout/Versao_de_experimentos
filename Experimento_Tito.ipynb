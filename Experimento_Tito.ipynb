{
 "cells": [
  {
   "cell_type": "code",
   "execution_count": 1,
   "id": "69bb494f",
   "metadata": {},
   "outputs": [],
   "source": [
    "import numpy  as np\n",
    "import pandas as pd\n",
    "import json\n",
    "import pandas"
   ]
  },
  {
   "cell_type": "code",
   "execution_count": 2,
   "id": "20600dc2",
   "metadata": {},
   "outputs": [],
   "source": [
    "import nltk\n",
    "import nltk.corpus\n",
    "from sklearn.feature_extraction.text  import TfidfVectorizer\n",
    "from sklearn.metrics                  import silhouette_samples, silhouette_score\n",
    "from sklearn.preprocessing            import normalize\n",
    "from nltk.tokenize                    import word_tokenize\n",
    "import re\n",
    "from unidecode                        import unidecode\n",
    "from nltk.corpus import stopwords"
   ]
  },
  {
   "cell_type": "code",
   "execution_count": 3,
   "id": "8319e26b",
   "metadata": {},
   "outputs": [],
   "source": [
    "import matplotlib.pyplot  as plt\n",
    "import matplotlib.cm      as cm\n",
    "import seaborn            as sns\n",
    "from sklearn.metrics                  import silhouette_samples, silhouette_score\n",
    "from wordcloud                        import WordCloud"
   ]
  },
  {
   "cell_type": "code",
   "execution_count": 4,
   "id": "9438860b",
   "metadata": {},
   "outputs": [],
   "source": [
    "from sklearn import cluster"
   ]
  },
  {
   "cell_type": "code",
   "execution_count": 5,
   "id": "aba56b60",
   "metadata": {},
   "outputs": [],
   "source": [
    "Tito_1 = \"Paul, a servant of God, and an apostle of Jesus Christ, according to the faith of God' elect, and the acknowledging of the truth which is after godliness;In hope of eternal life, which God, that cannot lie, promised before the world began;But has in due times manifested his word through preaching, which is committed to me according to the commandment of God our Savior;To Titus, my own son after the common faith: Grace, mercy, and peace, from God the Father and the Lord Jesus Christ our Savior.For this cause left I you in Crete, that you should set in order the things that are wanting, and ordain elders in every city, as I had appointed you:If any be blameless, the husband of one wife, having faithful children not accused of riot or unruly.For a bishop must be blameless, as the steward of God; not self-willed, not soon angry, not given to wine, no striker, not given to filthy lucre;But a lover of hospitality, a lover of good men, sober, just, holy, temperate;Holding fast the faithful word as he has been taught, that he may be able by sound doctrine both to exhort and to convince the disputers.For there are many unruly and vain talkers and deceivers, specially they of the circumcision:Whose mouths must be stopped, who subvert whole houses, teaching things which they ought not, for filthy lucre' sake.One of themselves, even a prophet of their own, said, The Cretians are always liars, evil beasts, slow bellies.This witness is true. Why rebuke them sharply, that they may be sound in the faith;Not giving heed to Jewish fables, and commandments of men, that turn from the truth.To the pure all things are pure: but to them that are defiled and unbelieving is nothing pure; but even their mind and conscience is defiled.They profess that they know God; but in works they deny him, being abominable, and disobedient, and to every good work reprobate.\".lower()"
   ]
  },
  {
   "cell_type": "code",
   "execution_count": 6,
   "id": "e69cf588",
   "metadata": {},
   "outputs": [],
   "source": [
    "Tito_2 = \"But speak you the things which become sound doctrine:That the aged men be sober, grave, temperate, sound in faith, in charity, in patience.The aged women likewise, that they be in behavior as becomes holiness, not false accusers, not given to much wine, teachers of good things;That they may teach the young women to be sober, to love their husbands, to love their children,To be discreet, chaste, keepers at home, good, obedient to their own husbands, that the word of God be not blasphemed.Young men likewise exhort to be sober minded.In all things showing yourself a pattern of good works: in doctrine showing soundness, gravity, sincerity,Sound speech, that cannot be condemned; that he that is of the contrary part may be ashamed, having no evil thing to say of you.Exhort servants to be obedient to their own masters, and to please them well in all things; not answering again;Not purloining, but showing all good fidelity; that they may adorn the doctrine of God our Savior in all things.For the grace of God that brings salvation has appeared to all men,Teaching us that, denying ungodliness and worldly lusts, we should live soberly, righteously, and godly, in this present world;Looking for that blessed hope, and the glorious appearing of the great God and our Savior Jesus Christ;Who gave himself for us, that he might redeem us from all iniquity, and purify to himself a peculiar people, zealous of good works.These things speak, and exhort, and rebuke with all authority. Let no man despise you.\".lower()"
   ]
  },
  {
   "cell_type": "code",
   "execution_count": 7,
   "id": "161d79e9",
   "metadata": {},
   "outputs": [],
   "source": [
    "Tito_3 = \"Put them in mind to be subject to principalities and powers, to obey magistrates, to be ready to every good work,To speak evil of no man, to be no brawlers, but gentle, showing all meekness to all men.For we ourselves also were sometimes foolish, disobedient, deceived, serving divers lusts and pleasures, living in malice and envy, hateful, and hating one another.But after that the kindness and love of God our Savior toward man appeared,Not by works of righteousness which we have done, but according to his mercy he saved us, by the washing of regeneration, and renewing of the Holy Ghost;Which he shed on us abundantly through Jesus Christ our Savior;That being justified by his grace, we should be made heirs according to the hope of eternal life.This is a faithful saying, and these things I will that you affirm constantly, that they which have believed in God might be careful to maintain good works. These things are good and profitable to men.But avoid foolish questions, and genealogies, and contentions, and strivings about the law; for they are unprofitable and vain.A man that is an heretic after the first and second admonition reject;Knowing that he that is such is subverted, and sins, being condemned of himself.When I shall send Artemas to you, or Tychicus, be diligent to come to me to Nicopolis: for I have determined there to winter.Bring Zenas the lawyer and Apollos on their journey diligently, that nothing be wanting to them.And let our' also learn to maintain good works for necessary uses, that they be not unfruitful.All that are with me salute you. Greet them that love us in the faith. Grace be with you all. Amen.\".lower()"
   ]
  },
  {
   "cell_type": "code",
   "execution_count": 19,
   "id": "39c2a182",
   "metadata": {},
   "outputs": [],
   "source": [
    "tokens = nltk.word_tokenize(Tito_3)"
   ]
  },
  {
   "cell_type": "code",
   "execution_count": 20,
   "id": "f8def357",
   "metadata": {},
   "outputs": [],
   "source": [
    "stop_words = set(stopwords.words('english'))"
   ]
  },
  {
   "cell_type": "code",
   "execution_count": 21,
   "id": "ab14e771",
   "metadata": {},
   "outputs": [],
   "source": [
    "filtered_sentence1 = [w for w in tokens if not w in stop_words] \n",
    "  \n",
    "filtered_sentence1 = []\n",
    "  \n",
    "for w in tokens: \n",
    "    if w not in stop_words: \n",
    "        filtered_sentence1.append(w)"
   ]
  },
  {
   "cell_type": "code",
   "execution_count": 22,
   "id": "65a5c946",
   "metadata": {},
   "outputs": [
    {
     "name": "stdout",
     "output_type": "stream",
     "text": [
      "['put', 'mind', 'subject', 'principalities', 'powers', ',', 'obey', 'magistrates', ',', 'ready', 'every', 'good', 'work', ',', 'speak', 'evil', 'man', ',', 'brawlers', ',', 'gentle', ',', 'showing', 'meekness', 'men.for', 'also', 'sometimes', 'foolish', ',', 'disobedient', ',', 'deceived', ',', 'serving', 'divers', 'lusts', 'pleasures', ',', 'living', 'malice', 'envy', ',', 'hateful', ',', 'hating', 'one', 'another.but', 'kindness', 'love', 'god', 'savior', 'toward', 'man', 'appeared', ',', 'works', 'righteousness', 'done', ',', 'according', 'mercy', 'saved', 'us', ',', 'washing', 'regeneration', ',', 'renewing', 'holy', 'ghost', ';', 'shed', 'us', 'abundantly', 'jesus', 'christ', 'savior', ';', 'justified', 'grace', ',', 'made', 'heirs', 'according', 'hope', 'eternal', 'life.this', 'faithful', 'saying', ',', 'things', 'affirm', 'constantly', ',', 'believed', 'god', 'might', 'careful', 'maintain', 'good', 'works', '.', 'things', 'good', 'profitable', 'men.but', 'avoid', 'foolish', 'questions', ',', 'genealogies', ',', 'contentions', ',', 'strivings', 'law', ';', 'unprofitable', 'vain.a', 'man', 'heretic', 'first', 'second', 'admonition', 'reject', ';', 'knowing', 'subverted', ',', 'sins', ',', 'condemned', 'himself.when', 'shall', 'send', 'artemas', ',', 'tychicus', ',', 'diligent', 'come', 'nicopolis', ':', 'determined', 'winter.bring', 'zenas', 'lawyer', 'apollos', 'journey', 'diligently', ',', 'nothing', 'wanting', 'them.and', 'let', \"'\", 'also', 'learn', 'maintain', 'good', 'works', 'necessary', 'uses', ',', 'unfruitful.all', 'salute', '.', 'greet', 'love', 'us', 'faith', '.', 'grace', '.', 'amen', '.']\n"
     ]
    }
   ],
   "source": [
    "print(filtered_sentence1)"
   ]
  },
  {
   "cell_type": "code",
   "execution_count": 24,
   "id": "a6133d47",
   "metadata": {},
   "outputs": [],
   "source": [
    "data =np.array([[\"Tito_1\", \"'paul', ',', 'servant', 'god', ',', 'apostle', 'jesus', 'christ', ',', 'according', 'faith', 'god', ', 'elect', ',', 'acknowledging', 'truth', 'godliness', ';', 'hope', 'eternal', 'life', ',', 'god', ',', 'lie', ',', 'promised', 'world', 'began', ';', 'due', 'times', 'manifested', 'word', 'preaching', ',', 'committed', 'according', 'commandment', 'god', 'savior', ';', 'titus', ',', 'son', 'common', 'faith', ':', 'grace', ',', 'mercy', ',', 'peace', ',', 'god', 'father', 'lord', 'jesus', 'christ', 'savior.for', 'cause', 'left', 'crete', ',', 'set', 'order', 'things', 'wanting', ',', 'ordain', 'elders', 'every', 'city', ',', 'appointed', ':', 'blameless', ',', 'husband', 'one', 'wife', ',', 'faithful', 'children', 'accused', 'riot', 'unruly.for', 'bishop', 'must', 'blameless', ',', 'steward', 'god', ';', 'self-willed', ',', 'soon', 'angry', ',', 'given', 'wine', ',', 'striker', ',', 'given', 'filthy', 'lucre', ';', 'lover', 'hospitality', ',', 'lover', 'good', 'men', ',', 'sober', ',', ',', 'holy', ',', 'temperate', ';', 'holding', 'fast', 'faithful', 'word', 'taught', ',', 'may', 'able', 'sound', 'doctrine', 'exhort', 'convince', 'disputers.for', 'many', 'unruly', 'vain', 'talkers', 'deceivers', ',', 'specially', 'circumcision', ':', 'whose', 'mouths', 'must', 'stopped', ',', 'subvert', 'whole', 'houses', ',', 'teaching', 'things', 'ought', ',', 'filthy', 'lucre', ', 'sake.one', ',', 'even', 'prophet', ',', 'said', ',', 'cretians', 'always', 'liars', ',', 'evil', 'beasts', ',', 'slow', 'bellies.this', 'witness', 'true', '.', 'rebuke', 'sharply', ',', 'may', 'sound', 'faith', ';', 'giving', 'heed', 'jewish', 'fables', ',', 'commandments', 'men', ',', 'turn', 'truth.to', 'pure', 'things', 'pure', ':', 'defiled', 'unbelieving', 'nothing', 'pure', ';', 'even', 'mind', 'conscience', 'defiled.they', 'profess', 'know', 'god', ';', 'works', 'deny', ',', 'abominable', ',', 'disobedient', ',', 'every', 'good', 'work', 'reprobate', '.'\"],\n",
    "               [\"Tito_2\", \"'speak', 'things', 'become', 'sound', 'doctrine', ':', 'aged', 'men', 'sober', ',', 'grave', ',', 'temperate', ',', 'sound', 'faith', ',', 'charity', ',', 'patience.the', 'aged', 'women', 'likewise', ',', 'behavior', 'becomes', 'holiness', ',', 'false', 'accusers', ',', 'given', 'much', 'wine', ',', 'teachers', 'good', 'things', ';', 'may', 'teach', 'young', 'women', 'sober', ',', 'love', 'husbands', ',', 'love', 'children', ',', 'discreet', ',', 'chaste', ',', 'keepers', 'home', ',', 'good', ',', 'obedient', 'husbands', ',', 'word', 'god', 'blasphemed.young', 'men', 'likewise', 'exhort', 'sober', 'minded.in', 'things', 'showing', 'pattern', 'good', 'works', ':', 'doctrine', 'showing', 'soundness', ',', 'gravity', ',', 'sincerity', ',', 'sound', 'speech', ',', 'condemned', ';', 'contrary', 'part', 'may', 'ashamed', ',', 'evil', 'thing', 'say', 'you.exhort', 'servants', 'obedient', 'masters', ',', 'please', 'well', 'things', ';', 'answering', ';', 'purloining', ',', 'showing', 'good', 'fidelity', ';', 'may', 'adorn', 'doctrine', 'god', 'savior', 'things.for', 'grace', 'god', 'brings', 'salvation', 'appeared', 'men', ',', 'teaching', 'us', ',', 'denying', 'ungodliness', 'worldly', 'lusts', ',', 'live', 'soberly', ',', 'righteously', ',', 'godly', ',', 'present', 'world', ';', 'looking', 'blessed', 'hope', ',', 'glorious', 'appearing', 'great', 'god', 'savior', 'jesus', 'christ', ';', 'gave', 'us', ',', 'might', 'redeem', 'us', 'iniquity', ',', 'purify', 'peculiar', 'people', ',', 'zealous', 'good', 'works.these', 'things', 'speak', ',', 'exhort', ',', 'rebuke', 'authority', '.', 'let', 'man', 'despise', '.'\"],\n",
    "               [\"Tito_3\", \"'put', 'mind', 'subject', 'principalities', 'powers', ',', 'obey', 'magistrates', ',', 'ready', 'every', 'good', 'work', ',', 'speak', 'evil', 'man', ',', 'brawlers', ',', 'gentle', ',', 'showing', 'meekness', 'men.for', 'also', 'sometimes', 'foolish', ',', 'disobedient', ',', 'deceived', ',', 'serving', 'divers', 'lusts', 'pleasures', ',', 'living', 'malice', 'envy', ',', 'hateful', ',', 'hating', 'one', 'another.but', 'kindness', 'love', 'god', 'savior', 'toward', 'man', 'appeared', ',', 'works', 'righteousness', 'done', ',', 'according', 'mercy', 'saved', 'us', ',', 'washing', 'regeneration', ',', 'renewing', 'holy', 'ghost', ';', 'shed', 'us', 'abundantly', 'jesus', 'christ', 'savior', ';', 'justified', 'grace', ',', 'made', 'heirs', 'according', 'hope', 'eternal', 'life.this', 'faithful', 'saying', ',', 'things', 'affirm', 'constantly', ',', 'believed', 'god', 'might', 'careful', 'maintain', 'good', 'works', '.', 'things', 'good', 'profitable', 'men.but', 'avoid', 'foolish', 'questions', ',', 'genealogies', ',', 'contentions', ',', 'strivings', 'law', ';', 'unprofitable', 'vain.a', 'man', 'heretic', 'first', 'second', 'admonition', 'reject', ';', 'knowing', 'subverted', ',', 'sins', ',', 'condemned', 'himself.when', 'shall', 'send', 'artemas', ',', 'tychicus', ',', 'diligent', 'come', 'nicopolis', ':', 'determined', 'winter.bring', 'zenas', 'lawyer', 'apollos', 'journey', 'diligently', ',', 'nothing', 'wanting', 'them.and', 'let', ', 'also', 'learn', 'maintain', 'good', 'works', 'necessary', 'uses', ',', 'unfruitful.all', 'salute', '.', 'greet', 'love', 'us', 'faith', '.', 'grace', '.', 'amen', '.'\"]])"
   ]
  },
  {
   "cell_type": "code",
   "execution_count": 25,
   "id": "df5e5ca1",
   "metadata": {},
   "outputs": [],
   "source": [
    "df = pd.DataFrame(data, index=range(100,103),columns=['Autor', 'Livro'])"
   ]
  },
  {
   "cell_type": "code",
   "execution_count": 26,
   "id": "6d2312c4",
   "metadata": {},
   "outputs": [
    {
     "name": "stdout",
     "output_type": "stream",
     "text": [
      "      Autor                                              Livro\n",
      "100  Tito_1  'paul', ',', 'servant', 'god', ',', 'apostle',...\n",
      "101  Tito_2  'speak', 'things', 'become', 'sound', 'doctrin...\n",
      "102  Tito_3  'put', 'mind', 'subject', 'principalities', 'p...\n"
     ]
    }
   ],
   "source": [
    "print(df)"
   ]
  },
  {
   "cell_type": "code",
   "execution_count": null,
   "id": "5c2c0504",
   "metadata": {},
   "outputs": [],
   "source": []
  }
 ],
 "metadata": {
  "kernelspec": {
   "display_name": "Python 3 (ipykernel)",
   "language": "python",
   "name": "python3"
  },
  "language_info": {
   "codemirror_mode": {
    "name": "ipython",
    "version": 3
   },
   "file_extension": ".py",
   "mimetype": "text/x-python",
   "name": "python",
   "nbconvert_exporter": "python",
   "pygments_lexer": "ipython3",
   "version": "3.7.2"
  }
 },
 "nbformat": 4,
 "nbformat_minor": 5
}
