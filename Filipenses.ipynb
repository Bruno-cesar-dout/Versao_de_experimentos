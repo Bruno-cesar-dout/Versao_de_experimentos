{
 "cells": [
  {
   "cell_type": "code",
   "execution_count": 1,
   "id": "750a79fe",
   "metadata": {},
   "outputs": [],
   "source": [
    "import numpy  as np\n",
    "import pandas as pd\n",
    "import json\n",
    "import pandas"
   ]
  },
  {
   "cell_type": "code",
   "execution_count": 2,
   "id": "e6adcaa1",
   "metadata": {},
   "outputs": [],
   "source": [
    "import nltk\n",
    "import nltk.corpus\n",
    "from sklearn.feature_extraction.text  import TfidfVectorizer\n",
    "from sklearn.metrics                  import silhouette_samples, silhouette_score\n",
    "from sklearn.preprocessing            import normalize\n",
    "from nltk.tokenize                    import word_tokenize\n",
    "import re\n",
    "from unidecode                        import unidecode\n",
    "from nltk.corpus import stopwords"
   ]
  },
  {
   "cell_type": "code",
   "execution_count": 3,
   "id": "040852bd",
   "metadata": {},
   "outputs": [],
   "source": [
    "import matplotlib.pyplot  as plt\n",
    "import matplotlib.cm      as cm\n",
    "import seaborn            as sns\n",
    "from sklearn.metrics                  import silhouette_samples, silhouette_score\n",
    "from wordcloud                        import WordCloud"
   ]
  },
  {
   "cell_type": "code",
   "execution_count": 4,
   "id": "cde369a4",
   "metadata": {},
   "outputs": [],
   "source": [
    "from sklearn import cluster"
   ]
  },
  {
   "cell_type": "code",
   "execution_count": 5,
   "id": "fe4ce84c",
   "metadata": {},
   "outputs": [],
   "source": [
    "Filipenses_1 = \"Paul and Timotheus, the servants of Jesus Christ, to all the saints in Christ Jesus which are at Philippi, with the bishops and deacons:Grace be to you, and peace, from God our Father, and from the Lord Jesus Christ.I thank my God on every remembrance of you,Always in every prayer of my for you all making request with joy,For your fellowship in the gospel from the first day until now;Being confident of this very thing, that he which has begun a good work in you will perform it until the day of Jesus Christ:Even as it is meet for me to think this of you all, because I have you in my heart; inasmuch as both in my bonds, and in the defense and confirmation of the gospel, you all are partakers of my grace.For God is my record, how greatly I long after you all in the bowels of Jesus Christ.And this I pray, that your love may abound yet more and more in knowledge and in all judgment;That you may approve things that are excellent; that you may be sincere and without offense till the day of Christ.Being filled with the fruits of righteousness, which are by Jesus Christ, to the glory and praise of God.But I would you should understand, brothers, that the things which happened to me have fallen out rather to the furtherance of the gospel;So that my bonds in Christ are manifest in all the palace, and in all other places;And many of the brothers in the Lord, waxing confident by my bonds, are much more bold to speak the word without fear.Some indeed preach Christ even of envy and strife; and some also of good will:The one preach Christ of contention, not sincerely, supposing to add affliction to my bonds:But the other of love, knowing that I am set for the defense of the gospel.What then? notwithstanding, every way, whether in pretense, or in truth, Christ is preached; and I therein do rejoice, yes, and will rejoice.For I know that this shall turn to my salvation through your prayer, and the supply of the Spirit of Jesus Christ,According to my earnest expectation and my hope, that in nothing I shall be ashamed, but that with all boldness, as always, so now also Christ shall be magnified in my body, whether it be by life, or by death.For to me to live is Christ, and to die is gain.But if I live in the flesh, this is the fruit of my labor: yet what I shall choose I know not.For I am in a strait between two, having a desire to depart, and to be with Christ; which is far better:Nevertheless to abide in the flesh is more needful for you.And having this confidence, I know that I shall abide and continue with you all for your furtherance and joy of faith;That your rejoicing may be more abundant in Jesus Christ for me by my coming to you again.Only let your conversation be as it becomes the gospel of Christ: that whether I come and see you, or else be absent, I may hear of your affairs, that you stand fast in one spirit, with one mind striving together for the faith of the gospel;And in nothing terrified by your adversaries: which is to them an evident token of perdition, but to you of salvation, and that of God.For to you it is given in the behalf of Christ, not only to believe on him, but also to suffer for his sake;Having the same conflict which you saw in me, and now hear to be in me.\".lower()"
   ]
  },
  {
   "cell_type": "code",
   "execution_count": 6,
   "id": "6e7308a0",
   "metadata": {},
   "outputs": [],
   "source": [
    "Filipenses_2 = \"If there be therefore any consolation in Christ, if any comfort of love, if any fellowship of the Spirit, if any bowels and mercies,Fulfill you my joy, that you be like minded, having the same love, being of one accord, of one mind.Let nothing be done through strife or vainglory; but in lowliness of mind let each esteem other better than themselves.Look not every man on his own things, but every man also on the things of others.Let this mind be in you, which was also in Christ Jesus:Who, being in the form of God, thought it not robbery to be equal with God:But made himself of no reputation, and took on him the form of a servant, and was made in the likeness of men:And being found in fashion as a man, he humbled himself, and became obedient to death, even the death of the cross.Why God also has highly exalted him, and given him a name which is above every name:That at the name of Jesus every knee should bow, of things in heaven, and things in earth, and things under the earth;And that every tongue should confess that Jesus Christ is Lord, to the glory of God the Father.Why, my beloved, as you have always obeyed, not as in my presence only, but now much more in my absence, work out your own salvation with fear and trembling.For it is God which works in you both to will and to do of his good pleasure.Do all things without murmurings and disputings:That you may be blameless and harmless, the sons of God, without rebuke, in the middle of a crooked and perverse nation, among whom you shine as lights in the world;Holding forth the word of life; that I may rejoice in the day of Christ, that I have not run in vain, neither labored in vain.Yes, and if I be offered on the sacrifice and service of your faith, I joy, and rejoice with you all.For the same cause also do you joy, and rejoice with me.But I trust in the Lord Jesus to send Timotheus shortly to you, that I also may be of good comfort, when I know your state.For I have no man like minded, who will naturally care for your state.For all seek their own, not the things which are Jesus Christ'.But you know the proof of him, that, as a son with the father, he has served with me in the gospel.Him therefore I hope to send presently, so soon as I shall see how it will go with me.But I trust in the Lord that I also myself shall come shortly.Yet I supposed it necessary to send to you Epaphroditus, my brother, and companion in labor, and fellow soldier, but your messenger, and he that ministered to my wants.For he longed after you all, and was full of heaviness, because that you had heard that he had been sick.For indeed he was sick near to death: but God had mercy on him; and not on him only, but on me also, lest I should have sorrow on sorrow.I sent him therefore the more carefully, that, when you see him again, you may rejoice, and that I may be the less sorrowful.Receive him therefore in the Lord with all gladness; and hold such in reputation:Because for the work of Christ he was near to death, not regarding his life, to supply your lack of service toward me.\".lower()"
   ]
  },
  {
   "cell_type": "code",
   "execution_count": 7,
   "id": "2283dc54",
   "metadata": {},
   "outputs": [],
   "source": [
    "Filipenses_3 = \"Finally, my brothers, rejoice in the Lord. To write the same things to you, to me indeed is not grievous, but for you it is safe.Beware of dogs, beware of evil workers, beware of the concision.For we are the circumcision, which worship God in the spirit, and rejoice in Christ Jesus, and have no confidence in the flesh.Though I might also have confidence in the flesh. If any other man thinks that he has whereof he might trust in the flesh, I more:Circumcised the eighth day, of the stock of Israel, of the tribe of Benjamin, an Hebrew of the Hebrews; as touching the law, a Pharisee;Concerning zeal, persecuting the church; touching the righteousness which is in the law, blameless.But what things were gain to me, those I counted loss for Christ.Yes doubtless, and I count all things but loss for the excellency of the knowledge of Christ Jesus my Lord: for whom I have suffered the loss of all things, and do count them but dung, that I may win Christ,And be found in him, not having my own righteousness, which is of the law, but that which is through the faith of Christ, the righteousness which is of God by faith:That I may know him, and the power of his resurrection, and the fellowship of his sufferings, being made conformable to his death;If by any means I might attain to the resurrection of the dead.Not as though I had already attained, either were already perfect: but I follow after, if that I may apprehend that for which also I am apprehended of Christ Jesus.Brothers, I count not myself to have apprehended: but this one thing I do, forgetting those things which are behind, and reaching forth to those things which are before,I press toward the mark for the prize of the high calling of God in Christ Jesus.Let us therefore, as many as be perfect, be thus minded: and if in any thing you be otherwise minded, God shall reveal even this to you.Nevertheless, whereto we have already attained, let us walk by the same rule, let us mind the same thing.Brothers, be followers together of me, and mark them which walk so as you have us for an ensample.(For many walk, of whom I have told you often, and now tell you even weeping, that they are the enemies of the cross of Christ:Whose end is destruction, whose God is their belly, and whose glory is in their shame, who mind earthly things.)For our conversation is in heaven; from where also we look for the Savior, the Lord Jesus Christ:Who shall change our vile body, that it may be fashioned like to his glorious body, according to the working whereby he is able even to subdue all things to himself.\".lower()"
   ]
  },
  {
   "cell_type": "code",
   "execution_count": 8,
   "id": "f397940f",
   "metadata": {},
   "outputs": [],
   "source": [
    "Filipenses_4 = \"Therefore, my brothers dearly beloved and longed for, my joy and crown, so stand fast in the Lord, my dearly beloved.I beseech Euodias, and beseech Syntyche, that they be of the same mind in the Lord.And I entreat you also, true yoke fellow, help those women which labored with me in the gospel, with Clement also, and with other my fellow laborers, whose names are in the book of life.Rejoice in the Lord always: and again I say, Rejoice.Let your moderation be known to all men. The Lord is at hand.Be careful for nothing; but in every thing by prayer and supplication with thanksgiving let your requests be made known to God.And the peace of God, which passes all understanding, shall keep your hearts and minds through Christ Jesus.Finally, brothers, whatever things are true, whatever things are honest, whatever things are just, whatever things are pure, whatever things are lovely, whatever things are of good report; if there be any virtue, and if there be any praise, think on these things.Those things, which you have both learned, and received, and heard, and seen in me, do: and the God of peace shall be with you.But I rejoiced in the Lord greatly, that now at the last your care of me has flourished again; wherein you were also careful, but you lacked opportunity.Not that I speak in respect of want: for I have learned, in whatever state I am, therewith to be content.I know both how to be abased, and I know how to abound: every where and in all things I am instructed both to be full and to be hungry, both to abound and to suffer need.I can do all things through Christ which strengthens me.Notwithstanding you have well done, that you did communicate with my affliction.Now you Philippians know also, that in the beginning of the gospel, when I departed from Macedonia, no church communicated with me as concerning giving and receiving, but you only.For even in Thessalonica you sent once and again to my necessity.Not because I desire a gift: but I desire fruit that may abound to your account.But I have all, and abound: I am full, having received of Epaphroditus the things which were sent from you, an odor of a sweet smell, a sacrifice acceptable, well pleasing to God.But my God shall supply all your need according to his riches in glory by Christ Jesus.Now to God and our Father be glory for ever and ever. Amen.Salute every saint in Christ Jesus. The brothers which are with me greet you.All the saints salute you, chiefly they that are of Caesar' household.The grace of our Lord Jesus Christ be with you all. Amen.\".lower()"
   ]
  },
  {
   "cell_type": "code",
   "execution_count": 27,
   "id": "a4837ae6",
   "metadata": {},
   "outputs": [],
   "source": [
    "tokens = nltk.word_tokenize(Filipenses_4)"
   ]
  },
  {
   "cell_type": "code",
   "execution_count": 28,
   "id": "592b541a",
   "metadata": {},
   "outputs": [],
   "source": [
    "stop_words = set(stopwords.words('english'))"
   ]
  },
  {
   "cell_type": "code",
   "execution_count": 29,
   "id": "04def88d",
   "metadata": {},
   "outputs": [],
   "source": [
    "filtered_sentence1 = [w for w in tokens if not w in stop_words] \n",
    "  \n",
    "filtered_sentence1 = []\n",
    "  \n",
    "for w in tokens: \n",
    "    if w not in stop_words: \n",
    "        filtered_sentence1.append(w)"
   ]
  },
  {
   "cell_type": "code",
   "execution_count": 30,
   "id": "55688970",
   "metadata": {},
   "outputs": [
    {
     "name": "stdout",
     "output_type": "stream",
     "text": [
      "['therefore', ',', 'brothers', 'dearly', 'beloved', 'longed', ',', 'joy', 'crown', ',', 'stand', 'fast', 'lord', ',', 'dearly', 'beloved.i', 'beseech', 'euodias', ',', 'beseech', 'syntyche', ',', 'mind', 'lord.and', 'entreat', 'also', ',', 'true', 'yoke', 'fellow', ',', 'help', 'women', 'labored', 'gospel', ',', 'clement', 'also', ',', 'fellow', 'laborers', ',', 'whose', 'names', 'book', 'life.rejoice', 'lord', 'always', ':', 'say', ',', 'rejoice.let', 'moderation', 'known', 'men', '.', 'lord', 'hand.be', 'careful', 'nothing', ';', 'every', 'thing', 'prayer', 'supplication', 'thanksgiving', 'let', 'requests', 'made', 'known', 'god.and', 'peace', 'god', ',', 'passes', 'understanding', ',', 'shall', 'keep', 'hearts', 'minds', 'christ', 'jesus.finally', ',', 'brothers', ',', 'whatever', 'things', 'true', ',', 'whatever', 'things', 'honest', ',', 'whatever', 'things', ',', 'whatever', 'things', 'pure', ',', 'whatever', 'things', 'lovely', ',', 'whatever', 'things', 'good', 'report', ';', 'virtue', ',', 'praise', ',', 'think', 'things.those', 'things', ',', 'learned', ',', 'received', ',', 'heard', ',', 'seen', ',', ':', 'god', 'peace', 'shall', 'you.but', 'rejoiced', 'lord', 'greatly', ',', 'last', 'care', 'flourished', ';', 'wherein', 'also', 'careful', ',', 'lacked', 'opportunity.not', 'speak', 'respect', 'want', ':', 'learned', ',', 'whatever', 'state', ',', 'therewith', 'content.i', 'know', 'abased', ',', 'know', 'abound', ':', 'every', 'things', 'instructed', 'full', 'hungry', ',', 'abound', 'suffer', 'need.i', 'things', 'christ', 'strengthens', 'me.notwithstanding', 'well', 'done', ',', 'communicate', 'affliction.now', 'philippians', 'know', 'also', ',', 'beginning', 'gospel', ',', 'departed', 'macedonia', ',', 'church', 'communicated', 'concerning', 'giving', 'receiving', ',', 'only.for', 'even', 'thessalonica', 'sent', 'necessity.not', 'desire', 'gift', ':', 'desire', 'fruit', 'may', 'abound', 'account.but', ',', 'abound', ':', 'full', ',', 'received', 'epaphroditus', 'things', 'sent', ',', 'odor', 'sweet', 'smell', ',', 'sacrifice', 'acceptable', ',', 'well', 'pleasing', 'god.but', 'god', 'shall', 'supply', 'need', 'according', 'riches', 'glory', 'christ', 'jesus.now', 'god', 'father', 'glory', 'ever', 'ever', '.', 'amen.salute', 'every', 'saint', 'christ', 'jesus', '.', 'brothers', 'greet', 'you.all', 'saints', 'salute', ',', 'chiefly', 'caesar', \"'\", 'household.the', 'grace', 'lord', 'jesus', 'christ', '.', 'amen', '.']\n"
     ]
    }
   ],
   "source": [
    "print(filtered_sentence1)"
   ]
  },
  {
   "cell_type": "code",
   "execution_count": 31,
   "id": "33aa5be3",
   "metadata": {},
   "outputs": [],
   "source": [
    "data =np.array([[\"Filipenses_1\", \"'paul', 'timotheus', ',', 'servants', 'jesus', 'christ', ',', 'saints', 'christ', 'jesus', 'philippi', ',', 'bishops', 'deacons', ':', 'grace', ',', 'peace', ',', 'god', 'father', ',', 'lord', 'jesus', 'christ.i', 'thank', 'god', 'every', 'remembrance', ',', 'always', 'every', 'prayer', 'making', 'request', 'joy', ',', 'fellowship', 'gospel', 'first', 'day', ';', 'confident', 'thing', ',', 'begun', 'good', 'work', 'perform', 'day', 'jesus', 'christ', ':', 'even', 'meet', 'think', ',', 'heart', ';', 'inasmuch', 'bonds', ',', 'defense', 'confirmation', 'gospel', ',', 'partakers', 'grace.for', 'god', 'record', ',', 'greatly', 'long', 'bowels', 'jesus', 'christ.and', 'pray', ',', 'love', 'may', 'abound', 'yet', 'knowledge', 'judgment', ';', 'may', 'approve', 'things', 'excellent', ';', 'may', 'sincere', 'without', 'offense', 'till', 'day', 'christ.being', 'filled', 'fruits', 'righteousness', ',', 'jesus', 'christ', ',', 'glory', 'praise', 'god.but', 'would', 'understand', ',', 'brothers', ',', 'things', 'happened', 'fallen', 'rather', 'furtherance', 'gospel', ';', 'bonds', 'christ', 'manifest', 'palace', ',', 'places', ';', 'many', 'brothers', 'lord', ',', 'waxing', 'confident', 'bonds', ',', 'much', 'bold', 'speak', 'word', 'without', 'fear.some', 'indeed', 'preach', 'christ', 'even', 'envy', 'strife', ';', 'also', 'good', ':', 'one', 'preach', 'christ', 'contention', ',', 'sincerely', ',', 'supposing', 'add', 'affliction', 'bonds', ':', 'love', ',', 'knowing', 'set', 'defense', 'gospel.what', '?', 'notwithstanding', ',', 'every', 'way', ',', 'whether', 'pretense', ',', 'truth', ',', 'christ', 'preached', ';', 'therein', 'rejoice', ',', 'yes', ',', 'rejoice.for', 'know', 'shall', 'turn', 'salvation', 'prayer', ',', 'supply', 'spirit', 'jesus', 'christ', ',', 'according', 'earnest', 'expectation', 'hope', ',', 'nothing', 'shall', 'ashamed', ',', 'boldness', ',', 'always', ',', 'also', 'christ', 'shall', 'magnified', 'body', ',', 'whether', 'life', ',', 'death.for', 'live', 'christ', ',', 'die', 'gain.but', 'live', 'flesh', ',', 'fruit', 'labor', ':', 'yet', 'shall', 'choose', 'know', 'not.for', 'strait', 'two', ',', 'desire', 'depart', ',', 'christ', ';', 'far', 'better', ':', 'nevertheless', 'abide', 'flesh', 'needful', 'you.and', 'confidence', ',', 'know', 'shall', 'abide', 'continue', 'furtherance', 'joy', 'faith', ';', 'rejoicing', 'may', 'abundant', 'jesus', 'christ', 'coming', 'again.only', 'let', 'conversation', 'becomes', 'gospel', 'christ', ':', 'whether', 'come', 'see', ',', 'else', 'absent', ',', 'may', 'hear', 'affairs', ',', 'stand', 'fast', 'one', 'spirit', ',', 'one', 'mind', 'striving', 'together', 'faith', 'gospel', ';', 'nothing', 'terrified', 'adversaries', ':', 'evident', 'token', 'perdition', ',', 'salvation', ',', 'god.for', 'given', 'behalf', 'christ', ',', 'believe', ',', 'also', 'suffer', 'sake', ';', 'conflict', 'saw', ',', 'hear', '.'\"],\n",
    "               [\"Filipenses_2\", \"'therefore', 'consolation', 'christ', ',', 'comfort', 'love', ',', 'fellowship', 'spirit', ',', 'bowels', 'mercies', ',', 'fulfill', 'joy', ',', 'like', 'minded', ',', 'love', ',', 'one', 'accord', ',', 'one', 'mind.let', 'nothing', 'done', 'strife', 'vainglory', ';', 'lowliness', 'mind', 'let', 'esteem', 'better', 'themselves.look', 'every', 'man', 'things', ',', 'every', 'man', 'also', 'things', 'others.let', 'mind', ',', 'also', 'christ', 'jesus', ':', ',', 'form', 'god', ',', 'thought', 'robbery', 'equal', 'god', ':', 'made', 'reputation', ',', 'took', 'form', 'servant', ',', 'made', 'likeness', 'men', ':', 'found', 'fashion', 'man', ',', 'humbled', ',', 'became', 'obedient', 'death', ',', 'even', 'death', 'cross.why', 'god', 'also', 'highly', 'exalted', ',', 'given', 'name', 'every', 'name', ':', 'name', 'jesus', 'every', 'knee', 'bow', ',', 'things', 'heaven', ',', 'things', 'earth', ',', 'things', 'earth', ';', 'every', 'tongue', 'confess', 'jesus', 'christ', 'lord', ',', 'glory', 'god', 'father.why', ',', 'beloved', ',', 'always', 'obeyed', ',', 'presence', ',', 'much', 'absence', ',', 'work', 'salvation', 'fear', 'trembling.for', 'god', 'works', 'good', 'pleasure.do', 'things', 'without', 'murmurings', 'disputings', ':', 'may', 'blameless', 'harmless', ',', 'sons', 'god', ',', 'without', 'rebuke', ',', 'middle', 'crooked', 'perverse', 'nation', ',', 'among', 'shine', 'lights', 'world', ';', 'holding', 'forth', 'word', 'life', ';', 'may', 'rejoice', 'day', 'christ', ',', 'run', 'vain', ',', 'neither', 'labored', 'vain.yes', ',', 'offered', 'sacrifice', 'service', 'faith', ',', 'joy', ',', 'rejoice', 'all.for', 'cause', 'also', 'joy', ',', 'rejoice', 'me.but', 'trust', 'lord', 'jesus', 'send', 'timotheus', 'shortly', ',', 'also', 'may', 'good', 'comfort', ',', 'know', 'state.for', 'man', 'like', 'minded', ',', 'naturally', 'care', 'state.for', 'seek', ',', 'things', 'jesus', christ'.but, 'know', 'proof', ',', ',', 'son', 'father', ',', 'served', 'gospel.him', 'therefore', 'hope', 'send', 'presently', ',', 'soon', 'shall', 'see', 'go', 'me.but', 'trust', 'lord', 'also', 'shall', 'come', 'shortly.yet', 'supposed', 'necessary', 'send', 'epaphroditus', ',', 'brother', ',', 'companion', 'labor', ',', 'fellow', 'soldier', ',', 'messenger', ',', 'ministered', 'wants.for', 'longed', ',', 'full', 'heaviness', ',', 'heard', 'sick.for', 'indeed', 'sick', 'near', 'death', ':', 'god', 'mercy', ';', ',', 'also', ',', 'lest', 'sorrow', 'sorrow.i', 'sent', 'therefore', 'carefully', ',', ',', 'see', ',', 'may', 'rejoice', ',', 'may', 'less', 'sorrowful.receive', 'therefore', 'lord', 'gladness', ';', 'hold', 'reputation', ':', 'work', 'christ', 'near', 'death', ',', 'regarding', 'life', ',', 'supply', 'lack', 'service', 'toward', '.'\"],\n",
    "               [\"Filipenses_3\", \"'finally', ',', 'brothers', ',', 'rejoice', 'lord', '.', 'write', 'things', ',', 'indeed', 'grievous', ',', 'safe.beware', 'dogs', ',', 'beware', 'evil', 'workers', ',', 'beware', 'concision.for', 'circumcision', ',', 'worship', 'god', 'spirit', ',', 'rejoice', 'christ', 'jesus', ',', 'confidence', 'flesh.though', 'might', 'also', 'confidence', 'flesh', '.', 'man', 'thinks', 'whereof', 'might', 'trust', 'flesh', ',', ':', 'circumcised', 'eighth', 'day', ',', 'stock', 'israel', ',', 'tribe', 'benjamin', ',', 'hebrew', 'hebrews', ';', 'touching', 'law', ',', 'pharisee', ';', 'concerning', 'zeal', ',', 'persecuting', 'church', ';', 'touching', 'righteousness', 'law', ',', 'blameless.but', 'things', 'gain', ',', 'counted', 'loss', 'christ.yes', 'doubtless', ',', 'count', 'things', 'loss', 'excellency', 'knowledge', 'christ', 'jesus', 'lord', ':', 'suffered', 'loss', 'things', ',', 'count', 'dung', ',', 'may', 'win', 'christ', ',', 'found', ',', 'righteousness', ',', 'law', ',', 'faith', 'christ', ',', 'righteousness', 'god', 'faith', ':', 'may', 'know', ',', 'power', 'resurrection', ',', 'fellowship', 'sufferings', ',', 'made', 'conformable', 'death', ';', 'means', 'might', 'attain', 'resurrection', 'dead.not', 'though', 'already', 'attained', ',', 'either', 'already', 'perfect', ':', 'follow', ',', 'may', 'apprehend', 'also', 'apprehended', 'christ', 'jesus.brothers', ',', 'count', 'apprehended', ':', 'one', 'thing', ',', 'forgetting', 'things', 'behind', ',', 'reaching', 'forth', 'things', ',', 'press', 'toward', 'mark', 'prize', 'high', 'calling', 'god', 'christ', 'jesus.let', 'us', 'therefore', ',', 'many', 'perfect', ',', 'thus', 'minded', ':', 'thing', 'otherwise', 'minded', ',', 'god', 'shall', 'reveal', 'even', 'you.nevertheless', ',', 'whereto', 'already', 'attained', ',', 'let', 'us', 'walk', 'rule', ',', 'let', 'us', 'mind', 'thing.brothers', ',', 'followers', 'together', ',', 'mark', 'walk', 'us', 'ensample', '.', '(', 'many', 'walk', ',', 'told', 'often', ',', 'tell', 'even', 'weeping', ',', 'enemies', 'cross', 'christ', ':', 'whose', 'end', 'destruction', ',', 'whose', 'god', 'belly', ',', 'whose', 'glory', 'shame', ',', 'mind', 'earthly', 'things', '.', ')', 'conversation', 'heaven', ';', 'also', 'look', 'savior', ',', 'lord', 'jesus', 'christ', ':', 'shall', 'change', 'vile', 'body', ',', 'may', 'fashioned', 'like', 'glorious', 'body', ',', 'according', 'working', 'whereby', 'able', 'even', 'subdue', 'things', '.'\"],\n",
    "               [\"Filipenses_4\", \"'therefore', ',', 'brothers', 'dearly', 'beloved', 'longed', ',', 'joy', 'crown', ',', 'stand', 'fast', 'lord', ',', 'dearly', 'beloved.i', 'beseech', 'euodias', ',', 'beseech', 'syntyche', ',', 'mind', 'lord.and', 'entreat', 'also', ',', 'true', 'yoke', 'fellow', ',', 'help', 'women', 'labored', 'gospel', ',', 'clement', 'also', ',', 'fellow', 'laborers', ',', 'whose', 'names', 'book', 'life.rejoice', 'lord', 'always', ':', 'say', ',', 'rejoice.let', 'moderation', 'known', 'men', '.', 'lord', 'hand.be', 'careful', 'nothing', ';', 'every', 'thing', 'prayer', 'supplication', 'thanksgiving', 'let', 'requests', 'made', 'known', 'god.and', 'peace', 'god', ',', 'passes', 'understanding', ',', 'shall', 'keep', 'hearts', 'minds', 'christ', 'jesus.finally', ',', 'brothers', ',', 'whatever', 'things', 'true', ',', 'whatever', 'things', 'honest', ',', 'whatever', 'things', ',', 'whatever', 'things', 'pure', ',', 'whatever', 'things', 'lovely', ',', 'whatever', 'things', 'good', 'report', ';', 'virtue', ',', 'praise', ',', 'think', 'things.those', 'things', ',', 'learned', ',', 'received', ',', 'heard', ',', 'seen', ',', ':', 'god', 'peace', 'shall', 'you.but', 'rejoiced', 'lord', 'greatly', ',', 'last', 'care', 'flourished', ';', 'wherein', 'also', 'careful', ',', 'lacked', 'opportunity.not', 'speak', 'respect', 'want', ':', 'learned', ',', 'whatever', 'state', ',', 'therewith', 'content.i', 'know', 'abased', ',', 'know', 'abound', ':', 'every', 'things', 'instructed', 'full', 'hungry', ',', 'abound', 'suffer', 'need.i', 'things', 'christ', 'strengthens', 'me.notwithstanding', 'well', 'done', ',', 'communicate', 'affliction.now', 'philippians', 'know', 'also', ',', 'beginning', 'gospel', ',', 'departed', 'macedonia', ',', 'church', 'communicated', 'concerning', 'giving', 'receiving', ',', 'only.for', 'even', 'thessalonica', 'sent', 'necessity.not', 'desire', 'gift', ':', 'desire', 'fruit', 'may', 'abound', 'account.but', ',', 'abound', ':', 'full', ',', 'received', 'epaphroditus', 'things', 'sent', ',', 'odor', 'sweet', 'smell', ',', 'sacrifice', 'acceptable', ',', 'well', 'pleasing', 'god.but', 'god', 'shall', 'supply', 'need', 'according', 'riches', 'glory', 'christ', 'jesus.now', 'god', 'father', 'glory', 'ever', 'ever', '.', 'amen.salute', 'every', 'saint', 'christ', 'jesus', '.', 'brothers', 'greet', 'you.all', 'saints', 'salute', ',', 'chiefly', 'caesar', ', 'household.the', 'grace', 'lord', 'jesus', 'christ', '.', 'amen', '.'\"]])"
   ]
  },
  {
   "cell_type": "code",
   "execution_count": 33,
   "id": "61f61dec",
   "metadata": {},
   "outputs": [],
   "source": [
    "df = pd.DataFrame(data, index=range(100,104),columns=['Autor', 'Livro'])"
   ]
  },
  {
   "cell_type": "code",
   "execution_count": 34,
   "id": "8265b8c7",
   "metadata": {},
   "outputs": [
    {
     "name": "stdout",
     "output_type": "stream",
     "text": [
      "            Autor                                              Livro\n",
      "100  Filipenses_1  'paul', 'timotheus', ',', 'servants', 'jesus',...\n",
      "101  Filipenses_2  'therefore', 'consolation', 'christ', ',', 'co...\n",
      "102  Filipenses_3  'finally', ',', 'brothers', ',', 'rejoice', 'l...\n",
      "103  Filipenses_4  'therefore', ',', 'brothers', 'dearly', 'belov...\n"
     ]
    }
   ],
   "source": [
    "print(df)"
   ]
  },
  {
   "cell_type": "code",
   "execution_count": null,
   "id": "9893f20b",
   "metadata": {},
   "outputs": [],
   "source": []
  }
 ],
 "metadata": {
  "kernelspec": {
   "display_name": "Python 3 (ipykernel)",
   "language": "python",
   "name": "python3"
  },
  "language_info": {
   "codemirror_mode": {
    "name": "ipython",
    "version": 3
   },
   "file_extension": ".py",
   "mimetype": "text/x-python",
   "name": "python",
   "nbconvert_exporter": "python",
   "pygments_lexer": "ipython3",
   "version": "3.7.2"
  }
 },
 "nbformat": 4,
 "nbformat_minor": 5
}
