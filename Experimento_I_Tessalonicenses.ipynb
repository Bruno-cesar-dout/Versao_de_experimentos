{
 "cells": [
  {
   "cell_type": "code",
   "execution_count": 1,
   "id": "d425d390",
   "metadata": {},
   "outputs": [],
   "source": [
    "import numpy  as np\n",
    "import pandas as pd\n",
    "import json\n",
    "import pandas"
   ]
  },
  {
   "cell_type": "code",
   "execution_count": 2,
   "id": "84883a4a",
   "metadata": {},
   "outputs": [],
   "source": [
    "import nltk\n",
    "import nltk.corpus\n",
    "from sklearn.feature_extraction.text  import TfidfVectorizer\n",
    "from sklearn.metrics                  import silhouette_samples, silhouette_score\n",
    "from sklearn.preprocessing            import normalize\n",
    "from nltk.tokenize                    import word_tokenize\n",
    "import re\n",
    "from unidecode                        import unidecode\n",
    "from nltk.corpus import stopwords"
   ]
  },
  {
   "cell_type": "code",
   "execution_count": 3,
   "id": "2acc048a",
   "metadata": {},
   "outputs": [],
   "source": [
    "import matplotlib.pyplot  as plt\n",
    "import matplotlib.cm      as cm\n",
    "import seaborn            as sns\n",
    "from sklearn.metrics                  import silhouette_samples, silhouette_score\n",
    "from wordcloud                        import WordCloud"
   ]
  },
  {
   "cell_type": "code",
   "execution_count": 4,
   "id": "ede5e509",
   "metadata": {},
   "outputs": [],
   "source": [
    "from sklearn import cluster"
   ]
  },
  {
   "cell_type": "code",
   "execution_count": 5,
   "id": "b417426f",
   "metadata": {},
   "outputs": [],
   "source": [
    "I_Tessalonicenses_1 = \"Paul, and Silvanus, and Timotheus, to the church of the Thessalonians which is in God the Father and in the Lord Jesus Christ: Grace be to you, and peace, from God our Father, and the Lord Jesus Christ.We give thanks to God always for you all, making mention of you in our prayers;Remembering without ceasing your work of faith, and labor of love, and patience of hope in our Lord Jesus Christ, in the sight of God and our Father;Knowing, brothers beloved, your election of God.For our gospel came not to you in word only, but also in power, and in the Holy Ghost, and in much assurance; as you know what manner of men we were among you for your sake.And you became followers of us, and of the Lord, having received the word in much affliction, with joy of the Holy Ghost.So that you were ensamples to all that believe in Macedonia and Achaia.For from you sounded out the word of the Lord not only in Macedonia and Achaia, but also in every place your faith to God-ward is spread abroad; so that we need not to speak any thing.For they themselves show of us what manner of entering in we had to you, and how you turned to God from idols to serve the living and true God;And to wait for his Son from heaven, whom he raised from the dead, even Jesus, which delivered us from the wrath to come.\".lower()"
   ]
  },
  {
   "cell_type": "code",
   "execution_count": 6,
   "id": "70c50af2",
   "metadata": {},
   "outputs": [],
   "source": [
    "I_Tessalonicenses_2 = \"For yourselves, brothers, know our entrance in to you, that it was not in vain:But even after that we had suffered before, and were shamefully entreated, as you know, at Philippi, we were bold in our God to speak to you the gospel of God with much contention.For our exhortation was not of deceit, nor of uncleanness, nor in guile:But as we were allowed of God to be put in trust with the gospel, even so we speak; not as pleasing men, but God, which tries our hearts.For neither at any time used we flattering words, as you know, nor a cloak of covetousness; God is witness:Nor of men sought we glory, neither of you, nor yet of others, when we might have been burdensome, as the apostles of Christ.But we were gentle among you, even as a nurse cherishes her children:So being affectionately desirous of you, we were willing to have imparted to you, not the gospel of God only, but also our own souls, because you were dear to us.For you remember, brothers, our labor and travail: for laboring night and day, because we would not be chargeable to any of you, we preached to you the gospel of God.You are witnesses, and God also, how piously and justly and blamelessly we behaved ourselves among you that believe:As you know how we exhorted and comforted and charged every one of you, as a father does his children,That you would walk worthy of God, who has called you to his kingdom and glory.For this cause also thank we God without ceasing, because, when you received the word of God which you heard of us, you received it not as the word of men, but as it is in truth, the word of God, which effectually works also in you that believe.For you, brothers, became followers of the churches of God which in Judaea are in Christ Jesus: for you also have suffered like things of your own countrymen, even as they have of the Jews:Who both killed the Lord Jesus, and their own prophets, and have persecuted us; and they please not God, and are contrary to all men:Forbidding us to speak to the Gentiles that they might be saved, to fill up their sins always: for the wrath is come on them to the uttermost.But we, brothers, being taken from you for a short time in presence, not in heart, endeavored the more abundantly to see your face with great desire.Why we would have come to you, even I Paul, once and again; but Satan hindered us.For what is our hope, or joy, or crown of rejoicing? Are not even you in the presence of our Lord Jesus Christ at his coming?For you are our glory and joy.\".lower()"
   ]
  },
  {
   "cell_type": "code",
   "execution_count": 7,
   "id": "fe9c2ca0",
   "metadata": {},
   "outputs": [],
   "source": [
    "I_Tessalonicenses_3 = \"Why when we could no longer forbear, we thought it good to be left at Athens alone;And sent Timotheus, our brother, and minister of God, and our fellow laborer in the gospel of Christ, to establish you, and to comfort you concerning your faith:That no man should be moved by these afflictions: for yourselves know that we are appointed thereunto.For truly, when we were with you, we told you before that we should suffer tribulation; even as it came to pass, and you know.For this cause, when I could no longer forbear, I sent to know your faith, lest by some means the tempter have tempted you, and our labor be in vain.But now when Timotheus came from you to us, and brought us good tidings of your faith and charity, and that you have good remembrance of us always, desiring greatly to see us, as we also to see you:Therefore, brothers, we were comforted over you in all our affliction and distress by your faith:For now we live, if you stand fast in the Lord.For what thanks can we render to God again for you, for all the joy with which we joy for your sakes before our God;Night and day praying exceedingly that we might see your face, and might perfect that which is lacking in your faith?Now God himself and our Father, and our Lord Jesus Christ, direct our way to you.And the Lord make you to increase and abound in love one toward another, and toward all men, even as we do toward you:To the end he may establish your hearts blameless in holiness before God, even our Father, at the coming of our Lord Jesus Christ with all his saints.\".lower()"
   ]
  },
  {
   "cell_type": "code",
   "execution_count": 8,
   "id": "e7a98aae",
   "metadata": {},
   "outputs": [],
   "source": [
    "I_Tessalonicenses_4 = \"Furthermore then we beseech you, brothers, and exhort you by the Lord Jesus, that as you have received of us how you ought to walk and to please God, so you would abound more and more.For you know what commandments we gave you by the Lord Jesus.For this is the will of God, even your sanctification, that you should abstain from fornication:That every one of you should know how to possess his vessel in sanctification and honor;Not in the lust of concupiscence, even as the Gentiles which know not God:That no man go beyond and defraud his brother in any matter: because that the Lord is the avenger of all such, as we also have forewarned you and testified.For God has not called us to uncleanness, but to holiness.He therefore that despises, despises not man, but God, who has also given to us his holy Spirit.But as touching brotherly love you need not that I write to you: for you yourselves are taught of God to love one another.And indeed you do it toward all the brothers which are in all Macedonia: but we beseech you, brothers, that you increase more and more;And that you study to be quiet, and to do your own business, and to work with your own hands, as we commanded you;That you may walk honestly toward them that are without, and that you may have lack of nothing.But I would not have you to be ignorant, brothers, concerning them which are asleep, that you sorrow not, even as others which have no hope.For if we believe that Jesus died and rose again, even so them also which sleep in Jesus will God bring with him.For this we say to you by the word of the Lord, that we which are alive and remain to the coming of the Lord shall not prevent them which are asleep.For the Lord himself shall descend from heaven with a shout, with the voice of the archangel, and with the trump of God: and the dead in Christ shall rise first:Then we which are alive and remain shall be caught up together with them in the clouds, to meet the Lord in the air: and so shall we ever be with the Lord.Why comfort one another with these words.\".lower()"
   ]
  },
  {
   "cell_type": "code",
   "execution_count": 9,
   "id": "5aacb1f2",
   "metadata": {},
   "outputs": [],
   "source": [
    "I_Tessalonicenses_5 = \"But of the times and the seasons, brothers, you have no need that I write to you.For yourselves know perfectly that the day of the Lord so comes as a thief in the night.For when they shall say, Peace and safety; then sudden destruction comes on them, as travail on a woman with child; and they shall not escape.But you, brothers, are not in darkness, that that day should overtake you as a thief.You are all the children of light, and the children of the day: we are not of the night, nor of darkness.Therefore let us not sleep, as do others; but let us watch and be sober.For they that sleep sleep in the night; and they that be drunken are drunken in the night.But let us, who are of the day, be sober, putting on the breastplate of faith and love; and for an helmet, the hope of salvation.For God has not appointed us to wrath, but to obtain salvation by our Lord Jesus Christ,Who died for us, that, whether we wake or sleep, we should live together with him.Why comfort yourselves together, and edify one another, even as also you do.And we beseech you, brothers, to know them which labor among you, and are over you in the Lord, and admonish you;And to esteem them very highly in love for their work' sake. And be at peace among yourselves.Now we exhort you, brothers, warn them that are unruly, comfort the feebleminded, support the weak, be patient toward all men.See that none render evil for evil to any man; but ever follow that which is good, both among yourselves, and to all men.Rejoice ever more.Pray without ceasing.In every thing give thanks: for this is the will of God in Christ Jesus concerning you.Quench not the Spirit.Despise not prophesyings.Prove all things; hold fast that which is good.Abstain from all appearance of evil.And the very God of peace sanctify you wholly; and I pray God your whole spirit and soul and body be preserved blameless to the coming of our Lord Jesus Christ.Faithful is he that calls you, who also will do it.Brothers, pray for us.Greet all the brothers with an holy kiss.I charge you by the Lord that this letter be read to all the holy brothers.The grace of our Lord Jesus Christ be with you. Amen.\".lower()"
   ]
  },
  {
   "cell_type": "code",
   "execution_count": 37,
   "id": "575bf92f",
   "metadata": {},
   "outputs": [],
   "source": [
    "tokens = nltk.word_tokenize(I_Tessalonicenses_5)"
   ]
  },
  {
   "cell_type": "code",
   "execution_count": 38,
   "id": "270f88bc",
   "metadata": {},
   "outputs": [],
   "source": [
    "stop_words = set(stopwords.words('english'))"
   ]
  },
  {
   "cell_type": "code",
   "execution_count": 39,
   "id": "38e72bc7",
   "metadata": {},
   "outputs": [],
   "source": [
    "filtered_sentence1 = [w for w in tokens if not w in stop_words] \n",
    "  \n",
    "filtered_sentence1 = []\n",
    "  \n",
    "for w in tokens: \n",
    "    if w not in stop_words: \n",
    "        filtered_sentence1.append(w)"
   ]
  },
  {
   "cell_type": "code",
   "execution_count": 40,
   "id": "43fffe72",
   "metadata": {},
   "outputs": [
    {
     "name": "stdout",
     "output_type": "stream",
     "text": [
      "['times', 'seasons', ',', 'brothers', ',', 'need', 'write', 'you.for', 'know', 'perfectly', 'day', 'lord', 'comes', 'thief', 'night.for', 'shall', 'say', ',', 'peace', 'safety', ';', 'sudden', 'destruction', 'comes', ',', 'travail', 'woman', 'child', ';', 'shall', 'escape.but', ',', 'brothers', ',', 'darkness', ',', 'day', 'overtake', 'thief.you', 'children', 'light', ',', 'children', 'day', ':', 'night', ',', 'darkness.therefore', 'let', 'us', 'sleep', ',', 'others', ';', 'let', 'us', 'watch', 'sober.for', 'sleep', 'sleep', 'night', ';', 'drunken', 'drunken', 'night.but', 'let', 'us', ',', 'day', ',', 'sober', ',', 'putting', 'breastplate', 'faith', 'love', ';', 'helmet', ',', 'hope', 'salvation.for', 'god', 'appointed', 'us', 'wrath', ',', 'obtain', 'salvation', 'lord', 'jesus', 'christ', ',', 'died', 'us', ',', ',', 'whether', 'wake', 'sleep', ',', 'live', 'together', 'him.why', 'comfort', 'together', ',', 'edify', 'one', 'another', ',', 'even', 'also', 'do.and', 'beseech', ',', 'brothers', ',', 'know', 'labor', 'among', ',', 'lord', ',', 'admonish', ';', 'esteem', 'highly', 'love', 'work', \"'\", 'sake', '.', 'peace', 'among', 'yourselves.now', 'exhort', ',', 'brothers', ',', 'warn', 'unruly', ',', 'comfort', 'feebleminded', ',', 'support', 'weak', ',', 'patient', 'toward', 'men.see', 'none', 'render', 'evil', 'evil', 'man', ';', 'ever', 'follow', 'good', ',', 'among', ',', 'men.rejoice', 'ever', 'more.pray', 'without', 'ceasing.in', 'every', 'thing', 'give', 'thanks', ':', 'god', 'christ', 'jesus', 'concerning', 'you.quench', 'spirit.despise', 'prophesyings.prove', 'things', ';', 'hold', 'fast', 'good.abstain', 'appearance', 'evil.and', 'god', 'peace', 'sanctify', 'wholly', ';', 'pray', 'god', 'whole', 'spirit', 'soul', 'body', 'preserved', 'blameless', 'coming', 'lord', 'jesus', 'christ.faithful', 'calls', ',', 'also', 'it.brothers', ',', 'pray', 'us.greet', 'brothers', 'holy', 'kiss.i', 'charge', 'lord', 'letter', 'read', 'holy', 'brothers.the', 'grace', 'lord', 'jesus', 'christ', '.', 'amen', '.']\n"
     ]
    }
   ],
   "source": [
    "print(filtered_sentence1)"
   ]
  },
  {
   "cell_type": "code",
   "execution_count": 41,
   "id": "468f6d13",
   "metadata": {},
   "outputs": [],
   "source": [
    "data =np.array([[\"I_Tessalonicenses_1\", \"'paul', ',', 'silvanus', ',', 'timotheus', ',', 'church', 'thessalonians', 'god', 'father', 'lord', 'jesus', 'christ', ':', 'grace', ',', 'peace', ',', 'god', 'father', ',', 'lord', 'jesus', 'christ.we', 'give', 'thanks', 'god', 'always', ',', 'making', 'mention', 'prayers', ';', 'remembering', 'without', 'ceasing', 'work', 'faith', ',', 'labor', 'love', ',', 'patience', 'hope', 'lord', 'jesus', 'christ', ',', 'sight', 'god', 'father', ';', 'knowing', ',', 'brothers', 'beloved', ',', 'election', 'god.for', 'gospel', 'came', 'word', ',', 'also', 'power', ',', 'holy', 'ghost', ',', 'much', 'assurance', ';', 'know', 'manner', 'men', 'among', 'sake.and', 'became', 'followers', 'us', ',', 'lord', ',', 'received', 'word', 'much', 'affliction', ',', 'joy', 'holy', 'ghost.so', 'ensamples', 'believe', 'macedonia', 'achaia.for', 'sounded', 'word', 'lord', 'macedonia', 'achaia', ',', 'also', 'every', 'place', 'faith', 'god-ward', 'spread', 'abroad', ';', 'need', 'speak', 'thing.for', 'show', 'us', 'manner', 'entering', ',', 'turned', 'god', 'idols', 'serve', 'living', 'true', 'god', ';', 'wait', 'son', 'heaven', ',', 'raised', 'dead', ',', 'even', 'jesus', ',', 'delivered', 'us', 'wrath', 'come', '.'\"],\n",
    "               [\"I_Tessalonincenses_2\", \"',', 'brothers', ',', 'know', 'entrance', ',', 'vain', ':', 'even', 'suffered', ',', 'shamefully', 'entreated', ',', 'know', ',', 'philippi', ',', 'bold', 'god', 'speak', 'gospel', 'god', 'much', 'contention.for', 'exhortation', 'deceit', ',', 'uncleanness', ',', 'guile', ':', 'allowed', 'god', 'put', 'trust', 'gospel', ',', 'even', 'speak', ';', 'pleasing', 'men', ',', 'god', ',', 'tries', 'hearts.for', 'neither', 'time', 'used', 'flattering', 'words', ',', 'know', ',', 'cloak', 'covetousness', ';', 'god', 'witness', ':', 'men', 'sought', 'glory', ',', 'neither', ',', 'yet', 'others', ',', 'might', 'burdensome', ',', 'apostles', 'christ.but', 'gentle', 'among', ',', 'even', 'nurse', 'cherishes', 'children', ':', 'affectionately', 'desirous', ',', 'willing', 'imparted', ',', 'gospel', 'god', ',', 'also', 'souls', ',', 'dear', 'us.for', 'remember', ',', 'brothers', ',', 'labor', 'travail', ':', 'laboring', 'night', 'day', ',', 'would', 'chargeable', ',', 'preached', 'gospel', 'god.you', 'witnesses', ',', 'god', 'also', ',', 'piously', 'justly', 'blamelessly', 'behaved', 'among', 'believe', ':', 'know', 'exhorted', 'comforted', 'charged', 'every', 'one', ',', 'father', 'children', ',', 'would', 'walk', 'worthy', 'god', ',', 'called', 'kingdom', 'glory.for', 'cause', 'also', 'thank', 'god', 'without', 'ceasing', ',', ',', 'received', 'word', 'god', 'heard', 'us', ',', 'received', 'word', 'men', ',', 'truth', ',', 'word', 'god', ',', 'effectually', 'works', 'also', 'believe.for', ',', 'brothers', ',', 'became', 'followers', 'churches', 'god', 'judaea', 'christ', 'jesus', ':', 'also', 'suffered', 'like', 'things', 'countrymen', ',', 'even', 'jews', ':', 'killed', 'lord', 'jesus', ',', 'prophets', ',', 'persecuted', 'us', ';', 'please', 'god', ',', 'contrary', 'men', ':', 'forbidding', 'us', 'speak', 'gentiles', 'might', 'saved', ',', 'fill', 'sins', 'always', ':', 'wrath', 'come', 'uttermost.but', ',', 'brothers', ',', 'taken', 'short', 'time', 'presence', ',', 'heart', ',', 'endeavored', 'abundantly', 'see', 'face', 'great', 'desire.why', 'would', 'come', ',', 'even', 'paul', ',', ';', 'satan', 'hindered', 'us.for', 'hope', ',', 'joy', ',', 'crown', 'rejoicing', '?', 'even', 'presence', 'lord', 'jesus', 'christ', 'coming', '?', 'glory', 'joy', '.'\"],\n",
    "               [\"I_Tessalonincenses_3\", \"'could', 'longer', 'forbear', ',', 'thought', 'good', 'left', 'athens', 'alone', ';', 'sent', 'timotheus', ',', 'brother', ',', 'minister', 'god', ',', 'fellow', 'laborer', 'gospel', 'christ', ',', 'establish', ',', 'comfort', 'concerning', 'faith', ':', 'man', 'moved', 'afflictions', ':', 'know', 'appointed', 'thereunto.for', 'truly', ',', ',', 'told', 'suffer', 'tribulation', ';', 'even', 'came', 'pass', ',', 'know.for', 'cause', ',', 'could', 'longer', 'forbear', ',', 'sent', 'know', 'faith', ',', 'lest', 'means', 'tempter', 'tempted', ',', 'labor', 'vain.but', 'timotheus', 'came', 'us', ',', 'brought', 'us', 'good', 'tidings', 'faith', 'charity', ',', 'good', 'remembrance', 'us', 'always', ',', 'desiring', 'greatly', 'see', 'us', ',', 'also', 'see', ':', 'therefore', ',', 'brothers', ',', 'comforted', 'affliction', 'distress', 'faith', ':', 'live', ',', 'stand', 'fast', 'lord.for', 'thanks', 'render', 'god', ',', 'joy', 'joy', 'sakes', 'god', ';', 'night', 'day', 'praying', 'exceedingly', 'might', 'see', 'face', ',', 'might', 'perfect', 'lacking', 'faith', '?', 'god', 'father', ',', 'lord', 'jesus', 'christ', ',', 'direct', 'way', 'you.and', 'lord', 'make', 'increase', 'abound', 'love', 'one', 'toward', 'another', ',', 'toward', 'men', ',', 'even', 'toward', ':', 'end', 'may', 'establish', 'hearts', 'blameless', 'holiness', 'god', ',', 'even', 'father', ',', 'coming', 'lord', 'jesus', 'christ', 'saints', '.'\"],\n",
    "               [\"I_Tessalonincenses_4\", \"'furthermore', 'beseech', ',', 'brothers', ',', 'exhort', 'lord', 'jesus', ',', 'received', 'us', 'ought', 'walk', 'please', 'god', ',', 'would', 'abound', 'more.for', 'know', 'commandments', 'gave', 'lord', 'jesus.for', 'god', ',', 'even', 'sanctification', ',', 'abstain', 'fornication', ':', 'every', 'one', 'know', 'possess', 'vessel', 'sanctification', 'honor', ';', 'lust', 'concupiscence', ',', 'even', 'gentiles', 'know', 'god', ':', 'man', 'go', 'beyond', 'defraud', 'brother', 'matter', ':', 'lord', 'avenger', ',', 'also', 'forewarned', 'testified.for', 'god', 'called', 'us', 'uncleanness', ',', 'holiness.he', 'therefore', 'despises', ',', 'despises', 'man', ',', 'god', ',', 'also', 'given', 'us', 'holy', 'spirit.but', 'touching', 'brotherly', 'love', 'need', 'write', ':', 'taught', 'god', 'love', 'one', 'another.and', 'indeed', 'toward', 'brothers', 'macedonia', ':', 'beseech', ',', 'brothers', ',', 'increase', ';', 'study', 'quiet', ',', 'business', ',', 'work', 'hands', ',', 'commanded', ';', 'may', 'walk', 'honestly', 'toward', 'without', ',', 'may', 'lack', 'nothing.but', 'would', 'ignorant', ',', 'brothers', ',', 'concerning', 'asleep', ',', 'sorrow', ',', 'even', 'others', 'hope.for', 'believe', 'jesus', 'died', 'rose', ',', 'even', 'also', 'sleep', 'jesus', 'god', 'bring', 'him.for', 'say', 'word', 'lord', ',', 'alive', 'remain', 'coming', 'lord', 'shall', 'prevent', 'asleep.for', 'lord', 'shall', 'descend', 'heaven', 'shout', ',', 'voice', 'archangel', ',', 'trump', 'god', ':', 'dead', 'christ', 'shall', 'rise', 'first', ':', 'alive', 'remain', 'shall', 'caught', 'together', 'clouds', ',', 'meet', 'lord', 'air', ':', 'shall', 'ever', 'lord.why', 'comfort', 'one', 'another', 'words', '.'\"],\n",
    "               [\"I_Tessalonincenses_5\", \"'times', 'seasons', ',', 'brothers', ',', 'need', 'write', 'you.for', 'know', 'perfectly', 'day', 'lord', 'comes', 'thief', 'night.for', 'shall', 'say', ',', 'peace', 'safety', ';', 'sudden', 'destruction', 'comes', ',', 'travail', 'woman', 'child', ';', 'shall', 'escape.but', ',', 'brothers', ',', 'darkness', ',', 'day', 'overtake', 'thief.you', 'children', 'light', ',', 'children', 'day', ':', 'night', ',', 'darkness.therefore', 'let', 'us', 'sleep', ',', 'others', ';', 'let', 'us', 'watch', 'sober.for', 'sleep', 'sleep', 'night', ';', 'drunken', 'drunken', 'night.but', 'let', 'us', ',', 'day', ',', 'sober', ',', 'putting', 'breastplate', 'faith', 'love', ';', 'helmet', ',', 'hope', 'salvation.for', 'god', 'appointed', 'us', 'wrath', ',', 'obtain', 'salvation', 'lord', 'jesus', 'christ', ',', 'died', 'us', ',', ',', 'whether', 'wake', 'sleep', ',', 'live', 'together', 'him.why', 'comfort', 'together', ',', 'edify', 'one', 'another', ',', 'even', 'also', 'do.and', 'beseech', ',', 'brothers', ',', 'know', 'labor', 'among', ',', 'lord', ',', 'admonish', ';', 'esteem', 'highly', 'love', 'work', ', 'sake', '.', 'peace', 'among', 'yourselves.now', 'exhort', ',', 'brothers', ',', 'warn', 'unruly', ',', 'comfort', 'feebleminded', ',', 'support', 'weak', ',', 'patient', 'toward', 'men.see', 'none', 'render', 'evil', 'evil', 'man', ';', 'ever', 'follow', 'good', ',', 'among', ',', 'men.rejoice', 'ever', 'more.pray', 'without', 'ceasing.in', 'every', 'thing', 'give', 'thanks', ':', 'god', 'christ', 'jesus', 'concerning', 'you.quench', 'spirit.despise', 'prophesyings.prove', 'things', ';', 'hold', 'fast', 'good.abstain', 'appearance', 'evil.and', 'god', 'peace', 'sanctify', 'wholly', ';', 'pray', 'god', 'whole', 'spirit', 'soul', 'body', 'preserved', 'blameless', 'coming', 'lord', 'jesus', 'christ.faithful', 'calls', ',', 'also', 'it.brothers', ',', 'pray', 'us.greet', 'brothers', 'holy', 'kiss.i', 'charge', 'lord', 'letter', 'read', 'holy', 'brothers.the', 'grace', 'lord', 'jesus', 'christ', '.', 'amen', '.'\"]])"
   ]
  },
  {
   "cell_type": "code",
   "execution_count": 42,
   "id": "dfb33ffd",
   "metadata": {},
   "outputs": [],
   "source": [
    "df = pd.DataFrame(data, index=range(100,105),columns=['Autor', 'Livro'])"
   ]
  },
  {
   "cell_type": "code",
   "execution_count": 43,
   "id": "cfb21dfe",
   "metadata": {},
   "outputs": [
    {
     "name": "stdout",
     "output_type": "stream",
     "text": [
      "                    Autor                                              Livro\n",
      "100   I_Tessalonicenses_1  'paul', ',', 'silvanus', ',', 'timotheus', ','...\n",
      "101  I_Tessalonincenses_2  ',', 'brothers', ',', 'know', 'entrance', ',',...\n",
      "102  I_Tessalonincenses_3  'could', 'longer', 'forbear', ',', 'thought', ...\n",
      "103  I_Tessalonincenses_4  'furthermore', 'beseech', ',', 'brothers', ','...\n",
      "104  I_Tessalonincenses_5  'times', 'seasons', ',', 'brothers', ',', 'nee...\n"
     ]
    }
   ],
   "source": [
    "print(df)"
   ]
  },
  {
   "cell_type": "code",
   "execution_count": null,
   "id": "b7991ec6",
   "metadata": {},
   "outputs": [],
   "source": []
  }
 ],
 "metadata": {
  "kernelspec": {
   "display_name": "Python 3 (ipykernel)",
   "language": "python",
   "name": "python3"
  },
  "language_info": {
   "codemirror_mode": {
    "name": "ipython",
    "version": 3
   },
   "file_extension": ".py",
   "mimetype": "text/x-python",
   "name": "python",
   "nbconvert_exporter": "python",
   "pygments_lexer": "ipython3",
   "version": "3.7.2"
  }
 },
 "nbformat": 4,
 "nbformat_minor": 5
}
