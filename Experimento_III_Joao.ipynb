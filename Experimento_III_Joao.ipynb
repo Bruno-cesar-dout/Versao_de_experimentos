{
 "cells": [
  {
   "cell_type": "code",
   "execution_count": 1,
   "id": "a9399f60",
   "metadata": {},
   "outputs": [],
   "source": [
    "import numpy  as np\n",
    "import pandas as pd\n",
    "import json\n",
    "import pandas"
   ]
  },
  {
   "cell_type": "code",
   "execution_count": 2,
   "id": "295ac6d2",
   "metadata": {},
   "outputs": [],
   "source": [
    "import nltk\n",
    "import nltk.corpus\n",
    "from sklearn.feature_extraction.text  import TfidfVectorizer\n",
    "from sklearn.metrics                  import silhouette_samples, silhouette_score\n",
    "from sklearn.preprocessing            import normalize\n",
    "from nltk.tokenize                    import word_tokenize\n",
    "import re\n",
    "from unidecode                        import unidecode\n",
    "from nltk.corpus import stopwords"
   ]
  },
  {
   "cell_type": "code",
   "execution_count": 3,
   "id": "d72439bb",
   "metadata": {},
   "outputs": [],
   "source": [
    "import matplotlib.pyplot  as plt\n",
    "import matplotlib.cm      as cm\n",
    "import seaborn            as sns\n",
    "from sklearn.metrics                  import silhouette_samples, silhouette_score\n",
    "from wordcloud                        import WordCloud"
   ]
  },
  {
   "cell_type": "code",
   "execution_count": 4,
   "id": "bd945852",
   "metadata": {},
   "outputs": [],
   "source": [
    "from sklearn import cluster"
   ]
  },
  {
   "cell_type": "code",
   "execution_count": 5,
   "id": "9647d3a5",
   "metadata": {},
   "outputs": [],
   "source": [
    "III_João_1 = \"The elder to the well beloved Gaius, whom I love in the truth.Beloved, I wish above all things that you may prosper and be in health, even as your soul prospers.For I rejoiced greatly, when the brothers came and testified of the truth that is in you, even as you walk in the truth.I have no greater joy than to hear that my children walk in truth.Beloved, you do faithfully whatever you do to the brothers, and to strangers;Which have borne witness of your charity before the church: whom if you bring forward on their journey after a godly sort, you shall do well:Because that for his name' sake they went forth, taking nothing of the Gentiles.We therefore ought to receive such, that we might be fellow helpers to the truth.I wrote to the church: but Diotrephes, who loves to have the preeminence among them, receives us not.Why, if I come, I will remember his deeds which he does, prating against us with malicious words: and not content therewith, neither does he himself receive the brothers, and forbids them that would, and casts them out of the church.Beloved, follow not that which is evil, but that which is good. He that does good is of God: but he that does evil has not seen God.Demetrius has good report of all men, and of the truth itself: yes, and we also bear record; and you know that our record is true.I had many things to write, but I will not with ink and pen write to you:But I trust I shall shortly see you, and we shall speak face to face. Peace be to you. Our friends salute you. Greet the friends by name.\".lower()"
   ]
  },
  {
   "cell_type": "code",
   "execution_count": 7,
   "id": "8357f885",
   "metadata": {},
   "outputs": [],
   "source": [
    "tokens = nltk.word_tokenize(III_João_1)"
   ]
  },
  {
   "cell_type": "code",
   "execution_count": 8,
   "id": "2d043e13",
   "metadata": {},
   "outputs": [],
   "source": [
    "stop_words = set(stopwords.words('english'))"
   ]
  },
  {
   "cell_type": "code",
   "execution_count": 9,
   "id": "631611a0",
   "metadata": {},
   "outputs": [],
   "source": [
    "filtered_sentence1 = [w for w in tokens if not w in stop_words] \n",
    "  \n",
    "filtered_sentence1 = []\n",
    "  \n",
    "for w in tokens: \n",
    "    if w not in stop_words: \n",
    "        filtered_sentence1.append(w)"
   ]
  },
  {
   "cell_type": "code",
   "execution_count": 10,
   "id": "255004c0",
   "metadata": {},
   "outputs": [
    {
     "name": "stdout",
     "output_type": "stream",
     "text": [
      "['elder', 'well', 'beloved', 'gaius', ',', 'love', 'truth.beloved', ',', 'wish', 'things', 'may', 'prosper', 'health', ',', 'even', 'soul', 'prospers.for', 'rejoiced', 'greatly', ',', 'brothers', 'came', 'testified', 'truth', ',', 'even', 'walk', 'truth.i', 'greater', 'joy', 'hear', 'children', 'walk', 'truth.beloved', ',', 'faithfully', 'whatever', 'brothers', ',', 'strangers', ';', 'borne', 'witness', 'charity', 'church', ':', 'bring', 'forward', 'journey', 'godly', 'sort', ',', 'shall', 'well', ':', 'name', \"'\", 'sake', 'went', 'forth', ',', 'taking', 'nothing', 'gentiles.we', 'therefore', 'ought', 'receive', ',', 'might', 'fellow', 'helpers', 'truth.i', 'wrote', 'church', ':', 'diotrephes', ',', 'loves', 'preeminence', 'among', ',', 'receives', 'us', 'not.why', ',', 'come', ',', 'remember', 'deeds', ',', 'prating', 'us', 'malicious', 'words', ':', 'content', 'therewith', ',', 'neither', 'receive', 'brothers', ',', 'forbids', 'would', ',', 'casts', 'church.beloved', ',', 'follow', 'evil', ',', 'good', '.', 'good', 'god', ':', 'evil', 'seen', 'god.demetrius', 'good', 'report', 'men', ',', 'truth', ':', 'yes', ',', 'also', 'bear', 'record', ';', 'know', 'record', 'true.i', 'many', 'things', 'write', ',', 'ink', 'pen', 'write', ':', 'trust', 'shall', 'shortly', 'see', ',', 'shall', 'speak', 'face', 'face', '.', 'peace', '.', 'friends', 'salute', '.', 'greet', 'friends', 'name', '.']\n"
     ]
    }
   ],
   "source": [
    "print(filtered_sentence1)"
   ]
  },
  {
   "cell_type": "code",
   "execution_count": 11,
   "id": "7c60a117",
   "metadata": {},
   "outputs": [],
   "source": [
    "data =np.array([[\"III_João\", \"'elder', 'well', 'beloved', 'gaius', ',', 'love', 'truth.beloved', ',', 'wish', 'things', 'may', 'prosper', 'health', ',', 'even', 'soul', 'prospers.for', 'rejoiced', 'greatly', ',', 'brothers', 'came', 'testified', 'truth', ',', 'even', 'walk', 'truth.i', 'greater', 'joy', 'hear', 'children', 'walk', 'truth.beloved', ',', 'faithfully', 'whatever', 'brothers', ',', 'strangers', ';', 'borne', 'witness', 'charity', 'church', ':', 'bring', 'forward', 'journey', 'godly', 'sort', ',', 'shall', 'well', ':', 'name', ', 'sake', 'went', 'forth', ',', 'taking', 'nothing', 'gentiles.we', 'therefore', 'ought', 'receive', ',', 'might', 'fellow', 'helpers', 'truth.i', 'wrote', 'church', ':', 'diotrephes', ',', 'loves', 'preeminence', 'among', ',', 'receives', 'us', 'not.why', ',', 'come', ',', 'remember', 'deeds', ',', 'prating', 'us', 'malicious', 'words', ':', 'content', 'therewith', ',', 'neither', 'receive', 'brothers', ',', 'forbids', 'would', ',', 'casts', 'church.beloved', ',', 'follow', 'evil', ',', 'good', '.', 'good', 'god', ':', 'evil', 'seen', 'god.demetrius', 'good', 'report', 'men', ',', 'truth', ':', 'yes', ',', 'also', 'bear', 'record', ';', 'know', 'record', 'true.i', 'many', 'things', 'write', ',', 'ink', 'pen', 'write', ':', 'trust', 'shall', 'shortly', 'see', ',', 'shall', 'speak', 'face', 'face', '.', 'peace', '.', 'friends', 'salute', '.', 'greet', 'friends', 'name', '.'\"]])"
   ]
  },
  {
   "cell_type": "code",
   "execution_count": 13,
   "id": "c0910625",
   "metadata": {},
   "outputs": [],
   "source": [
    "df = pd.DataFrame(data, index=range(100,101),columns=['Autor', 'Livro'])"
   ]
  },
  {
   "cell_type": "code",
   "execution_count": 14,
   "id": "b6a8bc9e",
   "metadata": {},
   "outputs": [
    {
     "name": "stdout",
     "output_type": "stream",
     "text": [
      "        Autor                                              Livro\n",
      "100  III_João  'elder', 'well', 'beloved', 'gaius', ',', 'lov...\n"
     ]
    }
   ],
   "source": [
    "print(df)"
   ]
  },
  {
   "cell_type": "code",
   "execution_count": null,
   "id": "8e6f9885",
   "metadata": {},
   "outputs": [],
   "source": []
  }
 ],
 "metadata": {
  "kernelspec": {
   "display_name": "Python 3 (ipykernel)",
   "language": "python",
   "name": "python3"
  },
  "language_info": {
   "codemirror_mode": {
    "name": "ipython",
    "version": 3
   },
   "file_extension": ".py",
   "mimetype": "text/x-python",
   "name": "python",
   "nbconvert_exporter": "python",
   "pygments_lexer": "ipython3",
   "version": "3.7.2"
  }
 },
 "nbformat": 4,
 "nbformat_minor": 5
}
