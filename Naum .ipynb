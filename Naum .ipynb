{
 "cells": [
  {
   "cell_type": "code",
   "execution_count": 1,
   "metadata": {},
   "outputs": [],
   "source": [
    "import numpy  as np\n",
    "import pandas as pd\n",
    "import json\n",
    "import pandas"
   ]
  },
  {
   "cell_type": "code",
   "execution_count": 2,
   "metadata": {},
   "outputs": [],
   "source": [
    "import nltk\n",
    "import nltk.corpus\n",
    "from sklearn.feature_extraction.text  import TfidfVectorizer\n",
    "from sklearn.metrics                  import silhouette_samples, silhouette_score\n",
    "from sklearn.preprocessing            import normalize\n",
    "from nltk.tokenize                    import word_tokenize\n",
    "import re\n",
    "from unidecode                        import unidecode\n",
    "from nltk.corpus import stopwords"
   ]
  },
  {
   "cell_type": "code",
   "execution_count": 3,
   "metadata": {},
   "outputs": [],
   "source": [
    "import matplotlib.pyplot  as plt\n",
    "import matplotlib.cm      as cm\n",
    "import seaborn            as sns\n",
    "from sklearn.metrics                  import silhouette_samples, silhouette_score\n",
    "from wordcloud                        import WordCloud"
   ]
  },
  {
   "cell_type": "code",
   "execution_count": 4,
   "metadata": {},
   "outputs": [],
   "source": [
    "from sklearn import cluster"
   ]
  },
  {
   "cell_type": "code",
   "execution_count": 5,
   "metadata": {},
   "outputs": [],
   "source": [
    "Naum_1 = \"The burden of Nineveh. The book of the vision of Nahum the Elkoshite.God is jealous, and the LORD revenges; the LORD revenges, and is furious; the LORD will take vengeance on his adversaries, and he reserves wrath for his enemies.The LORD is slow to anger, and great in power, and will not at all acquit the wicked: the LORD has his way in the whirlwind and in the storm, and the clouds are the dust of his feet.He rebukes the sea, and makes it dry, and dries up all the rivers: Bashan languishes, and Carmel, and the flower of Lebanon languishes.The mountains quake at him, and the hills melt, and the earth is burned at his presence, yes, the world, and all that dwell therein.Who can stand before his indignation? and who can abide in the fierceness of his anger? his fury is poured out like fire, and the rocks are thrown down by him.The LORD is good, a strong hold in the day of trouble; and he knows them that trust in him.But with an overrunning flood he will make an utter end of the place thereof, and darkness shall pursue his enemies.What do you imagine against the LORD? he will make an utter end: affliction shall not rise up the second time.For while they be entwined together as thorns, and while they are drunken as drunkards, they shall be devoured as stubble fully dry.There is one come out of you, that imagines evil against the LORD, a wicked counselor.Thus said the LORD; Though they be quiet, and likewise many, yet thus shall they be cut down, when he shall pass through. Though I have afflicted you, I will afflict you no more.For now will I break his yoke from off you, and will burst your bonds in sunder.And the LORD has given a commandment concerning you, that no more of your name be sown: out of the house of your gods will I cut off the graven image and the molten image: I will make your grave; for you are vile.Behold on the mountains the feet of him that brings good tidings, that publishes peace! O Judah, keep your solemn feasts, perform your vows: for the wicked shall no more pass through you; he is utterly cut off.\".lower()"
   ]
  },
  {
   "cell_type": "code",
   "execution_count": 6,
   "metadata": {},
   "outputs": [],
   "source": [
    "Naum_2 = \"He that dashes in pieces is come up before your face: keep the fortification, watch the way, make your loins strong, fortify your power mightily.For the LORD has turned away the excellency of Jacob, as the excellency of Israel: for the emptiers have emptied them out, and marred their vine branches.The shield of his mighty men is made red, the valiant men are in scarlet: the chariots shall be with flaming torches in the day of his preparation, and the fir trees shall be terribly shaken.The chariots shall rage in the streets, they shall jostle one against another in the broad ways: they shall seem like torches, they shall run like the lightning.He shall recount his worthies: they shall stumble in their walk; they shall make haste to the wall thereof, and the defense shall be prepared.The gates of the rivers shall be opened, and the palace shall be dissolved.And Huzzab shall be led away captive, she shall be brought up, and her maids shall lead her as with the voice of doves, beating on their breasts.But Nineveh is of old like a pool of water: yet they shall flee away. Stand, stand, shall they cry; but none shall look back.Take you the spoil of silver, take the spoil of gold: for there is none end of the store and glory out of all the pleasant furniture.She is empty, and void, and waste: and the heart melts, and the knees smite together, and much pain is in all loins, and the faces of them all gather blackness.Where is the dwelling of the lions, and the feeding place of the young lions, where the lion, even the old lion, walked, and the lion' whelp, and none made them afraid?The lion did tear in pieces enough for his whelps, and strangled for his lionesses, and filled his holes with prey, and his dens with shred.Behold, I am against you, said the LORD of hosts, and I will burn her chariots in the smoke, and the sword shall devour your young lions: and I will cut off your prey from the earth, and the voice of your messengers shall no more be heard.\".lower()"
   ]
  },
  {
   "cell_type": "code",
   "execution_count": 7,
   "metadata": {},
   "outputs": [],
   "source": [
    "Naum_3 = \"Woe to the bloody city! it is all full of lies and robbery; the prey departs not;The noise of a whip, and the noise of the rattling of the wheels, and of the prancing horses, and of the jumping chariots.The horseman lifts up both the bright sword and the glittering spear: and there is a multitude of slain, and a great number of carcasses; and there is none end of their corpses; they stumble on their corpses:Because of the multitude of the prostitutions of the well favored harlot, the mistress of witchcrafts, that sells nations through her prostitutions, and families through her witchcrafts.Behold, I am against you, said the LORD of hosts; and I will discover your skirts on your face, and I will show the nations your nakedness, and the kingdoms your shame.And I will cast abominable filth on you, and make you vile, and will set you as a spectacle.And it shall come to pass, that all they that look on you shall flee from you, and say, Nineveh is laid waste: who will bemoan her? from where shall I seek comforters for you?Are you better than populous No, that was situate among the rivers, that had the waters round about it, whose rampart was the sea, and her wall was from the sea?Ethiopia and Egypt were her strength, and it was infinite; Put and Lubim were your helpers.Yet was she carried away, she went into captivity: her young children also were dashed in pieces at the top of all the streets: and they cast lots for her honorable men, and all her great men were bound in chains.You also shall be drunken: you shall be hid, you also shall seek strength because of the enemy.All your strong holds shall be like fig trees with the first ripe figs: if they be shaken, they shall even fall into the mouth of the eater.Behold, your people in the middle of you are women: the gates of your land shall be set wide open to your enemies: the fire shall devour your bars.Draw you waters for the siege, fortify your strong holds: go into clay, and tread the mortar, make strong the brick kiln.There shall the fire devour you; the sword shall cut you off, it shall eat you up like the cankerworm: make yourself many as the cankerworm, make yourself many as the locusts.You have multiplied your merchants above the stars of heaven: the cankerworm spoils, and flees away.Your crowned are as the locusts, and your captains as the great grasshoppers, which camp in the hedges in the cold day, but when the sun rises they flee away, and their place is not known where they are.Your shepherds slumber, O king of Assyria: your nobles shall dwell in the dust: your people is scattered on the mountains, and no man gathers them.There is no healing of your bruise; your wound is grievous: all that hear the bruit of you shall clap the hands over you: for on whom has not your wickedness passed continually?\".lower()"
   ]
  },
  {
   "cell_type": "code",
   "execution_count": 18,
   "metadata": {},
   "outputs": [],
   "source": [
    "tokens = nltk.word_tokenize(Naum_3)"
   ]
  },
  {
   "cell_type": "code",
   "execution_count": 19,
   "metadata": {},
   "outputs": [],
   "source": [
    "stop_words = set(stopwords.words('english'))"
   ]
  },
  {
   "cell_type": "code",
   "execution_count": 20,
   "metadata": {},
   "outputs": [],
   "source": [
    "filtered_sentence1 = [w for w in tokens if not w in stop_words] \n",
    "  \n",
    "filtered_sentence1 = []\n",
    "  \n",
    "for w in tokens: \n",
    "    if w not in stop_words: \n",
    "        filtered_sentence1.append(w)"
   ]
  },
  {
   "cell_type": "code",
   "execution_count": 21,
   "metadata": {},
   "outputs": [
    {
     "name": "stdout",
     "output_type": "stream",
     "text": [
      "['woe', 'bloody', 'city', '!', 'full', 'lies', 'robbery', ';', 'prey', 'departs', ';', 'noise', 'whip', ',', 'noise', 'rattling', 'wheels', ',', 'prancing', 'horses', ',', 'jumping', 'chariots.the', 'horseman', 'lifts', 'bright', 'sword', 'glittering', 'spear', ':', 'multitude', 'slain', ',', 'great', 'number', 'carcasses', ';', 'none', 'end', 'corpses', ';', 'stumble', 'corpses', ':', 'multitude', 'prostitutions', 'well', 'favored', 'harlot', ',', 'mistress', 'witchcrafts', ',', 'sells', 'nations', 'prostitutions', ',', 'families', 'witchcrafts.behold', ',', ',', 'said', 'lord', 'hosts', ';', 'discover', 'skirts', 'face', ',', 'show', 'nations', 'nakedness', ',', 'kingdoms', 'shame.and', 'cast', 'abominable', 'filth', ',', 'make', 'vile', ',', 'set', 'spectacle.and', 'shall', 'come', 'pass', ',', 'look', 'shall', 'flee', ',', 'say', ',', 'nineveh', 'laid', 'waste', ':', 'bemoan', '?', 'shall', 'seek', 'comforters', '?', 'better', 'populous', ',', 'situate', 'among', 'rivers', ',', 'waters', 'round', ',', 'whose', 'rampart', 'sea', ',', 'wall', 'sea', '?', 'ethiopia', 'egypt', 'strength', ',', 'infinite', ';', 'put', 'lubim', 'helpers.yet', 'carried', 'away', ',', 'went', 'captivity', ':', 'young', 'children', 'also', 'dashed', 'pieces', 'top', 'streets', ':', 'cast', 'lots', 'honorable', 'men', ',', 'great', 'men', 'bound', 'chains.you', 'also', 'shall', 'drunken', ':', 'shall', 'hid', ',', 'also', 'shall', 'seek', 'strength', 'enemy.all', 'strong', 'holds', 'shall', 'like', 'fig', 'trees', 'first', 'ripe', 'figs', ':', 'shaken', ',', 'shall', 'even', 'fall', 'mouth', 'eater.behold', ',', 'people', 'middle', 'women', ':', 'gates', 'land', 'shall', 'set', 'wide', 'open', 'enemies', ':', 'fire', 'shall', 'devour', 'bars.draw', 'waters', 'siege', ',', 'fortify', 'strong', 'holds', ':', 'go', 'clay', ',', 'tread', 'mortar', ',', 'make', 'strong', 'brick', 'kiln.there', 'shall', 'fire', 'devour', ';', 'sword', 'shall', 'cut', ',', 'shall', 'eat', 'like', 'cankerworm', ':', 'make', 'many', 'cankerworm', ',', 'make', 'many', 'locusts.you', 'multiplied', 'merchants', 'stars', 'heaven', ':', 'cankerworm', 'spoils', ',', 'flees', 'away.your', 'crowned', 'locusts', ',', 'captains', 'great', 'grasshoppers', ',', 'camp', 'hedges', 'cold', 'day', ',', 'sun', 'rises', 'flee', 'away', ',', 'place', 'known', 'are.your', 'shepherds', 'slumber', ',', 'king', 'assyria', ':', 'nobles', 'shall', 'dwell', 'dust', ':', 'people', 'scattered', 'mountains', ',', 'man', 'gathers', 'them.there', 'healing', 'bruise', ';', 'wound', 'grievous', ':', 'hear', 'bruit', 'shall', 'clap', 'hands', ':', 'wickedness', 'passed', 'continually', '?']\n"
     ]
    }
   ],
   "source": [
    "print(filtered_sentence1)"
   ]
  },
  {
   "cell_type": "code",
   "execution_count": 22,
   "metadata": {},
   "outputs": [],
   "source": [
    "data =np.array([[\"Naum_1\", \"'burden', 'nineveh', '.', 'book', 'vision', 'nahum', 'elkoshite.god', 'jealous', ',', 'lord', 'revenges', ';', 'lord', 'revenges', ',', 'furious', ';', 'lord', 'take', 'vengeance', 'adversaries', ',', 'reserves', 'wrath', 'enemies.the', 'lord', 'slow', 'anger', ',', 'great', 'power', ',', 'acquit', 'wicked', ':', 'lord', 'way', 'whirlwind', 'storm', ',', 'clouds', 'dust', 'feet.he', 'rebukes', 'sea', ',', 'makes', 'dry', ',', 'dries', 'rivers', ':', 'bashan', 'languishes', ',', 'carmel', ',', 'flower', 'lebanon', 'languishes.the', 'mountains', 'quake', ',', 'hills', 'melt', ',', 'earth', 'burned', 'presence', ',', 'yes', ',', 'world', ',', 'dwell', 'therein.who', 'stand', 'indignation', '?', 'abide', 'fierceness', 'anger', '?', 'fury', 'poured', 'like', 'fire', ',', 'rocks', 'thrown', 'him.the', 'lord', 'good', ',', 'strong', 'hold', 'day', 'trouble', ';', 'knows', 'trust', 'him.but', 'overrunning', 'flood', 'make', 'utter', 'end', 'place', 'thereof', ',', 'darkness', 'shall', 'pursue', 'enemies.what', 'imagine', 'lord', '?', 'make', 'utter', 'end', ':', 'affliction', 'shall', 'rise', 'second', 'time.for', 'entwined', 'together', 'thorns', ',', 'drunken', 'drunkards', ',', 'shall', 'devoured', 'stubble', 'fully', 'dry.there', 'one', 'come', ',', 'imagines', 'evil', 'lord', ',', 'wicked', 'counselor.thus', 'said', 'lord', ';', 'though', 'quiet', ',', 'likewise', 'many', ',', 'yet', 'thus', 'shall', 'cut', ',', 'shall', 'pass', '.', 'though', 'afflicted', ',', 'afflict', 'more.for', 'break', 'yoke', ',', 'burst', 'bonds', 'sunder.and', 'lord', 'given', 'commandment', 'concerning', ',', 'name', 'sown', ':', 'house', 'gods', 'cut', 'graven', 'image', 'molten', 'image', ':', 'make', 'grave', ';', 'vile.behold', 'mountains', 'feet', 'brings', 'good', 'tidings', ',', 'publishes', 'peace', '!', 'judah', ',', 'keep', 'solemn', 'feasts', ',', 'perform', 'vows', ':', 'wicked', 'shall', 'pass', ';', 'utterly', 'cut', '.'\"],\n",
    "               [\"Naum_2\", \"'dashes', 'pieces', 'come', 'face', ':', 'keep', 'fortification', ',', 'watch', 'way', ',', 'make', 'loins', 'strong', ',', 'fortify', 'power', 'mightily.for', 'lord', 'turned', 'away', 'excellency', 'jacob', ',', 'excellency', 'israel', ':', 'emptiers', 'emptied', ',', 'marred', 'vine', 'branches.the', 'shield', 'mighty', 'men', 'made', 'red', ',', 'valiant', 'men', 'scarlet', ':', 'chariots', 'shall', 'flaming', 'torches', 'day', 'preparation', ',', 'fir', 'trees', 'shall', 'terribly', 'shaken.the', 'chariots', 'shall', 'rage', 'streets', ',', 'shall', 'jostle', 'one', 'another', 'broad', 'ways', ':', 'shall', 'seem', 'like', 'torches', ',', 'shall', 'run', 'like', 'lightning.he', 'shall', 'recount', 'worthies', ':', 'shall', 'stumble', 'walk', ';', 'shall', 'make', 'haste', 'wall', 'thereof', ',', 'defense', 'shall', 'prepared.the', 'gates', 'rivers', 'shall', 'opened', ',', 'palace', 'shall', 'dissolved.and', 'huzzab', 'shall', 'led', 'away', 'captive', ',', 'shall', 'brought', ',', 'maids', 'shall', 'lead', 'voice', 'doves', ',', 'beating', 'breasts.but', 'nineveh', 'old', 'like', 'pool', 'water', ':', 'yet', 'shall', 'flee', 'away', '.', 'stand', ',', 'stand', ',', 'shall', 'cry', ';', 'none', 'shall', 'look', 'back.take', 'spoil', 'silver', ',', 'take', 'spoil', 'gold', ':', 'none', 'end', 'store', 'glory', 'pleasant', 'furniture.she', 'empty', ',', 'void', ',', 'waste', ':', 'heart', 'melts', ',', 'knees', 'smite', 'together', ',', 'much', 'pain', 'loins', ',', 'faces', 'gather', 'blackness.where', 'dwelling', 'lions', ',', 'feeding', 'place', 'young', 'lions', ',', 'lion', ',', 'even', 'old', 'lion', ',', 'walked', ',', 'lion', ', 'whelp', ',', 'none', 'made', 'afraid', '?', 'lion', 'tear', 'pieces', 'enough', 'whelps', ',', 'strangled', 'lionesses', ',', 'filled', 'holes', 'prey', ',', 'dens', 'shred.behold', ',', ',', 'said', 'lord', 'hosts', ',', 'burn', 'chariots', 'smoke', ',', 'sword', 'shall', 'devour', 'young', 'lions', ':', 'cut', 'prey', 'earth', ',', 'voice', 'messengers', 'shall', 'heard', '.'\"],\n",
    "               [\"Naum\", \"'woe', 'bloody', 'city', '!', 'full', 'lies', 'robbery', ';', 'prey', 'departs', ';', 'noise', 'whip', ',', 'noise', 'rattling', 'wheels', ',', 'prancing', 'horses', ',', 'jumping', 'chariots.the', 'horseman', 'lifts', 'bright', 'sword', 'glittering', 'spear', ':', 'multitude', 'slain', ',', 'great', 'number', 'carcasses', ';', 'none', 'end', 'corpses', ';', 'stumble', 'corpses', ':', 'multitude', 'prostitutions', 'well', 'favored', 'harlot', ',', 'mistress', 'witchcrafts', ',', 'sells', 'nations', 'prostitutions', ',', 'families', 'witchcrafts.behold', ',', ',', 'said', 'lord', 'hosts', ';', 'discover', 'skirts', 'face', ',', 'show', 'nations', 'nakedness', ',', 'kingdoms', 'shame.and', 'cast', 'abominable', 'filth', ',', 'make', 'vile', ',', 'set', 'spectacle.and', 'shall', 'come', 'pass', ',', 'look', 'shall', 'flee', ',', 'say', ',', 'nineveh', 'laid', 'waste', ':', 'bemoan', '?', 'shall', 'seek', 'comforters', '?', 'better', 'populous', ',', 'situate', 'among', 'rivers', ',', 'waters', 'round', ',', 'whose', 'rampart', 'sea', ',', 'wall', 'sea', '?', 'ethiopia', 'egypt', 'strength', ',', 'infinite', ';', 'put', 'lubim', 'helpers.yet', 'carried', 'away', ',', 'went', 'captivity', ':', 'young', 'children', 'also', 'dashed', 'pieces', 'top', 'streets', ':', 'cast', 'lots', 'honorable', 'men', ',', 'great', 'men', 'bound', 'chains.you', 'also', 'shall', 'drunken', ':', 'shall', 'hid', ',', 'also', 'shall', 'seek', 'strength', 'enemy.all', 'strong', 'holds', 'shall', 'like', 'fig', 'trees', 'first', 'ripe', 'figs', ':', 'shaken', ',', 'shall', 'even', 'fall', 'mouth', 'eater.behold', ',', 'people', 'middle', 'women', ':', 'gates', 'land', 'shall', 'set', 'wide', 'open', 'enemies', ':', 'fire', 'shall', 'devour', 'bars.draw', 'waters', 'siege', ',', 'fortify', 'strong', 'holds', ':', 'go', 'clay', ',', 'tread', 'mortar', ',', 'make', 'strong', 'brick', 'kiln.there', 'shall', 'fire', 'devour', ';', 'sword', 'shall', 'cut', ',', 'shall', 'eat', 'like', 'cankerworm', ':', 'make', 'many', 'cankerworm', ',', 'make', 'many', 'locusts.you', 'multiplied', 'merchants', 'stars', 'heaven', ':', 'cankerworm', 'spoils', ',', 'flees', 'away.your', 'crowned', 'locusts', ',', 'captains', 'great', 'grasshoppers', ',', 'camp', 'hedges', 'cold', 'day', ',', 'sun', 'rises', 'flee', 'away', ',', 'place', 'known', 'are.your', 'shepherds', 'slumber', ',', 'king', 'assyria', ':', 'nobles', 'shall', 'dwell', 'dust', ':', 'people', 'scattered', 'mountains', ',', 'man', 'gathers', 'them.there', 'healing', 'bruise', ';', 'wound', 'grievous', ':', 'hear', 'bruit', 'shall', 'clap', 'hands', ':', 'wickedness', 'passed', 'continually', '?'\"]])"
   ]
  },
  {
   "cell_type": "code",
   "execution_count": 23,
   "metadata": {},
   "outputs": [],
   "source": [
    "df = pd.DataFrame(data, index=range(100,103),columns=['Autor', 'Livro'])"
   ]
  },
  {
   "cell_type": "code",
   "execution_count": 24,
   "metadata": {},
   "outputs": [
    {
     "name": "stdout",
     "output_type": "stream",
     "text": [
      "      Autor                                              Livro\n",
      "100  Naum_1  'burden', 'nineveh', '.', 'book', 'vision', 'n...\n",
      "101  Naum_2  'dashes', 'pieces', 'come', 'face', ':', 'keep...\n",
      "102    Naum  'woe', 'bloody', 'city', '!', 'full', 'lies', ...\n"
     ]
    }
   ],
   "source": [
    "print(df)"
   ]
  },
  {
   "cell_type": "code",
   "execution_count": null,
   "metadata": {},
   "outputs": [],
   "source": []
  }
 ],
 "metadata": {
  "kernelspec": {
   "display_name": "Python 3",
   "language": "python",
   "name": "python3"
  },
  "language_info": {
   "codemirror_mode": {
    "name": "ipython",
    "version": 3
   },
   "file_extension": ".py",
   "mimetype": "text/x-python",
   "name": "python",
   "nbconvert_exporter": "python",
   "pygments_lexer": "ipython3",
   "version": "3.8.5"
  }
 },
 "nbformat": 4,
 "nbformat_minor": 4
}
