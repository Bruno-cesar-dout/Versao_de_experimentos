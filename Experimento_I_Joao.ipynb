{
 "cells": [
  {
   "cell_type": "code",
   "execution_count": 1,
   "id": "3528e06a",
   "metadata": {},
   "outputs": [],
   "source": [
    "import numpy  as np\n",
    "import pandas as pd\n",
    "import json\n",
    "import pandas"
   ]
  },
  {
   "cell_type": "code",
   "execution_count": 2,
   "id": "8860de93",
   "metadata": {},
   "outputs": [],
   "source": [
    "import nltk\n",
    "import nltk.corpus\n",
    "from sklearn.feature_extraction.text  import TfidfVectorizer\n",
    "from sklearn.metrics                  import silhouette_samples, silhouette_score\n",
    "from sklearn.preprocessing            import normalize\n",
    "from nltk.tokenize                    import word_tokenize\n",
    "import re\n",
    "from unidecode                        import unidecode\n",
    "from nltk.corpus import stopwords"
   ]
  },
  {
   "cell_type": "code",
   "execution_count": 3,
   "id": "7b1e299a",
   "metadata": {},
   "outputs": [],
   "source": [
    "import matplotlib.pyplot  as plt\n",
    "import matplotlib.cm      as cm\n",
    "import seaborn            as sns\n",
    "from sklearn.metrics                  import silhouette_samples, silhouette_score\n",
    "from wordcloud                        import WordCloud"
   ]
  },
  {
   "cell_type": "code",
   "execution_count": 4,
   "id": "a5710e4a",
   "metadata": {},
   "outputs": [],
   "source": [
    "from sklearn import cluster"
   ]
  },
  {
   "cell_type": "code",
   "execution_count": 5,
   "id": "7c92b31d",
   "metadata": {},
   "outputs": [],
   "source": [
    "I_João_1 = \"That which was from the beginning, which we have heard, which we have seen with our eyes, which we have looked on, and our hands have handled, of the Word of life;(For the life was manifested, and we have seen it, and bear witness, and show to you that eternal life, which was with the Father, and was manifested to us;)That which we have seen and heard declare we to you, that you also may have fellowship with us: and truly our fellowship is with the Father, and with his Son Jesus Christ.And these things write we to you, that your joy may be full.This then is the message which we have heard of him, and declare to you, that God is light, and in him is no darkness at all.If we say that we have fellowship with him, and walk in darkness, we lie, and do not the truth:But if we walk in the light, as he is in the light, we have fellowship one with another, and the blood of Jesus Christ his Son cleans us from all sin.If we say that we have no sin, we deceive ourselves, and the truth is not in us.If we confess our sins, he is faithful and just to forgive us our sins, and to cleanse us from all unrighteousness.If we say that we have not sinned, we make him a liar, and his word is not in us.\".lower()"
   ]
  },
  {
   "cell_type": "code",
   "execution_count": 6,
   "id": "2f94584b",
   "metadata": {},
   "outputs": [],
   "source": [
    "I_João_2 = \"My little children, these things write I to you, that you sin not. And if any man sin, we have an advocate with the Father, Jesus Christ the righteous:And he is the propitiation for our sins: and not for our' only, but also for the sins of the whole world.And hereby we do know that we know him, if we keep his commandments.He that said, I know him, and keeps not his commandments, is a liar, and the truth is not in him.But whoever keeps his word, in him truly is the love of God perfected: hereby know we that we are in him.He that said he stays in him ought himself also so to walk, even as he walked.Brothers, I write no new commandment to you, but an old commandment which you had from the beginning. The old commandment is the word which you have heard from the beginning.Again, a new commandment I write to you, which thing is true in him and in you: because the darkness is past, and the true light now shines.He that said he is in the light, and hates his brother, is in darkness even until now.He that loves his brother stays in the light, and there is none occasion of stumbling in him.But he that hates his brother is in darkness, and walks in darkness, and knows not where he goes, because that darkness has blinded his eyes.I write to you, little children, because your sins are forgiven you for his name' sake.I write to you, fathers, because you have known him that is from the beginning. I write to you, young men, because you have overcome the wicked one. I write to you, little children, because you have known the Father.I have written to you, fathers, because you have known him that is from the beginning. I have written to you, young men, because you are strong, and the word of God stays in you, and you have overcome the wicked one.Love not the world, neither the things that are in the world. If any man love the world, the love of the Father is not in him.For all that is in the world, the lust of the flesh, and the lust of the eyes, and the pride of life, is not of the Father, but is of the world.And the world passes away, and the lust thereof: but he that does the will of God stays for ever.Little children, it is the last time: and as you have heard that antichrist shall come, even now are there many antichrists; whereby we know that it is the last time.They went out from us, but they were not of us; for if they had been of us, they would no doubt have continued with us: but they went out, that they might be made manifest that they were not all of us.But you have an unction from the Holy One, and you know all things.I have not written to you because you know not the truth, but because you know it, and that no lie is of the truth.Who is a liar but he that denies that Jesus is the Christ? He is antichrist, that denies the Father and the Son.Whoever denies the Son, the same has not the Father: he that acknowledges the Son has the Father also.Let that therefore abide in you, which you have heard from the beginning. If that which you have heard from the beginning shall remain in you, you also shall continue in the Son, and in the Father.And this is the promise that he has promised us, even eternal life.These things have I written to you concerning them that seduce you.But the anointing which you have received of him stays in you, and you need not that any man teach you: but as the same anointing teaches you of all things, and is truth, and is no lie, and even as it has taught you, you shall abide in him.And now, little children, abide in him; that, when he shall appear, we may have confidence, and not be ashamed before him at his coming.If you know that he is righteous, you know that every one that does righteousness is born of him.\".lower()"
   ]
  },
  {
   "cell_type": "code",
   "execution_count": 7,
   "id": "23049a17",
   "metadata": {},
   "outputs": [],
   "source": [
    "I_João_3 = \"Behold, what manner of love the Father has bestowed on us, that we should be called the sons of God: therefore the world knows us not, because it knew him not.Beloved, now are we the sons of God, and it does not yet appear what we shall be: but we know that, when he shall appear, we shall be like him; for we shall see him as he is.And every man that has this hope in him purifies himself, even as he is pure.Whoever commits sin transgresses also the law: for sin is the transgression of the law.And you know that he was manifested to take away our sins; and in him is no sin.Whoever stays in him sins not: whoever sins has not seen him, neither known him.Little children, let no man deceive you: he that does righteousness is righteous, even as he is righteous.He that commits sin is of the devil; for the devil sins from the beginning. For this purpose the Son of God was manifested, that he might destroy the works of the devil.Whoever is born of God does not commit sin; for his seed remains in him: and he cannot sin, because he is born of God.In this the children of God are manifest, and the children of the devil: whoever does not righteousness is not of God, neither he that loves not his brother.For this is the message that you heard from the beginning, that we should love one another.Not as Cain, who was of that wicked one, and slew his brother. And why slew he him? Because his own works were evil, and his brother' righteous.Marvel not, my brothers, if the world hate you.We know that we have passed from death to life, because we love the brothers. He that loves not his brother stays in death.Whoever hates his brother is a murderer: and you know that no murderer has eternal life abiding in him.Hereby perceive we the love of God, because he laid down his life for us: and we ought to lay down our lives for the brothers.But whoever has this world' good, and sees his brother have need, and shuts up his bowels of compassion from him, how dwells the love of God in him?My little children, let us not love in word, neither in tongue; but in deed and in truth.And hereby we know that we are of the truth, and shall assure our hearts before him.For if our heart condemn us, God is greater than our heart, and knows all things.Beloved, if our heart condemn us not, then have we confidence toward God.And whatever we ask, we receive of him, because we keep his commandments, and do those things that are pleasing in his sight.And this is his commandment, That we should believe on the name of his Son Jesus Christ, and love one another, as he gave us commandment.And he that keeps his commandments dwells in him, and he in him. And hereby we know that he stays in us, by the Spirit which he has given us.\".lower()"
   ]
  },
  {
   "cell_type": "code",
   "execution_count": 8,
   "id": "033fef8f",
   "metadata": {},
   "outputs": [],
   "source": [
    "I_João_4 = \"Beloved, believe not every spirit, but try the spirits whether they are of God: because many false prophets are gone out into the world.Hereby know you the Spirit of God: Every spirit that confesses that Jesus Christ is come in the flesh is of God:And every spirit that confesses not that Jesus Christ is come in the flesh is not of God: and this is that spirit of antichrist, whereof you have heard that it should come; and even now already is it in the world.You are of God, little children, and have overcome them: because greater is he that is in you, than he that is in the world.They are of the world: therefore speak they of the world, and the world hears them.We are of God: he that knows God hears us; he that is not of God hears not us. Hereby know we the spirit of truth, and the spirit of error.Beloved, let us love one another: for love is of God; and every one that loves is born of God, and knows God.He that loves not knows not God; for God is love.In this was manifested the love of God toward us, because that God sent his only begotten Son into the world, that we might live through him.Herein is love, not that we loved God, but that he loved us, and sent his Son to be the propitiation for our sins.Beloved, if God so loved us, we ought also to love one another.No man has seen God at any time. If we love one another, God dwells in us, and his love is perfected in us.Hereby know we that we dwell in him, and he in us, because he has given us of his Spirit.And we have seen and do testify that the Father sent the Son to be the Savior of the world.Whoever shall confess that Jesus is the Son of God, God dwells in him, and he in God.And we have known and believed the love that God has to us. God is love; and he that dwells in love dwells in God, and God in him.Herein is our love made perfect, that we may have boldness in the day of judgment: because as he is, so are we in this world.There is no fear in love; but perfect love casts out fear: because fear has torment. He that fears is not made perfect in love.We love him, because he first loved us.If a man say, I love God, and hates his brother, he is a liar: for he that loves not his brother whom he has seen, how can he love God whom he has not seen?And this commandment have we from him, That he who loves God love his brother also.\".lower()"
   ]
  },
  {
   "cell_type": "code",
   "execution_count": 9,
   "id": "352088c8",
   "metadata": {},
   "outputs": [],
   "source": [
    "I_João_5 = \"Whoever believes that Jesus is the Christ is born of God: and every one that loves him that begat loves him also that is begotten of him.By this we know that we love the children of God, when we love God, and keep his commandments.For this is the love of God, that we keep his commandments: and his commandments are not grievous.For whatever is born of God overcomes the world: and this is the victory that overcomes the world, even our faith.Who is he that overcomes the world, but he that believes that Jesus is the Son of God?This is he that came by water and blood, even Jesus Christ; not by water only, but by water and blood. And it is the Spirit that bears witness, because the Spirit is truth.For there are three that bear record in heaven, the Father, the Word, and the Holy Ghost: and these three are one.And there are three that bear witness in earth, the Spirit, and the water, and the blood: and these three agree in one.If we receive the witness of men, the witness of God is greater: for this is the witness of God which he has testified of his Son.He that believes on the Son of God has the witness in himself: he that believes not God has made him a liar; because he believes not the record that God gave of his Son.And this is the record, that God has given to us eternal life, and this life is in his Son.He that has the Son has life; and he that has not the Son of God has not life.These things have I written to you that believe on the name of the Son of God; that you may know that you have eternal life, and that you may believe on the name of the Son of God.And this is the confidence that we have in him, that, if we ask any thing according to his will, he hears us:And if we know that he hear us, whatever we ask, we know that we have the petitions that we desired of him.If any man see his brother sin a sin which is not to death, he shall ask, and he shall give him life for them that sin not to death. There is a sin to death: I do not say that he shall pray for it.All unrighteousness is sin: and there is a sin not to death.We know that whoever is born of God sins not; but he that is begotten of God keeps himself, and that wicked one touches him not.And we know that we are of God, and the whole world lies in wickedness.And we know that the Son of God is come, and has given us an understanding, that we may know him that is true, and we are in him that is true, even in his Son Jesus Christ. This is the true God, and eternal life.Little children, keep yourselves from idols. Amen.\".lower()"
   ]
  },
  {
   "cell_type": "code",
   "execution_count": 33,
   "id": "24b38456",
   "metadata": {},
   "outputs": [],
   "source": [
    "tokens = nltk.word_tokenize(I_João_5)"
   ]
  },
  {
   "cell_type": "code",
   "execution_count": 34,
   "id": "19f9a207",
   "metadata": {},
   "outputs": [],
   "source": [
    "stop_words = set(stopwords.words('english'))"
   ]
  },
  {
   "cell_type": "code",
   "execution_count": 35,
   "id": "bd5958a8",
   "metadata": {},
   "outputs": [],
   "source": [
    "filtered_sentence1 = [w for w in tokens if not w in stop_words] \n",
    "  \n",
    "filtered_sentence1 = []\n",
    "  \n",
    "for w in tokens: \n",
    "    if w not in stop_words: \n",
    "        filtered_sentence1.append(w)"
   ]
  },
  {
   "cell_type": "code",
   "execution_count": 36,
   "id": "96705415",
   "metadata": {},
   "outputs": [
    {
     "name": "stdout",
     "output_type": "stream",
     "text": [
      "['whoever', 'believes', 'jesus', 'christ', 'born', 'god', ':', 'every', 'one', 'loves', 'begat', 'loves', 'also', 'begotten', 'him.by', 'know', 'love', 'children', 'god', ',', 'love', 'god', ',', 'keep', 'commandments.for', 'love', 'god', ',', 'keep', 'commandments', ':', 'commandments', 'grievous.for', 'whatever', 'born', 'god', 'overcomes', 'world', ':', 'victory', 'overcomes', 'world', ',', 'even', 'faith.who', 'overcomes', 'world', ',', 'believes', 'jesus', 'son', 'god', '?', 'came', 'water', 'blood', ',', 'even', 'jesus', 'christ', ';', 'water', ',', 'water', 'blood', '.', 'spirit', 'bears', 'witness', ',', 'spirit', 'truth.for', 'three', 'bear', 'record', 'heaven', ',', 'father', ',', 'word', ',', 'holy', 'ghost', ':', 'three', 'one.and', 'three', 'bear', 'witness', 'earth', ',', 'spirit', ',', 'water', ',', 'blood', ':', 'three', 'agree', 'one.if', 'receive', 'witness', 'men', ',', 'witness', 'god', 'greater', ':', 'witness', 'god', 'testified', 'son.he', 'believes', 'son', 'god', 'witness', ':', 'believes', 'god', 'made', 'liar', ';', 'believes', 'record', 'god', 'gave', 'son.and', 'record', ',', 'god', 'given', 'us', 'eternal', 'life', ',', 'life', 'son.he', 'son', 'life', ';', 'son', 'god', 'life.these', 'things', 'written', 'believe', 'name', 'son', 'god', ';', 'may', 'know', 'eternal', 'life', ',', 'may', 'believe', 'name', 'son', 'god.and', 'confidence', ',', ',', 'ask', 'thing', 'according', ',', 'hears', 'us', ':', 'know', 'hear', 'us', ',', 'whatever', 'ask', ',', 'know', 'petitions', 'desired', 'him.if', 'man', 'see', 'brother', 'sin', 'sin', 'death', ',', 'shall', 'ask', ',', 'shall', 'give', 'life', 'sin', 'death', '.', 'sin', 'death', ':', 'say', 'shall', 'pray', 'it.all', 'unrighteousness', 'sin', ':', 'sin', 'death.we', 'know', 'whoever', 'born', 'god', 'sins', ';', 'begotten', 'god', 'keeps', ',', 'wicked', 'one', 'touches', 'not.and', 'know', 'god', ',', 'whole', 'world', 'lies', 'wickedness.and', 'know', 'son', 'god', 'come', ',', 'given', 'us', 'understanding', ',', 'may', 'know', 'true', ',', 'true', ',', 'even', 'son', 'jesus', 'christ', '.', 'true', 'god', ',', 'eternal', 'life.little', 'children', ',', 'keep', 'idols', '.', 'amen', '.']\n"
     ]
    }
   ],
   "source": [
    "print(filtered_sentence1)"
   ]
  },
  {
   "cell_type": "code",
   "execution_count": 37,
   "id": "2f5cb63d",
   "metadata": {},
   "outputs": [],
   "source": [
    "data =np.array([[\"I_João_1\", \"'beginning', ',', 'heard', ',', 'seen', 'eyes', ',', 'looked', ',', 'hands', 'handled', ',', 'word', 'life', ';', '(', 'life', 'manifested', ',', 'seen', ',', 'bear', 'witness', ',', 'show', 'eternal', 'life', ',', 'father', ',', 'manifested', 'us', ';', ')', 'seen', 'heard', 'declare', ',', 'also', 'may', 'fellowship', 'us', ':', 'truly', 'fellowship', 'father', ',', 'son', 'jesus', 'christ.and', 'things', 'write', ',', 'joy', 'may', 'full.this', 'message', 'heard', ',', 'declare', ',', 'god', 'light', ',', 'darkness', 'all.if', 'say', 'fellowship', ',', 'walk', 'darkness', ',', 'lie', ',', 'truth', ':', 'walk', 'light', ',', 'light', ',', 'fellowship', 'one', 'another', ',', 'blood', 'jesus', 'christ', 'son', 'cleans', 'us', 'sin.if', 'say', 'sin', ',', 'deceive', ',', 'truth', 'us.if', 'confess', 'sins', ',', 'faithful', 'forgive', 'us', 'sins', ',', 'cleanse', 'us', 'unrighteousness.if', 'say', 'sinned', ',', 'make', 'liar', ',', 'word', 'us', '.'\"],\n",
    "               [\"I_João_2\", \"'little', 'children', ',', 'things', 'write', ',', 'sin', '.', 'man', 'sin', ',', 'advocate', 'father', ',', 'jesus', 'christ', 'righteous', ':', 'propitiation', 'sins', ':', ', ',', 'also', 'sins', 'whole', 'world.and', 'hereby', 'know', 'know', ',', 'keep', 'commandments.he', 'said', ',', 'know', ',', 'keeps', 'commandments', ',', 'liar', ',', 'truth', 'him.but', 'whoever', 'keeps', 'word', ',', 'truly', 'love', 'god', 'perfected', ':', 'hereby', 'know', 'him.he', 'said', 'stays', 'ought', 'also', 'walk', ',', 'even', 'walked.brothers', ',', 'write', 'new', 'commandment', ',', 'old', 'commandment', 'beginning', '.', 'old', 'commandment', 'word', 'heard', 'beginning.again', ',', 'new', 'commandment', 'write', ',', 'thing', 'true', ':', 'darkness', 'past', ',', 'true', 'light', 'shines.he', 'said', 'light', ',', 'hates', 'brother', ',', 'darkness', 'even', 'now.he', 'loves', 'brother', 'stays', 'light', ',', 'none', 'occasion', 'stumbling', 'him.but', 'hates', 'brother', 'darkness', ',', 'walks', 'darkness', ',', 'knows', 'goes', ',', 'darkness', 'blinded', 'eyes.i', 'write', ',', 'little', 'children', ',', 'sins', 'forgiven', 'name', ', 'sake.i', 'write', ',', 'fathers', ',', 'known', 'beginning', '.', 'write', ',', 'young', 'men', ',', 'overcome', 'wicked', 'one', '.', 'write', ',', 'little', 'children', ',', 'known', 'father.i', 'written', ',', 'fathers', ',', 'known', 'beginning', '.', 'written', ',', 'young', 'men', ',', 'strong', ',', 'word', 'god', 'stays', ',', 'overcome', 'wicked', 'one.love', 'world', ',', 'neither', 'things', 'world', '.', 'man', 'love', 'world', ',', 'love', 'father', 'him.for', 'world', ',', 'lust', 'flesh', ',', 'lust', 'eyes', ',', 'pride', 'life', ',', 'father', ',', 'world.and', 'world', 'passes', 'away', ',', 'lust', 'thereof', ':', 'god', 'stays', 'ever.little', 'children', ',', 'last', 'time', ':', 'heard', 'antichrist', 'shall', 'come', ',', 'even', 'many', 'antichrists', ';', 'whereby', 'know', 'last', 'time.they', 'went', 'us', ',', 'us', ';', 'us', ',', 'would', 'doubt', 'continued', 'us', ':', 'went', ',', 'might', 'made', 'manifest', 'us.but', 'unction', 'holy', 'one', ',', 'know', 'things.i', 'written', 'know', 'truth', ',', 'know', ',', 'lie', 'truth.who', 'liar', 'denies', 'jesus', 'christ', '?', 'antichrist', ',', 'denies', 'father', 'son.whoever', 'denies', 'son', ',', 'father', ':', 'acknowledges', 'son', 'father', 'also.let', 'therefore', 'abide', ',', 'heard', 'beginning', '.', 'heard', 'beginning', 'shall', 'remain', ',', 'also', 'shall', 'continue', 'son', ',', 'father.and', 'promise', 'promised', 'us', ',', 'even', 'eternal', 'life.these', 'things', 'written', 'concerning', 'seduce', 'you.but', 'anointing', 'received', 'stays', ',', 'need', 'man', 'teach', ':', 'anointing', 'teaches', 'things', ',', 'truth', ',', 'lie', ',', 'even', 'taught', ',', 'shall', 'abide', 'him.and', ',', 'little', 'children', ',', 'abide', ';', ',', 'shall', 'appear', ',', 'may', 'confidence', ',', 'ashamed', 'coming.if', 'know', 'righteous', ',', 'know', 'every', 'one', 'righteousness', 'born', '.'\"],\n",
    "               [\"I_João_3\", \"'behold', ',', 'manner', 'love', 'father', 'bestowed', 'us', ',', 'called', 'sons', 'god', ':', 'therefore', 'world', 'knows', 'us', ',', 'knew', 'not.beloved', ',', 'sons', 'god', ',', 'yet', 'appear', 'shall', ':', 'know', ',', 'shall', 'appear', ',', 'shall', 'like', ';', 'shall', 'see', 'is.and', 'every', 'man', 'hope', 'purifies', ',', 'even', 'pure.whoever', 'commits', 'sin', 'transgresses', 'also', 'law', ':', 'sin', 'transgression', 'law.and', 'know', 'manifested', 'take', 'away', 'sins', ';', 'sin.whoever', 'stays', 'sins', ':', 'whoever', 'sins', 'seen', ',', 'neither', 'known', 'him.little', 'children', ',', 'let', 'man', 'deceive', ':', 'righteousness', 'righteous', ',', 'even', 'righteous.he', 'commits', 'sin', 'devil', ';', 'devil', 'sins', 'beginning', '.', 'purpose', 'son', 'god', 'manifested', ',', 'might', 'destroy', 'works', 'devil.whoever', 'born', 'god', 'commit', 'sin', ';', 'seed', 'remains', ':', 'sin', ',', 'born', 'god.in', 'children', 'god', 'manifest', ',', 'children', 'devil', ':', 'whoever', 'righteousness', 'god', ',', 'neither', 'loves', 'brother.for', 'message', 'heard', 'beginning', ',', 'love', 'one', 'another.not', 'cain', ',', 'wicked', 'one', ',', 'slew', 'brother', '.', 'slew', '?', 'works', 'evil', ',', 'brother', ', 'righteous.marvel', ',', 'brothers', ',', 'world', 'hate', 'you.we', 'know', 'passed', 'death', 'life', ',', 'love', 'brothers', '.', 'loves', 'brother', 'stays', 'death.whoever', 'hates', 'brother', 'murderer', ':', 'know', 'murderer', 'eternal', 'life', 'abiding', 'him.hereby', 'perceive', 'love', 'god', ',', 'laid', 'life', 'us', ':', 'ought', 'lay', 'lives', 'brothers.but', 'whoever', 'world', ', 'good', ',', 'sees', 'brother', 'need', ',', 'shuts', 'bowels', 'compassion', ',', 'dwells', 'love', 'god', '?', 'little', 'children', ',', 'let', 'us', 'love', 'word', ',', 'neither', 'tongue', ';', 'deed', 'truth.and', 'hereby', 'know', 'truth', ',', 'shall', 'assure', 'hearts', 'him.for', 'heart', 'condemn', 'us', ',', 'god', 'greater', 'heart', ',', 'knows', 'things.beloved', ',', 'heart', 'condemn', 'us', ',', 'confidence', 'toward', 'god.and', 'whatever', 'ask', ',', 'receive', ',', 'keep', 'commandments', ',', 'things', 'pleasing', 'sight.and', 'commandment', ',', 'believe', 'name', 'son', 'jesus', 'christ', ',', 'love', 'one', 'another', ',', 'gave', 'us', 'commandment.and', 'keeps', 'commandments', 'dwells', ',', '.', 'hereby', 'know', 'stays', 'us', ',', 'spirit', 'given', 'us', '.'\"],\n",
    "               [\"I_João_4\", \"'beloved', ',', 'believe', 'every', 'spirit', ',', 'try', 'spirits', 'whether', 'god', ':', 'many', 'false', 'prophets', 'gone', 'world.hereby', 'know', 'spirit', 'god', ':', 'every', 'spirit', 'confesses', 'jesus', 'christ', 'come', 'flesh', 'god', ':', 'every', 'spirit', 'confesses', 'jesus', 'christ', 'come', 'flesh', 'god', ':', 'spirit', 'antichrist', ',', 'whereof', 'heard', 'come', ';', 'even', 'already', 'world.you', 'god', ',', 'little', 'children', ',', 'overcome', ':', 'greater', ',', 'world.they', 'world', ':', 'therefore', 'speak', 'world', ',', 'world', 'hears', 'them.we', 'god', ':', 'knows', 'god', 'hears', 'us', ';', 'god', 'hears', 'us', '.', 'hereby', 'know', 'spirit', 'truth', ',', 'spirit', 'error.beloved', ',', 'let', 'us', 'love', 'one', 'another', ':', 'love', 'god', ';', 'every', 'one', 'loves', 'born', 'god', ',', 'knows', 'god.he', 'loves', 'knows', 'god', ';', 'god', 'love.in', 'manifested', 'love', 'god', 'toward', 'us', ',', 'god', 'sent', 'begotten', 'son', 'world', ',', 'might', 'live', 'him.herein', 'love', ',', 'loved', 'god', ',', 'loved', 'us', ',', 'sent', 'son', 'propitiation', 'sins.beloved', ',', 'god', 'loved', 'us', ',', 'ought', 'also', 'love', 'one', 'another.no', 'man', 'seen', 'god', 'time', '.', 'love', 'one', 'another', ',', 'god', 'dwells', 'us', ',', 'love', 'perfected', 'us.hereby', 'know', 'dwell', ',', 'us', ',', 'given', 'us', 'spirit.and', 'seen', 'testify', 'father', 'sent', 'son', 'savior', 'world.whoever', 'shall', 'confess', 'jesus', 'son', 'god', ',', 'god', 'dwells', ',', 'god.and', 'known', 'believed', 'love', 'god', 'us', '.', 'god', 'love', ';', 'dwells', 'love', 'dwells', 'god', ',', 'god', 'him.herein', 'love', 'made', 'perfect', ',', 'may', 'boldness', 'day', 'judgment', ':', ',', 'world.there', 'fear', 'love', ';', 'perfect', 'love', 'casts', 'fear', ':', 'fear', 'torment', '.', 'fears', 'made', 'perfect', 'love.we', 'love', ',', 'first', 'loved', 'us.if', 'man', 'say', ',', 'love', 'god', ',', 'hates', 'brother', ',', 'liar', ':', 'loves', 'brother', 'seen', ',', 'love', 'god', 'seen', '?', 'commandment', ',', 'loves', 'god', 'love', 'brother', 'also', '.'\"],\n",
    "               [\"I_João_5\", \"'whoever', 'believes', 'jesus', 'christ', 'born', 'god', ':', 'every', 'one', 'loves', 'begat', 'loves', 'also', 'begotten', 'him.by', 'know', 'love', 'children', 'god', ',', 'love', 'god', ',', 'keep', 'commandments.for', 'love', 'god', ',', 'keep', 'commandments', ':', 'commandments', 'grievous.for', 'whatever', 'born', 'god', 'overcomes', 'world', ':', 'victory', 'overcomes', 'world', ',', 'even', 'faith.who', 'overcomes', 'world', ',', 'believes', 'jesus', 'son', 'god', '?', 'came', 'water', 'blood', ',', 'even', 'jesus', 'christ', ';', 'water', ',', 'water', 'blood', '.', 'spirit', 'bears', 'witness', ',', 'spirit', 'truth.for', 'three', 'bear', 'record', 'heaven', ',', 'father', ',', 'word', ',', 'holy', 'ghost', ':', 'three', 'one.and', 'three', 'bear', 'witness', 'earth', ',', 'spirit', ',', 'water', ',', 'blood', ':', 'three', 'agree', 'one.if', 'receive', 'witness', 'men', ',', 'witness', 'god', 'greater', ':', 'witness', 'god', 'testified', 'son.he', 'believes', 'son', 'god', 'witness', ':', 'believes', 'god', 'made', 'liar', ';', 'believes', 'record', 'god', 'gave', 'son.and', 'record', ',', 'god', 'given', 'us', 'eternal', 'life', ',', 'life', 'son.he', 'son', 'life', ';', 'son', 'god', 'life.these', 'things', 'written', 'believe', 'name', 'son', 'god', ';', 'may', 'know', 'eternal', 'life', ',', 'may', 'believe', 'name', 'son', 'god.and', 'confidence', ',', ',', 'ask', 'thing', 'according', ',', 'hears', 'us', ':', 'know', 'hear', 'us', ',', 'whatever', 'ask', ',', 'know', 'petitions', 'desired', 'him.if', 'man', 'see', 'brother', 'sin', 'sin', 'death', ',', 'shall', 'ask', ',', 'shall', 'give', 'life', 'sin', 'death', '.', 'sin', 'death', ':', 'say', 'shall', 'pray', 'it.all', 'unrighteousness', 'sin', ':', 'sin', 'death.we', 'know', 'whoever', 'born', 'god', 'sins', ';', 'begotten', 'god', 'keeps', ',', 'wicked', 'one', 'touches', 'not.and', 'know', 'god', ',', 'whole', 'world', 'lies', 'wickedness.and', 'know', 'son', 'god', 'come', ',', 'given', 'us', 'understanding', ',', 'may', 'know', 'true', ',', 'true', ',', 'even', 'son', 'jesus', 'christ', '.', 'true', 'god', ',', 'eternal', 'life.little', 'children', ',', 'keep', 'idols', '.', 'amen', '.'\"]])"
   ]
  },
  {
   "cell_type": "code",
   "execution_count": 38,
   "id": "a9f6d5e2",
   "metadata": {},
   "outputs": [],
   "source": [
    "df = pd.DataFrame(data, index=range(100,105),columns=['Autor', 'Livro'])"
   ]
  },
  {
   "cell_type": "code",
   "execution_count": 39,
   "id": "00730ed6",
   "metadata": {},
   "outputs": [
    {
     "name": "stdout",
     "output_type": "stream",
     "text": [
      "        Autor                                              Livro\n",
      "100  I_João_1  'beginning', ',', 'heard', ',', 'seen', 'eyes'...\n",
      "101  I_João_2  'little', 'children', ',', 'things', 'write', ...\n",
      "102  I_João_3  'behold', ',', 'manner', 'love', 'father', 'be...\n",
      "103  I_João_4  'beloved', ',', 'believe', 'every', 'spirit', ...\n",
      "104  I_João_5  'whoever', 'believes', 'jesus', 'christ', 'bor...\n"
     ]
    }
   ],
   "source": [
    "print(df)"
   ]
  },
  {
   "cell_type": "code",
   "execution_count": null,
   "id": "87ccf6e4",
   "metadata": {},
   "outputs": [],
   "source": []
  }
 ],
 "metadata": {
  "kernelspec": {
   "display_name": "Python 3 (ipykernel)",
   "language": "python",
   "name": "python3"
  },
  "language_info": {
   "codemirror_mode": {
    "name": "ipython",
    "version": 3
   },
   "file_extension": ".py",
   "mimetype": "text/x-python",
   "name": "python",
   "nbconvert_exporter": "python",
   "pygments_lexer": "ipython3",
   "version": "3.7.2"
  }
 },
 "nbformat": 4,
 "nbformat_minor": 5
}
