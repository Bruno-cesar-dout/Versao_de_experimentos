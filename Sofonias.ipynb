{
 "cells": [
  {
   "cell_type": "code",
   "execution_count": 1,
   "metadata": {},
   "outputs": [],
   "source": [
    "import numpy  as np\n",
    "import pandas as pd\n",
    "import json\n",
    "import pandas"
   ]
  },
  {
   "cell_type": "code",
   "execution_count": 2,
   "metadata": {},
   "outputs": [],
   "source": [
    "import nltk\n",
    "import nltk.corpus\n",
    "from sklearn.feature_extraction.text  import TfidfVectorizer\n",
    "from sklearn.metrics                  import silhouette_samples, silhouette_score\n",
    "from sklearn.preprocessing            import normalize\n",
    "from nltk.tokenize                    import word_tokenize\n",
    "import re\n",
    "from unidecode                        import unidecode\n",
    "from nltk.corpus import stopwords"
   ]
  },
  {
   "cell_type": "code",
   "execution_count": 3,
   "metadata": {},
   "outputs": [],
   "source": [
    "import matplotlib.pyplot  as plt\n",
    "import matplotlib.cm      as cm\n",
    "import seaborn            as sns\n",
    "from sklearn.metrics                  import silhouette_samples, silhouette_score\n",
    "from wordcloud                        import WordCloud"
   ]
  },
  {
   "cell_type": "code",
   "execution_count": 7,
   "metadata": {},
   "outputs": [],
   "source": [
    "from sklearn import cluster"
   ]
  },
  {
   "cell_type": "code",
   "execution_count": 4,
   "metadata": {},
   "outputs": [],
   "source": [
    "Sofonias_1 = \"The word of the LORD which came to Zephaniah the son of Cushi, the son of Gedaliah, the son of Amariah, the son of Hizkiah, in the days of Josiah the son of Amon, king of Judah.I will utterly consume all things from off the land, said the LORD.I will consume man and beast; I will consume the fowls of the heaven, and the fishes of the sea, and the stumbling blocks with the wicked: and I will cut off man from off the land, said the LORD.I will also stretch out my hand on Judah, and on all the inhabitants of Jerusalem; and I will cut off the remnant of Baal from this place, and the name of the Chemarims with the priests;And them that worship the host of heaven on the housetops; and them that worship and that swear by the LORD, and that swear by Malcham;And them that are turned back from the LORD; and those that have not sought the LORD, nor inquired for him.Hold your peace at the presence of the Lord GOD: for the day of the LORD is at hand: for the LORD has prepared a sacrifice, he has bid his guests.And it shall come to pass in the day of the LORD' sacrifice, that I will punish the princes, and the king' children, and all such as are clothed with strange apparel.In the same day also will I punish all those that leap on the threshold, which fill their masters'houses with violence and deceit.And it shall come to pass in that day, said the LORD, that there shall be the noise of a cry from the fish gate, and an howling from the second, and a great crashing from the hills.Howl, you inhabitants of Maktesh, for all the merchant people are cut down; all they that bear silver are cut off.And it shall come to pass at that time, that I will search Jerusalem with candles, and punish the men that are settled on their lees: that say in their heart, The LORD will not do good, neither will he do evil.Therefore their goods shall become a booty, and their houses a desolation: they shall also build houses, but not inhabit them; and they shall plant vineyards, but not drink the wine thereof.The great day of the LORD is near, it is near, and hastens greatly, even the voice of the day of the LORD: the mighty man shall cry there bitterly.That day is a day of wrath, a day of trouble and distress, a day of devastation and desolation, a day of darkness and gloominess, a day of clouds and thick darkness,A day of the trumpet and alarm against the fenced cities, and against the high towers.And I will bring distress on men, that they shall walk like blind men, because they have sinned against the LORD: and their blood shall be poured out as dust, and their flesh as the dung.Neither their silver nor their gold shall be able to deliver them in the day of the LORD' wrath; but the whole land shall be devoured by the fire of his jealousy: for he shall make even a speedy riddance of all them that dwell in the land.\".lower()"
   ]
  },
  {
   "cell_type": "code",
   "execution_count": 5,
   "metadata": {},
   "outputs": [],
   "source": [
    "Sofonias_2 = \"Gather yourselves together, yes, gather together, O nation not desired;Before the decree bring forth, before the day pass as the chaff, before the fierce anger of the LORD come on you, before the day of the LORD' anger come on you.Seek you the LORD, all you meek of the earth, which have worked his judgment; seek righteousness, seek meekness: it may be you shall be hid in the day of the LORD' anger.For Gaza shall be forsaken, and Ashkelon a desolation: they shall drive out Ashdod at the noon day, and Ekron shall be rooted up.Woe to the inhabitants of the sea coast, the nation of the Cherethites! the word of the LORD is against you; O Canaan, the land of the Philistines, I will even destroy you, that there shall be no inhabitant.And the sea coast shall be dwellings and cottages for shepherds, and folds for flocks.And the coast shall be for the remnant of the house of Judah; they shall feed thereupon: in the houses of Ashkelon shall they lie down in the evening: for the LORD their God shall visit them, and turn away their captivity.I have heard the reproach of Moab, and the revilings of the children of Ammon, whereby they have reproached my people, and magnified themselves against their border.Therefore as I live, said the LORD of hosts, the God of Israel, Surely Moab shall be as Sodom, and the children of Ammon as Gomorrah, even the breeding of nettles, and salt pits, and a perpetual desolation: the residue of my people shall spoil them, and the remnant of my people shall possess them.This shall they have for their pride, because they have reproached and magnified themselves against the people of the LORD of hosts.The LORD will be terrible to them: for he will famish all the gods of the earth; and men shall worship him, every one from his place, even all the isles of the heathen.You Ethiopians also, you shall be slain by my sword.And he will stretch out his hand against the north, and destroy Assyria; and will make Nineveh a desolation, and dry like a wilderness.And flocks shall lie down in the middle of her, all the beasts of the nations: both the cormorant and the bittern shall lodge in the upper lintels of it; their voice shall sing in the windows; desolation shall be in the thresholds; for he shall uncover the cedar work.This is the rejoicing city that dwelled carelessly, that said in her heart, I am, and there is none beside me: how is she become a desolation, a place for beasts to lie down in! every one that passes by her shall hiss, and wag his hand.\".lower()"
   ]
  },
  {
   "cell_type": "code",
   "execution_count": 6,
   "metadata": {},
   "outputs": [],
   "source": [
    "Sofonias_3 = \"Woe to her that is filthy and polluted, to the oppressing city!She obeyed not the voice; she received not correction; she trusted not in the LORD; she drew not near to her God.Her princes within her are roaring lions; her judges are evening wolves; they gnaw not the bones till the morrow.Her prophets are light and treacherous persons: her priests have polluted the sanctuary, they have done violence to the law.The just LORD is in the middle thereof; he will not do iniquity: every morning does he bring his judgment to light, he fails not; but the unjust knows no shame.I have cut off the nations: their towers are desolate; I made their streets waste, that none passes by: their cities are destroyed, so that there is no man, that there is none inhabitant.I said, Surely you will fear me, you will receive instruction; so their dwelling should not be cut off, howsoever I punished them: but they rose early, and corrupted all their doings.Therefore wait you on me, said the LORD, until the day that I rise up to the prey: for my determination is to gather the nations, that I may assemble the kingdoms, to pour on them my indignation, even all my fierce anger: for all the earth shall be devoured with the fire of my jealousy.For then will I turn to the people a pure language, that they may all call on the name of the LORD, to serve him with one consent.From beyond the rivers of Ethiopia my suppliants, even the daughter of my dispersed, shall bring my offering.In that day shall you not be ashamed for all your doings, wherein you have transgressed against me: for then I will take away out of the middle of you them that rejoice in your pride, and you shall no more be haughty because of my holy mountain.I will also leave in the middle of you an afflicted and poor people, and they shall trust in the name of the LORD.The remnant of Israel shall not do iniquity, nor speak lies; neither shall a deceitful tongue be found in their mouth: for they shall feed and lie down, and none shall make them afraid.Sing, O daughter of Zion; shout, O Israel; be glad and rejoice with all the heart, O daughter of Jerusalem.The LORD has taken away your judgments, he has cast out your enemy: the king of Israel, even the LORD, is in the middle of you: you shall not see evil any more.In that day it shall be said to Jerusalem, Fear you not: and to Zion, Let not your hands be slack.The LORD your God in the middle of you is mighty; he will save, he will rejoice over you with joy; he will rest in his love, he will joy over you with singing.I will gather them that are sorrowful for the solemn assembly, who are of you, to whom the reproach of it was a burden.Behold, at that time I will undo all that afflict you: and I will save her that halts, and gather her that was driven out; and I will get them praise and fame in every land where they have been put to shame.At that time will I bring you again, even in the time that I gather you: for I will make you a name and a praise among all people of the earth, when I turn back your captivity before your eyes, said the LORD.\".lower()"
   ]
  },
  {
   "cell_type": "code",
   "execution_count": 21,
   "metadata": {},
   "outputs": [],
   "source": [
    "tokens = nltk.word_tokenize(Sofonias_3)"
   ]
  },
  {
   "cell_type": "code",
   "execution_count": 22,
   "metadata": {},
   "outputs": [],
   "source": [
    "stop_words = set(stopwords.words('english'))"
   ]
  },
  {
   "cell_type": "code",
   "execution_count": 23,
   "metadata": {},
   "outputs": [],
   "source": [
    "filtered_sentence1 = [w for w in tokens if not w in stop_words] \n",
    "  \n",
    "filtered_sentence1 = []\n",
    "  \n",
    "for w in tokens: \n",
    "    if w not in stop_words: \n",
    "        filtered_sentence1.append(w)"
   ]
  },
  {
   "cell_type": "code",
   "execution_count": 24,
   "metadata": {},
   "outputs": [
    {
     "name": "stdout",
     "output_type": "stream",
     "text": [
      "['woe', 'filthy', 'polluted', ',', 'oppressing', 'city', '!', 'obeyed', 'voice', ';', 'received', 'correction', ';', 'trusted', 'lord', ';', 'drew', 'near', 'god.her', 'princes', 'within', 'roaring', 'lions', ';', 'judges', 'evening', 'wolves', ';', 'gnaw', 'bones', 'till', 'morrow.her', 'prophets', 'light', 'treacherous', 'persons', ':', 'priests', 'polluted', 'sanctuary', ',', 'done', 'violence', 'law.the', 'lord', 'middle', 'thereof', ';', 'iniquity', ':', 'every', 'morning', 'bring', 'judgment', 'light', ',', 'fails', ';', 'unjust', 'knows', 'shame.i', 'cut', 'nations', ':', 'towers', 'desolate', ';', 'made', 'streets', 'waste', ',', 'none', 'passes', ':', 'cities', 'destroyed', ',', 'man', ',', 'none', 'inhabitant.i', 'said', ',', 'surely', 'fear', ',', 'receive', 'instruction', ';', 'dwelling', 'cut', ',', 'howsoever', 'punished', ':', 'rose', 'early', ',', 'corrupted', 'doings.therefore', 'wait', ',', 'said', 'lord', ',', 'day', 'rise', 'prey', ':', 'determination', 'gather', 'nations', ',', 'may', 'assemble', 'kingdoms', ',', 'pour', 'indignation', ',', 'even', 'fierce', 'anger', ':', 'earth', 'shall', 'devoured', 'fire', 'jealousy.for', 'turn', 'people', 'pure', 'language', ',', 'may', 'call', 'name', 'lord', ',', 'serve', 'one', 'consent.from', 'beyond', 'rivers', 'ethiopia', 'suppliants', ',', 'even', 'daughter', 'dispersed', ',', 'shall', 'bring', 'offering.in', 'day', 'shall', 'ashamed', 'doings', ',', 'wherein', 'transgressed', ':', 'take', 'away', 'middle', 'rejoice', 'pride', ',', 'shall', 'haughty', 'holy', 'mountain.i', 'also', 'leave', 'middle', 'afflicted', 'poor', 'people', ',', 'shall', 'trust', 'name', 'lord.the', 'remnant', 'israel', 'shall', 'iniquity', ',', 'speak', 'lies', ';', 'neither', 'shall', 'deceitful', 'tongue', 'found', 'mouth', ':', 'shall', 'feed', 'lie', ',', 'none', 'shall', 'make', 'afraid.sing', ',', 'daughter', 'zion', ';', 'shout', ',', 'israel', ';', 'glad', 'rejoice', 'heart', ',', 'daughter', 'jerusalem.the', 'lord', 'taken', 'away', 'judgments', ',', 'cast', 'enemy', ':', 'king', 'israel', ',', 'even', 'lord', ',', 'middle', ':', 'shall', 'see', 'evil', 'more.in', 'day', 'shall', 'said', 'jerusalem', ',', 'fear', ':', 'zion', ',', 'let', 'hands', 'slack.the', 'lord', 'god', 'middle', 'mighty', ';', 'save', ',', 'rejoice', 'joy', ';', 'rest', 'love', ',', 'joy', 'singing.i', 'gather', 'sorrowful', 'solemn', 'assembly', ',', ',', 'reproach', 'burden.behold', ',', 'time', 'undo', 'afflict', ':', 'save', 'halts', ',', 'gather', 'driven', ';', 'get', 'praise', 'fame', 'every', 'land', 'put', 'shame.at', 'time', 'bring', ',', 'even', 'time', 'gather', ':', 'make', 'name', 'praise', 'among', 'people', 'earth', ',', 'turn', 'back', 'captivity', 'eyes', ',', 'said', 'lord', '.']\n"
     ]
    }
   ],
   "source": [
    "print(filtered_sentence1)"
   ]
  },
  {
   "cell_type": "code",
   "execution_count": 25,
   "metadata": {},
   "outputs": [],
   "source": [
    "data =np.array([[\"Sofonias_1\", \"'word', 'lord', 'came', 'zephaniah', 'son', 'cushi', ',', 'son', 'gedaliah', ',', 'son', 'amariah', ',', 'son', 'hizkiah', ',', 'days', 'josiah', 'son', 'amon', ',', 'king', 'judah.i', 'utterly', 'consume', 'things', 'land', ',', 'said', 'lord.i', 'consume', 'man', 'beast', ';', 'consume', 'fowls', 'heaven', ',', 'fishes', 'sea', ',', 'stumbling', 'blocks', 'wicked', ':', 'cut', 'man', 'land', ',', 'said', 'lord.i', 'also', 'stretch', 'hand', 'judah', ',', 'inhabitants', 'jerusalem', ';', 'cut', 'remnant', 'baal', 'place', ',', 'name', 'chemarims', 'priests', ';', 'worship', 'host', 'heaven', 'housetops', ';', 'worship', 'swear', 'lord', ',', 'swear', 'malcham', ';', 'turned', 'back', 'lord', ';', 'sought', 'lord', ',', 'inquired', 'him.hold', 'peace', 'presence', 'lord', 'god', ':', 'day', 'lord', 'hand', ':', 'lord', 'prepared', 'sacrifice', ',', 'bid', 'guests.and', 'shall', 'come', 'pass', 'day', 'lord', ', 'sacrifice', ',', 'punish', 'princes', ',', 'king', ', 'children', ',', 'clothed', 'strange', 'apparel.in', 'day', 'also', 'punish', 'leap', 'threshold', ',', 'fill', masters'houses, 'violence', 'deceit.and', 'shall', 'come', 'pass', 'day', ',', 'said', 'lord', ',', 'shall', 'noise', 'cry', 'fish', 'gate', ',', 'howling', 'second', ',', 'great', 'crashing', 'hills.howl', ',', 'inhabitants', 'maktesh', ',', 'merchant', 'people', 'cut', ';', 'bear', 'silver', 'cut', 'off.and', 'shall', 'come', 'pass', 'time', ',', 'search', 'jerusalem', 'candles', ',', 'punish', 'men', 'settled', 'lees', ':', 'say', 'heart', ',', 'lord', 'good', ',', 'neither', 'evil.therefore', 'goods', 'shall', 'become', 'booty', ',', 'houses', 'desolation', ':', 'shall', 'also', 'build', 'houses', ',', 'inhabit', ';', 'shall', 'plant', 'vineyards', ',', 'drink', 'wine', 'thereof.the', 'great', 'day', 'lord', 'near', ',', 'near', ',', 'hastens', 'greatly', ',', 'even', 'voice', 'day', 'lord', ':', 'mighty', 'man', 'shall', 'cry', 'bitterly.that', 'day', 'day', 'wrath', ',', 'day', 'trouble', 'distress', ',', 'day', 'devastation', 'desolation', ',', 'day', 'darkness', 'gloominess', ',', 'day', 'clouds', 'thick', 'darkness', ',', 'day', 'trumpet', 'alarm', 'fenced', 'cities', ',', 'high', 'towers.and', 'bring', 'distress', 'men', ',', 'shall', 'walk', 'like', 'blind', 'men', ',', 'sinned', 'lord', ':', 'blood', 'shall', 'poured', 'dust', ',', 'flesh', 'dung.neither', 'silver', 'gold', 'shall', 'able', 'deliver', 'day', 'lord', ', 'wrath', ';', 'whole', 'land', 'shall', 'devoured', 'fire', 'jealousy', ':', 'shall', 'make', 'even', 'speedy', 'riddance', 'dwell', 'land', '.'\"],\n",
    "               [\"Sofonias_2\", \"'gather', 'together', ',', 'yes', ',', 'gather', 'together', ',', 'nation', 'desired', ';', 'decree', 'bring', 'forth', ',', 'day', 'pass', 'chaff', ',', 'fierce', 'anger', 'lord', 'come', ',', 'day', 'lord', ', 'anger', 'come', 'you.seek', 'lord', ',', 'meek', 'earth', ',', 'worked', 'judgment', ';', 'seek', 'righteousness', ',', 'seek', 'meekness', ':', 'may', 'shall', 'hid', 'day', 'lord', ', 'anger.for', 'gaza', 'shall', 'forsaken', ',', 'ashkelon', 'desolation', ':', 'shall', 'drive', 'ashdod', 'noon', 'day', ',', 'ekron', 'shall', 'rooted', 'up.woe', 'inhabitants', 'sea', 'coast', ',', 'nation', 'cherethites', '!', 'word', 'lord', ';', 'canaan', ',', 'land', 'philistines', ',', 'even', 'destroy', ',', 'shall', 'inhabitant.and', 'sea', 'coast', 'shall', 'dwellings', 'cottages', 'shepherds', ',', 'folds', 'flocks.and', 'coast', 'shall', 'remnant', 'house', 'judah', ';', 'shall', 'feed', 'thereupon', ':', 'houses', 'ashkelon', 'shall', 'lie', 'evening', ':', 'lord', 'god', 'shall', 'visit', ',', 'turn', 'away', 'captivity.i', 'heard', 'reproach', 'moab', ',', 'revilings', 'children', 'ammon', ',', 'whereby', 'reproached', 'people', ',', 'magnified', 'border.therefore', 'live', ',', 'said', 'lord', 'hosts', ',', 'god', 'israel', ',', 'surely', 'moab', 'shall', 'sodom', ',', 'children', 'ammon', 'gomorrah', ',', 'even', 'breeding', 'nettles', ',', 'salt', 'pits', ',', 'perpetual', 'desolation', ':', 'residue', 'people', 'shall', 'spoil', ',', 'remnant', 'people', 'shall', 'possess', 'them.this', 'shall', 'pride', ',', 'reproached', 'magnified', 'people', 'lord', 'hosts.the', 'lord', 'terrible', ':', 'famish', 'gods', 'earth', ';', 'men', 'shall', 'worship', ',', 'every', 'one', 'place', ',', 'even', 'isles', 'heathen.you', 'ethiopians', 'also', ',', 'shall', 'slain', 'sword.and', 'stretch', 'hand', 'north', ',', 'destroy', 'assyria', ';', 'make', 'nineveh', 'desolation', ',', 'dry', 'like', 'wilderness.and', 'flocks', 'shall', 'lie', 'middle', ',', 'beasts', 'nations', ':', 'cormorant', 'bittern', 'shall', 'lodge', 'upper', 'lintels', ';', 'voice', 'shall', 'sing', 'windows', ';', 'desolation', 'shall', 'thresholds', ';', 'shall', 'uncover', 'cedar', 'work.this', 'rejoicing', 'city', 'dwelled', 'carelessly', ',', 'said', 'heart', ',', ',', 'none', 'beside', ':', 'become', 'desolation', ',', 'place', 'beasts', 'lie', '!', 'every', 'one', 'passes', 'shall', 'hiss', ',', 'wag', 'hand', '.'\"],\n",
    "               [\"Sofonias_3\", \"'woe', 'filthy', 'polluted', ',', 'oppressing', 'city', '!', 'obeyed', 'voice', ';', 'received', 'correction', ';', 'trusted', 'lord', ';', 'drew', 'near', 'god.her', 'princes', 'within', 'roaring', 'lions', ';', 'judges', 'evening', 'wolves', ';', 'gnaw', 'bones', 'till', 'morrow.her', 'prophets', 'light', 'treacherous', 'persons', ':', 'priests', 'polluted', 'sanctuary', ',', 'done', 'violence', 'law.the', 'lord', 'middle', 'thereof', ';', 'iniquity', ':', 'every', 'morning', 'bring', 'judgment', 'light', ',', 'fails', ';', 'unjust', 'knows', 'shame.i', 'cut', 'nations', ':', 'towers', 'desolate', ';', 'made', 'streets', 'waste', ',', 'none', 'passes', ':', 'cities', 'destroyed', ',', 'man', ',', 'none', 'inhabitant.i', 'said', ',', 'surely', 'fear', ',', 'receive', 'instruction', ';', 'dwelling', 'cut', ',', 'howsoever', 'punished', ':', 'rose', 'early', ',', 'corrupted', 'doings.therefore', 'wait', ',', 'said', 'lord', ',', 'day', 'rise', 'prey', ':', 'determination', 'gather', 'nations', ',', 'may', 'assemble', 'kingdoms', ',', 'pour', 'indignation', ',', 'even', 'fierce', 'anger', ':', 'earth', 'shall', 'devoured', 'fire', 'jealousy.for', 'turn', 'people', 'pure', 'language', ',', 'may', 'call', 'name', 'lord', ',', 'serve', 'one', 'consent.from', 'beyond', 'rivers', 'ethiopia', 'suppliants', ',', 'even', 'daughter', 'dispersed', ',', 'shall', 'bring', 'offering.in', 'day', 'shall', 'ashamed', 'doings', ',', 'wherein', 'transgressed', ':', 'take', 'away', 'middle', 'rejoice', 'pride', ',', 'shall', 'haughty', 'holy', 'mountain.i', 'also', 'leave', 'middle', 'afflicted', 'poor', 'people', ',', 'shall', 'trust', 'name', 'lord.the', 'remnant', 'israel', 'shall', 'iniquity', ',', 'speak', 'lies', ';', 'neither', 'shall', 'deceitful', 'tongue', 'found', 'mouth', ':', 'shall', 'feed', 'lie', ',', 'none', 'shall', 'make', 'afraid.sing', ',', 'daughter', 'zion', ';', 'shout', ',', 'israel', ';', 'glad', 'rejoice', 'heart', ',', 'daughter', 'jerusalem.the', 'lord', 'taken', 'away', 'judgments', ',', 'cast', 'enemy', ':', 'king', 'israel', ',', 'even', 'lord', ',', 'middle', ':', 'shall', 'see', 'evil', 'more.in', 'day', 'shall', 'said', 'jerusalem', ',', 'fear', ':', 'zion', ',', 'let', 'hands', 'slack.the', 'lord', 'god', 'middle', 'mighty', ';', 'save', ',', 'rejoice', 'joy', ';', 'rest', 'love', ',', 'joy', 'singing.i', 'gather', 'sorrowful', 'solemn', 'assembly', ',', ',', 'reproach', 'burden.behold', ',', 'time', 'undo', 'afflict', ':', 'save', 'halts', ',', 'gather', 'driven', ';', 'get', 'praise', 'fame', 'every', 'land', 'put', 'shame.at', 'time', 'bring', ',', 'even', 'time', 'gather', ':', 'make', 'name', 'praise', 'among', 'people', 'earth', ',', 'turn', 'back', 'captivity', 'eyes', ',', 'said', 'lord', '.'\"]])"
   ]
  },
  {
   "cell_type": "code",
   "execution_count": 26,
   "metadata": {},
   "outputs": [],
   "source": [
    "df = pd.DataFrame(data, index=range(100,103),columns=['Autor', 'Livro'])"
   ]
  },
  {
   "cell_type": "code",
   "execution_count": 27,
   "metadata": {},
   "outputs": [
    {
     "name": "stdout",
     "output_type": "stream",
     "text": [
      "          Autor                                              Livro\n",
      "100  Sofonias_1  'word', 'lord', 'came', 'zephaniah', 'son', 'c...\n",
      "101  Sofonias_2  'gather', 'together', ',', 'yes', ',', 'gather...\n",
      "102  Sofonias_3  'woe', 'filthy', 'polluted', ',', 'oppressing'...\n"
     ]
    }
   ],
   "source": [
    "print(df)"
   ]
  },
  {
   "cell_type": "code",
   "execution_count": null,
   "metadata": {},
   "outputs": [],
   "source": []
  }
 ],
 "metadata": {
  "kernelspec": {
   "display_name": "Python 3 (ipykernel)",
   "language": "python",
   "name": "python3"
  },
  "language_info": {
   "codemirror_mode": {
    "name": "ipython",
    "version": 3
   },
   "file_extension": ".py",
   "mimetype": "text/x-python",
   "name": "python",
   "nbconvert_exporter": "python",
   "pygments_lexer": "ipython3",
   "version": "3.7.2"
  }
 },
 "nbformat": 4,
 "nbformat_minor": 4
}
