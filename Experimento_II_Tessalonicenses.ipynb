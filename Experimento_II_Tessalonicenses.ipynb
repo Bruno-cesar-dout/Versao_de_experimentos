{
 "cells": [
  {
   "cell_type": "code",
   "execution_count": 1,
   "id": "1987a00c",
   "metadata": {},
   "outputs": [],
   "source": [
    "import numpy  as np\n",
    "import pandas as pd\n",
    "import json\n",
    "import pandas"
   ]
  },
  {
   "cell_type": "code",
   "execution_count": 2,
   "id": "6df737f5",
   "metadata": {},
   "outputs": [],
   "source": [
    "import nltk\n",
    "import nltk.corpus\n",
    "from sklearn.feature_extraction.text  import TfidfVectorizer\n",
    "from sklearn.metrics                  import silhouette_samples, silhouette_score\n",
    "from sklearn.preprocessing            import normalize\n",
    "from nltk.tokenize                    import word_tokenize\n",
    "import re\n",
    "from unidecode                        import unidecode\n",
    "from nltk.corpus import stopwords"
   ]
  },
  {
   "cell_type": "code",
   "execution_count": 3,
   "id": "1230afee",
   "metadata": {},
   "outputs": [],
   "source": [
    "import matplotlib.pyplot  as plt\n",
    "import matplotlib.cm      as cm\n",
    "import seaborn            as sns\n",
    "from sklearn.metrics                  import silhouette_samples, silhouette_score\n",
    "from wordcloud                        import WordCloud"
   ]
  },
  {
   "cell_type": "code",
   "execution_count": 4,
   "id": "9ca95e7f",
   "metadata": {},
   "outputs": [],
   "source": [
    "from sklearn import cluster"
   ]
  },
  {
   "cell_type": "code",
   "execution_count": 5,
   "id": "c11be7d5",
   "metadata": {},
   "outputs": [],
   "source": [
    "II_Tessalonicenses_1 = \"Paul, and Silvanus, and Timotheus, to the church of the Thessalonians in God our Father and the Lord Jesus Christ:Grace to you, and peace, from God our Father and the Lord Jesus Christ.We are bound to thank God always for you, brothers, as it is meet, because that your faith grows exceedingly, and the charity of every one of you all toward each other abounds;So that we ourselves glory in you in the churches of God for your patience and faith in all your persecutions and tribulations that you endure:Which is a manifest token of the righteous judgment of God, that you may be counted worthy of the kingdom of God, for which you also suffer:Seeing it is a righteous thing with God to recompense tribulation to them that trouble you;And to you who are troubled rest with us, when the Lord Jesus shall be revealed from heaven with his mighty angels,In flaming fire taking vengeance on them that know not God, and that obey not the gospel of our Lord Jesus Christ:Who shall be punished with everlasting destruction from the presence of the Lord, and from the glory of his power;When he shall come to be glorified in his saints, and to be admired in all them that believe (because our testimony among you was believed) in that day.Why also we pray always for you, that our God would count you worthy of this calling, and fulfill all the good pleasure of his goodness, and the work of faith with power:That the name of our Lord Jesus Christ may be glorified in you, and you in him, according to the grace of our God and the Lord Jesus Christ.\".lower()"
   ]
  },
  {
   "cell_type": "code",
   "execution_count": 6,
   "id": "8817a6fc",
   "metadata": {},
   "outputs": [],
   "source": [
    "II_Tessalonicenses_2 = \"Now we beseech you, brothers, by the coming of our Lord Jesus Christ, and by our gathering together to him,That you be not soon shaken in mind, or be troubled, neither by spirit, nor by word, nor by letter as from us, as that the day of Christ is at hand.Let no man deceive you by any means: for that day shall not come, except there come a falling away first, and that man of sin be revealed, the son of perdition;Who opposes and exalts himself above all that is called God, or that is worshipped; so that he as God sits in the temple of God, showing himself that he is God.Remember you not, that, when I was yet with you, I told you these things?And now you know what withholds that he might be revealed in his time.For the mystery of iniquity does already work: only he who now lets will let, until he be taken out of the way.And then shall that Wicked be revealed, whom the Lord shall consume with the spirit of his mouth, and shall destroy with the brightness of his coming:Even him, whose coming is after the working of Satan with all power and signs and lying wonders,And with all delusion of unrighteousness in them that perish; because they received not the love of the truth, that they might be saved.And for this cause God shall send them strong delusion, that they should believe a lie:That they all might be damned who believed not the truth, but had pleasure in unrighteousness.But we are bound to give thanks always to God for you, brothers beloved of the Lord, because God has from the beginning chosen you to salvation through sanctification of the Spirit and belief of the truth:Whereunto he called you by our gospel, to the obtaining of the glory of our Lord Jesus Christ.Therefore, brothers, stand fast, and hold the traditions which you have been taught, whether by word, or our letter.Now our Lord Jesus Christ himself, and God, even our Father, which has loved us, and has given us everlasting consolation and good hope through grace,Comfort your hearts, and establish you in every good word and work.\".lower()"
   ]
  },
  {
   "cell_type": "code",
   "execution_count": 7,
   "id": "49a7e8e3",
   "metadata": {},
   "outputs": [],
   "source": [
    "II_Tessalonicenses_3 = \"Finally, brothers, pray for us, that the word of the Lord may have free course, and be glorified, even as it is with you:And that we may be delivered from unreasonable and wicked men: for all men have not faith.But the Lord is faithful, who shall establish you, and keep you from evil.And we have confidence in the Lord touching you, that you both do and will do the things which we command you.And the Lord direct your hearts into the love of God, and into the patient waiting for Christ.Now we command you, brothers, in the name of our Lord Jesus Christ, that you withdraw yourselves from every brother that walks disorderly, and not after the tradition which he received of us.For yourselves know how you ought to follow us: for we behaved not ourselves disorderly among you;Neither did we eat any man' bread for nothing; but worked with labor and travail night and day, that we might not be chargeable to any of you:Not because we have not power, but to make ourselves an ensample to you to follow us.For even when we were with you, this we commanded you, that if any would not work, neither should he eat.For we hear that there are some which walk among you disorderly, working not at all, but are busybodies.Now them that are such we command and exhort by our Lord Jesus Christ, that with quietness they work, and eat their own bread.But you, brothers, be not weary in well doing.And if any man obey not our word by this letter, note that man, and have no company with him, that he may be ashamed.Yet count him not as an enemy, but admonish him as a brother.Now the Lord of peace himself give you peace always by all means. The Lord be with you all.The salutation of Paul with my own hand, which is the token in every letter: so I write.The grace of our Lord Jesus Christ be with you all. Amen.\".lower()"
   ]
  },
  {
   "cell_type": "code",
   "execution_count": 19,
   "id": "71e413e3",
   "metadata": {},
   "outputs": [],
   "source": [
    "tokens = nltk.word_tokenize(II_Tessalonicenses_3)"
   ]
  },
  {
   "cell_type": "code",
   "execution_count": 20,
   "id": "69e80939",
   "metadata": {},
   "outputs": [],
   "source": [
    "stop_words = set(stopwords.words('english'))"
   ]
  },
  {
   "cell_type": "code",
   "execution_count": 21,
   "id": "fa91316d",
   "metadata": {},
   "outputs": [],
   "source": [
    "filtered_sentence1 = [w for w in tokens if not w in stop_words] \n",
    "  \n",
    "filtered_sentence1 = []\n",
    "  \n",
    "for w in tokens: \n",
    "    if w not in stop_words: \n",
    "        filtered_sentence1.append(w)"
   ]
  },
  {
   "cell_type": "code",
   "execution_count": 22,
   "id": "6896e5c5",
   "metadata": {},
   "outputs": [
    {
     "name": "stdout",
     "output_type": "stream",
     "text": [
      "['finally', ',', 'brothers', ',', 'pray', 'us', ',', 'word', 'lord', 'may', 'free', 'course', ',', 'glorified', ',', 'even', ':', 'may', 'delivered', 'unreasonable', 'wicked', 'men', ':', 'men', 'faith.but', 'lord', 'faithful', ',', 'shall', 'establish', ',', 'keep', 'evil.and', 'confidence', 'lord', 'touching', ',', 'things', 'command', 'you.and', 'lord', 'direct', 'hearts', 'love', 'god', ',', 'patient', 'waiting', 'christ.now', 'command', ',', 'brothers', ',', 'name', 'lord', 'jesus', 'christ', ',', 'withdraw', 'every', 'brother', 'walks', 'disorderly', ',', 'tradition', 'received', 'us.for', 'know', 'ought', 'follow', 'us', ':', 'behaved', 'disorderly', 'among', ';', 'neither', 'eat', 'man', \"'\", 'bread', 'nothing', ';', 'worked', 'labor', 'travail', 'night', 'day', ',', 'might', 'chargeable', ':', 'power', ',', 'make', 'ensample', 'follow', 'us.for', 'even', ',', 'commanded', ',', 'would', 'work', ',', 'neither', 'eat.for', 'hear', 'walk', 'among', 'disorderly', ',', 'working', ',', 'busybodies.now', 'command', 'exhort', 'lord', 'jesus', 'christ', ',', 'quietness', 'work', ',', 'eat', 'bread.but', ',', 'brothers', ',', 'weary', 'well', 'doing.and', 'man', 'obey', 'word', 'letter', ',', 'note', 'man', ',', 'company', ',', 'may', 'ashamed.yet', 'count', 'enemy', ',', 'admonish', 'brother.now', 'lord', 'peace', 'give', 'peace', 'always', 'means', '.', 'lord', 'all.the', 'salutation', 'paul', 'hand', ',', 'token', 'every', 'letter', ':', 'write.the', 'grace', 'lord', 'jesus', 'christ', '.', 'amen', '.']\n"
     ]
    }
   ],
   "source": [
    "print(filtered_sentence1)"
   ]
  },
  {
   "cell_type": "code",
   "execution_count": 23,
   "id": "e3815e50",
   "metadata": {},
   "outputs": [],
   "source": [
    "data =np.array([[\"II_Tessalonicenses_1\", \"'paul', ',', 'silvanus', ',', 'timotheus', ',', 'church', 'thessalonians', 'god', 'father', 'lord', 'jesus', 'christ', ':', 'grace', ',', 'peace', ',', 'god', 'father', 'lord', 'jesus', 'christ.we', 'bound', 'thank', 'god', 'always', ',', 'brothers', ',', 'meet', ',', 'faith', 'grows', 'exceedingly', ',', 'charity', 'every', 'one', 'toward', 'abounds', ';', 'glory', 'churches', 'god', 'patience', 'faith', 'persecutions', 'tribulations', 'endure', ':', 'manifest', 'token', 'righteous', 'judgment', 'god', ',', 'may', 'counted', 'worthy', 'kingdom', 'god', ',', 'also', 'suffer', ':', 'seeing', 'righteous', 'thing', 'god', 'recompense', 'tribulation', 'trouble', ';', 'troubled', 'rest', 'us', ',', 'lord', 'jesus', 'shall', 'revealed', 'heaven', 'mighty', 'angels', ',', 'flaming', 'fire', 'taking', 'vengeance', 'know', 'god', ',', 'obey', 'gospel', 'lord', 'jesus', 'christ', ':', 'shall', 'punished', 'everlasting', 'destruction', 'presence', 'lord', ',', 'glory', 'power', ';', 'shall', 'come', 'glorified', 'saints', ',', 'admired', 'believe', '(', 'testimony', 'among', 'believed', ')', 'day.why', 'also', 'pray', 'always', ',', 'god', 'would', 'count', 'worthy', 'calling', ',', 'fulfill', 'good', 'pleasure', 'goodness', ',', 'work', 'faith', 'power', ':', 'name', 'lord', 'jesus', 'christ', 'may', 'glorified', ',', ',', 'according', 'grace', 'god', 'lord', 'jesus', 'christ', '.'\"],\n",
    "               [\"II_Tessalonicenses_2\", \"'beseech', ',', 'brothers', ',', 'coming', 'lord', 'jesus', 'christ', ',', 'gathering', 'together', ',', 'soon', 'shaken', 'mind', ',', 'troubled', ',', 'neither', 'spirit', ',', 'word', ',', 'letter', 'us', ',', 'day', 'christ', 'hand.let', 'man', 'deceive', 'means', ':', 'day', 'shall', 'come', ',', 'except', 'come', 'falling', 'away', 'first', ',', 'man', 'sin', 'revealed', ',', 'son', 'perdition', ';', 'opposes', 'exalts', 'called', 'god', ',', 'worshipped', ';', 'god', 'sits', 'temple', 'god', ',', 'showing', 'god.remember', ',', ',', 'yet', ',', 'told', 'things', '?', 'know', 'withholds', 'might', 'revealed', 'time.for', 'mystery', 'iniquity', 'already', 'work', ':', 'lets', 'let', ',', 'taken', 'way.and', 'shall', 'wicked', 'revealed', ',', 'lord', 'shall', 'consume', 'spirit', 'mouth', ',', 'shall', 'destroy', 'brightness', 'coming', ':', 'even', ',', 'whose', 'coming', 'working', 'satan', 'power', 'signs', 'lying', 'wonders', ',', 'delusion', 'unrighteousness', 'perish', ';', 'received', 'love', 'truth', ',', 'might', 'saved.and', 'cause', 'god', 'shall', 'send', 'strong', 'delusion', ',', 'believe', 'lie', ':', 'might', 'damned', 'believed', 'truth', ',', 'pleasure', 'unrighteousness.but', 'bound', 'give', 'thanks', 'always', 'god', ',', 'brothers', 'beloved', 'lord', ',', 'god', 'beginning', 'chosen', 'salvation', 'sanctification', 'spirit', 'belief', 'truth', ':', 'whereunto', 'called', 'gospel', ',', 'obtaining', 'glory', 'lord', 'jesus', 'christ.therefore', ',', 'brothers', ',', 'stand', 'fast', ',', 'hold', 'traditions', 'taught', ',', 'whether', 'word', ',', 'letter.now', 'lord', 'jesus', 'christ', ',', 'god', ',', 'even', 'father', ',', 'loved', 'us', ',', 'given', 'us', 'everlasting', 'consolation', 'good', 'hope', 'grace', ',', 'comfort', 'hearts', ',', 'establish', 'every', 'good', 'word', 'work', '.'\"],\n",
    "               [\"II_Tessalonicenses_3\", \"'finally', ',', 'brothers', ',', 'pray', 'us', ',', 'word', 'lord', 'may', 'free', 'course', ',', 'glorified', ',', 'even', ':', 'may', 'delivered', 'unreasonable', 'wicked', 'men', ':', 'men', 'faith.but', 'lord', 'faithful', ',', 'shall', 'establish', ',', 'keep', 'evil.and', 'confidence', 'lord', 'touching', ',', 'things', 'command', 'you.and', 'lord', 'direct', 'hearts', 'love', 'god', ',', 'patient', 'waiting', 'christ.now', 'command', ',', 'brothers', ',', 'name', 'lord', 'jesus', 'christ', ',', 'withdraw', 'every', 'brother', 'walks', 'disorderly', ',', 'tradition', 'received', 'us.for', 'know', 'ought', 'follow', 'us', ':', 'behaved', 'disorderly', 'among', ';', 'neither', 'eat', 'man', ', 'bread', 'nothing', ';', 'worked', 'labor', 'travail', 'night', 'day', ',', 'might', 'chargeable', ':', 'power', ',', 'make', 'ensample', 'follow', 'us.for', 'even', ',', 'commanded', ',', 'would', 'work', ',', 'neither', 'eat.for', 'hear', 'walk', 'among', 'disorderly', ',', 'working', ',', 'busybodies.now', 'command', 'exhort', 'lord', 'jesus', 'christ', ',', 'quietness', 'work', ',', 'eat', 'bread.but', ',', 'brothers', ',', 'weary', 'well', 'doing.and', 'man', 'obey', 'word', 'letter', ',', 'note', 'man', ',', 'company', ',', 'may', 'ashamed.yet', 'count', 'enemy', ',', 'admonish', 'brother.now', 'lord', 'peace', 'give', 'peace', 'always', 'means', '.', 'lord', 'all.the', 'salutation', 'paul', 'hand', ',', 'token', 'every', 'letter', ':', 'write.the', 'grace', 'lord', 'jesus', 'christ', '.', 'amen', '.'\"]])"
   ]
  },
  {
   "cell_type": "code",
   "execution_count": 24,
   "id": "32208ef9",
   "metadata": {},
   "outputs": [],
   "source": [
    "df = pd.DataFrame(data, index=range(100,103),columns=['Autor', 'Livro'])"
   ]
  },
  {
   "cell_type": "code",
   "execution_count": 25,
   "id": "72cdd4d6",
   "metadata": {},
   "outputs": [
    {
     "name": "stdout",
     "output_type": "stream",
     "text": [
      "                    Autor                                              Livro\n",
      "100  II_Tessalonicenses_1  'paul', ',', 'silvanus', ',', 'timotheus', ','...\n",
      "101  II_Tessalonicenses_2  'beseech', ',', 'brothers', ',', 'coming', 'lo...\n",
      "102  II_Tessalonicenses_3  'finally', ',', 'brothers', ',', 'pray', 'us',...\n"
     ]
    }
   ],
   "source": [
    "print(df)"
   ]
  },
  {
   "cell_type": "code",
   "execution_count": null,
   "id": "8750144f",
   "metadata": {},
   "outputs": [],
   "source": []
  }
 ],
 "metadata": {
  "kernelspec": {
   "display_name": "Python 3 (ipykernel)",
   "language": "python",
   "name": "python3"
  },
  "language_info": {
   "codemirror_mode": {
    "name": "ipython",
    "version": 3
   },
   "file_extension": ".py",
   "mimetype": "text/x-python",
   "name": "python",
   "nbconvert_exporter": "python",
   "pygments_lexer": "ipython3",
   "version": "3.7.2"
  }
 },
 "nbformat": 4,
 "nbformat_minor": 5
}
