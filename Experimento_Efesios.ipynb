{
 "cells": [
  {
   "cell_type": "code",
   "execution_count": 1,
   "id": "0a3f1e96",
   "metadata": {},
   "outputs": [],
   "source": [
    "import numpy  as np\n",
    "import pandas as pd\n",
    "import json\n",
    "import pandas"
   ]
  },
  {
   "cell_type": "code",
   "execution_count": 2,
   "id": "22ba99a3",
   "metadata": {},
   "outputs": [],
   "source": [
    "import nltk\n",
    "import nltk.corpus\n",
    "from sklearn.feature_extraction.text  import TfidfVectorizer\n",
    "from sklearn.metrics                  import silhouette_samples, silhouette_score\n",
    "from sklearn.preprocessing            import normalize\n",
    "from nltk.tokenize                    import word_tokenize\n",
    "import re\n",
    "from unidecode                        import unidecode\n",
    "from nltk.corpus import stopwords"
   ]
  },
  {
   "cell_type": "code",
   "execution_count": 3,
   "id": "a065f1ca",
   "metadata": {},
   "outputs": [],
   "source": [
    "import matplotlib.pyplot  as plt\n",
    "import matplotlib.cm      as cm\n",
    "import seaborn            as sns\n",
    "from sklearn.metrics                  import silhouette_samples, silhouette_score\n",
    "from wordcloud                        import WordCloud"
   ]
  },
  {
   "cell_type": "code",
   "execution_count": 4,
   "id": "3f2b1537",
   "metadata": {},
   "outputs": [],
   "source": [
    "from sklearn import cluster"
   ]
  },
  {
   "cell_type": "code",
   "execution_count": 5,
   "id": "e13664f8",
   "metadata": {},
   "outputs": [],
   "source": [
    "Efesios_1 = \"Paul, an apostle of Jesus Christ by the will of God, to the saints which are at Ephesus, and to the faithful in Christ Jesus:Grace be to you, and peace, from God our Father, and from the Lord Jesus Christ.Blessed be the God and Father of our Lord Jesus Christ, who has blessed us with all spiritual blessings in heavenly places in Christ:According as he has chosen us in him before the foundation of the world, that we should be holy and without blame before him in love:Having predestinated us to the adoption of children by Jesus Christ to himself, according to the good pleasure of his will,To the praise of the glory of his grace, wherein he has made us accepted in the beloved.In whom we have redemption through his blood, the forgiveness of sins, according to the riches of his grace;Wherein he has abounded toward us in all wisdom and prudence;Having made known to us the mystery of his will, according to his good pleasure which he has purposed in himself:That in the dispensation of the fullness of times he might gather together in one all things in Christ, both which are in heaven, and which are on earth; even in him:In whom also we have obtained an inheritance, being predestinated according to the purpose of him who works all things after the counsel of his own will:That we should be to the praise of his glory, who first trusted in Christ.In whom you also trusted, after that you heard the word of truth, the gospel of your salvation: in whom also after that you believed, you were sealed with that holy Spirit of promise,Which is the earnest of our inheritance until the redemption of the purchased possession, to the praise of his glory.Why I also, after I heard of your faith in the Lord Jesus, and love to all the saints,Cease not to give thanks for you, making mention of you in my prayers;That the God of our Lord Jesus Christ, the Father of glory, may give to you the spirit of wisdom and revelation in the knowledge of him:The eyes of your understanding being enlightened; that you may know what is the hope of his calling, and what the riches of the glory of his inheritance in the saints,And what is the exceeding greatness of his power to us-ward who believe, according to the working of his mighty power,Which he worked in Christ, when he raised him from the dead, and set him at his own right hand in the heavenly places,Far above all principality, and power, and might, and dominion, and every name that is named, not only in this world, but also in that which is to come:And has put all things under his feet, and gave him to be the head over all things to the church,Which is his body, the fullness of him that fills all in all.\".lower()"
   ]
  },
  {
   "cell_type": "code",
   "execution_count": 6,
   "id": "1d2ec06f",
   "metadata": {},
   "outputs": [],
   "source": [
    "Efesios_2 = \"And you has he quickened, who were dead in trespasses and sins;Wherein in time past you walked according to the course of this world, according to the prince of the power of the air, the spirit that now works in the children of disobedience:Among whom also we all had our conversation in times past in the lusts of our flesh, fulfilling the desires of the flesh and of the mind; and were by nature the children of wrath, even as others.But God, who is rich in mercy, for his great love with which he loved us,Even when we were dead in sins, has quickened us together with Christ, (by grace you are saved;)And has raised us up together, and made us sit together in heavenly places in Christ Jesus:That in the ages to come he might show the exceeding riches of his grace in his kindness toward us through Christ Jesus.For by grace are you saved through faith; and that not of yourselves: it is the gift of God:Not of works, lest any man should boast.For we are his workmanship, created in Christ Jesus to good works, which God has before ordained that we should walk in them.Why remember, that you being in time past Gentiles in the flesh, who are called Uncircumcision by that which is called the Circumcision in the flesh made by hands;That at that time you were without Christ, being aliens from the commonwealth of Israel, and strangers from the covenants of promise, having no hope, and without God in the world:But now in Christ Jesus you who sometimes were far off are made near by the blood of Christ.For he is our peace, who has made both one, and has broken down the middle wall of partition between us;Having abolished in his flesh the enmity, even the law of commandments contained in ordinances; for to make in himself of two one new man, so making peace;And that he might reconcile both to God in one body by the cross, having slain the enmity thereby:And came and preached peace to you which were afar off, and to them that were near.For through him we both have access by one Spirit to the Father.Now therefore you are no more strangers and foreigners, but fellow citizens with the saints, and of the household of God;And are built on the foundation of the apostles and prophets, Jesus Christ himself being the chief corner stone;In whom all the building fitly framed together grows to an holy temple in the Lord:In whom you also are built together for an habitation of God through the Spirit.\".lower()"
   ]
  },
  {
   "cell_type": "code",
   "execution_count": 7,
   "id": "373b8ce0",
   "metadata": {},
   "outputs": [],
   "source": [
    "Efesios_3 = \"For this cause I Paul, the prisoner of Jesus Christ for you Gentiles,If you have heard of the dispensation of the grace of God which is given me to you-ward:How that by revelation he made known to me the mystery; (as I wrote before in few words,Whereby, when you read, you may understand my knowledge in the mystery of Christ)Which in other ages was not made known to the sons of men, as it is now revealed to his holy apostles and prophets by the Spirit;That the Gentiles should be fellow heirs, and of the same body, and partakers of his promise in Christ by the gospel:Whereof I was made a minister, according to the gift of the grace of God given to me by the effectual working of his power.To me, who am less than the least of all saints, is this grace given, that I should preach among the Gentiles the unsearchable riches of Christ;And to make all men see what is the fellowship of the mystery, which from the beginning of the world has been hid in God, who created all things by Jesus Christ:To the intent that now to the principalities and powers in heavenly places might be known by the church the manifold wisdom of God,According to the eternal purpose which he purposed in Christ Jesus our Lord:In whom we have boldness and access with confidence by the faith of him.Why I desire that you faint not at my tribulations for you, which is your glory.For this cause I bow my knees to the Father of our Lord Jesus Christ,Of whom the whole family in heaven and earth is named,That he would grant you, according to the riches of his glory, to be strengthened with might by his Spirit in the inner man;That Christ may dwell in your hearts by faith; that you, being rooted and grounded in love,May be able to comprehend with all saints what is the breadth, and length, and depth, and height;And to know the love of Christ, which passes knowledge, that you might be filled with all the fullness of God.Now to him that is able to do exceeding abundantly above all that we ask or think, according to the power that works in us,To him be glory in the church by Christ Jesus throughout all ages, world without end. Amen.\".lower()"
   ]
  },
  {
   "cell_type": "code",
   "execution_count": 8,
   "id": "fbf61124",
   "metadata": {},
   "outputs": [],
   "source": [
    "Efesios_4 = \"I therefore, the prisoner of the Lord, beseech you that you walk worthy of the vocation with which you are called,With all lowliness and meekness, with long-suffering, forbearing one another in love;Endeavoring to keep the unity of the Spirit in the bond of peace.There is one body, and one Spirit, even as you are called in one hope of your calling;One Lord, one faith, one baptism,One God and Father of all, who is above all, and through all, and in you all.But to every one of us is given grace according to the measure of the gift of Christ.Why he said, When he ascended up on high, he led captivity captive, and gave gifts to men.(Now that he ascended, what is it but that he also descended first into the lower parts of the earth?He that descended is the same also that ascended up far above all heavens, that he might fill all things.)And he gave some, apostles; and some, prophets; and some, evangelists; and some, pastors and teachers;For the perfecting of the saints, for the work of the ministry, for the edifying of the body of Christ:Till we all come in the unity of the faith, and of the knowledge of the Son of God, to a perfect man, to the measure of the stature of the fullness of Christ:That we from now on be no more children, tossed to and fro, and carried about with every wind of doctrine, by the sleight of men, and cunning craftiness, whereby they lie in wait to deceive;But speaking the truth in love, may grow up into him in all things, which is the head, even Christ:From whom the whole body fitly joined together and compacted by that which every joint supplies, according to the effectual working in the measure of every part, makes increase of the body to the edifying of itself in love.This I say therefore, and testify in the Lord, that you from now on walk not as other Gentiles walk, in the vanity of their mind,Having the understanding darkened, being alienated from the life of God through the ignorance that is in them, because of the blindness of their heart:Who being past feeling have given themselves over to lasciviousness, to work all uncleanness with greediness.But you have not so learned Christ;If so be that you have heard him, and have been taught by him, as the truth is in Jesus:That you put off concerning the former conversation the old man, which is corrupt according to the deceitful lusts;And be renewed in the spirit of your mind;And that you put on the new man, which after God is created in righteousness and true holiness.Why putting away lying, speak every man truth with his neighbor: for we are members one of another.Be you angry, and sin not: let not the sun go down on your wrath:Neither give place to the devil.Let him that stole steal no more: but rather let him labor, working with his hands the thing which is good, that he may have to give to him that needs.Let no corrupt communication proceed out of your mouth, but that which is good to the use of edifying, that it may minister grace to the hearers.And grieve not the holy Spirit of God, whereby you are sealed to the day of redemption.Let all bitterness, and wrath, and anger, and clamor, and evil speaking, be put away from you, with all malice:And be you kind one to another, tenderhearted, forgiving one another, even as God for Christ' sake has forgiven you.\".lower()"
   ]
  },
  {
   "cell_type": "code",
   "execution_count": 9,
   "id": "32ae9f76",
   "metadata": {},
   "outputs": [],
   "source": [
    "Efesios_5 = \"Be you therefore followers of God, as dear children;And walk in love, as Christ also has loved us, and has given himself for us an offering and a sacrifice to God for a sweet smelling smell.But fornication, and all uncleanness, or covetousness, let it not be once named among you, as becomes saints;Neither filthiness, nor foolish talking, nor jesting, which are not convenient: but rather giving of thanks.For this you know, that no fornicator, nor unclean person, nor covetous man, who is an idolater, has any inheritance in the kingdom of Christ and of God.Let no man deceive you with vain words: for because of these things comes the wrath of God on the children of disobedience.Be not you therefore partakers with them.For you were sometimes darkness, but now are you light in the Lord: walk as children of light:(For the fruit of the Spirit is in all goodness and righteousness and truth;)Proving what is acceptable to the Lord.And have no fellowship with the unfruitful works of darkness, but rather reprove them.For it is a shame even to speak of those things which are done of them in secret.But all things that are reproved are made manifest by the light: for whatever does make manifest is light.Why he said, Awake you that sleep, and arise from the dead, and Christ shall give you light.See then that you walk circumspectly, not as fools, but as wise,Redeeming the time, because the days are evil.Why be you not unwise, but understanding what the will of the Lord is.And be not drunk with wine, wherein is excess; but be filled with the Spirit;Speaking to yourselves in psalms and hymns and spiritual songs, singing and making melody in your heart to the Lord;Giving thanks always for all things to God and the Father in the name of our Lord Jesus Christ;Submitting yourselves one to another in the fear of God.Wives, submit yourselves to your own husbands, as to the Lord.For the husband is the head of the wife, even as Christ is the head of the church: and he is the savior of the body.Therefore as the church is subject to Christ, so let the wives be to their own husbands in every thing.Husbands, love your wives, even as Christ also loved the church, and gave himself for it;That he might sanctify and cleanse it with the washing of water by the word,That he might present it to himself a glorious church, not having spot, or wrinkle, or any such thing; but that it should be holy and without blemish.So ought men to love their wives as their own bodies. He that loves his wife loves himself.For no man ever yet hated his own flesh; but nourishes and cherishes it, even as the Lord the church:For we are members of his body, of his flesh, and of his bones.For this cause shall a man leave his father and mother, and shall be joined to his wife, and they two shall be one flesh.This is a great mystery: but I speak concerning Christ and the church.Nevertheless let every one of you in particular so love his wife even as himself; and the wife see that she reverence her husband.\".lower()"
   ]
  },
  {
   "cell_type": "code",
   "execution_count": 10,
   "id": "b8d9bdcd",
   "metadata": {},
   "outputs": [],
   "source": [
    "Efesios_6 = \"Children, obey your parents in the Lord: for this is right.Honor your father and mother; which is the first commandment with promise;That it may be well with you, and you may live long on the earth.And, you fathers, provoke not your children to wrath: but bring them up in the nurture and admonition of the Lord.Servants, be obedient to them that are your masters according to the flesh, with fear and trembling, in singleness of your heart, as to Christ;Not with eye-service, as men pleasers; but as the servants of Christ, doing the will of God from the heart;With good will doing service, as to the Lord, and not to men:Knowing that whatever good thing any man does, the same shall he receive of the Lord, whether he be bond or free.And, you masters, do the same things to them, forbearing threatening: knowing that your Master also is in heaven; neither is there respect of persons with him.Finally, my brothers, be strong in the Lord, and in the power of his might.Put on the whole armor of God, that you may be able to stand against the wiles of the devil.For we wrestle not against flesh and blood, but against principalities, against powers, against the rulers of the darkness of this world, against spiritual wickedness in high places.Why take to you the whole armor of God, that you may be able to withstand in the evil day, and having done all, to stand.Stand therefore, having your loins girt about with truth, and having on the breastplate of righteousness;And your feet shod with the preparation of the gospel of peace;Above all, taking the shield of faith, with which you shall be able to quench all the fiery darts of the wicked.And take the helmet of salvation, and the sword of the Spirit, which is the word of God:Praying always with all prayer and supplication in the Spirit, and watching thereunto with all perseverance and supplication for all saints;And for me, that utterance may be given to me, that I may open my mouth boldly, to make known the mystery of the gospel,For which I am an ambassador in bonds: that therein I may speak boldly, as I ought to speak.But that you also may know my affairs, and how I do, Tychicus, a beloved brother and faithful minister in the Lord, shall make known to you all things:Whom I have sent to you for the same purpose, that you might know our affairs, and that he might comfort your hearts.Peace be to the brothers, and love with faith, from God the Father and the Lord Jesus Christ.Grace be with all them that love our Lord Jesus Christ in sincerity. Amen.\".lower()"
   ]
  },
  {
   "cell_type": "code",
   "execution_count": 35,
   "id": "dd733376",
   "metadata": {},
   "outputs": [],
   "source": [
    "tokens = nltk.word_tokenize(Efesios_6)"
   ]
  },
  {
   "cell_type": "code",
   "execution_count": 36,
   "id": "878980f2",
   "metadata": {},
   "outputs": [],
   "source": [
    "stop_words = set(stopwords.words('english'))"
   ]
  },
  {
   "cell_type": "code",
   "execution_count": 37,
   "id": "c27b1560",
   "metadata": {},
   "outputs": [],
   "source": [
    "filtered_sentence1 = [w for w in tokens if not w in stop_words] \n",
    "  \n",
    "filtered_sentence1 = []\n",
    "  \n",
    "for w in tokens: \n",
    "    if w not in stop_words: \n",
    "        filtered_sentence1.append(w)"
   ]
  },
  {
   "cell_type": "code",
   "execution_count": 38,
   "id": "7bf9d809",
   "metadata": {},
   "outputs": [
    {
     "name": "stdout",
     "output_type": "stream",
     "text": [
      "['children', ',', 'obey', 'parents', 'lord', ':', 'right.honor', 'father', 'mother', ';', 'first', 'commandment', 'promise', ';', 'may', 'well', ',', 'may', 'live', 'long', 'earth.and', ',', 'fathers', ',', 'provoke', 'children', 'wrath', ':', 'bring', 'nurture', 'admonition', 'lord.servants', ',', 'obedient', 'masters', 'according', 'flesh', ',', 'fear', 'trembling', ',', 'singleness', 'heart', ',', 'christ', ';', 'eye-service', ',', 'men', 'pleasers', ';', 'servants', 'christ', ',', 'god', 'heart', ';', 'good', 'service', ',', 'lord', ',', 'men', ':', 'knowing', 'whatever', 'good', 'thing', 'man', ',', 'shall', 'receive', 'lord', ',', 'whether', 'bond', 'free.and', ',', 'masters', ',', 'things', ',', 'forbearing', 'threatening', ':', 'knowing', 'master', 'also', 'heaven', ';', 'neither', 'respect', 'persons', 'him.finally', ',', 'brothers', ',', 'strong', 'lord', ',', 'power', 'might.put', 'whole', 'armor', 'god', ',', 'may', 'able', 'stand', 'wiles', 'devil.for', 'wrestle', 'flesh', 'blood', ',', 'principalities', ',', 'powers', ',', 'rulers', 'darkness', 'world', ',', 'spiritual', 'wickedness', 'high', 'places.why', 'take', 'whole', 'armor', 'god', ',', 'may', 'able', 'withstand', 'evil', 'day', ',', 'done', ',', 'stand.stand', 'therefore', ',', 'loins', 'girt', 'truth', ',', 'breastplate', 'righteousness', ';', 'feet', 'shod', 'preparation', 'gospel', 'peace', ';', ',', 'taking', 'shield', 'faith', ',', 'shall', 'able', 'quench', 'fiery', 'darts', 'wicked.and', 'take', 'helmet', 'salvation', ',', 'sword', 'spirit', ',', 'word', 'god', ':', 'praying', 'always', 'prayer', 'supplication', 'spirit', ',', 'watching', 'thereunto', 'perseverance', 'supplication', 'saints', ';', ',', 'utterance', 'may', 'given', ',', 'may', 'open', 'mouth', 'boldly', ',', 'make', 'known', 'mystery', 'gospel', ',', 'ambassador', 'bonds', ':', 'therein', 'may', 'speak', 'boldly', ',', 'ought', 'speak.but', 'also', 'may', 'know', 'affairs', ',', ',', 'tychicus', ',', 'beloved', 'brother', 'faithful', 'minister', 'lord', ',', 'shall', 'make', 'known', 'things', ':', 'sent', 'purpose', ',', 'might', 'know', 'affairs', ',', 'might', 'comfort', 'hearts.peace', 'brothers', ',', 'love', 'faith', ',', 'god', 'father', 'lord', 'jesus', 'christ.grace', 'love', 'lord', 'jesus', 'christ', 'sincerity', '.', 'amen', '.']\n"
     ]
    }
   ],
   "source": [
    "print(filtered_sentence1)"
   ]
  },
  {
   "cell_type": "code",
   "execution_count": 39,
   "id": "2aeb7cac",
   "metadata": {},
   "outputs": [],
   "source": [
    "data =np.array([[\"Efesios_1\", \"'paul', ',', 'apostle', 'jesus', 'christ', 'god', ',', 'saints', 'ephesus', ',', 'faithful', 'christ', 'jesus', ':', 'grace', ',', 'peace', ',', 'god', 'father', ',', 'lord', 'jesus', 'christ.blessed', 'god', 'father', 'lord', 'jesus', 'christ', ',', 'blessed', 'us', 'spiritual', 'blessings', 'heavenly', 'places', 'christ', ':', 'according', 'chosen', 'us', 'foundation', 'world', ',', 'holy', 'without', 'blame', 'love', ':', 'predestinated', 'us', 'adoption', 'children', 'jesus', 'christ', ',', 'according', 'good', 'pleasure', ',', 'praise', 'glory', 'grace', ',', 'wherein', 'made', 'us', 'accepted', 'beloved.in', 'redemption', 'blood', ',', 'forgiveness', 'sins', ',', 'according', 'riches', 'grace', ';', 'wherein', 'abounded', 'toward', 'us', 'wisdom', 'prudence', ';', 'made', 'known', 'us', 'mystery', ',', 'according', 'good', 'pleasure', 'purposed', ':', 'dispensation', 'fullness', 'times', 'might', 'gather', 'together', 'one', 'things', 'christ', ',', 'heaven', ',', 'earth', ';', 'even', ':', 'also', 'obtained', 'inheritance', ',', 'predestinated', 'according', 'purpose', 'works', 'things', 'counsel', ':', 'praise', 'glory', ',', 'first', 'trusted', 'christ.in', 'also', 'trusted', ',', 'heard', 'word', 'truth', ',', 'gospel', 'salvation', ':', 'also', 'believed', ',', 'sealed', 'holy', 'spirit', 'promise', ',', 'earnest', 'inheritance', 'redemption', 'purchased', 'possession', ',', 'praise', 'glory.why', 'also', ',', 'heard', 'faith', 'lord', 'jesus', ',', 'love', 'saints', ',', 'cease', 'give', 'thanks', ',', 'making', 'mention', 'prayers', ';', 'god', 'lord', 'jesus', 'christ', ',', 'father', 'glory', ',', 'may', 'give', 'spirit', 'wisdom', 'revelation', 'knowledge', ':', 'eyes', 'understanding', 'enlightened', ';', 'may', 'know', 'hope', 'calling', ',', 'riches', 'glory', 'inheritance', 'saints', ',', 'exceeding', 'greatness', 'power', 'us-ward', 'believe', ',', 'according', 'working', 'mighty', 'power', ',', 'worked', 'christ', ',', 'raised', 'dead', ',', 'set', 'right', 'hand', 'heavenly', 'places', ',', 'far', 'principality', ',', 'power', ',', 'might', ',', 'dominion', ',', 'every', 'name', 'named', ',', 'world', ',', 'also', 'come', ':', 'put', 'things', 'feet', ',', 'gave', 'head', 'things', 'church', ',', 'body', ',', 'fullness', 'fills', '.'\"],\n",
    "               [\"Efesios_2\", \"'quickened', ',', 'dead', 'trespasses', 'sins', ';', 'wherein', 'time', 'past', 'walked', 'according', 'course', 'world', ',', 'according', 'prince', 'power', 'air', ',', 'spirit', 'works', 'children', 'disobedience', ':', 'among', 'also', 'conversation', 'times', 'past', 'lusts', 'flesh', ',', 'fulfilling', 'desires', 'flesh', 'mind', ';', 'nature', 'children', 'wrath', ',', 'even', 'others.but', 'god', ',', 'rich', 'mercy', ',', 'great', 'love', 'loved', 'us', ',', 'even', 'dead', 'sins', ',', 'quickened', 'us', 'together', 'christ', ',', '(', 'grace', 'saved', ';', ')', 'raised', 'us', 'together', ',', 'made', 'us', 'sit', 'together', 'heavenly', 'places', 'christ', 'jesus', ':', 'ages', 'come', 'might', 'show', 'exceeding', 'riches', 'grace', 'kindness', 'toward', 'us', 'christ', 'jesus.for', 'grace', 'saved', 'faith', ';', ':', 'gift', 'god', ':', 'works', ',', 'lest', 'man', 'boast.for', 'workmanship', ',', 'created', 'christ', 'jesus', 'good', 'works', ',', 'god', 'ordained', 'walk', 'them.why', 'remember', ',', 'time', 'past', 'gentiles', 'flesh', ',', 'called', 'uncircumcision', 'called', 'circumcision', 'flesh', 'made', 'hands', ';', 'time', 'without', 'christ', ',', 'aliens', 'commonwealth', 'israel', ',', 'strangers', 'covenants', 'promise', ',', 'hope', ',', 'without', 'god', 'world', ':', 'christ', 'jesus', 'sometimes', 'far', 'made', 'near', 'blood', 'christ.for', 'peace', ',', 'made', 'one', ',', 'broken', 'middle', 'wall', 'partition', 'us', ';', 'abolished', 'flesh', 'enmity', ',', 'even', 'law', 'commandments', 'contained', 'ordinances', ';', 'make', 'two', 'one', 'new', 'man', ',', 'making', 'peace', ';', 'might', 'reconcile', 'god', 'one', 'body', 'cross', ',', 'slain', 'enmity', 'thereby', ':', 'came', 'preached', 'peace', 'afar', ',', 'near.for', 'access', 'one', 'spirit', 'father.now', 'therefore', 'strangers', 'foreigners', ',', 'fellow', 'citizens', 'saints', ',', 'household', 'god', ';', 'built', 'foundation', 'apostles', 'prophets', ',', 'jesus', 'christ', 'chief', 'corner', 'stone', ';', 'building', 'fitly', 'framed', 'together', 'grows', 'holy', 'temple', 'lord', ':', 'also', 'built', 'together', 'habitation', 'god', 'spirit', '.'\"],\n",
    "               [\"Efesios_3\", \"'cause', 'paul', ',', 'prisoner', 'jesus', 'christ', 'gentiles', ',', 'heard', 'dispensation', 'grace', 'god', 'given', 'you-ward', ':', 'revelation', 'made', 'known', 'mystery', ';', '(', 'wrote', 'words', ',', 'whereby', ',', 'read', ',', 'may', 'understand', 'knowledge', 'mystery', 'christ', ')', 'ages', 'made', 'known', 'sons', 'men', ',', 'revealed', 'holy', 'apostles', 'prophets', 'spirit', ';', 'gentiles', 'fellow', 'heirs', ',', 'body', ',', 'partakers', 'promise', 'christ', 'gospel', ':', 'whereof', 'made', 'minister', ',', 'according', 'gift', 'grace', 'god', 'given', 'effectual', 'working', 'power.to', ',', 'less', 'least', 'saints', ',', 'grace', 'given', ',', 'preach', 'among', 'gentiles', 'unsearchable', 'riches', 'christ', ';', 'make', 'men', 'see', 'fellowship', 'mystery', ',', 'beginning', 'world', 'hid', 'god', ',', 'created', 'things', 'jesus', 'christ', ':', 'intent', 'principalities', 'powers', 'heavenly', 'places', 'might', 'known', 'church', 'manifold', 'wisdom', 'god', ',', 'according', 'eternal', 'purpose', 'purposed', 'christ', 'jesus', 'lord', ':', 'boldness', 'access', 'confidence', 'faith', 'him.why', 'desire', 'faint', 'tribulations', ',', 'glory.for', 'cause', 'bow', 'knees', 'father', 'lord', 'jesus', 'christ', ',', 'whole', 'family', 'heaven', 'earth', 'named', ',', 'would', 'grant', ',', 'according', 'riches', 'glory', ',', 'strengthened', 'might', 'spirit', 'inner', 'man', ';', 'christ', 'may', 'dwell', 'hearts', 'faith', ';', ',', 'rooted', 'grounded', 'love', ',', 'may', 'able', 'comprehend', 'saints', 'breadth', ',', 'length', ',', 'depth', ',', 'height', ';', 'know', 'love', 'christ', ',', 'passes', 'knowledge', ',', 'might', 'filled', 'fullness', 'god.now', 'able', 'exceeding', 'abundantly', 'ask', 'think', ',', 'according', 'power', 'works', 'us', ',', 'glory', 'church', 'christ', 'jesus', 'throughout', 'ages', ',', 'world', 'without', 'end', '.', 'amen', '.'\"],\n",
    "               [\"Efesios_4\", \"'therefore', ',', 'prisoner', 'lord', ',', 'beseech', 'walk', 'worthy', 'vocation', 'called', ',', 'lowliness', 'meekness', ',', 'long-suffering', ',', 'forbearing', 'one', 'another', 'love', ';', 'endeavoring', 'keep', 'unity', 'spirit', 'bond', 'peace.there', 'one', 'body', ',', 'one', 'spirit', ',', 'even', 'called', 'one', 'hope', 'calling', ';', 'one', 'lord', ',', 'one', 'faith', ',', 'one', 'baptism', ',', 'one', 'god', 'father', ',', ',', ',', 'all.but', 'every', 'one', 'us', 'given', 'grace', 'according', 'measure', 'gift', 'christ.why', 'said', ',', 'ascended', 'high', ',', 'led', 'captivity', 'captive', ',', 'gave', 'gifts', 'men', '.', '(', 'ascended', ',', 'also', 'descended', 'first', 'lower', 'parts', 'earth', '?', 'descended', 'also', 'ascended', 'far', 'heavens', ',', 'might', 'fill', 'things', '.', ')', 'gave', ',', 'apostles', ';', ',', 'prophets', ';', ',', 'evangelists', ';', ',', 'pastors', 'teachers', ';', 'perfecting', 'saints', ',', 'work', 'ministry', ',', 'edifying', 'body', 'christ', ':', 'till', 'come', 'unity', 'faith', ',', 'knowledge', 'son', 'god', ',', 'perfect', 'man', ',', 'measure', 'stature', 'fullness', 'christ', ':', 'children', ',', 'tossed', 'fro', ',', 'carried', 'every', 'wind', 'doctrine', ',', 'sleight', 'men', ',', 'cunning', 'craftiness', ',', 'whereby', 'lie', 'wait', 'deceive', ';', 'speaking', 'truth', 'love', ',', 'may', 'grow', 'things', ',', 'head', ',', 'even', 'christ', ':', 'whole', 'body', 'fitly', 'joined', 'together', 'compacted', 'every', 'joint', 'supplies', ',', 'according', 'effectual', 'working', 'measure', 'every', 'part', ',', 'makes', 'increase', 'body', 'edifying', 'love.this', 'say', 'therefore', ',', 'testify', 'lord', ',', 'walk', 'gentiles', 'walk', ',', 'vanity', 'mind', ',', 'understanding', 'darkened', ',', 'alienated', 'life', 'god', 'ignorance', ',', 'blindness', 'heart', ':', 'past', 'feeling', 'given', 'lasciviousness', ',', 'work', 'uncleanness', 'greediness.but', 'learned', 'christ', ';', 'heard', ',', 'taught', ',', 'truth', 'jesus', ':', 'put', 'concerning', 'former', 'conversation', 'old', 'man', ',', 'corrupt', 'according', 'deceitful', 'lusts', ';', 'renewed', 'spirit', 'mind', ';', 'put', 'new', 'man', ',', 'god', 'created', 'righteousness', 'true', 'holiness.why', 'putting', 'away', 'lying', ',', 'speak', 'every', 'man', 'truth', 'neighbor', ':', 'members', 'one', 'another.be', 'angry', ',', 'sin', ':', 'let', 'sun', 'go', 'wrath', ':', 'neither', 'give', 'place', 'devil.let', 'stole', 'steal', ':', 'rather', 'let', 'labor', ',', 'working', 'hands', 'thing', 'good', ',', 'may', 'give', 'needs.let', 'corrupt', 'communication', 'proceed', 'mouth', ',', 'good', 'use', 'edifying', ',', 'may', 'minister', 'grace', 'hearers.and', 'grieve', 'holy', 'spirit', 'god', ',', 'whereby', 'sealed', 'day', 'redemption.let', 'bitterness', ',', 'wrath', ',', 'anger', ',', 'clamor', ',', 'evil', 'speaking', ',', 'put', 'away', ',', 'malice', ':', 'kind', 'one', 'another', ',', 'tenderhearted', ',', 'forgiving', 'one', 'another', ',', 'even', 'god', 'christ', ', 'sake', 'forgiven', '.'\"],\n",
    "               [\"Efesios_5\", \"'therefore', 'followers', 'god', ',', 'dear', 'children', ';', 'walk', 'love', ',', 'christ', 'also', 'loved', 'us', ',', 'given', 'us', 'offering', 'sacrifice', 'god', 'sweet', 'smelling', 'smell.but', 'fornication', ',', 'uncleanness', ',', 'covetousness', ',', 'let', 'named', 'among', ',', 'becomes', 'saints', ';', 'neither', 'filthiness', ',', 'foolish', 'talking', ',', 'jesting', ',', 'convenient', ':', 'rather', 'giving', 'thanks.for', 'know', ',', 'fornicator', ',', 'unclean', 'person', ',', 'covetous', 'man', ',', 'idolater', ',', 'inheritance', 'kingdom', 'christ', 'god.let', 'man', 'deceive', 'vain', 'words', ':', 'things', 'comes', 'wrath', 'god', 'children', 'disobedience.be', 'therefore', 'partakers', 'them.for', 'sometimes', 'darkness', ',', 'light', 'lord', ':', 'walk', 'children', 'light', ':', '(', 'fruit', 'spirit', 'goodness', 'righteousness', 'truth', ';', ')', 'proving', 'acceptable', 'lord.and', 'fellowship', 'unfruitful', 'works', 'darkness', ',', 'rather', 'reprove', 'them.for', 'shame', 'even', 'speak', 'things', 'done', 'secret.but', 'things', 'reproved', 'made', 'manifest', 'light', ':', 'whatever', 'make', 'manifest', 'light.why', 'said', ',', 'awake', 'sleep', ',', 'arise', 'dead', ',', 'christ', 'shall', 'give', 'light.see', 'walk', 'circumspectly', ',', 'fools', ',', 'wise', ',', 'redeeming', 'time', ',', 'days', 'evil.why', 'unwise', ',', 'understanding', 'lord', 'is.and', 'drunk', 'wine', ',', 'wherein', 'excess', ';', 'filled', 'spirit', ';', 'speaking', 'psalms', 'hymns', 'spiritual', 'songs', ',', 'singing', 'making', 'melody', 'heart', 'lord', ';', 'giving', 'thanks', 'always', 'things', 'god', 'father', 'name', 'lord', 'jesus', 'christ', ';', 'submitting', 'one', 'another', 'fear', 'god.wives', ',', 'submit', 'husbands', ',', 'lord.for', 'husband', 'head', 'wife', ',', 'even', 'christ', 'head', 'church', ':', 'savior', 'body.therefore', 'church', 'subject', 'christ', ',', 'let', 'wives', 'husbands', 'every', 'thing.husbands', ',', 'love', 'wives', ',', 'even', 'christ', 'also', 'loved', 'church', ',', 'gave', ';', 'might', 'sanctify', 'cleanse', 'washing', 'water', 'word', ',', 'might', 'present', 'glorious', 'church', ',', 'spot', ',', 'wrinkle', ',', 'thing', ';', 'holy', 'without', 'blemish.so', 'ought', 'men', 'love', 'wives', 'bodies', '.', 'loves', 'wife', 'loves', 'himself.for', 'man', 'ever', 'yet', 'hated', 'flesh', ';', 'nourishes', 'cherishes', ',', 'even', 'lord', 'church', ':', 'members', 'body', ',', 'flesh', ',', 'bones.for', 'cause', 'shall', 'man', 'leave', 'father', 'mother', ',', 'shall', 'joined', 'wife', ',', 'two', 'shall', 'one', 'flesh.this', 'great', 'mystery', ':', 'speak', 'concerning', 'christ', 'church.nevertheless', 'let', 'every', 'one', 'particular', 'love', 'wife', 'even', ';', 'wife', 'see', 'reverence', 'husband', '.'\"],\n",
    "               [\"Efesios_6\", \"'children', ',', 'obey', 'parents', 'lord', ':', 'right.honor', 'father', 'mother', ';', 'first', 'commandment', 'promise', ';', 'may', 'well', ',', 'may', 'live', 'long', 'earth.and', ',', 'fathers', ',', 'provoke', 'children', 'wrath', ':', 'bring', 'nurture', 'admonition', 'lord.servants', ',', 'obedient', 'masters', 'according', 'flesh', ',', 'fear', 'trembling', ',', 'singleness', 'heart', ',', 'christ', ';', 'eye-service', ',', 'men', 'pleasers', ';', 'servants', 'christ', ',', 'god', 'heart', ';', 'good', 'service', ',', 'lord', ',', 'men', ':', 'knowing', 'whatever', 'good', 'thing', 'man', ',', 'shall', 'receive', 'lord', ',', 'whether', 'bond', 'free.and', ',', 'masters', ',', 'things', ',', 'forbearing', 'threatening', ':', 'knowing', 'master', 'also', 'heaven', ';', 'neither', 'respect', 'persons', 'him.finally', ',', 'brothers', ',', 'strong', 'lord', ',', 'power', 'might.put', 'whole', 'armor', 'god', ',', 'may', 'able', 'stand', 'wiles', 'devil.for', 'wrestle', 'flesh', 'blood', ',', 'principalities', ',', 'powers', ',', 'rulers', 'darkness', 'world', ',', 'spiritual', 'wickedness', 'high', 'places.why', 'take', 'whole', 'armor', 'god', ',', 'may', 'able', 'withstand', 'evil', 'day', ',', 'done', ',', 'stand.stand', 'therefore', ',', 'loins', 'girt', 'truth', ',', 'breastplate', 'righteousness', ';', 'feet', 'shod', 'preparation', 'gospel', 'peace', ';', ',', 'taking', 'shield', 'faith', ',', 'shall', 'able', 'quench', 'fiery', 'darts', 'wicked.and', 'take', 'helmet', 'salvation', ',', 'sword', 'spirit', ',', 'word', 'god', ':', 'praying', 'always', 'prayer', 'supplication', 'spirit', ',', 'watching', 'thereunto', 'perseverance', 'supplication', 'saints', ';', ',', 'utterance', 'may', 'given', ',', 'may', 'open', 'mouth', 'boldly', ',', 'make', 'known', 'mystery', 'gospel', ',', 'ambassador', 'bonds', ':', 'therein', 'may', 'speak', 'boldly', ',', 'ought', 'speak.but', 'also', 'may', 'know', 'affairs', ',', ',', 'tychicus', ',', 'beloved', 'brother', 'faithful', 'minister', 'lord', ',', 'shall', 'make', 'known', 'things', ':', 'sent', 'purpose', ',', 'might', 'know', 'affairs', ',', 'might', 'comfort', 'hearts.peace', 'brothers', ',', 'love', 'faith', ',', 'god', 'father', 'lord', 'jesus', 'christ.grace', 'love', 'lord', 'jesus', 'christ', 'sincerity', '.', 'amen', '.'\"]])"
   ]
  },
  {
   "cell_type": "code",
   "execution_count": 41,
   "id": "ebbc4f05",
   "metadata": {},
   "outputs": [],
   "source": [
    "df = pd.DataFrame(data, index=range(100,106),columns=['Autor', 'Livro'])"
   ]
  },
  {
   "cell_type": "code",
   "execution_count": 42,
   "id": "b7e64b09",
   "metadata": {},
   "outputs": [
    {
     "name": "stdout",
     "output_type": "stream",
     "text": [
      "         Autor                                              Livro\n",
      "100  Efesios_1  'paul', ',', 'apostle', 'jesus', 'christ', 'go...\n",
      "101  Efesios_2  'quickened', ',', 'dead', 'trespasses', 'sins'...\n",
      "102  Efesios_3  'cause', 'paul', ',', 'prisoner', 'jesus', 'ch...\n",
      "103  Efesios_4  'therefore', ',', 'prisoner', 'lord', ',', 'be...\n",
      "104  Efesios_5  'therefore', 'followers', 'god', ',', 'dear', ...\n",
      "105  Efesios_6  'children', ',', 'obey', 'parents', 'lord', ':...\n"
     ]
    }
   ],
   "source": [
    "print(df)"
   ]
  },
  {
   "cell_type": "code",
   "execution_count": null,
   "id": "481f7590",
   "metadata": {},
   "outputs": [],
   "source": []
  }
 ],
 "metadata": {
  "kernelspec": {
   "display_name": "Python 3 (ipykernel)",
   "language": "python",
   "name": "python3"
  },
  "language_info": {
   "codemirror_mode": {
    "name": "ipython",
    "version": 3
   },
   "file_extension": ".py",
   "mimetype": "text/x-python",
   "name": "python",
   "nbconvert_exporter": "python",
   "pygments_lexer": "ipython3",
   "version": "3.7.2"
  }
 },
 "nbformat": 4,
 "nbformat_minor": 5
}
