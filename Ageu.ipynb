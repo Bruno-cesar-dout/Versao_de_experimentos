{
 "cells": [
  {
   "cell_type": "code",
   "execution_count": 1,
   "metadata": {},
   "outputs": [],
   "source": [
    "import numpy  as np\n",
    "import pandas as pd\n",
    "import json\n",
    "import pandas"
   ]
  },
  {
   "cell_type": "code",
   "execution_count": 2,
   "metadata": {},
   "outputs": [],
   "source": [
    "import nltk\n",
    "import nltk.corpus\n",
    "from sklearn.feature_extraction.text  import TfidfVectorizer\n",
    "from sklearn.metrics                  import silhouette_samples, silhouette_score\n",
    "from sklearn.preprocessing            import normalize\n",
    "from nltk.tokenize                    import word_tokenize\n",
    "import re\n",
    "from unidecode                        import unidecode\n",
    "from nltk.corpus import stopwords"
   ]
  },
  {
   "cell_type": "code",
   "execution_count": 3,
   "metadata": {},
   "outputs": [],
   "source": [
    "import matplotlib.pyplot  as plt\n",
    "import matplotlib.cm      as cm\n",
    "import seaborn            as sns\n",
    "from sklearn.metrics                  import silhouette_samples, silhouette_score\n",
    "from wordcloud                        import WordCloud"
   ]
  },
  {
   "cell_type": "code",
   "execution_count": 4,
   "metadata": {},
   "outputs": [],
   "source": [
    "from sklearn import cluster"
   ]
  },
  {
   "cell_type": "code",
   "execution_count": 5,
   "metadata": {},
   "outputs": [],
   "source": [
    "Ageu_1 = \"In the second year of Darius the king, in the sixth month, in the first day of the month, came the word of the LORD by Haggai the prophet to Zerubbabel the son of Shealtiel, governor of Judah, and to Joshua the son of Josedech, the high priest, saying,Thus speaks the LORD of hosts, saying, This people say, The time is not come, the time that the LORD' house should be built.Then came the word of the LORD by Haggai the prophet, saying,Is it time for you, O you, to dwell in your paneled houses, and this house lie waste?Now therefore thus said the LORD of hosts; Consider your ways.You have sown much, and bring in little; you eat, but you have not enough; you drink, but you are not filled with drink; you clothe you, but there is none warm; and he that earns wages earns wages to put it into a bag with holes.Thus said the LORD of hosts; Consider your ways.Go up to the mountain, and bring wood, and build the house; and I will take pleasure in it, and I will be glorified, said the LORD.You looked for much, and, see it came to little; and when you brought it home, I did blow on it. Why? said the LORD of hosts. Because of my house that is waste, and you run every man to his own house.Therefore the heaven over you is stayed from dew, and the earth is stayed from her fruit.And I called for a drought on the land, and on the mountains, and on the corn, and on the new wine, and on the oil, and on that which the ground brings forth, and on men, and on cattle, and on all the labor of the hands.Then Zerubbabel the son of Shealtiel, and Joshua the son of Josedech, the high priest, with all the remnant of the people, obeyed the voice of the LORD their God, and the words of Haggai the prophet, as the LORD their God had sent him, and the people did fear before the LORD.Then spoke Haggai the LORD' messenger in the LORD' message to the people, saying, I am with you, said the LORD.And the LORD stirred up the spirit of Zerubbabel the son of Shealtiel, governor of Judah, and the spirit of Joshua the son of Josedech, the high priest, and the spirit of all the remnant of the people; and they came and did work in the house of the LORD of hosts, their God,In the four and twentieth day of the sixth month, in the second year of Darius the king.\".lower()"
   ]
  },
  {
   "cell_type": "code",
   "execution_count": 6,
   "metadata": {},
   "outputs": [],
   "source": [
    "Ageu_2 = \"In the seventh month, in the one and twentieth day of the month, came the word of the LORD by the prophet Haggai, saying,Speak now to Zerubbabel the son of Shealtiel, governor of Judah, and to Joshua the son of Josedech, the high priest, and to the residue of the people, saying,Who is left among you that saw this house in her first glory? and how do you see it now? is it not in your eyes in comparison of it as nothing?Yet now be strong, O Zerubbabel, said the LORD; and be strong, O Joshua, son of Josedech, the high priest; and be strong, all you people of the land, said the LORD, and work: for I am with you, said the LORD of hosts:According to the word that I covenanted with you when you came out of Egypt, so my spirit remains among you: fear you not.For thus said the LORD of hosts; Yet once, it is a little while, and I will shake the heavens, and the earth, and the sea, and the dry land;And I will shake all nations, and the desire of all nations shall come: and I will fill this house with glory, said the LORD of hosts.The silver is mine, and the gold is mine, said the LORD of hosts.The glory of this latter house shall be greater than of the former, said the LORD of hosts: and in this place will I give peace, said the LORD of hosts.In the four and twentieth day of the ninth month, in the second year of Darius, came the word of the LORD by Haggai the prophet, saying,Thus said the LORD of hosts; Ask now the priests concerning the law, saying,If one bear holy flesh in the skirt of his garment, and with his skirt do touch bread, or pottage, or wine, or oil, or any meat, shall it be holy? And the priests answered and said, No.Then said Haggai, If one that is unclean by a dead body touch any of these, shall it be unclean? And the priests answered and said, It shall be unclean.Then answered Haggai, and said, So is this people, and so is this nation before me, said the LORD; and so is every work of their hands; and that which they offer there is unclean.And now, I pray you, consider from this day and upward, from before a stone was laid on a stone in the temple of the LORD:Since those days were, when one came to an heap of twenty measures, there were but ten: when one came to the fat press for to draw out fifty vessels out of the press, there were but twenty.I smote you with blasting and with mildew and with hail in all the labors of your hands; yet you turned not to me, said the LORD.Consider now from this day and upward, from the four and twentieth day of the ninth month, even from the day that the foundation of the LORD' temple was laid, consider it.Is the seed yet in the barn? yes, as yet the vine, and the fig tree, and the pomegranate, and the olive tree, has not brought forth: from this day will I bless you.And again the word of the LORD came to Haggai in the four and twentieth day of the month, saying,Speak to Zerubbabel, governor of Judah, saying, I will shake the heavens and the earth;And I will overthrow the throne of kingdoms, and I will destroy the strength of the kingdoms of the heathen; and I will overthrow the chariots, and those that ride in them; and the horses and their riders shall come down, every one by the sword of his brother.In that day, said the LORD of hosts, will I take you, O Zerubbabel, my servant, the son of Shealtiel, said the LORD, and will make you as a signet: for I have chosen you, said the LORD of hosts.\".lower()"
   ]
  },
  {
   "cell_type": "code",
   "execution_count": 14,
   "metadata": {},
   "outputs": [],
   "source": [
    "tokens = nltk.word_tokenize(Ageu_2)"
   ]
  },
  {
   "cell_type": "code",
   "execution_count": 15,
   "metadata": {},
   "outputs": [],
   "source": [
    "stop_words = set(stopwords.words('english'))"
   ]
  },
  {
   "cell_type": "code",
   "execution_count": 16,
   "metadata": {},
   "outputs": [],
   "source": [
    "filtered_sentence1 = [w for w in tokens if not w in stop_words] \n",
    "  \n",
    "filtered_sentence1 = []\n",
    "  \n",
    "for w in tokens: \n",
    "    if w not in stop_words: \n",
    "        filtered_sentence1.append(w)"
   ]
  },
  {
   "cell_type": "code",
   "execution_count": 17,
   "metadata": {},
   "outputs": [
    {
     "name": "stdout",
     "output_type": "stream",
     "text": [
      "['seventh', 'month', ',', 'one', 'twentieth', 'day', 'month', ',', 'came', 'word', 'lord', 'prophet', 'haggai', ',', 'saying', ',', 'speak', 'zerubbabel', 'son', 'shealtiel', ',', 'governor', 'judah', ',', 'joshua', 'son', 'josedech', ',', 'high', 'priest', ',', 'residue', 'people', ',', 'saying', ',', 'left', 'among', 'saw', 'house', 'first', 'glory', '?', 'see', '?', 'eyes', 'comparison', 'nothing', '?', 'yet', 'strong', ',', 'zerubbabel', ',', 'said', 'lord', ';', 'strong', ',', 'joshua', ',', 'son', 'josedech', ',', 'high', 'priest', ';', 'strong', ',', 'people', 'land', ',', 'said', 'lord', ',', 'work', ':', ',', 'said', 'lord', 'hosts', ':', 'according', 'word', 'covenanted', 'came', 'egypt', ',', 'spirit', 'remains', 'among', ':', 'fear', 'not.for', 'thus', 'said', 'lord', 'hosts', ';', 'yet', ',', 'little', ',', 'shake', 'heavens', ',', 'earth', ',', 'sea', ',', 'dry', 'land', ';', 'shake', 'nations', ',', 'desire', 'nations', 'shall', 'come', ':', 'fill', 'house', 'glory', ',', 'said', 'lord', 'hosts.the', 'silver', 'mine', ',', 'gold', 'mine', ',', 'said', 'lord', 'hosts.the', 'glory', 'latter', 'house', 'shall', 'greater', 'former', ',', 'said', 'lord', 'hosts', ':', 'place', 'give', 'peace', ',', 'said', 'lord', 'hosts.in', 'four', 'twentieth', 'day', 'ninth', 'month', ',', 'second', 'year', 'darius', ',', 'came', 'word', 'lord', 'haggai', 'prophet', ',', 'saying', ',', 'thus', 'said', 'lord', 'hosts', ';', 'ask', 'priests', 'concerning', 'law', ',', 'saying', ',', 'one', 'bear', 'holy', 'flesh', 'skirt', 'garment', ',', 'skirt', 'touch', 'bread', ',', 'pottage', ',', 'wine', ',', 'oil', ',', 'meat', ',', 'shall', 'holy', '?', 'priests', 'answered', 'said', ',', 'no.then', 'said', 'haggai', ',', 'one', 'unclean', 'dead', 'body', 'touch', ',', 'shall', 'unclean', '?', 'priests', 'answered', 'said', ',', 'shall', 'unclean.then', 'answered', 'haggai', ',', 'said', ',', 'people', ',', 'nation', ',', 'said', 'lord', ';', 'every', 'work', 'hands', ';', 'offer', 'unclean.and', ',', 'pray', ',', 'consider', 'day', 'upward', ',', 'stone', 'laid', 'stone', 'temple', 'lord', ':', 'since', 'days', ',', 'one', 'came', 'heap', 'twenty', 'measures', ',', 'ten', ':', 'one', 'came', 'fat', 'press', 'draw', 'fifty', 'vessels', 'press', ',', 'twenty.i', 'smote', 'blasting', 'mildew', 'hail', 'labors', 'hands', ';', 'yet', 'turned', ',', 'said', 'lord.consider', 'day', 'upward', ',', 'four', 'twentieth', 'day', 'ninth', 'month', ',', 'even', 'day', 'foundation', 'lord', \"'\", 'temple', 'laid', ',', 'consider', 'it.is', 'seed', 'yet', 'barn', '?', 'yes', ',', 'yet', 'vine', ',', 'fig', 'tree', ',', 'pomegranate', ',', 'olive', 'tree', ',', 'brought', 'forth', ':', 'day', 'bless', 'you.and', 'word', 'lord', 'came', 'haggai', 'four', 'twentieth', 'day', 'month', ',', 'saying', ',', 'speak', 'zerubbabel', ',', 'governor', 'judah', ',', 'saying', ',', 'shake', 'heavens', 'earth', ';', 'overthrow', 'throne', 'kingdoms', ',', 'destroy', 'strength', 'kingdoms', 'heathen', ';', 'overthrow', 'chariots', ',', 'ride', ';', 'horses', 'riders', 'shall', 'come', ',', 'every', 'one', 'sword', 'brother.in', 'day', ',', 'said', 'lord', 'hosts', ',', 'take', ',', 'zerubbabel', ',', 'servant', ',', 'son', 'shealtiel', ',', 'said', 'lord', ',', 'make', 'signet', ':', 'chosen', ',', 'said', 'lord', 'hosts', '.']\n"
     ]
    }
   ],
   "source": [
    "print(filtered_sentence1)"
   ]
  },
  {
   "cell_type": "code",
   "execution_count": 18,
   "metadata": {},
   "outputs": [],
   "source": [
    "data =np.array([[\"Ageu_1\", \"'second', 'year', 'darius', 'king', ',', 'sixth', 'month', ',', 'first', 'day', 'month', ',', 'came', 'word', 'lord', 'haggai', 'prophet', 'zerubbabel', 'son', 'shealtiel', ',', 'governor', 'judah', ',', 'joshua', 'son', 'josedech', ',', 'high', 'priest', ',', 'saying', ',', 'thus', 'speaks', 'lord', 'hosts', ',', 'saying', ',', 'people', 'say', ',', 'time', 'come', ',', 'time', 'lord', ', 'house', 'built.then', 'came', 'word', 'lord', 'haggai', 'prophet', ',', 'saying', ',', 'time', ',', ',', 'dwell', 'paneled', 'houses', ',', 'house', 'lie', 'waste', '?', 'therefore', 'thus', 'said', 'lord', 'hosts', ';', 'consider', 'ways.you', 'sown', 'much', ',', 'bring', 'little', ';', 'eat', ',', 'enough', ';', 'drink', ',', 'filled', 'drink', ';', 'clothe', ',', 'none', 'warm', ';', 'earns', 'wages', 'earns', 'wages', 'put', 'bag', 'holes.thus', 'said', 'lord', 'hosts', ';', 'consider', 'ways.go', 'mountain', ',', 'bring', 'wood', ',', 'build', 'house', ';', 'take', 'pleasure', ',', 'glorified', ',', 'said', 'lord.you', 'looked', 'much', ',', ',', 'see', 'came', 'little', ';', 'brought', 'home', ',', 'blow', '.', '?', 'said', 'lord', 'hosts', '.', 'house', 'waste', ',', 'run', 'every', 'man', 'house.therefore', 'heaven', 'stayed', 'dew', ',', 'earth', 'stayed', 'fruit.and', 'called', 'drought', 'land', ',', 'mountains', ',', 'corn', ',', 'new', 'wine', ',', 'oil', ',', 'ground', 'brings', 'forth', ',', 'men', ',', 'cattle', ',', 'labor', 'hands.then', 'zerubbabel', 'son', 'shealtiel', ',', 'joshua', 'son', 'josedech', ',', 'high', 'priest', ',', 'remnant', 'people', ',', 'obeyed', 'voice', 'lord', 'god', ',', 'words', 'haggai', 'prophet', ',', 'lord', 'god', 'sent', ',', 'people', 'fear', 'lord.then', 'spoke', 'haggai', 'lord', ', 'messenger', 'lord', ', 'message', 'people', ',', 'saying', ',', ',', 'said', 'lord.and', 'lord', 'stirred', 'spirit', 'zerubbabel', 'son', 'shealtiel', ',', 'governor', 'judah', ',', 'spirit', 'joshua', 'son', 'josedech', ',', 'high', 'priest', ',', 'spirit', 'remnant', 'people', ';', 'came', 'work', 'house', 'lord', 'hosts', ',', 'god', ',', 'four', 'twentieth', 'day', 'sixth', 'month', ',', 'second', 'year', 'darius', 'king', '.'\"],\n",
    "               [\"Ageu_2\", \"'seventh', 'month', ',', 'one', 'twentieth', 'day', 'month', ',', 'came', 'word', 'lord', 'prophet', 'haggai', ',', 'saying', ',', 'speak', 'zerubbabel', 'son', 'shealtiel', ',', 'governor', 'judah', ',', 'joshua', 'son', 'josedech', ',', 'high', 'priest', ',', 'residue', 'people', ',', 'saying', ',', 'left', 'among', 'saw', 'house', 'first', 'glory', '?', 'see', '?', 'eyes', 'comparison', 'nothing', '?', 'yet', 'strong', ',', 'zerubbabel', ',', 'said', 'lord', ';', 'strong', ',', 'joshua', ',', 'son', 'josedech', ',', 'high', 'priest', ';', 'strong', ',', 'people', 'land', ',', 'said', 'lord', ',', 'work', ':', ',', 'said', 'lord', 'hosts', ':', 'according', 'word', 'covenanted', 'came', 'egypt', ',', 'spirit', 'remains', 'among', ':', 'fear', 'not.for', 'thus', 'said', 'lord', 'hosts', ';', 'yet', ',', 'little', ',', 'shake', 'heavens', ',', 'earth', ',', 'sea', ',', 'dry', 'land', ';', 'shake', 'nations', ',', 'desire', 'nations', 'shall', 'come', ':', 'fill', 'house', 'glory', ',', 'said', 'lord', 'hosts.the', 'silver', 'mine', ',', 'gold', 'mine', ',', 'said', 'lord', 'hosts.the', 'glory', 'latter', 'house', 'shall', 'greater', 'former', ',', 'said', 'lord', 'hosts', ':', 'place', 'give', 'peace', ',', 'said', 'lord', 'hosts.in', 'four', 'twentieth', 'day', 'ninth', 'month', ',', 'second', 'year', 'darius', ',', 'came', 'word', 'lord', 'haggai', 'prophet', ',', 'saying', ',', 'thus', 'said', 'lord', 'hosts', ';', 'ask', 'priests', 'concerning', 'law', ',', 'saying', ',', 'one', 'bear', 'holy', 'flesh', 'skirt', 'garment', ',', 'skirt', 'touch', 'bread', ',', 'pottage', ',', 'wine', ',', 'oil', ',', 'meat', ',', 'shall', 'holy', '?', 'priests', 'answered', 'said', ',', 'no.then', 'said', 'haggai', ',', 'one', 'unclean', 'dead', 'body', 'touch', ',', 'shall', 'unclean', '?', 'priests', 'answered', 'said', ',', 'shall', 'unclean.then', 'answered', 'haggai', ',', 'said', ',', 'people', ',', 'nation', ',', 'said', 'lord', ';', 'every', 'work', 'hands', ';', 'offer', 'unclean.and', ',', 'pray', ',', 'consider', 'day', 'upward', ',', 'stone', 'laid', 'stone', 'temple', 'lord', ':', 'since', 'days', ',', 'one', 'came', 'heap', 'twenty', 'measures', ',', 'ten', ':', 'one', 'came', 'fat', 'press', 'draw', 'fifty', 'vessels', 'press', ',', 'twenty.i', 'smote', 'blasting', 'mildew', 'hail', 'labors', 'hands', ';', 'yet', 'turned', ',', 'said', 'lord.consider', 'day', 'upward', ',', 'four', 'twentieth', 'day', 'ninth', 'month', ',', 'even', 'day', 'foundation', 'lord', ', 'temple', 'laid', ',', 'consider', 'it.is', 'seed', 'yet', 'barn', '?', 'yes', ',', 'yet', 'vine', ',', 'fig', 'tree', ',', 'pomegranate', ',', 'olive', 'tree', ',', 'brought', 'forth', ':', 'day', 'bless', 'you.and', 'word', 'lord', 'came', 'haggai', 'four', 'twentieth', 'day', 'month', ',', 'saying', ',', 'speak', 'zerubbabel', ',', 'governor', 'judah', ',', 'saying', ',', 'shake', 'heavens', 'earth', ';', 'overthrow', 'throne', 'kingdoms', ',', 'destroy', 'strength', 'kingdoms', 'heathen', ';', 'overthrow', 'chariots', ',', 'ride', ';', 'horses', 'riders', 'shall', 'come', ',', 'every', 'one', 'sword', 'brother.in', 'day', ',', 'said', 'lord', 'hosts', ',', 'take', ',', 'zerubbabel', ',', 'servant', ',', 'son', 'shealtiel', ',', 'said', 'lord', ',', 'make', 'signet', ':', 'chosen', ',', 'said', 'lord', 'hosts', '.'\"]])"
   ]
  },
  {
   "cell_type": "code",
   "execution_count": 19,
   "metadata": {},
   "outputs": [],
   "source": [
    "df = pd.DataFrame(data, index=range(100,102),columns=['Autor', 'Livro'])"
   ]
  },
  {
   "cell_type": "code",
   "execution_count": 20,
   "metadata": {},
   "outputs": [
    {
     "name": "stdout",
     "output_type": "stream",
     "text": [
      "      Autor                                              Livro\n",
      "100  Ageu_1  'second', 'year', 'darius', 'king', ',', 'sixt...\n",
      "101  Ageu_2  'seventh', 'month', ',', 'one', 'twentieth', '...\n"
     ]
    }
   ],
   "source": [
    "print(df)"
   ]
  },
  {
   "cell_type": "code",
   "execution_count": null,
   "metadata": {},
   "outputs": [],
   "source": []
  }
 ],
 "metadata": {
  "kernelspec": {
   "display_name": "Python 3",
   "language": "python",
   "name": "python3"
  },
  "language_info": {
   "codemirror_mode": {
    "name": "ipython",
    "version": 3
   },
   "file_extension": ".py",
   "mimetype": "text/x-python",
   "name": "python",
   "nbconvert_exporter": "python",
   "pygments_lexer": "ipython3",
   "version": "3.8.5"
  }
 },
 "nbformat": 4,
 "nbformat_minor": 4
}
