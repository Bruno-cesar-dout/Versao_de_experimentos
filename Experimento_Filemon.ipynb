{
 "cells": [
  {
   "cell_type": "code",
   "execution_count": 1,
   "id": "782986e5",
   "metadata": {},
   "outputs": [],
   "source": [
    "import numpy  as np\n",
    "import pandas as pd\n",
    "import json\n",
    "import pandas"
   ]
  },
  {
   "cell_type": "code",
   "execution_count": 2,
   "id": "96abcfd5",
   "metadata": {},
   "outputs": [],
   "source": [
    "import nltk\n",
    "import nltk.corpus\n",
    "from sklearn.feature_extraction.text  import TfidfVectorizer\n",
    "from sklearn.metrics                  import silhouette_samples, silhouette_score\n",
    "from sklearn.preprocessing            import normalize\n",
    "from nltk.tokenize                    import word_tokenize\n",
    "import re\n",
    "from unidecode                        import unidecode\n",
    "from nltk.corpus import stopwords"
   ]
  },
  {
   "cell_type": "code",
   "execution_count": 3,
   "id": "a97ed0d2",
   "metadata": {},
   "outputs": [],
   "source": [
    "import matplotlib.pyplot  as plt\n",
    "import matplotlib.cm      as cm\n",
    "import seaborn            as sns\n",
    "from sklearn.metrics                  import silhouette_samples, silhouette_score\n",
    "from wordcloud                        import WordCloud"
   ]
  },
  {
   "cell_type": "code",
   "execution_count": 4,
   "id": "daef0c9b",
   "metadata": {},
   "outputs": [],
   "source": [
    "from sklearn import cluster"
   ]
  },
  {
   "cell_type": "code",
   "execution_count": 5,
   "id": "57b119a8",
   "metadata": {},
   "outputs": [],
   "source": [
    "Filemom_1 = \"Paul, a prisoner of Jesus Christ, and Timothy our brother, to Philemon our dearly beloved, and fellow laborer,And to our beloved Apphia, and Archippus our fellow soldier, and to the church in your house:Grace to you, and peace, from God our Father and the Lord Jesus Christ.I thank my God, making mention of you always in my prayers,Hearing of your love and faith, which you have toward the Lord Jesus, and toward all saints;That the communication of your faith may become effectual by the acknowledging of every good thing which is in you in Christ Jesus.For we have great joy and consolation in your love, because the bowels of the saints are refreshed by you, brother.Why, though I might be much bold in Christ to enjoin you that which is convenient,Yet for love' sake I rather beseech you, being such an one as Paul the aged, and now also a prisoner of Jesus Christ.I beseech you for my son Onesimus, whom I have begotten in my bonds:Which in time past was to you unprofitable, but now profitable to you and to me:Whom I have sent again: you therefore receive him, that is, my own bowels:Whom I would have retained with me, that in your stead he might have ministered to me in the bonds of the gospel:But without your mind would I do nothing; that your benefit should not be as it were of necessity, but willingly.For perhaps he therefore departed for a season, that you should receive him for ever;Not now as a servant, but above a servant, a brother beloved, specially to me, but how much more to you, both in the flesh, and in the Lord?If you count me therefore a partner, receive him as myself.If he has wronged you, or owes you ought, put that on my account;I Paul have written it with my own hand, I will repay it: albeit I do not say to you how you owe to me even your own self besides.Yes, brother, let me have joy of you in the Lord: refresh my bowels in the Lord.Having confidence in your obedience I wrote to you, knowing that you will also do more than I say.But with prepare me also a lodging: for I trust that through your prayers I shall be given to you.There salute you Epaphras, my fellow prisoner in Christ Jesus;Marcus, Aristarchus, Demas, Lucas, my fellow laborers.The grace of our Lord Jesus Christ be with your spirit. Amen.\".lower()"
   ]
  },
  {
   "cell_type": "code",
   "execution_count": 6,
   "id": "39b58189",
   "metadata": {},
   "outputs": [],
   "source": [
    "tokens = nltk.word_tokenize(Filemom_1)"
   ]
  },
  {
   "cell_type": "code",
   "execution_count": 7,
   "id": "bc9fcbc8",
   "metadata": {},
   "outputs": [],
   "source": [
    "stop_words = set(stopwords.words('english'))"
   ]
  },
  {
   "cell_type": "code",
   "execution_count": 8,
   "id": "66e79b1f",
   "metadata": {},
   "outputs": [],
   "source": [
    "filtered_sentence1 = [w for w in tokens if not w in stop_words] \n",
    "  \n",
    "filtered_sentence1 = []\n",
    "  \n",
    "for w in tokens: \n",
    "    if w not in stop_words: \n",
    "        filtered_sentence1.append(w)"
   ]
  },
  {
   "cell_type": "code",
   "execution_count": 9,
   "id": "1f9d4bf4",
   "metadata": {},
   "outputs": [
    {
     "name": "stdout",
     "output_type": "stream",
     "text": [
      "['paul', ',', 'prisoner', 'jesus', 'christ', ',', 'timothy', 'brother', ',', 'philemon', 'dearly', 'beloved', ',', 'fellow', 'laborer', ',', 'beloved', 'apphia', ',', 'archippus', 'fellow', 'soldier', ',', 'church', 'house', ':', 'grace', ',', 'peace', ',', 'god', 'father', 'lord', 'jesus', 'christ.i', 'thank', 'god', ',', 'making', 'mention', 'always', 'prayers', ',', 'hearing', 'love', 'faith', ',', 'toward', 'lord', 'jesus', ',', 'toward', 'saints', ';', 'communication', 'faith', 'may', 'become', 'effectual', 'acknowledging', 'every', 'good', 'thing', 'christ', 'jesus.for', 'great', 'joy', 'consolation', 'love', ',', 'bowels', 'saints', 'refreshed', ',', 'brother.why', ',', 'though', 'might', 'much', 'bold', 'christ', 'enjoin', 'convenient', ',', 'yet', 'love', \"'\", 'sake', 'rather', 'beseech', ',', 'one', 'paul', 'aged', ',', 'also', 'prisoner', 'jesus', 'christ.i', 'beseech', 'son', 'onesimus', ',', 'begotten', 'bonds', ':', 'time', 'past', 'unprofitable', ',', 'profitable', ':', 'sent', ':', 'therefore', 'receive', ',', ',', 'bowels', ':', 'would', 'retained', ',', 'stead', 'might', 'ministered', 'bonds', 'gospel', ':', 'without', 'mind', 'would', 'nothing', ';', 'benefit', 'necessity', ',', 'willingly.for', 'perhaps', 'therefore', 'departed', 'season', ',', 'receive', 'ever', ';', 'servant', ',', 'servant', ',', 'brother', 'beloved', ',', 'specially', ',', 'much', ',', 'flesh', ',', 'lord', '?', 'count', 'therefore', 'partner', ',', 'receive', 'myself.if', 'wronged', ',', 'owes', 'ought', ',', 'put', 'account', ';', 'paul', 'written', 'hand', ',', 'repay', ':', 'albeit', 'say', 'owe', 'even', 'self', 'besides.yes', ',', 'brother', ',', 'let', 'joy', 'lord', ':', 'refresh', 'bowels', 'lord.having', 'confidence', 'obedience', 'wrote', ',', 'knowing', 'also', 'say.but', 'prepare', 'also', 'lodging', ':', 'trust', 'prayers', 'shall', 'given', 'you.there', 'salute', 'epaphras', ',', 'fellow', 'prisoner', 'christ', 'jesus', ';', 'marcus', ',', 'aristarchus', ',', 'demas', ',', 'lucas', ',', 'fellow', 'laborers.the', 'grace', 'lord', 'jesus', 'christ', 'spirit', '.', 'amen', '.']\n"
     ]
    }
   ],
   "source": [
    "print(filtered_sentence1)"
   ]
  },
  {
   "cell_type": "code",
   "execution_count": 10,
   "id": "388c8546",
   "metadata": {},
   "outputs": [],
   "source": [
    "data =np.array([[\"Filemom_1\", \"'paul', ',', 'prisoner', 'jesus', 'christ', ',', 'timothy', 'brother', ',', 'philemon', 'dearly', 'beloved', ',', 'fellow', 'laborer', ',', 'beloved', 'apphia', ',', 'archippus', 'fellow', 'soldier', ',', 'church', 'house', ':', 'grace', ',', 'peace', ',', 'god', 'father', 'lord', 'jesus', 'christ.i', 'thank', 'god', ',', 'making', 'mention', 'always', 'prayers', ',', 'hearing', 'love', 'faith', ',', 'toward', 'lord', 'jesus', ',', 'toward', 'saints', ';', 'communication', 'faith', 'may', 'become', 'effectual', 'acknowledging', 'every', 'good', 'thing', 'christ', 'jesus.for', 'great', 'joy', 'consolation', 'love', ',', 'bowels', 'saints', 'refreshed', ',', 'brother.why', ',', 'though', 'might', 'much', 'bold', 'christ', 'enjoin', 'convenient', ',', 'yet', 'love', ', 'sake', 'rather', 'beseech', ',', 'one', 'paul', 'aged', ',', 'also', 'prisoner', 'jesus', 'christ.i', 'beseech', 'son', 'onesimus', ',', 'begotten', 'bonds', ':', 'time', 'past', 'unprofitable', ',', 'profitable', ':', 'sent', ':', 'therefore', 'receive', ',', ',', 'bowels', ':', 'would', 'retained', ',', 'stead', 'might', 'ministered', 'bonds', 'gospel', ':', 'without', 'mind', 'would', 'nothing', ';', 'benefit', 'necessity', ',', 'willingly.for', 'perhaps', 'therefore', 'departed', 'season', ',', 'receive', 'ever', ';', 'servant', ',', 'servant', ',', 'brother', 'beloved', ',', 'specially', ',', 'much', ',', 'flesh', ',', 'lord', '?', 'count', 'therefore', 'partner', ',', 'receive', 'myself.if', 'wronged', ',', 'owes', 'ought', ',', 'put', 'account', ';', 'paul', 'written', 'hand', ',', 'repay', ':', 'albeit', 'say', 'owe', 'even', 'self', 'besides.yes', ',', 'brother', ',', 'let', 'joy', 'lord', ':', 'refresh', 'bowels', 'lord.having', 'confidence', 'obedience', 'wrote', ',', 'knowing', 'also', 'say.but', 'prepare', 'also', 'lodging', ':', 'trust', 'prayers', 'shall', 'given', 'you.there', 'salute', 'epaphras', ',', 'fellow', 'prisoner', 'christ', 'jesus', ';', 'marcus', ',', 'aristarchus', ',', 'demas', ',', 'lucas', ',', 'fellow', 'laborers.the', 'grace', 'lord', 'jesus', 'christ', 'spirit', '.', 'amen', '.'\"]])"
   ]
  },
  {
   "cell_type": "code",
   "execution_count": 11,
   "id": "b4616607",
   "metadata": {},
   "outputs": [],
   "source": [
    "df = pd.DataFrame(data, index=range(100,101),columns=['Autor', 'Livro'])"
   ]
  },
  {
   "cell_type": "code",
   "execution_count": 12,
   "id": "19086973",
   "metadata": {},
   "outputs": [
    {
     "name": "stdout",
     "output_type": "stream",
     "text": [
      "         Autor                                              Livro\n",
      "100  Filemom_1  'paul', ',', 'prisoner', 'jesus', 'christ', ',...\n"
     ]
    }
   ],
   "source": [
    "print(df)"
   ]
  },
  {
   "cell_type": "code",
   "execution_count": null,
   "id": "607d3791",
   "metadata": {},
   "outputs": [],
   "source": []
  }
 ],
 "metadata": {
  "kernelspec": {
   "display_name": "Python 3 (ipykernel)",
   "language": "python",
   "name": "python3"
  },
  "language_info": {
   "codemirror_mode": {
    "name": "ipython",
    "version": 3
   },
   "file_extension": ".py",
   "mimetype": "text/x-python",
   "name": "python",
   "nbconvert_exporter": "python",
   "pygments_lexer": "ipython3",
   "version": "3.7.2"
  }
 },
 "nbformat": 4,
 "nbformat_minor": 5
}
